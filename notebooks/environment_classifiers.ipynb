{
 "cells": [
  {
   "cell_type": "code",
   "execution_count": 1,
   "metadata": {},
   "outputs": [],
   "source": [
    "%load_ext autoreload\n",
    "%autoreload 2\n",
    "%matplotlib inline"
   ]
  },
  {
   "cell_type": "code",
   "execution_count": 2,
   "metadata": {},
   "outputs": [
    {
     "data": {
      "text/html": [
       "<style>.container { width:98% !important; }</style>"
      ],
      "text/plain": [
       "<IPython.core.display.HTML object>"
      ]
     },
     "metadata": {},
     "output_type": "display_data"
    }
   ],
   "source": [
    "from IPython.core.display import display, HTML\n",
    "display(HTML(\"<style>.container { width:98% !important; }</style>\"))"
   ]
  },
  {
   "cell_type": "code",
   "execution_count": 3,
   "metadata": {},
   "outputs": [],
   "source": [
    "import sys\n",
    "sys.path.append('/home/gd1279/projects/Rainbow')"
   ]
  },
  {
   "cell_type": "code",
   "execution_count": 4,
   "metadata": {},
   "outputs": [],
   "source": [
    "from __future__ import division\n",
    "import argparse\n",
    "import os\n",
    "from datetime import datetime\n",
    "import atari_py\n",
    "import numpy as np\n",
    "import torch\n",
    "import wandb\n",
    "\n",
    "from agent import Agent\n",
    "from env import make_env\n",
    "from memory import ReplayMemory\n",
    "from masker import ALL_MASKERS\n",
    "from tqdm import tqdm, trange\n",
    "import pickle\n",
    "import bz2\n",
    "\n",
    "import matplotlib\n",
    "import matplotlib.pyplot as plt\n",
    "import cv2\n",
    "import glob\n",
    "import copy\n",
    "import imageio\n",
    "from profilehooks import profile\n",
    "from guppy import hpy\n",
    "import time\n",
    "\n",
    "def timeit(method):\n",
    "    def timed(*args, **kw):\n",
    "        start_time = time.time()\n",
    "        result = method(*args, **kw)\n",
    "        end_time = time.time()\n",
    "\n",
    "        print(f'{method.__name__} took {end_time - start_time:.2f} s')\n",
    "\n",
    "        return result\n",
    "    return timed"
   ]
  },
  {
   "cell_type": "markdown",
   "metadata": {},
   "source": [
    "### Repeating arg-parse args just to make my life easier"
   ]
  },
  {
   "cell_type": "code",
   "execution_count": 5,
   "metadata": {},
   "outputs": [
    {
     "data": {
      "text/plain": [
       "_StoreAction(option_strings=['--memory-save-folder'], dest='memory_save_folder', nargs=None, const=None, default='/misc/vlgscratch4/LakeGroup/guy/rainbow_memory', type=None, choices=None, help=None, metavar=None)"
      ]
     },
     "execution_count": 5,
     "metadata": {},
     "output_type": "execute_result"
    }
   ],
   "source": [
    "parser = argparse.ArgumentParser(description='Rainbow')\n",
    "parser.add_argument('--id', type=str, default='default', help='Experiment ID')\n",
    "parser.add_argument('--seed', type=int, default=123, help='Random seed')\n",
    "parser.add_argument('--disable-cuda', action='store_true', help='Disable CUDA')\n",
    "parser.add_argument('--game', type=str, default='space_invaders', choices=atari_py.list_games(), help='ATARI game')\n",
    "parser.add_argument('--T-max', type=int, default=int(50e6), metavar='STEPS', help='Number of training steps (4x number of frames)')\n",
    "parser.add_argument('--max-episode-length', type=int, default=int(108e3), metavar='LENGTH', help='Max episode length in game frames (0 to disable)')\n",
    "parser.add_argument('--history-length', type=int, default=4, metavar='T', help='Number of consecutive states processed')\n",
    "parser.add_argument('--architecture', type=str, default='canonical', choices=['canonical', 'data-efficient'], metavar='ARCH', help='Network architecture')\n",
    "parser.add_argument('--hidden-size', type=int, default=512, metavar='SIZE', help='Network hidden size')\n",
    "parser.add_argument('--noisy-std', type=float, default=0.1, metavar='σ', help='Initial standard deviation of noisy linear layers')\n",
    "parser.add_argument('--atoms', type=int, default=51, metavar='C', help='Discretised size of value distribution')\n",
    "parser.add_argument('--V-min', type=float, default=-10, metavar='V', help='Minimum of value distribution support')\n",
    "parser.add_argument('--V-max', type=float, default=10, metavar='V', help='Maximum of value distribution support')\n",
    "parser.add_argument('--model', type=str, metavar='PARAMS', help='Pretrained model (state dict)')\n",
    "parser.add_argument('--memory-capacity', type=int, default=int(1e6), metavar='CAPACITY', help='Experience replay memory capacity')\n",
    "parser.add_argument('--replay-frequency', type=int, default=4, metavar='k', help='Frequency of sampling from memory')\n",
    "parser.add_argument('--priority-exponent', type=float, default=0.5, metavar='ω', help='Prioritised experience replay exponent (originally denoted α)')\n",
    "parser.add_argument('--priority-weight', type=float, default=0.4, metavar='β', help='Initial prioritised experience replay importance sampling weight')\n",
    "parser.add_argument('--multi-step', type=int, default=3, metavar='n', help='Number of steps for multi-step return')\n",
    "parser.add_argument('--discount', type=float, default=0.99, metavar='γ', help='Discount factor')\n",
    "parser.add_argument('--target-update', type=int, default=int(8e3), metavar='τ', help='Number of steps after which to update target network')\n",
    "parser.add_argument('--reward-clip', type=int, default=1, metavar='VALUE', help='Reward clipping (0 to disable)')\n",
    "parser.add_argument('--learning-rate', type=float, default=0.0000625, metavar='η', help='Learning rate')\n",
    "parser.add_argument('--adam-eps', type=float, default=1.5e-4, metavar='ε', help='Adam epsilon')\n",
    "parser.add_argument('--batch-size', type=int, default=32, metavar='SIZE', help='Batch size')\n",
    "parser.add_argument('--learn-start', type=int, default=int(20e3), metavar='STEPS', help='Number of steps before starting training')\n",
    "parser.add_argument('--evaluate', action='store_true', help='Evaluate only')\n",
    "parser.add_argument('--evaluation-interval', type=int, default=100000, metavar='STEPS', help='Number of training steps between evaluations')\n",
    "parser.add_argument('--evaluation-episodes', type=int, default=10, metavar='N', help='Number of evaluation episodes to average over')\n",
    "parser.add_argument('--evaluation-size', type=int, default=500, metavar='N', help='Number of transitions to use for validating Q')\n",
    "parser.add_argument('--render', action='store_true', help='Display screen (testing only)')\n",
    "parser.add_argument('--enable-cudnn', action='store_true', help='Enable cuDNN (faster but nondeterministic)')\n",
    "\n",
    "# Custom arguments I added\n",
    "\n",
    "SCRATCH_FOLDER = r'/misc/vlgscratch4/LakeGroup/guy/'\n",
    "\n",
    "DEFUALT_WANDB_ENTITY = 'augmented-frostbite'\n",
    "parser.add_argument('--wandb-entity', default=DEFUALT_WANDB_ENTITY)\n",
    "DEFAULT_WANDB_PROJECT = 'initial-experiments'\n",
    "parser.add_argument('--wandb-project', default=DEFAULT_WANDB_PROJECT)\n",
    "DEFAULT_WANDB_DIR = SCRATCH_FOLDER  # wandb creates its own folder inside\n",
    "parser.add_argument('--wandb-dir', default=DEFAULT_WANDB_DIR)\n",
    "parser.add_argument('--wandb-omit-watch', action='store_true')\n",
    "parser.add_argument('--wandb-resume', action='store_true')\n",
    "DEFAULT_MEMORY_SAVE_FOLDER = os.path.join(SCRATCH_FOLDER, 'rainbow_memory')\n",
    "parser.add_argument('--memory-save-folder', default=DEFAULT_MEMORY_SAVE_FOLDER)"
   ]
  },
  {
   "cell_type": "code",
   "execution_count": 6,
   "metadata": {},
   "outputs": [],
   "source": [
    "args = parser.parse_args([])\n",
    "\n",
    "np.random.seed(args.seed)\n",
    "# TODO: why not just fix the torch seed to the same one as np?\n",
    "# torch.manual_seed(np.random.randint(1, 10000))\n",
    "torch.manual_seed(args.seed)\n",
    "\n",
    "if torch.cuda.is_available() and not args.disable_cuda:\n",
    "  args.device = torch.device('cuda')\n",
    "  # torch.cuda.manual_seed(np.random.randint(1, 10000))\n",
    "  torch.cuda.manual_seed(args.seed)\n",
    "  torch.backends.cudnn.enabled = args.enable_cudnn\n",
    "else:\n",
    "  args.device = torch.device('cpu')\n",
    "\n",
    "args.evaluation_size = 20000\n",
    "args.game = 'frostbite'"
   ]
  },
  {
   "cell_type": "markdown",
   "metadata": {},
   "source": [
    "### Create the environment"
   ]
  },
  {
   "cell_type": "code",
   "execution_count": 7,
   "metadata": {},
   "outputs": [],
   "source": [
    "args.add_masks = False\n",
    "\n",
    "env = make_env(args)\n",
    "env.train()\n",
    "action_space = env.action_space()\n",
    "\n",
    "args.add_masks = True\n",
    "args.use_numpy_masker = True\n",
    "args.maskers = None\n",
    "masker_env = make_env(args)\n",
    "masker_env.train()\n",
    "\n",
    "args.use_numpy_masker = False\n",
    "torch_masker_env = make_env(args)\n",
    "torch_masker_env.train()"
   ]
  },
  {
   "cell_type": "code",
   "execution_count": null,
   "metadata": {},
   "outputs": [],
   "source": [
    "# @profile(immediate=True)\n",
    "def create_validation_memory(environment, val_mem=None, size=args.evaluation_size):\n",
    "    if val_mem is None:\n",
    "        val_mem = ReplayMemory(args, args.evaluation_size)\n",
    "    \n",
    "    done = True\n",
    "    \n",
    "    for _ in range(size):\n",
    "        if done:\n",
    "            state, done = environment.reset(), False\n",
    "\n",
    "        action = np.random.randint(0, action_space)\n",
    "        next_state, reward, done = environment.step(action)\n",
    "        val_mem.append(state, action, reward, done)\n",
    "        state = next_state\n",
    "        \n",
    "    return val_mem\n"
   ]
  },
  {
   "cell_type": "markdown",
   "metadata": {},
   "source": [
    "## Profiling"
   ]
  },
  {
   "cell_type": "code",
   "execution_count": null,
   "metadata": {
    "scrolled": false
   },
   "outputs": [],
   "source": [
    "env.reset()\n",
    "val_mem = create_validation_memory(env)"
   ]
  },
  {
   "cell_type": "code",
   "execution_count": null,
   "metadata": {
    "scrolled": true
   },
   "outputs": [],
   "source": [
    "torch_masker_env.reset()\n",
    "val_mem = create_validation_memory(torch_masker_env, size=10)"
   ]
  },
  {
   "cell_type": "code",
   "execution_count": null,
   "metadata": {},
   "outputs": [],
   "source": [
    "mem_state = val_mem.transitions.get(20).state\n",
    "mem_state.sum(2).sum(1)"
   ]
  },
  {
   "cell_type": "code",
   "execution_count": null,
   "metadata": {},
   "outputs": [],
   "source": [
    "m = mem_state.to(dtype=torch.float32).div(255)\n",
    "for i in range(m.shape[0]):\n",
    "    print(i, m[i].mean(), m[i].std())"
   ]
  },
  {
   "cell_type": "code",
   "execution_count": null,
   "metadata": {},
   "outputs": [],
   "source": []
  },
  {
   "cell_type": "code",
   "execution_count": null,
   "metadata": {},
   "outputs": [],
   "source": [
    "@timeit\n",
    "def save_memory(memory, path, use_bz2=True, use_native_pickle_serialization=False, protocol=pickle.HIGHEST_PROTOCOL, delete=True):\n",
    "    if use_bz2:\n",
    "        with bz2.open(path, 'wb') as zipped_pickle_file:\n",
    "            if use_native_pickle_serialization:\n",
    "                pickle.dump(memory, zipped_pickle_file, protocol=protocol)\n",
    "            else:\n",
    "                torch.save(memory, zipped_pickle_file, pickle_protocol=protocol)\n",
    "\n",
    "    else:\n",
    "        with open(path, 'wb') as pickle_file:\n",
    "            if use_native_pickle_serialization:\n",
    "                pickle.dump(memory, pickle_file, protocol=protocol)\n",
    "            else:\n",
    "                torch.save(memory, pickle_file, pickle_protocol=protocol)\n",
    "   \n",
    "    size = os.path.getsize(path)\n",
    "    print(f'File size, torch={not use_native_pickle_serialization}, bz2={use_bz2}, protocol={protocol}: {size} bytes = {size / 1024.0 / 1024:.3f} MB.')\n",
    "    if delete:\n",
    "        os.remove(path)"
   ]
  },
  {
   "cell_type": "code",
   "execution_count": null,
   "metadata": {},
   "outputs": [],
   "source": [
    "size_step = int(2e4)\n",
    "num_steps = 5\n",
    "mem = ReplayMemory(args, num_steps * size_step)\n",
    "\n",
    "for step in range(num_steps):\n",
    "    mem = create_validation_memory(torch_masker_env, mem, size=size_step)\n",
    "    print(f'With {(step + 1) * size_step} elements in memory:')\n",
    "    save_memory(mem, '/home/gd1279/scratch/test/save_test_torch.pickle.old', use_bz2=False, protocol=pickle.DEFAULT_PROTOCOL)\n",
    "    save_memory(mem, '/home/gd1279/scratch/test/save_test_torch.pickle.new', use_bz2=False)\n",
    "    save_memory(mem, '/home/gd1279/scratch/test/save_test_torch.bz2.old', use_bz2=True, protocol=pickle.DEFAULT_PROTOCOL)\n",
    "    save_memory(mem, '/home/gd1279/scratch/test/save_test_torch.bz2.new', use_bz2=True)"
   ]
  },
  {
   "cell_type": "code",
   "execution_count": null,
   "metadata": {},
   "outputs": [],
   "source": [
    "size_step = int(2e4)\n",
    "num_steps = 5\n",
    "mem = ReplayMemory(args, num_steps * size_step)\n",
    "\n",
    "for step in range(num_steps):\n",
    "    mem = create_validation_memory(torch_masker_env, mem, size=size_step)\n",
    "    print(f'With {(step + 1) * size_step} elements in memory:')\n",
    "    save_memory(mem, '/home/gd1279/scratch/test/save_test.pickle.old', use_native_pickle_serialization=True,\n",
    "                use_bz2=False, protocol=pickle.DEFAULT_PROTOCOL)\n",
    "    save_memory(mem, '/home/gd1279/scratch/test/save_test.pickle.new', use_native_pickle_serialization=True, use_bz2=False)\n",
    "    save_memory(mem, '/home/gd1279/scratch/test/save_test.bz2.old', use_native_pickle_serialization=True, \n",
    "                use_bz2=True, protocol=pickle.DEFAULT_PROTOCOL)\n",
    "    save_memory(mem, '/home/gd1279/scratch/test/save_test.bz2.new', use_native_pickle_serialization=True,\n",
    "                use_bz2=True)"
   ]
  },
  {
   "cell_type": "code",
   "execution_count": null,
   "metadata": {},
   "outputs": [],
   "source": [
    "save_memory(mem, '/home/gd1279/scratch/test/save_test_torch.bz2.new', use_bz2=True, delete=False)"
   ]
  },
  {
   "cell_type": "code",
   "execution_count": null,
   "metadata": {},
   "outputs": [],
   "source": [
    "import asyncio"
   ]
  },
  {
   "cell_type": "code",
   "execution_count": null,
   "metadata": {},
   "outputs": [],
   "source": [
    "p = await asyncio.create_subprocess_exec('bunzip2', '/home/gd1279/scratch/test/save_test_torch.bz2.new.bz2',\n",
    "                                  stdout=asyncio.subprocess.PIPE, stderr=asyncio.subprocess.PIPE)\n",
    "\n",
    "await p.communicate()"
   ]
  },
  {
   "cell_type": "code",
   "execution_count": null,
   "metadata": {},
   "outputs": [],
   "source": [
    "import subprocess"
   ]
  },
  {
   "cell_type": "code",
   "execution_count": null,
   "metadata": {},
   "outputs": [],
   "source": [
    "p_zip = subprocess.Popen(['bzip2', '-z', '/home/gd1279/scratch/test/save_test_torch.bz2.new'])"
   ]
  },
  {
   "cell_type": "code",
   "execution_count": null,
   "metadata": {},
   "outputs": [],
   "source": [
    "p_zip.poll()"
   ]
  },
  {
   "cell_type": "code",
   "execution_count": null,
   "metadata": {},
   "outputs": [],
   "source": [
    "program = ['bzip2', '-d', '/home/gd1279/scratch/test/save_test_torch.bz2.new.bz2', '&&', 'mv', \n",
    "                           '/home/gd1279/scratch/test/save_test_torch.bz2.new', '/home/gd1279/scratch/test/save_test_torch.bz2.out']\n",
    "print(' '.join(program))"
   ]
  },
  {
   "cell_type": "code",
   "execution_count": null,
   "metadata": {},
   "outputs": [],
   "source": [
    "p_unzip = subprocess.Popen(' '.join(program), shell=True, stdin=subprocess.PIPE, stdout=subprocess.PIPE, stderr=subprocess.PIPE)"
   ]
  },
  {
   "cell_type": "code",
   "execution_count": null,
   "metadata": {},
   "outputs": [],
   "source": [
    "p_unzip.wait()"
   ]
  },
  {
   "cell_type": "code",
   "execution_count": null,
   "metadata": {},
   "outputs": [],
   "source": [
    "p_unzip.communicate()"
   ]
  },
  {
   "cell_type": "code",
   "execution_count": null,
   "metadata": {},
   "outputs": [],
   "source": [
    "p_unzip.terminate()"
   ]
  },
  {
   "cell_type": "code",
   "execution_count": null,
   "metadata": {},
   "outputs": [],
   "source": [
    "p_unzip.poll()"
   ]
  },
  {
   "cell_type": "code",
   "execution_count": null,
   "metadata": {},
   "outputs": [],
   "source": [
    "size_step = int(1e5)\n",
    "num_steps = 10\n",
    "mem = ReplayMemory(args, num_steps * size_step)\n",
    "\n",
    "for step in range(num_steps):\n",
    "    mem = create_validation_memory(torch_masker_env, mem, size=size_step)\n",
    "    print(f'With {(step + 1) * size_step} elements in memory:')\n",
    "    save_memory(mem, '/tmp/save_test_torch.bz2')\n",
    "    save_memory(mem, '/tmp/save_test_torch.pickle', use_bz2=False)"
   ]
  },
  {
   "cell_type": "code",
   "execution_count": null,
   "metadata": {},
   "outputs": [],
   "source": [
    "!ls -la /tmp/save*"
   ]
  },
  {
   "cell_type": "code",
   "execution_count": null,
   "metadata": {},
   "outputs": [],
   "source": [
    "!rm -rf /tmp/save_test_torch.bz2"
   ]
  },
  {
   "cell_type": "code",
   "execution_count": null,
   "metadata": {},
   "outputs": [],
   "source": []
  },
  {
   "cell_type": "code",
   "execution_count": null,
   "metadata": {},
   "outputs": [],
   "source": []
  },
  {
   "cell_type": "code",
   "execution_count": null,
   "metadata": {},
   "outputs": [],
   "source": []
  },
  {
   "cell_type": "code",
   "execution_count": 8,
   "metadata": {},
   "outputs": [],
   "source": [
    "args.add_masks = True\n",
    "args.maskers = None\n",
    "env = make_env(args)\n",
    "env.train()\n",
    "action_space = env.action_space()"
   ]
  },
  {
   "cell_type": "code",
   "execution_count": 10,
   "metadata": {
    "scrolled": false
   },
   "outputs": [
    {
     "data": {
      "image/png": "[encoded data removed]",
      "text/plain": [
       "<Figure size 2628x288 with 9 Axes>"
      ]
     },
     "metadata": {
      "needs_background": "light"
     },
     "output_type": "display_data"
    },
    {
     "data": {
      "image/png": "[encoded data removed]",
      "text/plain": [
       "<Figure size 2628x288 with 9 Axes>"
      ]
     },
     "metadata": {
      "needs_background": "light"
     },
     "output_type": "display_data"
    },
    {
     "data": {
      "image/png": "[encoded data removed]",
      "text/plain": [
       "<Figure size 2628x288 with 9 Axes>"
      ]
     },
     "metadata": {
      "needs_background": "light"
     },
     "output_type": "display_data"
    },
    {
     "data": {
      "image/png": "[encoded data removed]",
      "text/plain": [
       "<Figure size 2628x288 with 9 Axes>"
      ]
     },
     "metadata": {
      "needs_background": "light"
     },
     "output_type": "display_data"
    },
    {
     "data": {
      "image/png": "[encoded data removed]",
      "text/plain": [
       "<Figure size 2628x288 with 9 Axes>"
      ]
     },
     "metadata": {
      "needs_background": "light"
     },
     "output_type": "display_data"
    }
   ],
   "source": [
    "NROWS = 1\n",
    "NCOLS = args.state_depth\n",
    "COL_WIDTH = 4\n",
    "ROW_HEIGHT = 4 \n",
    "WIDTH_SPACING = 0.5\n",
    "HEIGHT_SPACING = 0\n",
    "\n",
    "\n",
    "MIN_FRAME_TO_PLOT = 55\n",
    "\n",
    "torch_states = []\n",
    "np_states = []\n",
    "\n",
    "\n",
    "titles = ('Pixels', 'Agent', 'Bad Animals', 'Land', 'Good animals', 'Visited floes', 'Unvisited floes', 'Bears', 'Igloo')\n",
    "first_plot = True\n",
    "\n",
    "val_mem = ReplayMemory(args, args.evaluation_size)\n",
    "done = True\n",
    "for frame in range(60):\n",
    "    if done:\n",
    "        state, done = torch_masker_env.reset(), False\n",
    "\n",
    "    torch_states.append(state)\n",
    "    np_state = state.cpu().numpy()\n",
    "    np_states.append(np_state)\n",
    "    \n",
    "    if frame >= MIN_FRAME_TO_PLOT:\n",
    "        \n",
    "        state_figure = plt.figure(figsize=(NCOLS * COL_WIDTH + WIDTH_SPACING, NROWS * ROW_HEIGHT + HEIGHT_SPACING))\n",
    "        plt.subplots_adjust(wspace=0.2)\n",
    "\n",
    "        for ax_index, state_frame in enumerate(np_state[-args.state_depth:]):\n",
    "            ax = plt.subplot(NROWS, NCOLS, ax_index + 1)\n",
    "            ax.imshow(state_frame, cmap='gray')\n",
    "            ax.get_xaxis().set_visible(False)\n",
    "            ax.get_yaxis().set_visible(False)\n",
    "            \n",
    "            if first_plot:\n",
    "                ax.set_title(titles[ax_index], dict(fontsize=24))\n",
    "            \n",
    "        if first_plot:\n",
    "            first_plot = False\n",
    "        \n",
    "        plt.show()\n",
    "        \n",
    "    action = np.random.randint(0, action_space)\n",
    "    next_state, reward, done = torch_masker_env.step(action)\n",
    "    val_mem.append(state, action, reward, done)\n",
    "    state = next_state\n"
   ]
  },
  {
   "cell_type": "code",
   "execution_count": null,
   "metadata": {
    "scrolled": true
   },
   "outputs": [],
   "source": [
    "x = ax.get_xaxis()\n",
    "dir(x)"
   ]
  },
  {
   "cell_type": "markdown",
   "metadata": {},
   "source": [
    "### Create the naive, doctored background frame"
   ]
  },
  {
   "cell_type": "code",
   "execution_count": null,
   "metadata": {},
   "outputs": [],
   "source": [
    "state_0, done = env.reset(), False"
   ]
  },
  {
   "cell_type": "code",
   "execution_count": null,
   "metadata": {},
   "outputs": [],
   "source": [
    "plt.imshow(state_0[3].cpu().numpy(), cmap='Greys')"
   ]
  },
  {
   "cell_type": "code",
   "execution_count": null,
   "metadata": {},
   "outputs": [],
   "source": [
    "s_0_np = state_0[3].cpu().numpy()"
   ]
  },
  {
   "cell_type": "code",
   "execution_count": null,
   "metadata": {},
   "outputs": [],
   "source": [
    "plt.imshow(s_0_np[4:12, :], cmap='Greys')"
   ]
  },
  {
   "cell_type": "code",
   "execution_count": null,
   "metadata": {},
   "outputs": [],
   "source": [
    "doctored_s_0_np = np.copy(s_0_np)\n",
    "doctored_s_0_np[4:12,4:] = doctored_s_0_np[6,10]\n",
    "doctored_s_0_np[16:31,4:] = doctored_s_0_np[20,10]\n",
    "doctored_s_0_np[31:74,4:] = doctored_s_0_np[33,10]\n",
    "plt.imshow(doctored_s_0_np, cmap='Greys')"
   ]
  },
  {
   "cell_type": "markdown",
   "metadata": {},
   "source": [
    "## Starting to play around with color-based classifiers"
   ]
  },
  {
   "cell_type": "code",
   "execution_count": null,
   "metadata": {},
   "outputs": [],
   "source": [
    "NROWS = 1\n",
    "NCOLS = 5\n",
    "COL_WIDTH = 4\n",
    "ROW_HEIGHT = 4 \n",
    "WIDTH_SPACING = 0.5\n",
    "HEIGHT_SPACING = 0\n"
   ]
  },
  {
   "cell_type": "code",
   "execution_count": null,
   "metadata": {
    "scrolled": false
   },
   "outputs": [],
   "source": [
    "MIN_FRAME_TO_PLOT = 20\n",
    "\n",
    "torch_states = []\n",
    "np_states = []\n",
    "\n",
    "\n",
    "val_mem = ReplayMemory(args, args.evaluation_size)\n",
    "done = True\n",
    "for frame in range(40):\n",
    "    \n",
    "    if done:\n",
    "        state, done = env.reset(), False\n",
    "\n",
    "    torch_states.append(state)\n",
    "    np_state = state.cpu().numpy()\n",
    "    np_states.append(np_state)\n",
    "    \n",
    "    if frame >= MIN_FRAME_TO_PLOT:\n",
    "        plt.imshow(np_state[3], cmap='gray'); plt.show()\n",
    "        \n",
    "    next_state, _, done = env.step(np.random.randint(0, action_space))\n",
    "    val_mem.append(state, None, None, done)\n",
    "    state = next_state"
   ]
  },
  {
   "cell_type": "code",
   "execution_count": null,
   "metadata": {},
   "outputs": [],
   "source": [
    "NCOLS = 2\n",
    "NROWS = 1\n",
    "INDEX = 20\n",
    "\n",
    "state = np_states[INDEX][3]\n",
    "\n",
    "for x in np.unique(state):\n",
    "    count = np.sum(state == x)\n",
    "#     print(x, count)\n",
    "    if count > 100:\n",
    "        state_figure = plt.figure(figsize=(NCOLS * COL_WIDTH + WIDTH_SPACING, NROWS * ROW_HEIGHT + HEIGHT_SPACING))\n",
    "        plt.subplots_adjust(wspace=0.2)\n",
    "        \n",
    "        plt.suptitle(f'For x = {x:.4f}, we have {count} pixels')\n",
    "        \n",
    "        state_ax = plt.subplot(NROWS, NCOLS, 1)\n",
    "        state_ax.imshow(state, cmap='Greys')\n",
    "        \n",
    "        mask_ax = plt.subplot(NROWS, NCOLS, 2)\n",
    "        mask_ax.imshow((state == x).astype(np.uint8), cmap='Greys')\n",
    "        "
   ]
  },
  {
   "cell_type": "code",
   "execution_count": null,
   "metadata": {},
   "outputs": [],
   "source": [
    "plt.imshow(state[35:45, 5:], cmap='Greys', norm=matplotlib.colors.Normalize(0, 1))"
   ]
  },
  {
   "cell_type": "code",
   "execution_count": null,
   "metadata": {},
   "outputs": [],
   "source": [
    "np.unique(state[35:45, 5:])"
   ]
  },
  {
   "cell_type": "code",
   "execution_count": null,
   "metadata": {},
   "outputs": [],
   "source": [
    "for x in np.unique(state[35:45, 5:]):\n",
    "    count = np.sum(state[35:45, 5:] == x)\n",
    "    print(x, count)\n"
   ]
  },
  {
   "cell_type": "code",
   "execution_count": null,
   "metadata": {},
   "outputs": [],
   "source": [
    "raw_screen = np.squeeze(env.ale.getScreenGrayscale())"
   ]
  },
  {
   "cell_type": "code",
   "execution_count": null,
   "metadata": {},
   "outputs": [],
   "source": [
    "plt.imshow(raw_screen, cmap='Greys')"
   ]
  },
  {
   "cell_type": "code",
   "execution_count": null,
   "metadata": {},
   "outputs": [],
   "source": [
    "for x in np.unique(raw_screen):\n",
    "    count = np.sum(raw_screen == x)\n",
    "    print(x, count)"
   ]
  },
  {
   "cell_type": "code",
   "execution_count": null,
   "metadata": {
    "scrolled": false
   },
   "outputs": [],
   "source": [
    "for x in np.unique(raw_screen):\n",
    "    count = np.sum(raw_screen == x)\n",
    "#     print(x, count)\n",
    "    if count > 250:\n",
    "        state_figure = plt.figure(figsize=(NCOLS * COL_WIDTH + WIDTH_SPACING, NROWS * ROW_HEIGHT + HEIGHT_SPACING))\n",
    "        plt.subplots_adjust(wspace=0.2)\n",
    "        \n",
    "        plt.suptitle(f'For x = {x:.4f}, we have {count} pixels')\n",
    "        \n",
    "        state_ax = plt.subplot(NROWS, NCOLS, 1)\n",
    "        state_ax.imshow(raw_screen, cmap='Greys')\n",
    "        \n",
    "        mask_ax = plt.subplot(NROWS, NCOLS, 2)\n",
    "        mask_ax.imshow((raw_screen == x).astype(np.uint8), cmap='Greys')"
   ]
  },
  {
   "cell_type": "markdown",
   "metadata": {},
   "source": [
    "## Starting to mess around with the saved state traces"
   ]
  },
  {
   "cell_type": "code",
   "execution_count": null,
   "metadata": {},
   "outputs": [],
   "source": [
    "def load_saved_states(seed, num=0, name='baseline-rainbow', color=False):\n",
    "    state_type = color and 'color' or 'gray'\n",
    "    path_glob = os.path.join('../results', f'{name}-{seed}', 'evaluation/states', f'*{num}-{state_type}.pickle')\n",
    "    paths_found = glob.glob(path_glob)\n",
    "    if len(paths_found) > 0:\n",
    "        path = paths_found[0]\n",
    "\n",
    "        with open(path, 'rb') as pickle_file:\n",
    "            return pickle.load(pickle_file)\n",
    "                        "
   ]
  },
  {
   "cell_type": "code",
   "execution_count": null,
   "metadata": {},
   "outputs": [],
   "source": [
    "states_300_0_gray = load_saved_states(300)\n",
    "print(states_300_0_gray.shape)\n",
    "\n",
    "states_300_0_color = load_saved_states(300, color=True)\n",
    "states_300_0_color.shape"
   ]
  },
  {
   "cell_type": "markdown",
   "metadata": {},
   "source": [
    "### Verify that channels vs. batch size doesn't matter in `torch.nn.interpolate`"
   ]
  },
  {
   "cell_type": "code",
   "execution_count": null,
   "metadata": {},
   "outputs": [],
   "source": [
    "states_300_0_gray_tensor = torch.tensor(states_300_0_gray, device=args.device, dtype=torch.float).div_(255)\n",
    "first_dim = states_300_0_gray_tensor.clone().unsqueeze_(0)\n",
    "second_dim = states_300_0_gray_tensor.clone().unsqueeze_(1)\n",
    "\n",
    "first_dim_resized = masker_env._resize(first_dim)\n",
    "second_dim_resized = masker_env._resize(second_dim)\n",
    "\n",
    "print(first_dim_resized.shape, second_dim_resized.shape)\n",
    "print(torch.sum(first_dim_resized.squeeze() == second_dim_resized.squeeze()) - (2451 * 84 * 84))"
   ]
  },
  {
   "cell_type": "markdown",
   "metadata": {},
   "source": [
    "### Compute pixel-wise mean and sd"
   ]
  },
  {
   "cell_type": "code",
   "execution_count": null,
   "metadata": {},
   "outputs": [],
   "source": [
    "first_dim.mean(), first_dim.std()"
   ]
  },
  {
   "cell_type": "markdown",
   "metadata": {},
   "source": [
    "### See how much it changes with additional data"
   ]
  },
  {
   "cell_type": "code",
   "execution_count": null,
   "metadata": {},
   "outputs": [],
   "source": [
    "seed = 300\n",
    "states = [load_saved_states(seed, rep) for rep in range(10)]\n",
    "tensors = [torch.tensor(state, device=args.device, dtype=torch.float).div_(255)\n",
    "           for state in states if state is not None]\n",
    "data = [(t.shape[0], t.mean().cpu().numpy(), t.std().cpu().numpy()) for t in tensors]\n",
    "\n",
    "def combine_data(data):\n",
    "    combined_length = sum([d[0] for d in data])\n",
    "    combined_mean = sum(d[0] * d[1] for d in data) / combined_length\n",
    "    combined_std = np.sqrt(sum([d[0] * d[2] ** 2 + d[0] * (d[1] - combined_mean) ** 2 for d in data]) / combined_length)\n",
    "    return combined_mean, combined_std\n",
    "\n",
    "combine_data(data)"
   ]
  },
  {
   "cell_type": "markdown",
   "metadata": {},
   "source": [
    "### And with the resize\n",
    "\n",
    "Ported this logic to a separate script in this dir, to run one at a time, and copied the outputs below"
   ]
  },
  {
   "cell_type": "code",
   "execution_count": null,
   "metadata": {},
   "outputs": [],
   "source": [
    "def extract_data(seed):\n",
    "    states = [load_saved_states(seed, rep) for rep in range(10)]\n",
    "    stats = []\n",
    "    for state in states:\n",
    "        if state is not None:\n",
    "            t = resize(torch.tensor(state, device=device, dtype=torch.float).div_(255).unsqueeze(0))\n",
    "            stats.append((t.squeeze().shape[0], t.mean().cpu().numpy(), t.std().cpu().numpy()))\n",
    "            del(t)\n",
    "            torch.cuda.empty_cache()\n",
    "\n",
    "    return stats\n",
    "  \n",
    "    \n",
    "def combine_data(data):\n",
    "    combined_length = sum([d[0] for d in data])\n",
    "    combined_mean = sum(d[0] * d[1] for d in data) / combined_length\n",
    "    combined_std = np.sqrt(sum([d[0] * d[2] ** 2 + d[0] * (d[1] - combined_mean) ** 2 for d in data]) / combined_length)\n",
    "    return combined_mean, combined_std"
   ]
  },
  {
   "cell_type": "code",
   "execution_count": null,
   "metadata": {},
   "outputs": [],
   "source": [
    "stats_300 = (19435, 0.23909144068181376, 0.2465402674388778)\n",
    "stats_303 = (116346, 0.1872172557893244, 0.19324326601860115)\n",
    "stats_305 = (41189, 0.22397719868649532, 0.23312276905932422)\n",
    "stats_306 = (21249, 0.24203196782954492, 0.24902377867562683)\n",
    "\n",
    "print(combine_data((stats_300, stats_303, stats_305, stats_306)))"
   ]
  },
  {
   "cell_type": "code",
   "execution_count": null,
   "metadata": {},
   "outputs": [],
   "source": []
  },
  {
   "cell_type": "code",
   "execution_count": null,
   "metadata": {},
   "outputs": [],
   "source": []
  },
  {
   "cell_type": "code",
   "execution_count": null,
   "metadata": {},
   "outputs": [],
   "source": [
    "frame = states_300_0_gray[100]\n",
    "tens = torch.tensor(frame, dtype=torch.float32).unsqueeze(0).unsqueeze(0)\n",
    "small_frame = cv2.resize(frame, (84, 84), interpolation=cv2.INTER_LINEAR)\n",
    "small_tens = torch.nn.functional.interpolate(tens, size=(84, 84), mode='bilinear')\n",
    "small_tens.shape\n",
    "small_tens_np = small_tens.numpy().squeeze()"
   ]
  },
  {
   "cell_type": "code",
   "execution_count": null,
   "metadata": {},
   "outputs": [],
   "source": [
    "np.allclose(small_tens_np, small_frame.astype(np.float32))"
   ]
  },
  {
   "cell_type": "code",
   "execution_count": null,
   "metadata": {},
   "outputs": [],
   "source": [
    "np.max(np.abs(small_tens_np - small_frame.astype(np.float32)))"
   ]
  },
  {
   "cell_type": "markdown",
   "metadata": {},
   "source": [
    "## Let's print out every 50th state to get some exemplars"
   ]
  },
  {
   "cell_type": "code",
   "execution_count": null,
   "metadata": {
    "scrolled": true
   },
   "outputs": [],
   "source": [
    "for i in range(0, 2300, 50):\n",
    "    state_figure = plt.figure(figsize=(NCOLS * COL_WIDTH + WIDTH_SPACING, NROWS * ROW_HEIGHT + HEIGHT_SPACING))\n",
    "    plt.subplots_adjust(wspace=0.2)\n",
    "\n",
    "    plt.suptitle(f'Frame {i}')\n",
    "\n",
    "    gray_ax = plt.subplot(NROWS, NCOLS, 1)\n",
    "    gray_ax.imshow(states_300_0_gray[i], cmap='gray')\n",
    "\n",
    "    color_ax = plt.subplot(NROWS, NCOLS, 2)\n",
    "    color_ax.imshow(states_300_0_color[i])\n",
    "    \n",
    "    plt.show()"
   ]
  },
  {
   "cell_type": "markdown",
   "metadata": {},
   "source": [
    "## Generate color lists for each semantic type of objects"
   ]
  },
  {
   "cell_type": "code",
   "execution_count": null,
   "metadata": {},
   "outputs": [],
   "source": [
    "player_colors = (110, 116, 129, 148, )\n",
    "# masking the player won't work by color, but perhaps by color + shape around?\n",
    "floe_colors = (130, 214)\n",
    "# 153 also captures the score, so perhaps that needs to be better spatially limited\n",
    "# 148 also captures some of the player, so perhaps we need to mutually exclude with where we infer the player to be?\n",
    "# 214 captures both the bear in the black background and the white floes, so another spatial limitation?\n",
    "bad_animal_colors = (153, # birds\n",
    "                     148, # crabs\n",
    "                     111, # bear in white background\n",
    "                     193, # angry yellow things\n",
    "                     214, # bear in black background\n",
    "                    ) \n",
    "good_animal_colors = (169, # fish\n",
    "                     )\n",
    "\n",
    "# The door is harder to capture straight up by color, as it matches with a black row below the snow\n",
    "# Maybe this would be trivial in color?"
   ]
  },
  {
   "cell_type": "code",
   "execution_count": null,
   "metadata": {
    "scrolled": false
   },
   "outputs": [],
   "source": [
    "index = 1050\n",
    "\n",
    "min_count = 1\n",
    "max_count = 200\n",
    "\n",
    "frame_row_min = 8\n",
    "frame_row_max = -25\n",
    "\n",
    "frame_col_min = 8\n",
    "frame_col_max = None\n",
    "\n",
    "full_frame = states_300_0_gray[index]\n",
    "frame = full_frame[frame_row_min:frame_row_max, frame_col_min:frame_col_max]\n",
    "\n",
    "for x in np.unique(frame):\n",
    "    count = np.sum(frame == x)\n",
    "#     print(x, count)\n",
    "    if min_count < count < max_count:\n",
    "        state_figure = plt.figure(figsize=(NCOLS * COL_WIDTH + WIDTH_SPACING, NROWS * ROW_HEIGHT + HEIGHT_SPACING))\n",
    "        plt.subplots_adjust(wspace=0.2)\n",
    "        \n",
    "        plt.suptitle(f'For x = {x:.4f}, we have {count} pixels')\n",
    "        \n",
    "        state_ax = plt.subplot(NROWS, NCOLS, 1)\n",
    "        state_ax.imshow(frame, cmap='gray')\n",
    "        \n",
    "        mask_ax = plt.subplot(NROWS, NCOLS, 2)\n",
    "        mask_ax.imshow((frame == x).astype(np.uint8), cmap='gray')"
   ]
  },
  {
   "cell_type": "markdown",
   "metadata": {},
   "source": [
    "## Same thing but in color"
   ]
  },
  {
   "cell_type": "code",
   "execution_count": null,
   "metadata": {
    "scrolled": false
   },
   "outputs": [],
   "source": [
    "index = 200\n",
    "\n",
    "frame_row_min = 8\n",
    "frame_row_max = -25\n",
    "\n",
    "frame_col_min = 8\n",
    "frame_col_max = None\n",
    "\n",
    "min_count = 2000\n",
    "max_count = 200000\n",
    "\n",
    "full_frame = states_300_0_color[index]\n",
    "frame = full_frame[frame_row_min:frame_row_max, frame_col_min:frame_col_max, :]\n",
    "# frame = full_frame\n",
    "\n",
    "flattened = frame.reshape(-1, 3)\n",
    "\n",
    "for x in np.unique(flattened, axis=0):\n",
    "    count = np.sum(np.equal(flattened, x.reshape(1, 3)))\n",
    "#     print(x, count)\n",
    "    if min_count < count < max_count:\n",
    "        state_figure = plt.figure(figsize=(NCOLS * COL_WIDTH + WIDTH_SPACING, NROWS * ROW_HEIGHT + HEIGHT_SPACING))\n",
    "        plt.subplots_adjust(wspace=0.2)\n",
    "        \n",
    "        plt.suptitle(f'For x = {x}, we have {count} pixels')\n",
    "        \n",
    "        state_ax = plt.subplot(NROWS, NCOLS, 1)\n",
    "        state_ax.imshow(frame)\n",
    "        \n",
    "        mask_ax = plt.subplot(NROWS, NCOLS, 2)\n",
    "        mask_ax.imshow((np.all(np.equal(frame, x.reshape(1, 1, 3)), axis=2)).astype(np.uint8), cmap='gray')"
   ]
  },
  {
   "cell_type": "code",
   "execution_count": 14,
   "metadata": {},
   "outputs": [],
   "source": [
    "frame_row_min = 8\n",
    "frame_row_max = -25\n",
    "\n",
    "frame_col_min = 8\n",
    "frame_col_max = None\n",
    "\n",
    "subframe_shape = (177, 152)\n",
    "full_frame_shape = (210, 160)\n",
    "\n",
    "player_colors = ((162, 98, 33),\n",
    "                 (162, 162, 42),\n",
    "                 (198, 108, 58),\n",
    "                 (142, 142, 142) # also captures the igloo\n",
    "                )\n",
    "\n",
    "unvisited_floe_colors = ((214, 214, 214), # unvisited_floes\n",
    "                        )\n",
    "visited_floe_colors = ((84, 138, 210), # visited floes\n",
    "                      )\n",
    "land_colors = ((192, 192, 192), # the lighter ground in earlier levels\n",
    "               (74, 74, 74), # the darker ground in later levels\n",
    "              ) \n",
    "\n",
    "land_row_min = 42\n",
    "land_row_max = 78\n",
    "land_row_range = (land_row_min, land_row_max)\n",
    "\n",
    "bad_animal_colors = ((132, 144, 252), # birds -- also captures the score!\n",
    "                     (213, 130, 74), # crabs -- no more conflict with the player\n",
    "                     (210, 210, 64), # angry yellow things\n",
    "                    ) \n",
    "\n",
    "bear_colors = ((111, 111, 111), # bear in white background\n",
    "               (214, 214, 214), # bear in black background -- same as the unvisited floes\n",
    "              )\n",
    "\n",
    "good_animal_colors = ((111, 210, 111), # fish\n",
    "                     )\n",
    "\n",
    "animal_subframe_row_min = 70\n",
    "\n",
    "animal_full_frame_row_min = 78\n",
    "animal_full_frame_row_max = 185\n",
    "animal_full_frame_row_range = (animal_full_frame_row_min, animal_full_frame_row_max)\n",
    "\n",
    "igloo_colors = ((142, 142, 142),\n",
    "                # isolating the igloo door is harder - its black and orange colors both conflict\n",
    "                )\n",
    "\n",
    "igloo_subframe_row_min = 26\n",
    "igloo_subframe_row_max = 47\n",
    "igloo_subframe_row_range = (igloo_subframe_row_min, igloo_subframe_row_max)\n",
    "\n",
    "igloo_subframe_col_min = 104\n",
    "igloo_subframe_col_max = 136\n",
    "igloo_subframe_col_range = (igloo_subframe_col_min, igloo_subframe_col_max)\n",
    "\n",
    "igloo_full_frame_row_min = 35\n",
    "igloo_full_frame_row_max = 55\n",
    "igloo_full_frame_row_range = (igloo_full_frame_row_min, igloo_full_frame_row_max)\n",
    "\n",
    "igloo_full_frame_col_min = 112\n",
    "igloo_full_frame_col_max = 144\n",
    "igloo_full_frame_col_range = (igloo_full_frame_col_min, igloo_full_frame_col_max)\n",
    "\n",
    "# The igloo's black also conflicts with a black line below the ice, so we to do the igloo we would location\n",
    "# Same with the birds, which conflict with the score\n",
    "# Player also conflict with igloo, which I guess we could also resolve with location \n",
    "\n"
   ]
  },
  {
   "cell_type": "markdown",
   "metadata": {},
   "source": [
    "## Writing a class to do this sort of filtering"
   ]
  },
  {
   "cell_type": "code",
   "execution_count": 15,
   "metadata": {},
   "outputs": [],
   "source": [
    "FULL_FRAME_SHAPE = (210, 160)\n",
    "\n",
    "\n",
    "class ColorFilterMasker:\n",
    "    def __init__(self, filter_colors, row_range=(None, None), col_range=(None, None), range_whitelist=False):\n",
    "        self.filter_colors = np.stack([np.array(x).reshape(1, 1, 3) for x in filter_colors], axis=3)\n",
    "        self.row_range = row_range\n",
    "        self.col_range = col_range\n",
    "        self.range_whitelist = range_whitelist\n",
    "        \n",
    "    def __call__(self, frame):\n",
    "        \"\"\"\n",
    "        Assumes the frame is of the form [h, w, c]\n",
    "        \"\"\"\n",
    "        mask = np.any(np.all(np.equal(np.expand_dims(frame, 3), self.filter_colors), axis=2), axis=2).astype(np.uint8)\n",
    "            \n",
    "        if self.range_whitelist:\n",
    "            mask[np.r_[0:self.row_range[0], self.row_range[1]:mask.shape[0]], :] = 0\n",
    "            mask[:, np.r_[0:self.col_range[0], self.col_range[1]:mask.shape[1]]] = 0\n",
    "\n",
    "        else:\n",
    "            mask[self.row_range[0]:self.row_range[1],self.col_range[0]:self.col_range[1]] = 0\n",
    "                \n",
    "        return mask"
   ]
  },
  {
   "cell_type": "code",
   "execution_count": 16,
   "metadata": {},
   "outputs": [],
   "source": [
    "player_masker = ColorFilterMasker(player_colors, igloo_full_frame_row_range, \n",
    "                                  igloo_full_frame_col_range)\n",
    "unvisited_floe_masker = ColorFilterMasker(unvisited_floe_colors, animal_full_frame_row_range, \n",
    "                                          (0, full_frame_shape[1]), range_whitelist=True)\n",
    "visited_floe_masker = ColorFilterMasker(visited_floe_colors, animal_full_frame_row_range, \n",
    "                                        (0, full_frame_shape[1]), range_whitelist=True)\n",
    "land_masker =  ColorFilterMasker(land_colors, land_row_range, \n",
    "                                 (0, full_frame_shape[1]), range_whitelist=True)\n",
    "bad_animal_masker = ColorFilterMasker(bad_animal_colors, animal_full_frame_row_range, \n",
    "                                      (0, full_frame_shape[1]), range_whitelist=True)\n",
    "good_animal_masker = ColorFilterMasker(good_animal_colors, animal_full_frame_row_range, \n",
    "                                       (0, full_frame_shape[1]), range_whitelist=True)\n",
    "bear_filter = ColorFilterMasker(bear_colors, (0, animal_full_frame_row_min), \n",
    "                                (0, full_frame_shape[1]), range_whitelist=True)\n",
    "igloo_masker = ColorFilterMasker(igloo_colors, igloo_full_frame_row_range, \n",
    "                                 igloo_full_frame_col_range, range_whitelist=True)\n"
   ]
  },
  {
   "cell_type": "markdown",
   "metadata": {},
   "source": [
    "### Printing out a frame and all of its masks"
   ]
  },
  {
   "cell_type": "code",
   "execution_count": 17,
   "metadata": {
    "scrolled": true
   },
   "outputs": [
    {
     "ename": "NameError",
     "evalue": "name 'states_300_0_color' is not defined",
     "output_type": "error",
     "traceback": [
      "\u001b[0;31m---------------------------------------------------------------------------\u001b[0m",
      "\u001b[0;31mNameError\u001b[0m                                 Traceback (most recent call last)",
      "\u001b[0;32m<ipython-input-17-a1d4e4da475c>\u001b[0m in \u001b[0;36m<module>\u001b[0;34m\u001b[0m\n\u001b[1;32m      6\u001b[0m     \u001b[0mplt\u001b[0m\u001b[0;34m.\u001b[0m\u001b[0msuptitle\u001b[0m\u001b[0;34m(\u001b[0m\u001b[0;34mf'Frame {frame_index}'\u001b[0m\u001b[0;34m)\u001b[0m\u001b[0;34m\u001b[0m\u001b[0;34m\u001b[0m\u001b[0m\n\u001b[1;32m      7\u001b[0m \u001b[0;34m\u001b[0m\u001b[0m\n\u001b[0;32m----> 8\u001b[0;31m     \u001b[0mfull_frame\u001b[0m \u001b[0;34m=\u001b[0m \u001b[0mstates_300_0_color\u001b[0m\u001b[0;34m[\u001b[0m\u001b[0mframe_index\u001b[0m\u001b[0;34m]\u001b[0m\u001b[0;34m\u001b[0m\u001b[0;34m\u001b[0m\u001b[0m\n\u001b[0m\u001b[1;32m      9\u001b[0m     \u001b[0;31m# frame = full_frame[frame_row_min:frame_row_max, frame_col_min:frame_col_max, :]\u001b[0m\u001b[0;34m\u001b[0m\u001b[0;34m\u001b[0m\u001b[0;34m\u001b[0m\u001b[0m\n\u001b[1;32m     10\u001b[0m     \u001b[0mframe\u001b[0m \u001b[0;34m=\u001b[0m \u001b[0mfull_frame\u001b[0m\u001b[0;34m\u001b[0m\u001b[0;34m\u001b[0m\u001b[0m\n",
      "\u001b[0;31mNameError\u001b[0m: name 'states_300_0_color' is not defined"
     ]
    },
    {
     "data": {
      "text/plain": [
       "<Figure size 2052x288 with 0 Axes>"
      ]
     },
     "metadata": {},
     "output_type": "display_data"
    }
   ],
   "source": [
    "NCOLS = 7\n",
    "\n",
    "for frame_index in range(0, 2300, 50):\n",
    "    state_figure = plt.figure(figsize=(NCOLS * COL_WIDTH + WIDTH_SPACING, NROWS * ROW_HEIGHT + HEIGHT_SPACING))\n",
    "    plt.subplots_adjust(wspace=0.2)\n",
    "    plt.suptitle(f'Frame {frame_index}')\n",
    "    \n",
    "    full_frame = states_300_0_color[frame_index]\n",
    "    # frame = full_frame[frame_row_min:frame_row_max, frame_col_min:frame_col_max, :]\n",
    "    frame = full_frame\n",
    "\n",
    "    color_ax = plt.subplot(NROWS, NCOLS, 1)\n",
    "    color_ax.imshow(frame)\n",
    "    \n",
    "    for ax_index, (masker, name) in enumerate(zip((player_masker, floe_masker, bad_animal_masker, \n",
    "                                                   good_animal_masker, bear_filter, igloo_masker),\n",
    "                                                  ('Player', 'Floes', 'Bad Animals', \n",
    "                                                   'Good Animals', 'Bears', 'Igloo'))):\n",
    "        ax = plt.subplot(NROWS, NCOLS, ax_index + 2)\n",
    "        ax.set_title(name)\n",
    "        ax.imshow(masker(frame), cmap='gray')\n",
    "    \n",
    "    plt.show()"
   ]
  },
  {
   "cell_type": "markdown",
   "metadata": {},
   "source": [
    "## Plotting a frame, and all of its masked combined"
   ]
  },
  {
   "cell_type": "code",
   "execution_count": 18,
   "metadata": {
    "scrolled": false
   },
   "outputs": [
    {
     "ename": "NameError",
     "evalue": "name 'states_300_0_color' is not defined",
     "output_type": "error",
     "traceback": [
      "\u001b[0;31m---------------------------------------------------------------------------\u001b[0m",
      "\u001b[0;31mNameError\u001b[0m                                 Traceback (most recent call last)",
      "\u001b[0;32m<ipython-input-18-c7a7847ec7bd>\u001b[0m in \u001b[0;36m<module>\u001b[0;34m\u001b[0m\n\u001b[1;32m      6\u001b[0m     \u001b[0mplt\u001b[0m\u001b[0;34m.\u001b[0m\u001b[0msuptitle\u001b[0m\u001b[0;34m(\u001b[0m\u001b[0;34mf'Frame {frame_index}'\u001b[0m\u001b[0;34m)\u001b[0m\u001b[0;34m\u001b[0m\u001b[0;34m\u001b[0m\u001b[0m\n\u001b[1;32m      7\u001b[0m \u001b[0;34m\u001b[0m\u001b[0m\n\u001b[0;32m----> 8\u001b[0;31m     \u001b[0mfull_frame\u001b[0m \u001b[0;34m=\u001b[0m \u001b[0mstates_300_0_color\u001b[0m\u001b[0;34m[\u001b[0m\u001b[0mframe_index\u001b[0m\u001b[0;34m]\u001b[0m\u001b[0;34m\u001b[0m\u001b[0;34m\u001b[0m\u001b[0m\n\u001b[0m\u001b[1;32m      9\u001b[0m     \u001b[0;31m# frame = full_frame[frame_row_min:frame_row_max, frame_col_min:frame_col_max, :]\u001b[0m\u001b[0;34m\u001b[0m\u001b[0;34m\u001b[0m\u001b[0;34m\u001b[0m\u001b[0m\n\u001b[1;32m     10\u001b[0m     \u001b[0mframe\u001b[0m \u001b[0;34m=\u001b[0m \u001b[0mfull_frame\u001b[0m\u001b[0;34m\u001b[0m\u001b[0;34m\u001b[0m\u001b[0m\n",
      "\u001b[0;31mNameError\u001b[0m: name 'states_300_0_color' is not defined"
     ]
    },
    {
     "data": {
      "text/plain": [
       "<Figure size 612x288 with 0 Axes>"
      ]
     },
     "metadata": {},
     "output_type": "display_data"
    }
   ],
   "source": [
    "NCOLS = 2\n",
    "\n",
    "for frame_index in range(0, 2300, 50):\n",
    "    state_figure = plt.figure(figsize=(NCOLS * COL_WIDTH + WIDTH_SPACING, NROWS * ROW_HEIGHT + HEIGHT_SPACING))\n",
    "    plt.subplots_adjust(wspace=0.2)\n",
    "    plt.suptitle(f'Frame {frame_index}')\n",
    "    \n",
    "    full_frame = states_300_0_color[frame_index]\n",
    "    # frame = full_frame[frame_row_min:frame_row_max, frame_col_min:frame_col_max, :]\n",
    "    frame = full_frame\n",
    "\n",
    "    color_ax = plt.subplot(NROWS, NCOLS, 1)\n",
    "    color_ax.imshow(frame)\n",
    "    \n",
    "    combined_mask = np.zeros_like(frame)\n",
    "    \n",
    "    for ax_index, (masker, color) in enumerate(zip((player_masker, unvisited_floe_masker, \n",
    "                                                    visited_floe_masker, land_masker, \n",
    "                                                    bad_animal_masker,good_animal_masker, \n",
    "                                                    bear_filter, igloo_masker),\n",
    "                                                   ((255, 128, 0), (224, 224, 224), \n",
    "                                                    (124, 185, 232), (103, 103, 103),\n",
    "                                                    (255, 0, 0), (102, 255, 178), \n",
    "                                                    (102, 51, 0), (0, 0, 255) ))\n",
    "                                             ):\n",
    "        mask = np.expand_dims(masker(frame), 2)\n",
    "        combined_mask += mask * np.array(color).astype(np.uint8)\n",
    "        \n",
    "    mask_ax = plt.subplot(NROWS, NCOLS, 2)\n",
    "    mask_ax.imshow(combined_mask)\n",
    "    \n",
    "    plt.show()"
   ]
  },
  {
   "cell_type": "markdown",
   "metadata": {},
   "source": [
    "\n",
    "## Now with resizing back down to (84, 84)"
   ]
  },
  {
   "cell_type": "code",
   "execution_count": 19,
   "metadata": {
    "scrolled": true
   },
   "outputs": [
    {
     "ename": "NameError",
     "evalue": "name 'states_300_0_color' is not defined",
     "output_type": "error",
     "traceback": [
      "\u001b[0;31m---------------------------------------------------------------------------\u001b[0m",
      "\u001b[0;31mNameError\u001b[0m                                 Traceback (most recent call last)",
      "\u001b[0;32m<ipython-input-19-6d25282f1315>\u001b[0m in \u001b[0;36m<module>\u001b[0;34m\u001b[0m\n\u001b[1;32m     10\u001b[0m     \u001b[0mplt\u001b[0m\u001b[0;34m.\u001b[0m\u001b[0msuptitle\u001b[0m\u001b[0;34m(\u001b[0m\u001b[0;34mf'Frame {frame_index}'\u001b[0m\u001b[0;34m)\u001b[0m\u001b[0;34m\u001b[0m\u001b[0;34m\u001b[0m\u001b[0m\n\u001b[1;32m     11\u001b[0m \u001b[0;34m\u001b[0m\u001b[0m\n\u001b[0;32m---> 12\u001b[0;31m     \u001b[0mfull_frame\u001b[0m \u001b[0;34m=\u001b[0m \u001b[0mstates_300_0_color\u001b[0m\u001b[0;34m[\u001b[0m\u001b[0mframe_index\u001b[0m\u001b[0;34m]\u001b[0m\u001b[0;34m\u001b[0m\u001b[0;34m\u001b[0m\u001b[0m\n\u001b[0m\u001b[1;32m     13\u001b[0m     \u001b[0;31m# frame = full_frame[frame_row_min:frame_row_max, frame_col_min:frame_col_max, :]\u001b[0m\u001b[0;34m\u001b[0m\u001b[0;34m\u001b[0m\u001b[0;34m\u001b[0m\u001b[0m\n\u001b[1;32m     14\u001b[0m     \u001b[0mframe\u001b[0m \u001b[0;34m=\u001b[0m \u001b[0mfull_frame\u001b[0m\u001b[0;34m\u001b[0m\u001b[0;34m\u001b[0m\u001b[0m\n",
      "\u001b[0;31mNameError\u001b[0m: name 'states_300_0_color' is not defined"
     ]
    },
    {
     "data": {
      "text/plain": [
       "<Figure size 2052x288 with 0 Axes>"
      ]
     },
     "metadata": {},
     "output_type": "display_data"
    }
   ],
   "source": [
    "NCOLS = 7\n",
    "\n",
    "def resize_func(img, size=(84, 84)):\n",
    "    return cv2.resize(img, size, interpolation=cv2.INTER_LINEAR)\n",
    "    \n",
    "\n",
    "for frame_index in range(0, 2300, 50):\n",
    "    state_figure = plt.figure(figsize=(NCOLS * COL_WIDTH + WIDTH_SPACING, NROWS * ROW_HEIGHT + HEIGHT_SPACING))\n",
    "    plt.subplots_adjust(wspace=0.2)\n",
    "    plt.suptitle(f'Frame {frame_index}')\n",
    "    \n",
    "    full_frame = states_300_0_color[frame_index]\n",
    "    # frame = full_frame[frame_row_min:frame_row_max, frame_col_min:frame_col_max, :]\n",
    "    frame = full_frame\n",
    "\n",
    "    color_ax = plt.subplot(NROWS, NCOLS, 1)\n",
    "    color_ax.imshow(resize_func(frame))\n",
    "    \n",
    "    for ax_index, (masker, name) in enumerate(zip((player_masker, floe_masker, bad_animal_masker, \n",
    "                                                   good_animal_masker, bear_filter, igloo_masker),\n",
    "                                                  ('Player', 'Floes', 'Bad Animals', \n",
    "                                                   'Good Animals', 'Bears', 'Igloo'))):\n",
    "        ax = plt.subplot(NROWS, NCOLS, ax_index + 2)\n",
    "        ax.set_title(name)\n",
    "        ax.imshow(resize_func(masker(frame).astype(np.uint8)), cmap='gray')\n",
    "    \n",
    "    plt.show()"
   ]
  },
  {
   "cell_type": "markdown",
   "metadata": {},
   "source": [
    "### Saving a gif from these"
   ]
  },
  {
   "cell_type": "code",
   "execution_count": 20,
   "metadata": {},
   "outputs": [
    {
     "ename": "NameError",
     "evalue": "name 'states_300_0_color' is not defined",
     "output_type": "error",
     "traceback": [
      "\u001b[0;31m---------------------------------------------------------------------------\u001b[0m",
      "\u001b[0;31mNameError\u001b[0m                                 Traceback (most recent call last)",
      "\u001b[0;32m<ipython-input-20-163888971129>\u001b[0m in \u001b[0;36m<module>\u001b[0;34m\u001b[0m\n\u001b[1;32m      1\u001b[0m \u001b[0mcombined_masks\u001b[0m \u001b[0;34m=\u001b[0m \u001b[0;34m[\u001b[0m\u001b[0;34m]\u001b[0m\u001b[0;34m\u001b[0m\u001b[0;34m\u001b[0m\u001b[0m\n\u001b[1;32m      2\u001b[0m \u001b[0;34m\u001b[0m\u001b[0m\n\u001b[0;32m----> 3\u001b[0;31m \u001b[0;32mfor\u001b[0m \u001b[0mframe\u001b[0m \u001b[0;32min\u001b[0m \u001b[0mstates_300_0_color\u001b[0m\u001b[0;34m:\u001b[0m\u001b[0;34m\u001b[0m\u001b[0;34m\u001b[0m\u001b[0m\n\u001b[0m\u001b[1;32m      4\u001b[0m     \u001b[0mcombined_mask\u001b[0m \u001b[0;34m=\u001b[0m \u001b[0mnp\u001b[0m\u001b[0;34m.\u001b[0m\u001b[0mzeros_like\u001b[0m\u001b[0;34m(\u001b[0m\u001b[0mframe\u001b[0m\u001b[0;34m)\u001b[0m\u001b[0;34m\u001b[0m\u001b[0;34m\u001b[0m\u001b[0m\n\u001b[1;32m      5\u001b[0m \u001b[0;34m\u001b[0m\u001b[0m\n",
      "\u001b[0;31mNameError\u001b[0m: name 'states_300_0_color' is not defined"
     ]
    }
   ],
   "source": [
    "combined_masks = []\n",
    "\n",
    "for frame in states_300_0_color:    \n",
    "    combined_mask = np.zeros_like(frame)\n",
    "    \n",
    "    for ax_index, (masker, color) in enumerate(zip((player_masker, unvisited_floe_masker, \n",
    "                                                    visited_floe_masker, land_masker, \n",
    "                                                    bad_animal_masker,good_animal_masker, \n",
    "                                                    bear_filter, igloo_masker),\n",
    "                                                   ((255, 128, 0), (224, 224, 224), \n",
    "                                                    (124, 185, 232), (103, 103, 103),\n",
    "                                                    (255, 0, 0), (102, 255, 178), \n",
    "                                                    (102, 51, 0), (0, 0, 255) ))\n",
    "                                             ):\n",
    "        mask = np.expand_dims(masker(frame), 2)\n",
    "        combined_mask += mask * np.array(color).astype(np.uint8)\n",
    "        \n",
    "    combined_masks.append(resize_func(combined_mask))\n",
    "    \n",
    "imageio.mimwrite(f'fully-masked-updated.gif', combined_masks, fps=15)"
   ]
  },
  {
   "cell_type": "markdown",
   "metadata": {},
   "source": [
    "## Test combining with the optical flow\n",
    "\n",
    "Particularly, make sure to look at frames 135-138, to see what happens when floes change colors\n",
    "\n",
    "### Strategy:\n",
    "* For each mask and direction: \n",
    "    * Mask out the flow\n",
    "    * Use a convolution to to smoothen\n",
    "    * Remask the smoothened flow\n",
    "* Do we want to take the sign? Check with and without"
   ]
  },
  {
   "cell_type": "code",
   "execution_count": 21,
   "metadata": {},
   "outputs": [],
   "source": [
    "import sys\n",
    "pyflow_folder = '/home/gd1279/projects/pyflow'\n",
    "if pyflow_folder not in sys.path: sys.path.append(pyflow_folder)\n",
    "import pyflow\n",
    "import pyoptflow"
   ]
  },
  {
   "cell_type": "code",
   "execution_count": 22,
   "metadata": {},
   "outputs": [],
   "source": [
    "FARNEBACK_PARAMS = dict(\n",
    "    pyr_scale=0.5,\n",
    "    levels=3,\n",
    "    winsize=5, # 15,\n",
    "    iterations=7, # 3,\n",
    "    poly_n=3, # 5,\n",
    "    poly_sigma=0.8, # 1.2,\n",
    "    flags=0, # cv2.OPTFLOW_USE_INITIAL_FLOW\n",
    ")\n",
    "\n",
    "FARNEBACK_FLOW_TOLERANCE = 1e-5\n",
    "\n",
    "def resize_func(img, size=(84, 84)):\n",
    "    return cv2.resize(img, size, interpolation=cv2.INTER_LINEAR)\n",
    "\n",
    "def flow_farneback(x_0, x_1, **kwargs):\n",
    "    params = copy.copy(FARNEBACK_PARAMS)\n",
    "    for key in kwargs:\n",
    "        params[key] = kwargs[key]\n",
    "            \n",
    "    flow = cv2.calcOpticalFlowFarneback(x_0.astype(np.float) / 255, \n",
    "                                        x_1.astype(np.float) / 255, \n",
    "                                        None, **params)\n",
    "    return flow[:,:,0], flow[:,:,1]\n",
    "\n",
    "\n",
    "PYFLOW_PARAMS = dict(\n",
    "    alpha=0.008, # 0.012,\n",
    "    ratio=0.75,\n",
    "    minWidth=5, # 20,\n",
    "    nOuterFPIterations=7,\n",
    "    nInnerFPIterations=1,\n",
    "    nSORIterations=30,\n",
    "    colType=1,  # 0 or default:RGB, 1:GRAY (but pass gray image with shape (h,w,1))\n",
    ")\n",
    "\n",
    "PYFLOW_FLOW_TOLERANCE = 0.75\n",
    "\n",
    "def flow_pyflow(x_0, x_1, **kwargs):\n",
    "    params = copy.copy(PYFLOW_PARAMS)\n",
    "    for key in kwargs:\n",
    "        params[key] = kwargs[key]\n",
    "            \n",
    "    x_flow, y_flow, _ =  pyflow.coarse2fine_flow(np.expand_dims(x_0.astype(np.float) / 255, 2), \n",
    "                                                 np.expand_dims(x_1.astype(np.float) / 255, 2), \n",
    "                                                 **params)\n",
    "    return x_flow, y_flow\n",
    "\n",
    "\n",
    "PYOPTFLOW_PARAMS = dict(\n",
    "    alpha=0.5, # 1.0\n",
    "    Niter=100,\n",
    ")\n",
    "\n",
    "\n",
    "def flow_pyoptflow(x_0, x_1, **kwargs):\n",
    "    params = copy.copy(PYOPTFLOW_PARAMS)\n",
    "    for key in kwargs:\n",
    "        params[key] = kwargs[key]\n",
    "            \n",
    "    return pyoptflow.HornSchunck(x_0.astype(np.float) / 255, x_1.astype(np.float) / 255, **params)\n",
    "\n",
    "\n",
    "PYOPTFLOW_FLOW_TOLERANCE = 0.1\n",
    "\n",
    "\n",
    "FARNEBACK_CONFIG = (flow_farneback, 'Farneback', FARNEBACK_FLOW_TOLERANCE)\n",
    "PYFLOW_CONFIG = (flow_pyflow, 'pyflow', PYFLOW_FLOW_TOLERANCE)\n",
    "PYOPTFLOW_CONFIG = (flow_pyoptflow, 'pyoptflow', PYOPTFLOW_FLOW_TOLERANCE)\n",
    "\n",
    "\n",
    "def make_blur_func(kernel_size):\n",
    "    def blur_denoise(img, mask):\n",
    "        return np.multiply(cv2.blur(img, kernel_size), mask)\n",
    "    \n",
    "    return blur_denoise\n",
    "\n",
    "denoise = make_blur_func((13, 9))\n",
    "\n",
    "\n",
    "def flow_mask_combination(mask, flow_x, flow_y, threshold, should_threshold=True, should_sign=False, should_blur=False):\n",
    "    output_flows = []\n",
    "    for flow in (flow_x, flow_y):\n",
    "        flow = np.copy(flow)\n",
    "        \n",
    "        if should_threshold:\n",
    "            flow[np.abs(flow) < threshold] = 0\n",
    "        \n",
    "        output = flow * mask\n",
    "        \n",
    "        if should_sign:\n",
    "            output = np.sign(output)\n",
    "        \n",
    "        if should_blur:\n",
    "            output = denoise(output, mask)\n",
    "        \n",
    "            \n",
    "        output_flows.append(output)\n",
    "\n",
    "    return output_flows\n",
    "\n",
    "def plot_with_flows(frame_indices, flow_config, maskers, masker_names, add_colorbars=False, should_threshold=True, should_sign=False, should_blur=False):\n",
    "    NROWS = 1\n",
    "    NCOLS = 3 + 2 * len(maskers)\n",
    "    COL_WIDTH = 4\n",
    "    ROW_HEIGHT = 4 \n",
    "    WIDTH_SPACING = 0.5\n",
    "    HEIGHT_SPACING = 0\n",
    "    \n",
    "    flow_func, flow_name, flow_threshold = flow_config\n",
    "    \n",
    "    for frame_index in frame_indices:\n",
    "        figure = plt.figure(figsize=(NCOLS * COL_WIDTH + WIDTH_SPACING, NROWS * ROW_HEIGHT + HEIGHT_SPACING))\n",
    "        plt.subplots_adjust(wspace=0.2)\n",
    "        plt.suptitle(f'Frame {frame_index}')\n",
    "\n",
    "        full_color_frame = states_300_0_color[frame_index]\n",
    "        gray_prev_frame, gray_frame = resize_func(states_300_0_gray[frame_index - 1]), resize_func(states_300_0_gray[frame_index])\n",
    "\n",
    "        for i, img in enumerate((gray_prev_frame, gray_frame)):\n",
    "            ax = plt.subplot(NROWS, NCOLS, i + 1)\n",
    "            ax.imshow(img, cmap='gray')\n",
    "            ax.set_title(f'Frame {frame_index + i}')\n",
    "\n",
    "        # Plot subtraction between them\n",
    "        ax = plt.subplot(NROWS, NCOLS, 3)\n",
    "        ax.imshow(gray_prev_frame - gray_frame, cmap='gray')\n",
    "        ax.set_title(f'$\\\\Delta$')\n",
    "        \n",
    "        flow_x, flow_y = flow_func(gray_prev_frame, gray_frame)\n",
    "        \n",
    "        for masker_index, (masker, name) in enumerate(zip(maskers, masker_names)):\n",
    "            mask = resize_func(masker(full_color_frame).astype(np.uint8))\n",
    "            masked_flow_x, masked_flow_y = flow_mask_combination(mask, flow_x, flow_y, flow_threshold, should_threshold, should_blur, should_sign)\n",
    "            \n",
    "            normalizer = matplotlib.colors.Normalize(min(np.min(flow_x), np.min(flow_y)), \n",
    "                                                     max(np.max(flow_x), np.max(flow_y)))\n",
    "\n",
    "            x_ax = plt.subplot(NROWS, NCOLS, 4 + (masker_index * 2))\n",
    "            x_res = x_ax.imshow(masked_flow_x, cmap='gray', norm=normalizer)\n",
    "            if add_colorbars: figure.colorbar(x_res, ax=x_ax)\n",
    "            x_ax.set_title(f'{name} x-flow')\n",
    "\n",
    "            y_ax = plt.subplot(NROWS, NCOLS, 5 + (masker_index * 2))\n",
    "            y_res = y_ax.imshow(masked_flow_y, cmap='gray', norm=normalizer)\n",
    "            if add_colorbars: figure.colorbar(y_res, ax=y_ax)\n",
    "            y_ax.set_title(f'{name} y-flow')\n",
    "\n",
    "        plt.show()"
   ]
  },
  {
   "cell_type": "code",
   "execution_count": 23,
   "metadata": {
    "scrolled": false
   },
   "outputs": [
    {
     "ename": "NameError",
     "evalue": "name 'floe_masker' is not defined",
     "output_type": "error",
     "traceback": [
      "\u001b[0;31m---------------------------------------------------------------------------\u001b[0m",
      "\u001b[0;31mNameError\u001b[0m                                 Traceback (most recent call last)",
      "\u001b[0;32m<ipython-input-23-d5bff21ef664>\u001b[0m in \u001b[0;36m<module>\u001b[0;34m\u001b[0m\n\u001b[0;32m----> 1\u001b[0;31m \u001b[0mmaskers\u001b[0m \u001b[0;34m=\u001b[0m \u001b[0;34m(\u001b[0m\u001b[0mplayer_masker\u001b[0m\u001b[0;34m,\u001b[0m \u001b[0mfloe_masker\u001b[0m\u001b[0;34m,\u001b[0m \u001b[0mbad_animal_masker\u001b[0m\u001b[0;34m)\u001b[0m\u001b[0;34m\u001b[0m\u001b[0;34m\u001b[0m\u001b[0m\n\u001b[0m\u001b[1;32m      2\u001b[0m \u001b[0mmasker_names\u001b[0m \u001b[0;34m=\u001b[0m \u001b[0;34m(\u001b[0m\u001b[0;34m'Player'\u001b[0m\u001b[0;34m,\u001b[0m \u001b[0;34m'Floes'\u001b[0m\u001b[0;34m,\u001b[0m \u001b[0;34m'Bad Animals'\u001b[0m\u001b[0;34m)\u001b[0m\u001b[0;34m\u001b[0m\u001b[0;34m\u001b[0m\u001b[0m\n\u001b[1;32m      3\u001b[0m \u001b[0mmodified_config\u001b[0m \u001b[0;34m=\u001b[0m \u001b[0;34m(\u001b[0m\u001b[0mflow_farneback\u001b[0m\u001b[0;34m,\u001b[0m \u001b[0;34m'Farneback'\u001b[0m\u001b[0;34m,\u001b[0m \u001b[0;36m5e-5\u001b[0m\u001b[0;34m)\u001b[0m\u001b[0;34m\u001b[0m\u001b[0;34m\u001b[0m\u001b[0m\n\u001b[1;32m      4\u001b[0m \u001b[0;34m\u001b[0m\u001b[0m\n\u001b[1;32m      5\u001b[0m \u001b[0mplot_with_flows\u001b[0m\u001b[0;34m(\u001b[0m\u001b[0mrange\u001b[0m\u001b[0;34m(\u001b[0m\u001b[0;36m130\u001b[0m\u001b[0;34m,\u001b[0m \u001b[0;36m140\u001b[0m\u001b[0;34m)\u001b[0m\u001b[0;34m,\u001b[0m \u001b[0mmodified_config\u001b[0m\u001b[0;34m,\u001b[0m \u001b[0mmaskers\u001b[0m\u001b[0;34m,\u001b[0m \u001b[0mmasker_names\u001b[0m\u001b[0;34m,\u001b[0m \u001b[0mshould_sign\u001b[0m\u001b[0;34m=\u001b[0m\u001b[0;32mTrue\u001b[0m\u001b[0;34m)\u001b[0m \u001b[0;31m#, should_blur=True, should_sign=True) #, should_sign=True)\u001b[0m\u001b[0;34m\u001b[0m\u001b[0;34m\u001b[0m\u001b[0m\n",
      "\u001b[0;31mNameError\u001b[0m: name 'floe_masker' is not defined"
     ]
    }
   ],
   "source": [
    "maskers = (player_masker, floe_masker, bad_animal_masker)\n",
    "masker_names = ('Player', 'Floes', 'Bad Animals')\n",
    "modified_config = (flow_farneback, 'Farneback', 5e-5)\n",
    "\n",
    "plot_with_flows(range(130, 140), modified_config, maskers, masker_names, should_sign=True) #, should_blur=True, should_sign=True) #, should_sign=True)"
   ]
  },
  {
   "cell_type": "code",
   "execution_count": 24,
   "metadata": {},
   "outputs": [
    {
     "ename": "SyntaxError",
     "evalue": "unexpected EOF while parsing (<fstring>, line 1)",
     "output_type": "error",
     "traceback": [
      "\u001b[0;36m  File \u001b[0;32m\"<fstring>\"\u001b[0;36m, line \u001b[0;32m1\u001b[0m\n\u001b[0;31m    (frame_index - i + )\u001b[0m\n\u001b[0m                       ^\u001b[0m\n\u001b[0;31mSyntaxError\u001b[0m\u001b[0;31m:\u001b[0m unexpected EOF while parsing\n"
     ]
    }
   ],
   "source": [
    "def plot_frames_step_by_step(frame_indices, flow_config, masker, masker_name, add_colorbars=False, should_threshold=True, should_sign=False, should_blur=False):\n",
    "    NROWS = 1\n",
    "    NCOLS = 5 + should_threshold + should_blur + should_sign\n",
    "    COL_WIDTH = 4\n",
    "    ROW_HEIGHT = 4 \n",
    "    WIDTH_SPACING = 0.5\n",
    "    HEIGHT_SPACING = 0\n",
    "    \n",
    "    flow_func, flow_name, flow_threshold = flow_config\n",
    "    \n",
    "    for frame_index in frame_indices:\n",
    "        full_color_frame = states_300_0_color[frame_index]\n",
    "        gray_prev_frame, gray_frame = resize_func(states_300_0_gray[frame_index - 1]), resize_func(states_300_0_gray[frame_index])\n",
    "        \n",
    "        flow_x, flow_y = flow_func(gray_prev_frame, gray_frame)\n",
    "        mask = resize_func(masker(full_color_frame).astype(np.uint8))\n",
    "        \n",
    "        for flow, direction in zip((flow_x, flow_y), ('X', 'Y')):\n",
    "            figure = plt.figure(figsize=(NCOLS * COL_WIDTH + WIDTH_SPACING, NROWS * ROW_HEIGHT + HEIGHT_SPACING))\n",
    "            plt.subplots_adjust(wspace=0.2)\n",
    "            plt.suptitle(f'Frame {frame_index} {direction}')\n",
    "\n",
    "            for i, img in enumerate((gray_prev_frame, gray_frame)):\n",
    "                ax = plt.subplot(NROWS, NCOLS, i + 1)\n",
    "                ax.imshow(img, cmap='gray')\n",
    "                ax.set_title(f'Frame {frame_index - i + }')\n",
    "\n",
    "            # Plot subtraction between them\n",
    "            delta_ax = plt.subplot(NROWS, NCOLS, 3)\n",
    "            delta_ax.imshow(gray_prev_frame - gray_frame, cmap='gray')\n",
    "            delta_ax.set_title(f'$\\\\Delta$')\n",
    "        \n",
    "            raw_flow_ax = plt.subplot(NROWS, NCOLS, 4)\n",
    "            raw_flow_ax.imshow(flow, cmap='gray')\n",
    "            raw_flow_ax.set_title('Raw flow')\n",
    "            \n",
    "            if should_threshold:\n",
    "                flow[np.abs(flow) < flow_threshold] = 0\n",
    "                thresh_flow_ax = plt.subplot(NROWS, NCOLS, 5)\n",
    "                thresh_flow_ax.imshow(flow, cmap='gray')\n",
    "                thresh_flow_ax.set_title('Thresholded flow')\n",
    "\n",
    "            output = flow * mask\n",
    "            masked_flow_ax = plt.subplot(NROWS, NCOLS, 5 + should_threshold)\n",
    "            masked_flow_ax.imshow(output, cmap='gray')\n",
    "            masked_flow_ax.set_title('Masked flow')\n",
    "\n",
    "            if should_sign:\n",
    "                output = np.sign(output)\n",
    "                signed_flow_ax = plt.subplot(NROWS, NCOLS, 6 + should_threshold)\n",
    "                signed_flow_ax.imshow(output, cmap='gray')\n",
    "                signed_flow_ax.set_title('Signed flow')\n",
    "\n",
    "            if should_blur:\n",
    "                output = denoise(output, mask)\n",
    "                blurred_flow_ax = plt.subplot(NROWS, NCOLS, 6 + should_threshold + should_sign)\n",
    "                blurred_flow_ax.imshow(output, cmap='gray')\n",
    "                blurred_flow_ax.set_title('Denoised flow')\n",
    "\n",
    "            plt.show()"
   ]
  },
  {
   "cell_type": "code",
   "execution_count": null,
   "metadata": {
    "scrolled": false
   },
   "outputs": [],
   "source": [
    "maskers = (player_masker, floe_masker, bad_animal_masker)\n",
    "masker_names = ('Player', 'Floes', 'Bad Animals')\n",
    "modified_config = (flow_farneback, 'Farneback', 5e-5)\n",
    "\n",
    "plot_frames_step_by_step(range(130, 140), modified_config, floe_masker, 'Floes', should_sign=True, should_blur=True, )"
   ]
  },
  {
   "cell_type": "code",
   "execution_count": null,
   "metadata": {},
   "outputs": [],
   "source": [
    "frame_index = 132\n",
    "gray_prev_frame, gray_frame = states_300_0_gray[frame_index - 1], states_300_0_gray[frame_index]\n",
    "plt.imshow(gray_frame - gray_prev_frame, cmap='gray')"
   ]
  },
  {
   "cell_type": "code",
   "execution_count": null,
   "metadata": {},
   "outputs": [],
   "source": []
  },
  {
   "cell_type": "code",
   "execution_count": null,
   "metadata": {},
   "outputs": [],
   "source": []
  },
  {
   "cell_type": "code",
   "execution_count": null,
   "metadata": {},
   "outputs": [],
   "source": []
  },
  {
   "cell_type": "code",
   "execution_count": null,
   "metadata": {},
   "outputs": [],
   "source": []
  },
  {
   "cell_type": "code",
   "execution_count": null,
   "metadata": {},
   "outputs": [],
   "source": []
  },
  {
   "cell_type": "code",
   "execution_count": null,
   "metadata": {},
   "outputs": [],
   "source": []
  }
 ],
 "metadata": {
  "kernelspec": {
   "display_name": "Python 3",
   "language": "python",
   "name": "python3"
  },
  "language_info": {
   "codemirror_mode": {
    "name": "ipython",
    "version": 3
   },
   "file_extension": ".py",
   "mimetype": "text/x-python",
   "name": "python",
   "nbconvert_exporter": "python",
   "pygments_lexer": "ipython3",
   "version": "3.7.4"
  }
 },
 "nbformat": 4,
 "nbformat_minor": 2
}
