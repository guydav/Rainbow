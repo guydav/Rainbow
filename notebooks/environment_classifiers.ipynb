{
 "cells": [
  {
   "cell_type": "code",
   "execution_count": 1,
   "metadata": {},
   "outputs": [],
   "source": [
    "%load_ext autoreload\n",
    "%autoreload 2\n",
    "%matplotlib inline"
   ]
  },
  {
   "cell_type": "code",
   "execution_count": 2,
   "metadata": {},
   "outputs": [
    {
     "data": {
      "text/html": [
       "<style>.container { width:98% !important; }</style>"
      ],
      "text/plain": [
       "<IPython.core.display.HTML object>"
      ]
     },
     "metadata": {},
     "output_type": "display_data"
    }
   ],
   "source": [
    "from IPython.core.display import display, HTML\n",
    "display(HTML(\"<style>.container { width:98% !important; }</style>\"))"
   ]
  },
  {
   "cell_type": "code",
   "execution_count": 3,
   "metadata": {},
   "outputs": [],
   "source": [
    "import sys\n",
    "sys.path.append('/home/gd1279/projects/Rainbow')"
   ]
  },
  {
   "cell_type": "code",
   "execution_count": 4,
   "metadata": {},
   "outputs": [],
   "source": [
    "from __future__ import division\n",
    "import argparse\n",
    "import os\n",
    "from datetime import datetime\n",
    "import atari_py\n",
    "import numpy as np\n",
    "import torch\n",
    "import wandb\n",
    "\n",
    "from agent import Agent\n",
    "from env import make_env\n",
    "from memory import ReplayMemory\n",
    "from masker import ALL_MASKERS\n",
    "from tqdm import tqdm, trange\n",
    "import pickle\n",
    "import bz2\n",
    "\n",
    "import matplotlib\n",
    "import matplotlib.pyplot as plt\n",
    "import cv2\n",
    "import glob\n",
    "import copy\n",
    "import imageio\n",
    "from profilehooks import profile"
   ]
  },
  {
   "cell_type": "markdown",
   "metadata": {},
   "source": [
    "### Repeating arg-parse args just to make my life easier"
   ]
  },
  {
   "cell_type": "code",
   "execution_count": 5,
   "metadata": {},
   "outputs": [
    {
     "data": {
      "text/plain": [
       "_StoreAction(option_strings=['--memory-save-folder'], dest='memory_save_folder', nargs=None, const=None, default='/misc/vlgscratch4/LakeGroup/guy/rainbow_memory', type=None, choices=None, help=None, metavar=None)"
      ]
     },
     "execution_count": 5,
     "metadata": {},
     "output_type": "execute_result"
    }
   ],
   "source": [
    "parser = argparse.ArgumentParser(description='Rainbow')\n",
    "parser.add_argument('--id', type=str, default='default', help='Experiment ID')\n",
    "parser.add_argument('--seed', type=int, default=123, help='Random seed')\n",
    "parser.add_argument('--disable-cuda', action='store_true', help='Disable CUDA')\n",
    "parser.add_argument('--game', type=str, default='space_invaders', choices=atari_py.list_games(), help='ATARI game')\n",
    "parser.add_argument('--T-max', type=int, default=int(50e6), metavar='STEPS', help='Number of training steps (4x number of frames)')\n",
    "parser.add_argument('--max-episode-length', type=int, default=int(108e3), metavar='LENGTH', help='Max episode length in game frames (0 to disable)')\n",
    "parser.add_argument('--history-length', type=int, default=4, metavar='T', help='Number of consecutive states processed')\n",
    "parser.add_argument('--architecture', type=str, default='canonical', choices=['canonical', 'data-efficient'], metavar='ARCH', help='Network architecture')\n",
    "parser.add_argument('--hidden-size', type=int, default=512, metavar='SIZE', help='Network hidden size')\n",
    "parser.add_argument('--noisy-std', type=float, default=0.1, metavar='σ', help='Initial standard deviation of noisy linear layers')\n",
    "parser.add_argument('--atoms', type=int, default=51, metavar='C', help='Discretised size of value distribution')\n",
    "parser.add_argument('--V-min', type=float, default=-10, metavar='V', help='Minimum of value distribution support')\n",
    "parser.add_argument('--V-max', type=float, default=10, metavar='V', help='Maximum of value distribution support')\n",
    "parser.add_argument('--model', type=str, metavar='PARAMS', help='Pretrained model (state dict)')\n",
    "parser.add_argument('--memory-capacity', type=int, default=int(1e6), metavar='CAPACITY', help='Experience replay memory capacity')\n",
    "parser.add_argument('--replay-frequency', type=int, default=4, metavar='k', help='Frequency of sampling from memory')\n",
    "parser.add_argument('--priority-exponent', type=float, default=0.5, metavar='ω', help='Prioritised experience replay exponent (originally denoted α)')\n",
    "parser.add_argument('--priority-weight', type=float, default=0.4, metavar='β', help='Initial prioritised experience replay importance sampling weight')\n",
    "parser.add_argument('--multi-step', type=int, default=3, metavar='n', help='Number of steps for multi-step return')\n",
    "parser.add_argument('--discount', type=float, default=0.99, metavar='γ', help='Discount factor')\n",
    "parser.add_argument('--target-update', type=int, default=int(8e3), metavar='τ', help='Number of steps after which to update target network')\n",
    "parser.add_argument('--reward-clip', type=int, default=1, metavar='VALUE', help='Reward clipping (0 to disable)')\n",
    "parser.add_argument('--learning-rate', type=float, default=0.0000625, metavar='η', help='Learning rate')\n",
    "parser.add_argument('--adam-eps', type=float, default=1.5e-4, metavar='ε', help='Adam epsilon')\n",
    "parser.add_argument('--batch-size', type=int, default=32, metavar='SIZE', help='Batch size')\n",
    "parser.add_argument('--learn-start', type=int, default=int(20e3), metavar='STEPS', help='Number of steps before starting training')\n",
    "parser.add_argument('--evaluate', action='store_true', help='Evaluate only')\n",
    "parser.add_argument('--evaluation-interval', type=int, default=100000, metavar='STEPS', help='Number of training steps between evaluations')\n",
    "parser.add_argument('--evaluation-episodes', type=int, default=10, metavar='N', help='Number of evaluation episodes to average over')\n",
    "parser.add_argument('--evaluation-size', type=int, default=500, metavar='N', help='Number of transitions to use for validating Q')\n",
    "parser.add_argument('--render', action='store_true', help='Display screen (testing only)')\n",
    "parser.add_argument('--enable-cudnn', action='store_true', help='Enable cuDNN (faster but nondeterministic)')\n",
    "\n",
    "# Custom arguments I added\n",
    "\n",
    "SCRATCH_FOLDER = r'/misc/vlgscratch4/LakeGroup/guy/'\n",
    "\n",
    "DEFUALT_WANDB_ENTITY = 'augmented-frostbite'\n",
    "parser.add_argument('--wandb-entity', default=DEFUALT_WANDB_ENTITY)\n",
    "DEFAULT_WANDB_PROJECT = 'initial-experiments'\n",
    "parser.add_argument('--wandb-project', default=DEFAULT_WANDB_PROJECT)\n",
    "DEFAULT_WANDB_DIR = SCRATCH_FOLDER  # wandb creates its own folder inside\n",
    "parser.add_argument('--wandb-dir', default=DEFAULT_WANDB_DIR)\n",
    "parser.add_argument('--wandb-omit-watch', action='store_true')\n",
    "parser.add_argument('--wandb-resume', action='store_true')\n",
    "DEFAULT_MEMORY_SAVE_FOLDER = os.path.join(SCRATCH_FOLDER, 'rainbow_memory')\n",
    "parser.add_argument('--memory-save-folder', default=DEFAULT_MEMORY_SAVE_FOLDER)"
   ]
  },
  {
   "cell_type": "code",
   "execution_count": 6,
   "metadata": {},
   "outputs": [],
   "source": [
    "args = parser.parse_args([])\n",
    "\n",
    "np.random.seed(args.seed)\n",
    "# TODO: why not just fix the torch seed to the same one as np?\n",
    "# torch.manual_seed(np.random.randint(1, 10000))\n",
    "torch.manual_seed(args.seed)\n",
    "\n",
    "if torch.cuda.is_available() and not args.disable_cuda:\n",
    "  args.device = torch.device('cuda')\n",
    "  # torch.cuda.manual_seed(np.random.randint(1, 10000))\n",
    "  torch.cuda.manual_seed(args.seed)\n",
    "  torch.backends.cudnn.enabled = args.enable_cudnn\n",
    "else:\n",
    "  args.device = torch.device('cpu')\n",
    "\n",
    "args.evaluation_size = 20000\n",
    "args.game = 'frostbite'"
   ]
  },
  {
   "cell_type": "markdown",
   "metadata": {},
   "source": [
    "### Create the environment"
   ]
  },
  {
   "cell_type": "code",
   "execution_count": 7,
   "metadata": {},
   "outputs": [],
   "source": [
    "args.add_masks = False\n",
    "\n",
    "env = make_env(args)\n",
    "env.train()\n",
    "action_space = env.action_space()\n",
    "\n",
    "args.add_masks = True\n",
    "args.use_numpy_masker = True\n",
    "args.maskers = None\n",
    "masker_env = make_env(args)\n",
    "masker_env.train()\n",
    "\n",
    "args.use_numpy_masker = False\n",
    "torch_masker_env = make_env(args)\n",
    "torch_masker_env.train()"
   ]
  },
  {
   "cell_type": "code",
   "execution_count": 8,
   "metadata": {},
   "outputs": [],
   "source": [
    "@profile(immediate=True)\n",
    "def create_validation_memory(environment):\n",
    "    val_mem = ReplayMemory(args, args.evaluation_size)\n",
    "    for _ in range(args.evaluation_size):\n",
    "        state, _, _ = environment.step(np.random.randint(0, action_space))\n",
    "        val_mem.append(state, None, None, False)\n",
    "        \n",
    "    return val_mem\n"
   ]
  },
  {
   "cell_type": "markdown",
   "metadata": {},
   "source": [
    "## Profiling"
   ]
  },
  {
   "cell_type": "code",
   "execution_count": 9,
   "metadata": {
    "scrolled": false
   },
   "outputs": [
    {
     "name": "stderr",
     "output_type": "stream",
     "text": [
      "/misc/vlgscratch4/LakeGroup/guy/anaconda3/envs/rainbow/lib/python3.7/site-packages/torch/nn/functional.py:2479: UserWarning: Default upsampling behavior when mode=bilinear is changed to align_corners=False since 0.4.0. Please specify align_corners=True if the old behavior is desired. See the documentation of nn.Upsample for details.\n",
      "  \"See the documentation of nn.Upsample for details.\".format(mode))\n"
     ]
    },
    {
     "name": "stdout",
     "output_type": "stream",
     "text": [
      "\n",
      "*** PROFILER RESULTS ***\n",
      "create_validation_memory (<ipython-input-8-8c8378e5e2fd>:1)\n",
      "function called 1 times\n",
      "\n",
      "         1415749 function calls (1146911 primitive calls) in 17.440 seconds\n",
      "\n",
      "   Ordered by: cumulative time, internal time, call count\n",
      "   List reduced from 63 to 40 due to restriction <40>\n",
      "\n",
      "   ncalls  tottime  percall  cumtime  percall filename:lineno(function)\n",
      "        1    0.313    0.313   17.440   17.440 <ipython-input-8-8c8378e5e2fd>:1(create_validation_memory)\n",
      "    20000    0.870    0.000   11.264    0.001 env.py:78(step)\n",
      "    20000    0.598    0.000    5.621    0.000 memory.py:86(append)\n",
      "    20000    0.297    0.000    4.349    0.000 env.py:44(_prepare_state)\n",
      "    20000    3.259    0.000    3.259    0.000 {method 'to' of 'torch._C._TensorBase' objects}\n",
      "    20000    0.107    0.000    1.622    0.000 env.py:30(_resize)\n",
      "    20000    0.371    0.000    1.503    0.000 functional.py:2394(interpolate)\n",
      "    20000    1.339    0.000    1.339    0.000 {built-in method cat}\n",
      "    40001    1.130    0.000    1.130    0.000 {built-in method zeros}\n",
      "    20000    1.117    0.000    1.117    0.000 {built-in method stack}\n",
      "    20000    0.966    0.000    0.966    0.000 {method 'mul' of 'torch._C._TensorBase' objects}\n",
      "    20000    0.920    0.000    0.920    0.000 {method 'max' of 'torch._C._TensorBase' objects}\n",
      "    20000    0.861    0.000    0.861    0.000 {method 'div_' of 'torch._C._TensorBase' objects}\n",
      "    20000    0.109    0.000    0.742    0.000 memory.py:35(append)\n",
      "    20000    0.726    0.000    0.726    0.000 {built-in method gather}\n",
      "    20000    0.724    0.000    0.724    0.000 {built-in method torch._C._nn.upsample_bilinear2d}\n",
      "    21205    0.657    0.000    0.657    0.000 ale_python_interface.py:151(act)\n",
      "    20000    0.077    0.000    0.625    0.000 memory.py:30(update)\n",
      "287232/20000    0.520    0.000    0.520    0.000 memory.py:22(_propagate)\n",
      "    40000    0.287    0.000    0.287    0.000 {method 'unsqueeze' of 'torch._C._TensorBase' objects}\n",
      "     1606    0.003    0.000    0.284    0.000 env.py:37(_to_tensor)\n",
      "     1606    0.280    0.000    0.280    0.000 {built-in method tensor}\n",
      "    20000    0.241    0.000    0.241    0.000 {method 'randint' of 'mtrand.RandomState' objects}\n",
      "    20000    0.225    0.000    0.225    0.000 {method 'view' of 'torch._C._TensorBase' objects}\n",
      "    20000    0.180    0.000    0.180    0.000 {method 'squeeze' of 'torch._C._TensorBase' objects}\n",
      "    20000    0.167    0.000    0.167    0.000 {built-in method squeeze}\n",
      "    20000    0.140    0.000    0.140    0.000 {built-in method _warnings.warn}\n",
      "    20000    0.135    0.000    0.135    0.000 {method 'expand' of 'torch._C._TensorBase' objects}\n",
      "    20000    0.109    0.000    0.109    0.000 ale_python_interface.py:205(lives)\n",
      "      803    0.071    0.000    0.107    0.000 ale_python_interface.py:233(getScreenRGB)\n",
      "    20000    0.017    0.000    0.099    0.000 <frozen importlib._bootstrap>:1009(_handle_fromlist)\n",
      "    20000    0.082    0.000    0.082    0.000 {built-in method builtins.hasattr}\n",
      "      803    0.041    0.000    0.079    0.000 ale_python_interface.py:269(getScreenGrayscale)\n",
      "    20000    0.047    0.000    0.067    0.000 <frozen importlib._bootstrap>:416(parent)\n",
      "     1606    0.028    0.000    0.062    0.000 ctypeslib.py:526(as_ctypes)\n",
      "    20001    0.029    0.000    0.055    0.000 <string>:1(__new__)\n",
      "    20000    0.048    0.000    0.048    0.000 {method 'append' of 'collections.deque' objects}\n",
      "    21205    0.043    0.000    0.043    0.000 ale_python_interface.py:154(game_over)\n",
      "    20000    0.040    0.000    0.040    0.000 {method 'format' of 'str' objects}\n",
      "    40000    0.036    0.000    0.036    0.000 {built-in method builtins.max}\n",
      "\n",
      "\n"
     ]
    },
    {
     "data": {
      "text/plain": [
       "<memory.ReplayMemory at 0x7f97ff3aef90>"
      ]
     },
     "execution_count": 9,
     "metadata": {},
     "output_type": "execute_result"
    }
   ],
   "source": [
    "env.reset()\n",
    "create_validation_memory(env)"
   ]
  },
  {
   "cell_type": "code",
   "execution_count": 10,
   "metadata": {},
   "outputs": [
    {
     "name": "stdout",
     "output_type": "stream",
     "text": [
      "\n",
      "*** PROFILER RESULTS ***\n",
      "create_validation_memory (<ipython-input-8-8c8378e5e2fd>:1)\n",
      "function called 1 times\n",
      "\n",
      "         2136317 function calls (1867447 primitive calls) in 32.121 seconds\n",
      "\n",
      "   Ordered by: cumulative time, internal time, call count\n",
      "   List reduced from 68 to 40 due to restriction <40>\n",
      "\n",
      "   ncalls  tottime  percall  cumtime  percall filename:lineno(function)\n",
      "        1    0.320    0.320   32.121   32.121 <ipython-input-8-8c8378e5e2fd>:1(create_validation_memory)\n",
      "    20000    0.940    0.000   23.612    0.001 env.py:78(step)\n",
      "    20000    0.315    0.000   16.562    0.001 env.py:44(_prepare_state)\n",
      "    20000    0.239    0.000   11.876    0.001 env.py:150(_augment_state)\n",
      "    20000    4.498    0.000    9.730    0.000 masker.py:140(__call__)\n",
      "    20000    0.607    0.000    7.934    0.000 memory.py:86(append)\n",
      "    20000    5.515    0.000    5.515    0.000 {method 'to' of 'torch._C._TensorBase' objects}\n",
      "    40000    0.231    0.000    3.338    0.000 env.py:30(_resize)\n",
      "    40000    0.732    0.000    3.086    0.000 functional.py:2394(interpolate)\n",
      "    40000    2.627    0.000    2.627    0.000 {built-in method cat}\n",
      "    80000    2.502    0.000    2.502    0.000 {method 'any' of 'torch._C._TensorBase' objects}\n",
      "    60001    1.743    0.000    1.743    0.000 {built-in method zeros}\n",
      "    40000    1.414    0.000    1.414    0.000 {built-in method torch._C._nn.upsample_bilinear2d}\n",
      "    20000    0.994    0.000    0.994    0.000 {method 'mul' of 'torch._C._TensorBase' objects}\n",
      "    20000    0.942    0.000    0.942    0.000 {method 'max' of 'torch._C._TensorBase' objects}\n",
      "    20000    0.864    0.000    0.864    0.000 {method 'div_' of 'torch._C._TensorBase' objects}\n",
      "    20000    0.114    0.000    0.760    0.000 memory.py:35(append)\n",
      "    20000    0.758    0.000    0.758    0.000 {built-in method eq}\n",
      "    20000    0.758    0.000    0.758    0.000 {method 'all' of 'torch._C._TensorBase' objects}\n",
      "    20000    0.733    0.000    0.733    0.000 {built-in method gather}\n",
      "    21229    0.668    0.000    0.668    0.000 ale_python_interface.py:151(act)\n",
      "    20000    0.083    0.000    0.638    0.000 memory.py:30(update)\n",
      "287232/20000    0.525    0.000    0.525    0.000 memory.py:22(_propagate)\n",
      "    60000    0.488    0.000    0.488    0.000 {method 'unsqueeze' of 'torch._C._TensorBase' objects}\n",
      "    40000    0.470    0.000    0.470    0.000 {method 'view' of 'torch._C._TensorBase' objects}\n",
      "    40000    0.423    0.000    0.423    0.000 {built-in method _warnings.warn}\n",
      "    20000    0.385    0.000    0.385    0.000 {method 'mul_' of 'torch._C._TensorBase' objects}\n",
      "     1638    0.003    0.000    0.307    0.000 env.py:37(_to_tensor)\n",
      "     1638    0.304    0.000    0.304    0.000 {built-in method tensor}\n",
      "    40000    0.291    0.000    0.291    0.000 {method 'squeeze' of 'torch._C._TensorBase' objects}\n",
      "    20000    0.253    0.000    0.253    0.000 {method 'randint' of 'mtrand.RandomState' objects}\n",
      "    40000    0.035    0.000    0.186    0.000 <frozen importlib._bootstrap>:1009(_handle_fromlist)\n",
      "    20000    0.174    0.000    0.174    0.000 {built-in method squeeze}\n",
      "    40000    0.151    0.000    0.151    0.000 {built-in method builtins.hasattr}\n",
      "    20000    0.136    0.000    0.136    0.000 {method 'expand' of 'torch._C._TensorBase' objects}\n",
      "    40000    0.089    0.000    0.129    0.000 <frozen importlib._bootstrap>:416(parent)\n",
      "    20000    0.120    0.000    0.120    0.000 ale_python_interface.py:205(lives)\n",
      "      819    0.073    0.000    0.109    0.000 ale_python_interface.py:233(getScreenRGB)\n",
      "      819    0.042    0.000    0.080    0.000 ale_python_interface.py:269(getScreenGrayscale)\n",
      "    40000    0.079    0.000    0.079    0.000 {method 'format' of 'str' objects}\n",
      "\n",
      "\n"
     ]
    },
    {
     "data": {
      "text/plain": [
       "<memory.ReplayMemory at 0x7f97dc8cd390>"
      ]
     },
     "execution_count": 10,
     "metadata": {},
     "output_type": "execute_result"
    }
   ],
   "source": [
    "torch_masker_env.reset()\n",
    "create_validation_memory(torch_masker_env)"
   ]
  },
  {
   "cell_type": "code",
   "execution_count": 11,
   "metadata": {},
   "outputs": [
    {
     "data": {
      "text/plain": [
       "[torch.Size([9, 84, 84]),\n",
       " torch.Size([9, 84, 84]),\n",
       " torch.Size([9, 84, 84]),\n",
       " torch.Size([9, 84, 84])]"
      ]
     },
     "execution_count": 11,
     "metadata": {},
     "output_type": "execute_result"
    }
   ],
   "source": [
    "[x.shape for x in torch_masker_env.state_buffer]"
   ]
  },
  {
   "cell_type": "code",
   "execution_count": null,
   "metadata": {},
   "outputs": [],
   "source": [
    "[x.shape for x in env.state_buffer]"
   ]
  },
  {
   "cell_type": "code",
   "execution_count": null,
   "metadata": {},
   "outputs": [],
   "source": [
    "o = torch.rand(1, 1, 84, 84)\n",
    "a = torch.rand(1, 8, 84, 84)\n",
    "torch.cat((o, a), dim=1).shape"
   ]
  },
  {
   "cell_type": "code",
   "execution_count": null,
   "metadata": {},
   "outputs": [],
   "source": [
    "t = torch.arange(0, 24)\n",
    "t = t.reshape(2, 4, 3,)\n",
    "t"
   ]
  },
  {
   "cell_type": "code",
   "execution_count": null,
   "metadata": {},
   "outputs": [],
   "source": [
    "per_channel = np.prod(t.shape[1:])\n",
    "per_row = t.shape[2]\n",
    "\n",
    "for c in np.arange(t.shape[0]):\n",
    "    for row in np.arange(t.shape[1]):\n",
    "        for col in np.arange(t.shape[2]):\n",
    "            print(t[c, row, col] == t.view(-1)[c * per_channel + row * per_row + col])\n",
    "\n",
    "\n"
   ]
  },
  {
   "cell_type": "code",
   "execution_count": null,
   "metadata": {},
   "outputs": [],
   "source": [
    "x = torch.arange(0, 24)\n",
    "# ind = torch.tensor([4, 8, 12], dtype=torch.long)\n",
    "x[[4, 8, 12]] = 0\n",
    "x"
   ]
  },
  {
   "cell_type": "code",
   "execution_count": null,
   "metadata": {},
   "outputs": [],
   "source": [
    "y = torch.arange(0, 12)\n",
    "y = y.reshape(4, 3)\n",
    "y_ind = torch.tensor([[0, 1], [1, 2]], dtype=torch.long)"
   ]
  },
  {
   "cell_type": "code",
   "execution_count": null,
   "metadata": {},
   "outputs": [],
   "source": [
    "import masker"
   ]
  },
  {
   "cell_type": "code",
   "execution_count": null,
   "metadata": {},
   "outputs": [],
   "source": [
    "whitelist_def = masker.MaskerDefinition(None, (1, 3), (1, 2), True)\n",
    "blacklist_def = masker.MaskerDefinition(None, (1, 3), (1, 2), False)"
   ]
  },
  {
   "cell_type": "code",
   "execution_count": null,
   "metadata": {},
   "outputs": [],
   "source": [
    "from IPython.core.debugger import set_trace\n",
    "class Test:\n",
    "    def __init__(self, masker_definitions):\n",
    "        self.masker_definitions = masker_definitions\n",
    "        FULL_FRAME_SHAPE = (4, 3)\n",
    "        \n",
    "        channel_flattened_length = np.prod(FULL_FRAME_SHAPE)\n",
    "        num_rows = FULL_FRAME_SHAPE[0]\n",
    "        num_cols = row_length = FULL_FRAME_SHAPE[1]\n",
    "        self.zero_mask = torch.ones(len(self.masker_definitions) * channel_flattened_length, dtype=torch.long)\n",
    "        for chanel_index, masker_def in enumerate(self.masker_definitions):\n",
    "            channel_offset = channel_flattened_length * chanel_index\n",
    "            if masker_def.range_whitelist:\n",
    "                start_row_indices = channel_offset + \\\n",
    "                                    (torch.arange(masker_def.row_range[0]).view(-1, 1) * row_length) + \\\n",
    "                                    torch.arange(num_cols).expand(masker_def.row_range[0], -1)\n",
    "#                 set_trace()\n",
    "                self.zero_mask[start_row_indices.view(-1)] = 0\n",
    "                end_row_indices = channel_offset + \\\n",
    "                                  (torch.arange(masker_def.row_range[1], num_rows).view(-1, 1) * row_length) + \\\n",
    "                                  torch.arange(num_cols).expand(num_rows - masker_def.row_range[1], -1)\n",
    "                self.zero_mask[end_row_indices.view(-1)] = 0\n",
    "                start_col_indices = channel_offset + \\\n",
    "                                    torch.arange(masker_def.col_range[0]).view(-1, 1) + \\\n",
    "                                    (torch.arange(num_rows).expand(masker_def.col_range[0], -1) * row_length)\n",
    "                self.zero_mask[start_col_indices.view(-1)] = 0\n",
    "                end_col_indices = channel_offset + \\\n",
    "                                  torch.arange(masker_def.col_range[1], num_cols).view(-1, 1) + \\\n",
    "                                  (torch.arange(num_rows).expand(num_cols - masker_def.col_range[1], -1) * row_length)\n",
    "                self.zero_mask[end_col_indices] = 0\n",
    "\n",
    "            else:\n",
    "                combined_indices = channel_offset + \\\n",
    "                                   (torch.arange(masker_def.row_range[0], masker_def.row_range[1]).view(-1, 1) * row_length) + \\\n",
    "                                   torch.arange(masker_def.col_range[0], masker_def.col_range[1]).expand(masker_def.row_range[1] - masker_def.row_range[0], -1)\n",
    "                self.zero_mask[combined_indices] = 0\n",
    "\n",
    "    def __call__(self, frame):\n",
    "        f = frame.clone()\n",
    "        f.view(-1).mul_(self.zero_mask)\n",
    "        return f\n",
    "\n",
    "tester = Test([whitelist_def, blacklist_def])\n",
    "tester(t)"
   ]
  },
  {
   "cell_type": "code",
   "execution_count": null,
   "metadata": {},
   "outputs": [],
   "source": [
    "tester.zero_mask"
   ]
  },
  {
   "cell_type": "code",
   "execution_count": null,
   "metadata": {},
   "outputs": [],
   "source": [
    "rows = torch.tensor([0, 3])\n",
    "col_range = torch.arange(3)"
   ]
  },
  {
   "cell_type": "code",
   "execution_count": null,
   "metadata": {},
   "outputs": [],
   "source": [
    "tr = (rows.view(-1, 1) * 3) + col_range.expand((2, 3))\n",
    "tr.view(-1)"
   ]
  },
  {
   "cell_type": "code",
   "execution_count": null,
   "metadata": {},
   "outputs": [],
   "source": [
    "tc = t.clone()\n",
    "print(tc)\n",
    "tc.view(-1)[tr.view(-1)] = 0\n",
    "tc"
   ]
  },
  {
   "cell_type": "code",
   "execution_count": null,
   "metadata": {},
   "outputs": [],
   "source": [
    "cols = torch.tensor([0, 2])\n",
    "row_range = torch.arange(4)\n",
    "\n",
    "rc = cols.view(-1, 1) + (row_range.expand(2, -1) * 3)\n",
    "rc.view(-1)"
   ]
  },
  {
   "cell_type": "code",
   "execution_count": null,
   "metadata": {},
   "outputs": [],
   "source": [
    "tc = t.clone()\n",
    "print(tc)\n",
    "tc.view(-1)[rc.view(-1)] = 0\n",
    "tc"
   ]
  },
  {
   "cell_type": "code",
   "execution_count": null,
   "metadata": {},
   "outputs": [],
   "source": [
    "rows = torch.tensor([1, 2])\n",
    "cols = torch.tensor([1, 2])\n",
    "bl = (rows.view(-1, 1) * 3) + cols.expand((2, -1))\n",
    "bl"
   ]
  },
  {
   "cell_type": "code",
   "execution_count": null,
   "metadata": {},
   "outputs": [],
   "source": [
    "tc = t.clone()\n",
    "print(tc)\n",
    "tc.view(-1)[bl.view(-1)] = 0\n",
    "tc"
   ]
  },
  {
   "cell_type": "code",
   "execution_count": null,
   "metadata": {},
   "outputs": [],
   "source": []
  },
  {
   "cell_type": "code",
   "execution_count": null,
   "metadata": {},
   "outputs": [],
   "source": []
  },
  {
   "cell_type": "code",
   "execution_count": null,
   "metadata": {},
   "outputs": [],
   "source": []
  },
  {
   "cell_type": "code",
   "execution_count": null,
   "metadata": {},
   "outputs": [],
   "source": [
    "t.zero_mask"
   ]
  },
  {
   "cell_type": "code",
   "execution_count": null,
   "metadata": {},
   "outputs": [],
   "source": [
    "args.add_masks = True\n",
    "args.maskers = None\n",
    "env = make_env(args)\n",
    "env.train()\n",
    "action_space = env.action_space()"
   ]
  },
  {
   "cell_type": "code",
   "execution_count": 12,
   "metadata": {
    "scrolled": false
   },
   "outputs": [
    {
     "data": {
      "image/png": "[encoded data removed]",
      "text/plain": [
       "<Figure size 2628x288 with 9 Axes>"
      ]
     },
     "metadata": {
      "needs_background": "light"
     },
     "output_type": "display_data"
    },
    {
     "data": {
      "image/png": "[encoded data removed]",
      "text/plain": [
       "<Figure size 2628x288 with 9 Axes>"
      ]
     },
     "metadata": {
      "needs_background": "light"
     },
     "output_type": "display_data"
    },
    {
     "data": {
      "image/png": "[encoded data removed]",
      "text/plain": [
       "<Figure size 2628x288 with 9 Axes>"
      ]
     },
     "metadata": {
      "needs_background": "light"
     },
     "output_type": "display_data"
    },
    {
     "data": {
      "image/png": "[encoded data removed]",
      "text/plain": [
       "<Figure size 2628x288 with 9 Axes>"
      ]
     },
     "metadata": {
      "needs_background": "light"
     },
     "output_type": "display_data"
    },
    {
     "data": {
      "image/png": "[encoded data removed]",
      "text/plain": [
       "<Figure size 2628x288 with 9 Axes>"
      ]
     },
     "metadata": {
      "needs_background": "light"
     },
     "output_type": "display_data"
    }
   ],
   "source": [
    "NROWS = 1\n",
    "NCOLS = args.state_depth\n",
    "COL_WIDTH = 4\n",
    "ROW_HEIGHT = 4 \n",
    "WIDTH_SPACING = 0.5\n",
    "HEIGHT_SPACING = 0\n",
    "\n",
    "\n",
    "MIN_FRAME_TO_PLOT = 35\n",
    "\n",
    "torch_states = []\n",
    "np_states = []\n",
    "\n",
    "val_mem = ReplayMemory(args, args.evaluation_size)\n",
    "done = True\n",
    "for frame in range(40):\n",
    "    if done:\n",
    "        state, done = torch_masker_env.reset(), False\n",
    "\n",
    "    torch_states.append(state)\n",
    "    np_state = state.cpu().numpy()\n",
    "    np_states.append(np_state)\n",
    "    \n",
    "    if frame >= MIN_FRAME_TO_PLOT:\n",
    "        state_figure = plt.figure(figsize=(NCOLS * COL_WIDTH + WIDTH_SPACING, NROWS * ROW_HEIGHT + HEIGHT_SPACING))\n",
    "        plt.subplots_adjust(wspace=0.2)\n",
    "\n",
    "        for ax_index, state_frame in enumerate(np_state[-args.state_depth:]):\n",
    "            ax = plt.subplot(NROWS, NCOLS, ax_index + 1)\n",
    "            ax.imshow(state_frame, cmap='gray')\n",
    "        \n",
    "        plt.show()\n",
    "        \n",
    "    action = np.random.randint(0, action_space)\n",
    "    next_state, reward, done = torch_masker_env.step(action)\n",
    "    val_mem.append(state, action, reward, done)\n",
    "    state = next_state\n"
   ]
  },
  {
   "cell_type": "code",
   "execution_count": null,
   "metadata": {},
   "outputs": [],
   "source": [
    "idxs, states, actions, returns, next_states, nonterminals, weights = val_mem.sample(10)"
   ]
  },
  {
   "cell_type": "code",
   "execution_count": null,
   "metadata": {},
   "outputs": [],
   "source": [
    "t = torch.tensor([[[1, 2], [0, 3]], [[0, 4], [1, 2]]])\n",
    "print(t)\n",
    "values, indices = t.max(0)\n",
    "print(values)\n",
    "print(indices)"
   ]
  },
  {
   "cell_type": "code",
   "execution_count": null,
   "metadata": {},
   "outputs": [],
   "source": [
    "t2 = t.unsqueeze(0)\n",
    "\n",
    "torch.cat((t2, *[]))"
   ]
  },
  {
   "cell_type": "code",
   "execution_count": null,
   "metadata": {},
   "outputs": [],
   "source": []
  },
  {
   "cell_type": "code",
   "execution_count": null,
   "metadata": {},
   "outputs": [],
   "source": [
    "torch.squeeze(torch.gather(t, 0, torch.unsqueeze(indices, 0)))\n",
    "# t[torch.arange(2), indices]"
   ]
  },
  {
   "cell_type": "code",
   "execution_count": null,
   "metadata": {},
   "outputs": [],
   "source": [
    "def cat_stack(tensors):\n",
    "    if len(tensors[0].shape) == 2:\n",
    "        tensors = [torch.unsqueeze(tens, 0) for tens in tensors]\n",
    "        \n",
    "    return torch.cat(tensors, 0)"
   ]
  },
  {
   "cell_type": "code",
   "execution_count": null,
   "metadata": {},
   "outputs": [],
   "source": [
    "cat_stack([torch.zeros(5, 84, 84) for _ in range(4)]).shape"
   ]
  },
  {
   "cell_type": "code",
   "execution_count": null,
   "metadata": {},
   "outputs": [],
   "source": [
    "'num_outputs' in args"
   ]
  },
  {
   "cell_type": "code",
   "execution_count": null,
   "metadata": {},
   "outputs": [],
   "source": [
    "x = np.random.randint(0, 10, (2, 5, 4))\n",
    "y = np.random.randint(0, 10, (2, 5, 4, 3))\n",
    "print(x)\n",
    "print('Max:')\n",
    "print(x.max(0))\n",
    "max_ind = x.argmax(0)\n",
    "print('Max indices:')\n",
    "print(max_ind)\n",
    "print(max_ind.shape)"
   ]
  },
  {
   "cell_type": "code",
   "execution_count": null,
   "metadata": {},
   "outputs": [],
   "source": [
    "x[max_ind, np.arange(x.shape[1])[:,None], np.arange(x.shape[2])] == x.max(0)"
   ]
  },
  {
   "cell_type": "code",
   "execution_count": null,
   "metadata": {},
   "outputs": [],
   "source": [
    "max_y = y[max_ind, np.arange(x.shape[1])[:,None], np.arange(x.shape[2])]\n",
    "for i in range(x.shape[1]):\n",
    "    for j in range(x.shape[2]):\n",
    "        print(max_y[i, j] == y[max_ind[i, j], i, j])"
   ]
  },
  {
   "cell_type": "code",
   "execution_count": null,
   "metadata": {},
   "outputs": [],
   "source": [
    "np.arange(x.shape[0])[:,None]"
   ]
  },
  {
   "cell_type": "code",
   "execution_count": null,
   "metadata": {},
   "outputs": [],
   "source": [
    "t = (3, 4)\n",
    "np.zeros((5, *t, 2)).shape"
   ]
  },
  {
   "cell_type": "code",
   "execution_count": null,
   "metadata": {},
   "outputs": [],
   "source": []
  },
  {
   "cell_type": "code",
   "execution_count": null,
   "metadata": {},
   "outputs": [],
   "source": []
  },
  {
   "cell_type": "markdown",
   "metadata": {},
   "source": [
    "### Create the naive, doctored background frame"
   ]
  },
  {
   "cell_type": "code",
   "execution_count": null,
   "metadata": {},
   "outputs": [],
   "source": [
    "state_0, done = env.reset(), False"
   ]
  },
  {
   "cell_type": "code",
   "execution_count": null,
   "metadata": {},
   "outputs": [],
   "source": [
    "plt.imshow(state_0[3].cpu().numpy(), cmap='Greys')"
   ]
  },
  {
   "cell_type": "code",
   "execution_count": null,
   "metadata": {},
   "outputs": [],
   "source": [
    "s_0_np = state_0[3].cpu().numpy()"
   ]
  },
  {
   "cell_type": "code",
   "execution_count": null,
   "metadata": {},
   "outputs": [],
   "source": [
    "plt.imshow(s_0_np[4:12, :], cmap='Greys')"
   ]
  },
  {
   "cell_type": "code",
   "execution_count": null,
   "metadata": {},
   "outputs": [],
   "source": [
    "doctored_s_0_np = np.copy(s_0_np)\n",
    "doctored_s_0_np[4:12,4:] = doctored_s_0_np[6,10]\n",
    "doctored_s_0_np[16:31,4:] = doctored_s_0_np[20,10]\n",
    "doctored_s_0_np[31:74,4:] = doctored_s_0_np[33,10]\n",
    "plt.imshow(doctored_s_0_np, cmap='Greys')"
   ]
  },
  {
   "cell_type": "markdown",
   "metadata": {},
   "source": [
    "## Starting to play around with color-based classifiers"
   ]
  },
  {
   "cell_type": "code",
   "execution_count": null,
   "metadata": {},
   "outputs": [],
   "source": [
    "NROWS = 1\n",
    "NCOLS = 5\n",
    "COL_WIDTH = 4\n",
    "ROW_HEIGHT = 4 \n",
    "WIDTH_SPACING = 0.5\n",
    "HEIGHT_SPACING = 0\n"
   ]
  },
  {
   "cell_type": "code",
   "execution_count": null,
   "metadata": {
    "scrolled": false
   },
   "outputs": [],
   "source": [
    "MIN_FRAME_TO_PLOT = 20\n",
    "\n",
    "torch_states = []\n",
    "np_states = []\n",
    "\n",
    "\n",
    "val_mem = ReplayMemory(args, args.evaluation_size)\n",
    "done = True\n",
    "for frame in range(40):\n",
    "    \n",
    "    if done:\n",
    "        state, done = env.reset(), False\n",
    "\n",
    "    torch_states.append(state)\n",
    "    np_state = state.cpu().numpy()\n",
    "    np_states.append(np_state)\n",
    "    \n",
    "    if frame >= MIN_FRAME_TO_PLOT:\n",
    "        plt.imshow(np_state[3], cmap='gray'); plt.show()\n",
    "        \n",
    "    next_state, _, done = env.step(np.random.randint(0, action_space))\n",
    "    val_mem.append(state, None, None, done)\n",
    "    state = next_state"
   ]
  },
  {
   "cell_type": "code",
   "execution_count": null,
   "metadata": {},
   "outputs": [],
   "source": [
    "NCOLS = 2\n",
    "NROWS = 1\n",
    "INDEX = 20\n",
    "\n",
    "state = np_states[INDEX][3]\n",
    "\n",
    "for x in np.unique(state):\n",
    "    count = np.sum(state == x)\n",
    "#     print(x, count)\n",
    "    if count > 100:\n",
    "        state_figure = plt.figure(figsize=(NCOLS * COL_WIDTH + WIDTH_SPACING, NROWS * ROW_HEIGHT + HEIGHT_SPACING))\n",
    "        plt.subplots_adjust(wspace=0.2)\n",
    "        \n",
    "        plt.suptitle(f'For x = {x:.4f}, we have {count} pixels')\n",
    "        \n",
    "        state_ax = plt.subplot(NROWS, NCOLS, 1)\n",
    "        state_ax.imshow(state, cmap='Greys')\n",
    "        \n",
    "        mask_ax = plt.subplot(NROWS, NCOLS, 2)\n",
    "        mask_ax.imshow((state == x).astype(np.uint8), cmap='Greys')\n",
    "        "
   ]
  },
  {
   "cell_type": "code",
   "execution_count": null,
   "metadata": {},
   "outputs": [],
   "source": [
    "plt.imshow(state[35:45, 5:], cmap='Greys', norm=matplotlib.colors.Normalize(0, 1))"
   ]
  },
  {
   "cell_type": "code",
   "execution_count": null,
   "metadata": {},
   "outputs": [],
   "source": [
    "np.unique(state[35:45, 5:])"
   ]
  },
  {
   "cell_type": "code",
   "execution_count": null,
   "metadata": {},
   "outputs": [],
   "source": [
    "for x in np.unique(state[35:45, 5:]):\n",
    "    count = np.sum(state[35:45, 5:] == x)\n",
    "    print(x, count)\n"
   ]
  },
  {
   "cell_type": "code",
   "execution_count": null,
   "metadata": {},
   "outputs": [],
   "source": [
    "raw_screen = np.squeeze(env.ale.getScreenGrayscale())"
   ]
  },
  {
   "cell_type": "code",
   "execution_count": null,
   "metadata": {},
   "outputs": [],
   "source": [
    "plt.imshow(raw_screen, cmap='Greys')"
   ]
  },
  {
   "cell_type": "code",
   "execution_count": null,
   "metadata": {},
   "outputs": [],
   "source": [
    "for x in np.unique(raw_screen):\n",
    "    count = np.sum(raw_screen == x)\n",
    "    print(x, count)"
   ]
  },
  {
   "cell_type": "code",
   "execution_count": null,
   "metadata": {
    "scrolled": false
   },
   "outputs": [],
   "source": [
    "for x in np.unique(raw_screen):\n",
    "    count = np.sum(raw_screen == x)\n",
    "#     print(x, count)\n",
    "    if count > 250:\n",
    "        state_figure = plt.figure(figsize=(NCOLS * COL_WIDTH + WIDTH_SPACING, NROWS * ROW_HEIGHT + HEIGHT_SPACING))\n",
    "        plt.subplots_adjust(wspace=0.2)\n",
    "        \n",
    "        plt.suptitle(f'For x = {x:.4f}, we have {count} pixels')\n",
    "        \n",
    "        state_ax = plt.subplot(NROWS, NCOLS, 1)\n",
    "        state_ax.imshow(raw_screen, cmap='Greys')\n",
    "        \n",
    "        mask_ax = plt.subplot(NROWS, NCOLS, 2)\n",
    "        mask_ax.imshow((raw_screen == x).astype(np.uint8), cmap='Greys')"
   ]
  },
  {
   "cell_type": "markdown",
   "metadata": {},
   "source": [
    "## Starting to mess around with the saved state traces"
   ]
  },
  {
   "cell_type": "code",
   "execution_count": null,
   "metadata": {},
   "outputs": [],
   "source": [
    "def load_saved_states(seed, num=0, name='baseline-rainbow', color=False):\n",
    "    state_type = color and 'color' or 'gray'\n",
    "    path_glob = os.path.join('../results', f'{name}-{seed}', 'evaluation/states', f'*{num}-{state_type}.pickle')\n",
    "    path = glob.glob(path_glob)[0]\n",
    "    \n",
    "    with open(path, 'rb') as pickle_file:\n",
    "        return pickle.load(pickle_file)\n",
    "                        "
   ]
  },
  {
   "cell_type": "code",
   "execution_count": null,
   "metadata": {},
   "outputs": [],
   "source": [
    "states_300_0_gray = load_saved_states(300)\n",
    "print(states_300_0_gray.shape)\n",
    "\n",
    "states_300_0_color = load_saved_states(300, color=True)\n",
    "states_300_0_color.shape"
   ]
  },
  {
   "cell_type": "code",
   "execution_count": null,
   "metadata": {},
   "outputs": [],
   "source": [
    "frame = states_300_0_gray[100]\n",
    "tens = torch.tensor(frame, dtype=torch.float32).unsqueeze(0).unsqueeze(0)\n",
    "small_frame = cv2.resize(frame, (84, 84), interpolation=cv2.INTER_LINEAR)\n",
    "small_tens = torch.nn.functional.interpolate(tens, size=(84, 84), mode='bilinear')\n",
    "small_tens.shape\n",
    "small_tens_np = small_tens.numpy().squeeze()"
   ]
  },
  {
   "cell_type": "code",
   "execution_count": null,
   "metadata": {},
   "outputs": [],
   "source": [
    "np.allclose(small_tens_np, small_frame.astype(np.float32))"
   ]
  },
  {
   "cell_type": "code",
   "execution_count": null,
   "metadata": {},
   "outputs": [],
   "source": [
    "np.max(np.abs(small_tens_np - small_frame.astype(np.float32)))"
   ]
  },
  {
   "cell_type": "markdown",
   "metadata": {},
   "source": [
    "## Let's print out every 50th state to get some exemplars"
   ]
  },
  {
   "cell_type": "code",
   "execution_count": null,
   "metadata": {
    "scrolled": true
   },
   "outputs": [],
   "source": [
    "for i in range(0, 2300, 50):\n",
    "    state_figure = plt.figure(figsize=(NCOLS * COL_WIDTH + WIDTH_SPACING, NROWS * ROW_HEIGHT + HEIGHT_SPACING))\n",
    "    plt.subplots_adjust(wspace=0.2)\n",
    "\n",
    "    plt.suptitle(f'Frame {i}')\n",
    "\n",
    "    gray_ax = plt.subplot(NROWS, NCOLS, 1)\n",
    "    gray_ax.imshow(states_300_0_gray[i], cmap='gray')\n",
    "\n",
    "    color_ax = plt.subplot(NROWS, NCOLS, 2)\n",
    "    color_ax.imshow(states_300_0_color[i])\n",
    "    \n",
    "    plt.show()"
   ]
  },
  {
   "cell_type": "markdown",
   "metadata": {},
   "source": [
    "## Generate color lists for each semantic type of objects"
   ]
  },
  {
   "cell_type": "code",
   "execution_count": null,
   "metadata": {},
   "outputs": [],
   "source": [
    "player_colors = (110, 116, 129, 148, )\n",
    "# masking the player won't work by color, but perhaps by color + shape around?\n",
    "floe_colors = (130, 214)\n",
    "# 153 also captures the score, so perhaps that needs to be better spatially limited\n",
    "# 148 also captures some of the player, so perhaps we need to mutually exclude with where we infer the player to be?\n",
    "# 214 captures both the bear in the black background and the white floes, so another spatial limitation?\n",
    "bad_animal_colors = (153, # birds\n",
    "                     148, # crabs\n",
    "                     111, # bear in white background\n",
    "                     193, # angry yellow things\n",
    "                     214, # bear in black background\n",
    "                    ) \n",
    "good_animal_colors = (169, # fish\n",
    "                     )\n",
    "\n",
    "# The door is harder to capture straight up by color, as it matches with a black row below the snow\n",
    "# Maybe this would be trivial in color?"
   ]
  },
  {
   "cell_type": "code",
   "execution_count": null,
   "metadata": {
    "scrolled": false
   },
   "outputs": [],
   "source": [
    "index = 1050\n",
    "\n",
    "min_count = 1\n",
    "max_count = 200\n",
    "\n",
    "frame_row_min = 8\n",
    "frame_row_max = -25\n",
    "\n",
    "frame_col_min = 8\n",
    "frame_col_max = None\n",
    "\n",
    "full_frame = states_300_0_gray[index]\n",
    "frame = full_frame[frame_row_min:frame_row_max, frame_col_min:frame_col_max]\n",
    "\n",
    "for x in np.unique(frame):\n",
    "    count = np.sum(frame == x)\n",
    "#     print(x, count)\n",
    "    if min_count < count < max_count:\n",
    "        state_figure = plt.figure(figsize=(NCOLS * COL_WIDTH + WIDTH_SPACING, NROWS * ROW_HEIGHT + HEIGHT_SPACING))\n",
    "        plt.subplots_adjust(wspace=0.2)\n",
    "        \n",
    "        plt.suptitle(f'For x = {x:.4f}, we have {count} pixels')\n",
    "        \n",
    "        state_ax = plt.subplot(NROWS, NCOLS, 1)\n",
    "        state_ax.imshow(frame, cmap='gray')\n",
    "        \n",
    "        mask_ax = plt.subplot(NROWS, NCOLS, 2)\n",
    "        mask_ax.imshow((frame == x).astype(np.uint8), cmap='gray')"
   ]
  },
  {
   "cell_type": "markdown",
   "metadata": {},
   "source": [
    "## Same thing but in color"
   ]
  },
  {
   "cell_type": "code",
   "execution_count": null,
   "metadata": {
    "scrolled": false
   },
   "outputs": [],
   "source": [
    "index = 200\n",
    "\n",
    "frame_row_min = 8\n",
    "frame_row_max = -25\n",
    "\n",
    "frame_col_min = 8\n",
    "frame_col_max = None\n",
    "\n",
    "min_count = 2000\n",
    "max_count = 200000\n",
    "\n",
    "full_frame = states_300_0_color[index]\n",
    "frame = full_frame[frame_row_min:frame_row_max, frame_col_min:frame_col_max, :]\n",
    "# frame = full_frame\n",
    "\n",
    "flattened = frame.reshape(-1, 3)\n",
    "\n",
    "for x in np.unique(flattened, axis=0):\n",
    "    count = np.sum(np.equal(flattened, x.reshape(1, 3)))\n",
    "#     print(x, count)\n",
    "    if min_count < count < max_count:\n",
    "        state_figure = plt.figure(figsize=(NCOLS * COL_WIDTH + WIDTH_SPACING, NROWS * ROW_HEIGHT + HEIGHT_SPACING))\n",
    "        plt.subplots_adjust(wspace=0.2)\n",
    "        \n",
    "        plt.suptitle(f'For x = {x}, we have {count} pixels')\n",
    "        \n",
    "        state_ax = plt.subplot(NROWS, NCOLS, 1)\n",
    "        state_ax.imshow(frame)\n",
    "        \n",
    "        mask_ax = plt.subplot(NROWS, NCOLS, 2)\n",
    "        mask_ax.imshow((np.all(np.equal(frame, x.reshape(1, 1, 3)), axis=2)).astype(np.uint8), cmap='gray')"
   ]
  },
  {
   "cell_type": "code",
   "execution_count": null,
   "metadata": {},
   "outputs": [],
   "source": [
    "frame_row_min = 8\n",
    "frame_row_max = -25\n",
    "\n",
    "frame_col_min = 8\n",
    "frame_col_max = None\n",
    "\n",
    "subframe_shape = (177, 152)\n",
    "full_frame_shape = (210, 160)\n",
    "\n",
    "player_colors = ((162, 98, 33),\n",
    "                 (162, 162, 42),\n",
    "                 (198, 108, 58),\n",
    "                 (142, 142, 142) # also captures the igloo\n",
    "                )\n",
    "\n",
    "unvisited_floe_colors = ((214, 214, 214), # unvisited_floes\n",
    "                        )\n",
    "visited_floe_colors = ((84, 138, 210), # visited floes\n",
    "                      )\n",
    "land_colors = ((192, 192, 192), # the lighter ground in earlier levels\n",
    "               (74, 74, 74), # the darker ground in later levels\n",
    "              ) \n",
    "\n",
    "land_row_min = 42\n",
    "land_row_max = 78\n",
    "land_row_range = (land_row_min, land_row_max)\n",
    "\n",
    "bad_animal_colors = ((132, 144, 252), # birds -- also captures the score!\n",
    "                     (213, 130, 74), # crabs -- no more conflict with the player\n",
    "                     (210, 210, 64), # angry yellow things\n",
    "                    ) \n",
    "\n",
    "bear_colors = ((111, 111, 111), # bear in white background\n",
    "               (214, 214, 214), # bear in black background -- same as the unvisited floes\n",
    "              )\n",
    "\n",
    "good_animal_colors = ((111, 210, 111), # fish\n",
    "                     )\n",
    "\n",
    "animal_subframe_row_min = 70\n",
    "\n",
    "animal_full_frame_row_min = 78\n",
    "animal_full_frame_row_max = 185\n",
    "animal_full_frame_row_range = (animal_full_frame_row_min, animal_full_frame_row_max)\n",
    "\n",
    "igloo_colors = ((142, 142, 142),\n",
    "                # isolating the igloo door is harder - its black and orange colors both conflict\n",
    "                )\n",
    "\n",
    "igloo_subframe_row_min = 26\n",
    "igloo_subframe_row_max = 47\n",
    "igloo_subframe_row_range = (igloo_subframe_row_min, igloo_subframe_row_max)\n",
    "\n",
    "igloo_subframe_col_min = 104\n",
    "igloo_subframe_col_max = 136\n",
    "igloo_subframe_col_range = (igloo_subframe_col_min, igloo_subframe_col_max)\n",
    "\n",
    "igloo_full_frame_row_min = 35\n",
    "igloo_full_frame_row_max = 55\n",
    "igloo_full_frame_row_range = (igloo_full_frame_row_min, igloo_full_frame_row_max)\n",
    "\n",
    "igloo_full_frame_col_min = 112\n",
    "igloo_full_frame_col_max = 144\n",
    "igloo_full_frame_col_range = (igloo_full_frame_col_min, igloo_full_frame_col_max)\n",
    "\n",
    "# The igloo's black also conflicts with a black line below the ice, so we to do the igloo we would location\n",
    "# Same with the birds, which conflict with the score\n",
    "# Player also conflict with igloo, which I guess we could also resolve with location \n",
    "\n"
   ]
  },
  {
   "cell_type": "markdown",
   "metadata": {},
   "source": [
    "## Writing a class to do this sort of filtering"
   ]
  },
  {
   "cell_type": "code",
   "execution_count": null,
   "metadata": {},
   "outputs": [],
   "source": [
    "FULL_FRAME_SHAPE = (210, 160)\n",
    "\n",
    "\n",
    "class ColorFilterMasker:\n",
    "    def __init__(self, filter_colors, row_range=(None, None), col_range=(None, None), range_whitelist=False):\n",
    "        self.filter_colors = np.stack([np.array(x).reshape(1, 1, 3) for x in filter_colors], axis=3)\n",
    "        self.row_range = row_range\n",
    "        self.col_range = col_range\n",
    "        self.range_whitelist = range_whitelist\n",
    "        \n",
    "    def __call__(self, frame):\n",
    "        \"\"\"\n",
    "        Assumes the frame is of the form [h, w, c]\n",
    "        \"\"\"\n",
    "        mask = np.any(np.all(np.equal(np.expand_dims(frame, 3), self.filter_colors), axis=2), axis=2).astype(np.uint8)\n",
    "            \n",
    "        if self.range_whitelist:\n",
    "            mask[np.r_[0:self.row_range[0], self.row_range[1]:mask.shape[0]], :] = 0\n",
    "            mask[:, np.r_[0:self.col_range[0], self.col_range[1]:mask.shape[1]]] = 0\n",
    "\n",
    "        else:\n",
    "            mask[self.row_range[0]:self.row_range[1],self.col_range[0]:self.col_range[1]] = 0\n",
    "                \n",
    "        return mask"
   ]
  },
  {
   "cell_type": "code",
   "execution_count": null,
   "metadata": {},
   "outputs": [],
   "source": [
    "player_masker = ColorFilterMasker(player_colors, igloo_full_frame_row_range, \n",
    "                                  igloo_full_frame_col_range)\n",
    "unvisited_floe_masker = ColorFilterMasker(unvisited_floe_colors, animal_full_frame_row_range, \n",
    "                                          (0, full_frame_shape[1]), range_whitelist=True)\n",
    "visited_floe_masker = ColorFilterMasker(visited_floe_colors, animal_full_frame_row_range, \n",
    "                                        (0, full_frame_shape[1]), range_whitelist=True)\n",
    "land_masker =  ColorFilterMasker(land_colors, land_row_range, \n",
    "                                 (0, full_frame_shape[1]), range_whitelist=True)\n",
    "bad_animal_masker = ColorFilterMasker(bad_animal_colors, animal_full_frame_row_range, \n",
    "                                      (0, full_frame_shape[1]), range_whitelist=True)\n",
    "good_animal_masker = ColorFilterMasker(good_animal_colors, animal_full_frame_row_range, \n",
    "                                       (0, full_frame_shape[1]), range_whitelist=True)\n",
    "bear_filter = ColorFilterMasker(bear_colors, (0, animal_full_frame_row_min), \n",
    "                                (0, full_frame_shape[1]), range_whitelist=True)\n",
    "igloo_masker = ColorFilterMasker(igloo_colors, igloo_full_frame_row_range, \n",
    "                                 igloo_full_frame_col_range, range_whitelist=True)\n"
   ]
  },
  {
   "cell_type": "markdown",
   "metadata": {},
   "source": [
    "### Printing out a frame and all of its masks"
   ]
  },
  {
   "cell_type": "code",
   "execution_count": null,
   "metadata": {
    "scrolled": true
   },
   "outputs": [],
   "source": [
    "NCOLS = 7\n",
    "\n",
    "for frame_index in range(0, 2300, 50):\n",
    "    state_figure = plt.figure(figsize=(NCOLS * COL_WIDTH + WIDTH_SPACING, NROWS * ROW_HEIGHT + HEIGHT_SPACING))\n",
    "    plt.subplots_adjust(wspace=0.2)\n",
    "    plt.suptitle(f'Frame {frame_index}')\n",
    "    \n",
    "    full_frame = states_300_0_color[frame_index]\n",
    "    # frame = full_frame[frame_row_min:frame_row_max, frame_col_min:frame_col_max, :]\n",
    "    frame = full_frame\n",
    "\n",
    "    color_ax = plt.subplot(NROWS, NCOLS, 1)\n",
    "    color_ax.imshow(frame)\n",
    "    \n",
    "    for ax_index, (masker, name) in enumerate(zip((player_masker, floe_masker, bad_animal_masker, \n",
    "                                                   good_animal_masker, bear_filter, igloo_masker),\n",
    "                                                  ('Player', 'Floes', 'Bad Animals', \n",
    "                                                   'Good Animals', 'Bears', 'Igloo'))):\n",
    "        ax = plt.subplot(NROWS, NCOLS, ax_index + 2)\n",
    "        ax.set_title(name)\n",
    "        ax.imshow(masker(frame), cmap='gray')\n",
    "    \n",
    "    plt.show()"
   ]
  },
  {
   "cell_type": "markdown",
   "metadata": {},
   "source": [
    "## Plotting a frame, and all of its masked combined"
   ]
  },
  {
   "cell_type": "code",
   "execution_count": null,
   "metadata": {
    "scrolled": false
   },
   "outputs": [],
   "source": [
    "NCOLS = 2\n",
    "\n",
    "for frame_index in range(0, 2300, 50):\n",
    "    state_figure = plt.figure(figsize=(NCOLS * COL_WIDTH + WIDTH_SPACING, NROWS * ROW_HEIGHT + HEIGHT_SPACING))\n",
    "    plt.subplots_adjust(wspace=0.2)\n",
    "    plt.suptitle(f'Frame {frame_index}')\n",
    "    \n",
    "    full_frame = states_300_0_color[frame_index]\n",
    "    # frame = full_frame[frame_row_min:frame_row_max, frame_col_min:frame_col_max, :]\n",
    "    frame = full_frame\n",
    "\n",
    "    color_ax = plt.subplot(NROWS, NCOLS, 1)\n",
    "    color_ax.imshow(frame)\n",
    "    \n",
    "    combined_mask = np.zeros_like(frame)\n",
    "    \n",
    "    for ax_index, (masker, color) in enumerate(zip((player_masker, unvisited_floe_masker, \n",
    "                                                    visited_floe_masker, land_masker, \n",
    "                                                    bad_animal_masker,good_animal_masker, \n",
    "                                                    bear_filter, igloo_masker),\n",
    "                                                   ((255, 128, 0), (224, 224, 224), \n",
    "                                                    (124, 185, 232), (103, 103, 103),\n",
    "                                                    (255, 0, 0), (102, 255, 178), \n",
    "                                                    (102, 51, 0), (0, 0, 255) ))\n",
    "                                             ):\n",
    "        mask = np.expand_dims(masker(frame), 2)\n",
    "        combined_mask += mask * np.array(color).astype(np.uint8)\n",
    "        \n",
    "    mask_ax = plt.subplot(NROWS, NCOLS, 2)\n",
    "    mask_ax.imshow(combined_mask)\n",
    "    \n",
    "    plt.show()"
   ]
  },
  {
   "cell_type": "markdown",
   "metadata": {},
   "source": [
    "\n",
    "## Now with resizing back down to (84, 84)"
   ]
  },
  {
   "cell_type": "code",
   "execution_count": null,
   "metadata": {
    "scrolled": true
   },
   "outputs": [],
   "source": [
    "NCOLS = 7\n",
    "\n",
    "def resize_func(img, size=(84, 84)):\n",
    "    return cv2.resize(img, size, interpolation=cv2.INTER_LINEAR)\n",
    "    \n",
    "\n",
    "for frame_index in range(0, 2300, 50):\n",
    "    state_figure = plt.figure(figsize=(NCOLS * COL_WIDTH + WIDTH_SPACING, NROWS * ROW_HEIGHT + HEIGHT_SPACING))\n",
    "    plt.subplots_adjust(wspace=0.2)\n",
    "    plt.suptitle(f'Frame {frame_index}')\n",
    "    \n",
    "    full_frame = states_300_0_color[frame_index]\n",
    "    # frame = full_frame[frame_row_min:frame_row_max, frame_col_min:frame_col_max, :]\n",
    "    frame = full_frame\n",
    "\n",
    "    color_ax = plt.subplot(NROWS, NCOLS, 1)\n",
    "    color_ax.imshow(resize_func(frame))\n",
    "    \n",
    "    for ax_index, (masker, name) in enumerate(zip((player_masker, floe_masker, bad_animal_masker, \n",
    "                                                   good_animal_masker, bear_filter, igloo_masker),\n",
    "                                                  ('Player', 'Floes', 'Bad Animals', \n",
    "                                                   'Good Animals', 'Bears', 'Igloo'))):\n",
    "        ax = plt.subplot(NROWS, NCOLS, ax_index + 2)\n",
    "        ax.set_title(name)\n",
    "        ax.imshow(resize_func(masker(frame).astype(np.uint8)), cmap='gray')\n",
    "    \n",
    "    plt.show()"
   ]
  },
  {
   "cell_type": "markdown",
   "metadata": {},
   "source": [
    "### Saving a gif from these"
   ]
  },
  {
   "cell_type": "code",
   "execution_count": null,
   "metadata": {},
   "outputs": [],
   "source": [
    "combined_masks = []\n",
    "\n",
    "for frame in states_300_0_color:    \n",
    "    combined_mask = np.zeros_like(frame)\n",
    "    \n",
    "    for ax_index, (masker, color) in enumerate(zip((player_masker, unvisited_floe_masker, \n",
    "                                                    visited_floe_masker, land_masker, \n",
    "                                                    bad_animal_masker,good_animal_masker, \n",
    "                                                    bear_filter, igloo_masker),\n",
    "                                                   ((255, 128, 0), (224, 224, 224), \n",
    "                                                    (124, 185, 232), (103, 103, 103),\n",
    "                                                    (255, 0, 0), (102, 255, 178), \n",
    "                                                    (102, 51, 0), (0, 0, 255) ))\n",
    "                                             ):\n",
    "        mask = np.expand_dims(masker(frame), 2)\n",
    "        combined_mask += mask * np.array(color).astype(np.uint8)\n",
    "        \n",
    "    combined_masks.append(resize_func(combined_mask))\n",
    "    \n",
    "imageio.mimwrite(f'fully-masked-updated.gif', combined_masks, fps=15)"
   ]
  },
  {
   "cell_type": "markdown",
   "metadata": {},
   "source": [
    "## Test combining with the optical flow\n",
    "\n",
    "Particularly, make sure to look at frames 135-138, to see what happens when floes change colors\n",
    "\n",
    "### Strategy:\n",
    "* For each mask and direction: \n",
    "    * Mask out the flow\n",
    "    * Use a convolution to to smoothen\n",
    "    * Remask the smoothened flow\n",
    "* Do we want to take the sign? Check with and without"
   ]
  },
  {
   "cell_type": "code",
   "execution_count": null,
   "metadata": {},
   "outputs": [],
   "source": [
    "import sys\n",
    "pyflow_folder = '/home/gd1279/projects/pyflow'\n",
    "if pyflow_folder not in sys.path: sys.path.append(pyflow_folder)\n",
    "import pyflow\n",
    "import pyoptflow"
   ]
  },
  {
   "cell_type": "code",
   "execution_count": null,
   "metadata": {},
   "outputs": [],
   "source": [
    "FARNEBACK_PARAMS = dict(\n",
    "    pyr_scale=0.5,\n",
    "    levels=3,\n",
    "    winsize=5, # 15,\n",
    "    iterations=7, # 3,\n",
    "    poly_n=3, # 5,\n",
    "    poly_sigma=0.8, # 1.2,\n",
    "    flags=0, # cv2.OPTFLOW_USE_INITIAL_FLOW\n",
    ")\n",
    "\n",
    "FARNEBACK_FLOW_TOLERANCE = 1e-5\n",
    "\n",
    "def resize_func(img, size=(84, 84)):\n",
    "    return cv2.resize(img, size, interpolation=cv2.INTER_LINEAR)\n",
    "\n",
    "def flow_farneback(x_0, x_1, **kwargs):\n",
    "    params = copy.copy(FARNEBACK_PARAMS)\n",
    "    for key in kwargs:\n",
    "        params[key] = kwargs[key]\n",
    "            \n",
    "    flow = cv2.calcOpticalFlowFarneback(x_0.astype(np.float) / 255, \n",
    "                                        x_1.astype(np.float) / 255, \n",
    "                                        None, **params)\n",
    "    return flow[:,:,0], flow[:,:,1]\n",
    "\n",
    "\n",
    "PYFLOW_PARAMS = dict(\n",
    "    alpha=0.008, # 0.012,\n",
    "    ratio=0.75,\n",
    "    minWidth=5, # 20,\n",
    "    nOuterFPIterations=7,\n",
    "    nInnerFPIterations=1,\n",
    "    nSORIterations=30,\n",
    "    colType=1,  # 0 or default:RGB, 1:GRAY (but pass gray image with shape (h,w,1))\n",
    ")\n",
    "\n",
    "PYFLOW_FLOW_TOLERANCE = 0.75\n",
    "\n",
    "def flow_pyflow(x_0, x_1, **kwargs):\n",
    "    params = copy.copy(PYFLOW_PARAMS)\n",
    "    for key in kwargs:\n",
    "        params[key] = kwargs[key]\n",
    "            \n",
    "    x_flow, y_flow, _ =  pyflow.coarse2fine_flow(np.expand_dims(x_0.astype(np.float) / 255, 2), \n",
    "                                                 np.expand_dims(x_1.astype(np.float) / 255, 2), \n",
    "                                                 **params)\n",
    "    return x_flow, y_flow\n",
    "\n",
    "\n",
    "PYOPTFLOW_PARAMS = dict(\n",
    "    alpha=0.5, # 1.0\n",
    "    Niter=100,\n",
    ")\n",
    "\n",
    "\n",
    "def flow_pyoptflow(x_0, x_1, **kwargs):\n",
    "    params = copy.copy(PYOPTFLOW_PARAMS)\n",
    "    for key in kwargs:\n",
    "        params[key] = kwargs[key]\n",
    "            \n",
    "    return pyoptflow.HornSchunck(x_0.astype(np.float) / 255, x_1.astype(np.float) / 255, **params)\n",
    "\n",
    "\n",
    "PYOPTFLOW_FLOW_TOLERANCE = 0.1\n",
    "\n",
    "\n",
    "FARNEBACK_CONFIG = (flow_farneback, 'Farneback', FARNEBACK_FLOW_TOLERANCE)\n",
    "PYFLOW_CONFIG = (flow_pyflow, 'pyflow', PYFLOW_FLOW_TOLERANCE)\n",
    "PYOPTFLOW_CONFIG = (flow_pyoptflow, 'pyoptflow', PYOPTFLOW_FLOW_TOLERANCE)\n",
    "\n",
    "\n",
    "def make_blur_func(kernel_size):\n",
    "    def blur_denoise(img, mask):\n",
    "        return np.multiply(cv2.blur(img, kernel_size), mask)\n",
    "    \n",
    "    return blur_denoise\n",
    "\n",
    "denoise = make_blur_func((13, 9))\n",
    "\n",
    "\n",
    "def flow_mask_combination(mask, flow_x, flow_y, threshold, should_threshold=True, should_sign=False, should_blur=False):\n",
    "    output_flows = []\n",
    "    for flow in (flow_x, flow_y):\n",
    "        flow = np.copy(flow)\n",
    "        \n",
    "        if should_threshold:\n",
    "            flow[np.abs(flow) < threshold] = 0\n",
    "        \n",
    "        output = flow * mask\n",
    "        \n",
    "        if should_sign:\n",
    "            output = np.sign(output)\n",
    "        \n",
    "        if should_blur:\n",
    "            output = denoise(output, mask)\n",
    "        \n",
    "            \n",
    "        output_flows.append(output)\n",
    "\n",
    "    return output_flows\n",
    "\n",
    "def plot_with_flows(frame_indices, flow_config, maskers, masker_names, add_colorbars=False, should_threshold=True, should_sign=False, should_blur=False):\n",
    "    NROWS = 1\n",
    "    NCOLS = 3 + 2 * len(maskers)\n",
    "    COL_WIDTH = 4\n",
    "    ROW_HEIGHT = 4 \n",
    "    WIDTH_SPACING = 0.5\n",
    "    HEIGHT_SPACING = 0\n",
    "    \n",
    "    flow_func, flow_name, flow_threshold = flow_config\n",
    "    \n",
    "    for frame_index in frame_indices:\n",
    "        figure = plt.figure(figsize=(NCOLS * COL_WIDTH + WIDTH_SPACING, NROWS * ROW_HEIGHT + HEIGHT_SPACING))\n",
    "        plt.subplots_adjust(wspace=0.2)\n",
    "        plt.suptitle(f'Frame {frame_index}')\n",
    "\n",
    "        full_color_frame = states_300_0_color[frame_index]\n",
    "        gray_prev_frame, gray_frame = resize_func(states_300_0_gray[frame_index - 1]), resize_func(states_300_0_gray[frame_index])\n",
    "\n",
    "        for i, img in enumerate((gray_prev_frame, gray_frame)):\n",
    "            ax = plt.subplot(NROWS, NCOLS, i + 1)\n",
    "            ax.imshow(img, cmap='gray')\n",
    "            ax.set_title(f'Frame {frame_index + i}')\n",
    "\n",
    "        # Plot subtraction between them\n",
    "        ax = plt.subplot(NROWS, NCOLS, 3)\n",
    "        ax.imshow(gray_prev_frame - gray_frame, cmap='gray')\n",
    "        ax.set_title(f'$\\\\Delta$')\n",
    "        \n",
    "        flow_x, flow_y = flow_func(gray_prev_frame, gray_frame)\n",
    "        \n",
    "        for masker_index, (masker, name) in enumerate(zip(maskers, masker_names)):\n",
    "            mask = resize_func(masker(full_color_frame).astype(np.uint8))\n",
    "            masked_flow_x, masked_flow_y = flow_mask_combination(mask, flow_x, flow_y, flow_threshold, should_threshold, should_blur, should_sign)\n",
    "            \n",
    "            normalizer = matplotlib.colors.Normalize(min(np.min(flow_x), np.min(flow_y)), \n",
    "                                                     max(np.max(flow_x), np.max(flow_y)))\n",
    "\n",
    "            x_ax = plt.subplot(NROWS, NCOLS, 4 + (masker_index * 2))\n",
    "            x_res = x_ax.imshow(masked_flow_x, cmap='gray', norm=normalizer)\n",
    "            if add_colorbars: figure.colorbar(x_res, ax=x_ax)\n",
    "            x_ax.set_title(f'{name} x-flow')\n",
    "\n",
    "            y_ax = plt.subplot(NROWS, NCOLS, 5 + (masker_index * 2))\n",
    "            y_res = y_ax.imshow(masked_flow_y, cmap='gray', norm=normalizer)\n",
    "            if add_colorbars: figure.colorbar(y_res, ax=y_ax)\n",
    "            y_ax.set_title(f'{name} y-flow')\n",
    "\n",
    "        plt.show()"
   ]
  },
  {
   "cell_type": "code",
   "execution_count": null,
   "metadata": {
    "scrolled": false
   },
   "outputs": [],
   "source": [
    "maskers = (player_masker, floe_masker, bad_animal_masker)\n",
    "masker_names = ('Player', 'Floes', 'Bad Animals')\n",
    "modified_config = (flow_farneback, 'Farneback', 5e-5)\n",
    "\n",
    "plot_with_flows(range(130, 140), modified_config, maskers, masker_names, should_sign=True) #, should_blur=True, should_sign=True) #, should_sign=True)"
   ]
  },
  {
   "cell_type": "code",
   "execution_count": null,
   "metadata": {},
   "outputs": [],
   "source": [
    "def plot_frames_step_by_step(frame_indices, flow_config, masker, masker_name, add_colorbars=False, should_threshold=True, should_sign=False, should_blur=False):\n",
    "    NROWS = 1\n",
    "    NCOLS = 5 + should_threshold + should_blur + should_sign\n",
    "    COL_WIDTH = 4\n",
    "    ROW_HEIGHT = 4 \n",
    "    WIDTH_SPACING = 0.5\n",
    "    HEIGHT_SPACING = 0\n",
    "    \n",
    "    flow_func, flow_name, flow_threshold = flow_config\n",
    "    \n",
    "    for frame_index in frame_indices:\n",
    "        full_color_frame = states_300_0_color[frame_index]\n",
    "        gray_prev_frame, gray_frame = resize_func(states_300_0_gray[frame_index - 1]), resize_func(states_300_0_gray[frame_index])\n",
    "        \n",
    "        flow_x, flow_y = flow_func(gray_prev_frame, gray_frame)\n",
    "        mask = resize_func(masker(full_color_frame).astype(np.uint8))\n",
    "        \n",
    "        for flow, direction in zip((flow_x, flow_y), ('X', 'Y')):\n",
    "            figure = plt.figure(figsize=(NCOLS * COL_WIDTH + WIDTH_SPACING, NROWS * ROW_HEIGHT + HEIGHT_SPACING))\n",
    "            plt.subplots_adjust(wspace=0.2)\n",
    "            plt.suptitle(f'Frame {frame_index} {direction}')\n",
    "\n",
    "            for i, img in enumerate((gray_prev_frame, gray_frame)):\n",
    "                ax = plt.subplot(NROWS, NCOLS, i + 1)\n",
    "                ax.imshow(img, cmap='gray')\n",
    "                ax.set_title(f'Frame {frame_index - i + }')\n",
    "\n",
    "            # Plot subtraction between them\n",
    "            delta_ax = plt.subplot(NROWS, NCOLS, 3)\n",
    "            delta_ax.imshow(gray_prev_frame - gray_frame, cmap='gray')\n",
    "            delta_ax.set_title(f'$\\\\Delta$')\n",
    "        \n",
    "            raw_flow_ax = plt.subplot(NROWS, NCOLS, 4)\n",
    "            raw_flow_ax.imshow(flow, cmap='gray')\n",
    "            raw_flow_ax.set_title('Raw flow')\n",
    "            \n",
    "            if should_threshold:\n",
    "                flow[np.abs(flow) < flow_threshold] = 0\n",
    "                thresh_flow_ax = plt.subplot(NROWS, NCOLS, 5)\n",
    "                thresh_flow_ax.imshow(flow, cmap='gray')\n",
    "                thresh_flow_ax.set_title('Thresholded flow')\n",
    "\n",
    "            output = flow * mask\n",
    "            masked_flow_ax = plt.subplot(NROWS, NCOLS, 5 + should_threshold)\n",
    "            masked_flow_ax.imshow(output, cmap='gray')\n",
    "            masked_flow_ax.set_title('Masked flow')\n",
    "\n",
    "            if should_sign:\n",
    "                output = np.sign(output)\n",
    "                signed_flow_ax = plt.subplot(NROWS, NCOLS, 6 + should_threshold)\n",
    "                signed_flow_ax.imshow(output, cmap='gray')\n",
    "                signed_flow_ax.set_title('Signed flow')\n",
    "\n",
    "            if should_blur:\n",
    "                output = denoise(output, mask)\n",
    "                blurred_flow_ax = plt.subplot(NROWS, NCOLS, 6 + should_threshold + should_sign)\n",
    "                blurred_flow_ax.imshow(output, cmap='gray')\n",
    "                blurred_flow_ax.set_title('Denoised flow')\n",
    "\n",
    "            plt.show()"
   ]
  },
  {
   "cell_type": "code",
   "execution_count": null,
   "metadata": {
    "scrolled": false
   },
   "outputs": [],
   "source": [
    "maskers = (player_masker, floe_masker, bad_animal_masker)\n",
    "masker_names = ('Player', 'Floes', 'Bad Animals')\n",
    "modified_config = (flow_farneback, 'Farneback', 5e-5)\n",
    "\n",
    "plot_frames_step_by_step(range(130, 140), modified_config, floe_masker, 'Floes', should_sign=True, should_blur=True, )"
   ]
  },
  {
   "cell_type": "code",
   "execution_count": null,
   "metadata": {},
   "outputs": [],
   "source": [
    "frame_index = 132\n",
    "gray_prev_frame, gray_frame = states_300_0_gray[frame_index - 1], states_300_0_gray[frame_index]\n",
    "plt.imshow(gray_frame - gray_prev_frame, cmap='gray')"
   ]
  },
  {
   "cell_type": "code",
   "execution_count": null,
   "metadata": {},
   "outputs": [],
   "source": []
  }
 ],
 "metadata": {
  "kernelspec": {
   "display_name": "Python 3",
   "language": "python",
   "name": "python3"
  },
  "language_info": {
   "codemirror_mode": {
    "name": "ipython",
    "version": 3
   },
   "file_extension": ".py",
   "mimetype": "text/x-python",
   "name": "python",
   "nbconvert_exporter": "python",
   "pygments_lexer": "ipython3",
   "version": "3.7.4"
  }
 },
 "nbformat": 4,
 "nbformat_minor": 2
}
