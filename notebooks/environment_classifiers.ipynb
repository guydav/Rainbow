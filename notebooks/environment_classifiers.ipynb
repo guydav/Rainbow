{
 "cells": [
  {
   "cell_type": "code",
   "execution_count": 1,
   "metadata": {},
   "outputs": [],
   "source": [
    "%load_ext autoreload\n",
    "%autoreload 2\n",
    "%matplotlib inline"
   ]
  },
  {
   "cell_type": "code",
   "execution_count": 2,
   "metadata": {},
   "outputs": [
    {
     "data": {
      "text/html": [
       "<style>.container { width:98% !important; }</style>"
      ],
      "text/plain": [
       "<IPython.core.display.HTML object>"
      ]
     },
     "metadata": {},
     "output_type": "display_data"
    }
   ],
   "source": [
    "from IPython.core.display import display, HTML\n",
    "display(HTML(\"<style>.container { width:98% !important; }</style>\"))"
   ]
  },
  {
   "cell_type": "code",
   "execution_count": 3,
   "metadata": {},
   "outputs": [],
   "source": [
    "import sys\n",
    "sys.path.append('/home/gd1279/projects/Rainbow')"
   ]
  },
  {
   "cell_type": "code",
   "execution_count": 4,
   "metadata": {},
   "outputs": [],
   "source": [
    "from __future__ import division\n",
    "import argparse\n",
    "import os\n",
    "from datetime import datetime\n",
    "import atari_py\n",
    "import numpy as np\n",
    "import torch\n",
    "import wandb\n",
    "\n",
    "from agent import Agent\n",
    "from env import make_env\n",
    "from memory import ReplayMemory\n",
    "from masker import ALL_MASKERS\n",
    "from tqdm import tqdm, trange\n",
    "import pickle\n",
    "import bz2\n",
    "\n",
    "import matplotlib\n",
    "import matplotlib.pyplot as plt\n",
    "import cv2\n",
    "import glob\n",
    "import copy\n",
    "import imageio"
   ]
  },
  {
   "cell_type": "markdown",
   "metadata": {},
   "source": [
    "### Repeating arg-parse args just to make my life easier"
   ]
  },
  {
   "cell_type": "code",
   "execution_count": 5,
   "metadata": {},
   "outputs": [
    {
     "data": {
      "text/plain": [
       "_StoreAction(option_strings=['--memory-save-folder'], dest='memory_save_folder', nargs=None, const=None, default='/misc/vlgscratch4/LakeGroup/guy/rainbow_memory', type=None, choices=None, help=None, metavar=None)"
      ]
     },
     "execution_count": 5,
     "metadata": {},
     "output_type": "execute_result"
    }
   ],
   "source": [
    "parser = argparse.ArgumentParser(description='Rainbow')\n",
    "parser.add_argument('--id', type=str, default='default', help='Experiment ID')\n",
    "parser.add_argument('--seed', type=int, default=123, help='Random seed')\n",
    "parser.add_argument('--disable-cuda', action='store_true', help='Disable CUDA')\n",
    "parser.add_argument('--game', type=str, default='space_invaders', choices=atari_py.list_games(), help='ATARI game')\n",
    "parser.add_argument('--T-max', type=int, default=int(50e6), metavar='STEPS', help='Number of training steps (4x number of frames)')\n",
    "parser.add_argument('--max-episode-length', type=int, default=int(108e3), metavar='LENGTH', help='Max episode length in game frames (0 to disable)')\n",
    "parser.add_argument('--history-length', type=int, default=4, metavar='T', help='Number of consecutive states processed')\n",
    "parser.add_argument('--architecture', type=str, default='canonical', choices=['canonical', 'data-efficient'], metavar='ARCH', help='Network architecture')\n",
    "parser.add_argument('--hidden-size', type=int, default=512, metavar='SIZE', help='Network hidden size')\n",
    "parser.add_argument('--noisy-std', type=float, default=0.1, metavar='σ', help='Initial standard deviation of noisy linear layers')\n",
    "parser.add_argument('--atoms', type=int, default=51, metavar='C', help='Discretised size of value distribution')\n",
    "parser.add_argument('--V-min', type=float, default=-10, metavar='V', help='Minimum of value distribution support')\n",
    "parser.add_argument('--V-max', type=float, default=10, metavar='V', help='Maximum of value distribution support')\n",
    "parser.add_argument('--model', type=str, metavar='PARAMS', help='Pretrained model (state dict)')\n",
    "parser.add_argument('--memory-capacity', type=int, default=int(1e6), metavar='CAPACITY', help='Experience replay memory capacity')\n",
    "parser.add_argument('--replay-frequency', type=int, default=4, metavar='k', help='Frequency of sampling from memory')\n",
    "parser.add_argument('--priority-exponent', type=float, default=0.5, metavar='ω', help='Prioritised experience replay exponent (originally denoted α)')\n",
    "parser.add_argument('--priority-weight', type=float, default=0.4, metavar='β', help='Initial prioritised experience replay importance sampling weight')\n",
    "parser.add_argument('--multi-step', type=int, default=3, metavar='n', help='Number of steps for multi-step return')\n",
    "parser.add_argument('--discount', type=float, default=0.99, metavar='γ', help='Discount factor')\n",
    "parser.add_argument('--target-update', type=int, default=int(8e3), metavar='τ', help='Number of steps after which to update target network')\n",
    "parser.add_argument('--reward-clip', type=int, default=1, metavar='VALUE', help='Reward clipping (0 to disable)')\n",
    "parser.add_argument('--learning-rate', type=float, default=0.0000625, metavar='η', help='Learning rate')\n",
    "parser.add_argument('--adam-eps', type=float, default=1.5e-4, metavar='ε', help='Adam epsilon')\n",
    "parser.add_argument('--batch-size', type=int, default=32, metavar='SIZE', help='Batch size')\n",
    "parser.add_argument('--learn-start', type=int, default=int(20e3), metavar='STEPS', help='Number of steps before starting training')\n",
    "parser.add_argument('--evaluate', action='store_true', help='Evaluate only')\n",
    "parser.add_argument('--evaluation-interval', type=int, default=100000, metavar='STEPS', help='Number of training steps between evaluations')\n",
    "parser.add_argument('--evaluation-episodes', type=int, default=10, metavar='N', help='Number of evaluation episodes to average over')\n",
    "parser.add_argument('--evaluation-size', type=int, default=500, metavar='N', help='Number of transitions to use for validating Q')\n",
    "parser.add_argument('--render', action='store_true', help='Display screen (testing only)')\n",
    "parser.add_argument('--enable-cudnn', action='store_true', help='Enable cuDNN (faster but nondeterministic)')\n",
    "\n",
    "# Custom arguments I added\n",
    "\n",
    "SCRATCH_FOLDER = r'/misc/vlgscratch4/LakeGroup/guy/'\n",
    "\n",
    "DEFUALT_WANDB_ENTITY = 'augmented-frostbite'\n",
    "parser.add_argument('--wandb-entity', default=DEFUALT_WANDB_ENTITY)\n",
    "DEFAULT_WANDB_PROJECT = 'initial-experiments'\n",
    "parser.add_argument('--wandb-project', default=DEFAULT_WANDB_PROJECT)\n",
    "DEFAULT_WANDB_DIR = SCRATCH_FOLDER  # wandb creates its own folder inside\n",
    "parser.add_argument('--wandb-dir', default=DEFAULT_WANDB_DIR)\n",
    "parser.add_argument('--wandb-omit-watch', action='store_true')\n",
    "parser.add_argument('--wandb-resume', action='store_true')\n",
    "DEFAULT_MEMORY_SAVE_FOLDER = os.path.join(SCRATCH_FOLDER, 'rainbow_memory')\n",
    "parser.add_argument('--memory-save-folder', default=DEFAULT_MEMORY_SAVE_FOLDER)"
   ]
  },
  {
   "cell_type": "code",
   "execution_count": 6,
   "metadata": {},
   "outputs": [],
   "source": [
    "args = parser.parse_args([])\n",
    "\n",
    "np.random.seed(args.seed)\n",
    "# TODO: why not just fix the torch seed to the same one as np?\n",
    "# torch.manual_seed(np.random.randint(1, 10000))\n",
    "torch.manual_seed(args.seed)\n",
    "\n",
    "if torch.cuda.is_available() and not args.disable_cuda:\n",
    "  args.device = torch.device('cuda')\n",
    "  # torch.cuda.manual_seed(np.random.randint(1, 10000))\n",
    "  torch.cuda.manual_seed(args.seed)\n",
    "  torch.backends.cudnn.enabled = args.enable_cudnn\n",
    "else:\n",
    "  args.device = torch.device('cpu')\n",
    "\n",
    "args.evaluation_size = 20\n",
    "args.game = 'frostbite'"
   ]
  },
  {
   "cell_type": "markdown",
   "metadata": {},
   "source": [
    "### Create the environment"
   ]
  },
  {
   "cell_type": "code",
   "execution_count": 7,
   "metadata": {},
   "outputs": [],
   "source": [
    "args.add_masks = True\n",
    "args.maskers = None\n",
    "env = make_env(args)\n",
    "env.train()\n",
    "action_space = env.action_space()"
   ]
  },
  {
   "cell_type": "code",
   "execution_count": 8,
   "metadata": {},
   "outputs": [
    {
     "name": "stdout",
     "output_type": "stream",
     "text": [
      "torch.Size([36, 84, 84])\n",
      "torch.Size([36, 84, 84])\n",
      "torch.Size([36, 84, 84])\n",
      "torch.Size([36, 84, 84])\n",
      "torch.Size([36, 84, 84])\n",
      "torch.Size([36, 84, 84])\n",
      "torch.Size([36, 84, 84])\n",
      "torch.Size([36, 84, 84])\n",
      "torch.Size([36, 84, 84])\n",
      "torch.Size([36, 84, 84])\n",
      "torch.Size([36, 84, 84])\n",
      "torch.Size([36, 84, 84])\n",
      "torch.Size([36, 84, 84])\n",
      "torch.Size([36, 84, 84])\n",
      "torch.Size([36, 84, 84])\n",
      "torch.Size([36, 84, 84])\n",
      "torch.Size([36, 84, 84])\n",
      "torch.Size([36, 84, 84])\n",
      "torch.Size([36, 84, 84])\n",
      "torch.Size([36, 84, 84])\n"
     ]
    }
   ],
   "source": [
    "val_mem = ReplayMemory(args, args.evaluation_size)\n",
    "done = True\n",
    "for _ in range(args.evaluation_size):\n",
    "  if done:\n",
    "    state, done = env.reset(), False\n",
    "\n",
    "  print(state.shape)\n",
    "  next_state, _, done = env.step(np.random.randint(0, action_space))\n",
    "  val_mem.append(state, None, None, done)\n",
    "  state = next_state\n"
   ]
  },
  {
   "cell_type": "code",
   "execution_count": 9,
   "metadata": {},
   "outputs": [
    {
     "name": "stdout",
     "output_type": "stream",
     "text": [
      "torch.Size([36, 84, 84])\n",
      "torch.Size([36, 84, 84])\n",
      "torch.Size([36, 84, 84])\n",
      "torch.Size([36, 84, 84])\n",
      "torch.Size([36, 84, 84])\n",
      "torch.Size([36, 84, 84])\n",
      "torch.Size([36, 84, 84])\n",
      "torch.Size([36, 84, 84])\n",
      "torch.Size([36, 84, 84])\n",
      "torch.Size([36, 84, 84])\n",
      "torch.Size([36, 84, 84])\n",
      "torch.Size([36, 84, 84])\n",
      "torch.Size([36, 84, 84])\n",
      "torch.Size([36, 84, 84])\n",
      "torch.Size([36, 84, 84])\n",
      "torch.Size([36, 84, 84])\n",
      "torch.Size([36, 84, 84])\n",
      "torch.Size([36, 84, 84])\n",
      "torch.Size([36, 84, 84])\n",
      "torch.Size([36, 84, 84])\n"
     ]
    }
   ],
   "source": [
    "for state in val_mem:\n",
    "    print(state.shape)"
   ]
  },
  {
   "cell_type": "code",
   "execution_count": null,
   "metadata": {},
   "outputs": [],
   "source": [
    "torch.stack?"
   ]
  },
  {
   "cell_type": "code",
   "execution_count": null,
   "metadata": {},
   "outputs": [],
   "source": []
  },
  {
   "cell_type": "code",
   "execution_count": null,
   "metadata": {},
   "outputs": [],
   "source": [
    "args.add_masks = True\n",
    "args.maskers = None\n",
    "env = make_env(args)\n",
    "env.train()\n",
    "action_space = env.action_space()"
   ]
  },
  {
   "cell_type": "code",
   "execution_count": null,
   "metadata": {
    "scrolled": false
   },
   "outputs": [],
   "source": [
    "NROWS = 1\n",
    "NCOLS = args.state_depth\n",
    "COL_WIDTH = 4\n",
    "ROW_HEIGHT = 4 \n",
    "WIDTH_SPACING = 0.5\n",
    "HEIGHT_SPACING = 0\n",
    "\n",
    "\n",
    "MIN_FRAME_TO_PLOT = 35\n",
    "\n",
    "torch_states = []\n",
    "np_states = []\n",
    "\n",
    "val_mem = ReplayMemory(args, args.evaluation_size)\n",
    "done = True\n",
    "for frame in range(40):\n",
    "    if done:\n",
    "        state, done = env.reset(), False\n",
    "\n",
    "    torch_states.append(state)\n",
    "    np_state = state.cpu().numpy()\n",
    "    np_states.append(np_state)\n",
    "    \n",
    "    if frame >= MIN_FRAME_TO_PLOT:\n",
    "        state_figure = plt.figure(figsize=(NCOLS * COL_WIDTH + WIDTH_SPACING, NROWS * ROW_HEIGHT + HEIGHT_SPACING))\n",
    "        plt.subplots_adjust(wspace=0.2)\n",
    "\n",
    "        for ax_index, state_frame in enumerate(np_state[-args.state_depth:]):\n",
    "            ax = plt.subplot(NROWS, NCOLS, ax_index + 1)\n",
    "            ax.imshow(state_frame, cmap='gray')\n",
    "        \n",
    "        plt.show()\n",
    "        \n",
    "    action = np.random.randint(0, action_space)\n",
    "    next_state, reward, done = env.step(action)\n",
    "    val_mem.append(state, action, reward, done)\n",
    "    state = next_state\n"
   ]
  },
  {
   "cell_type": "code",
   "execution_count": null,
   "metadata": {},
   "outputs": [],
   "source": [
    "idxs, states, actions, returns, next_states, nonterminals, weights = val_mem.sample(10)"
   ]
  },
  {
   "cell_type": "code",
   "execution_count": null,
   "metadata": {},
   "outputs": [],
   "source": [
    "t = torch.tensor([[[1, 2], [0, 3]], [[0, 4], [1, 2]]])\n",
    "print(t)\n",
    "values, indices = t.max(0)\n",
    "print(values)\n",
    "print(indices)"
   ]
  },
  {
   "cell_type": "code",
   "execution_count": null,
   "metadata": {},
   "outputs": [],
   "source": [
    "t2 = t.unsqueeze(0)\n",
    "\n",
    "torch.cat((t2, *[]))"
   ]
  },
  {
   "cell_type": "code",
   "execution_count": null,
   "metadata": {},
   "outputs": [],
   "source": []
  },
  {
   "cell_type": "code",
   "execution_count": null,
   "metadata": {},
   "outputs": [],
   "source": [
    "torch.squeeze(torch.gather(t, 0, torch.unsqueeze(indices, 0)))\n",
    "# t[torch.arange(2), indices]"
   ]
  },
  {
   "cell_type": "code",
   "execution_count": null,
   "metadata": {},
   "outputs": [],
   "source": [
    "def cat_stack(tensors):\n",
    "    if len(tensors[0].shape) == 2:\n",
    "        tensors = [torch.unsqueeze(tens, 0) for tens in tensors]\n",
    "        \n",
    "    return torch.cat(tensors, 0)"
   ]
  },
  {
   "cell_type": "code",
   "execution_count": null,
   "metadata": {},
   "outputs": [],
   "source": [
    "cat_stack([torch.zeros(5, 84, 84) for _ in range(4)]).shape"
   ]
  },
  {
   "cell_type": "code",
   "execution_count": null,
   "metadata": {},
   "outputs": [],
   "source": [
    "'num_outputs' in args"
   ]
  },
  {
   "cell_type": "code",
   "execution_count": null,
   "metadata": {},
   "outputs": [],
   "source": [
    "x = np.random.randint(0, 10, (2, 5, 4))\n",
    "y = np.random.randint(0, 10, (2, 5, 4, 3))\n",
    "print(x)\n",
    "print('Max:')\n",
    "print(x.max(0))\n",
    "max_ind = x.argmax(0)\n",
    "print('Max indices:')\n",
    "print(max_ind)\n",
    "print(max_ind.shape)"
   ]
  },
  {
   "cell_type": "code",
   "execution_count": null,
   "metadata": {},
   "outputs": [],
   "source": [
    "x[max_ind, np.arange(x.shape[1])[:,None], np.arange(x.shape[2])] == x.max(0)"
   ]
  },
  {
   "cell_type": "code",
   "execution_count": null,
   "metadata": {},
   "outputs": [],
   "source": [
    "max_y = y[max_ind, np.arange(x.shape[1])[:,None], np.arange(x.shape[2])]\n",
    "for i in range(x.shape[1]):\n",
    "    for j in range(x.shape[2]):\n",
    "        print(max_y[i, j] == y[max_ind[i, j], i, j])"
   ]
  },
  {
   "cell_type": "code",
   "execution_count": null,
   "metadata": {},
   "outputs": [],
   "source": [
    "np.arange(x.shape[0])[:,None]"
   ]
  },
  {
   "cell_type": "code",
   "execution_count": null,
   "metadata": {},
   "outputs": [],
   "source": [
    "t = (3, 4)\n",
    "np.zeros((5, *t, 2)).shape"
   ]
  },
  {
   "cell_type": "code",
   "execution_count": null,
   "metadata": {},
   "outputs": [],
   "source": []
  },
  {
   "cell_type": "code",
   "execution_count": null,
   "metadata": {},
   "outputs": [],
   "source": []
  },
  {
   "cell_type": "markdown",
   "metadata": {},
   "source": [
    "### Create the naive, doctored background frame"
   ]
  },
  {
   "cell_type": "code",
   "execution_count": null,
   "metadata": {},
   "outputs": [],
   "source": [
    "state_0, done = env.reset(), False"
   ]
  },
  {
   "cell_type": "code",
   "execution_count": null,
   "metadata": {},
   "outputs": [],
   "source": [
    "plt.imshow(state_0[3].cpu().numpy(), cmap='Greys')"
   ]
  },
  {
   "cell_type": "code",
   "execution_count": null,
   "metadata": {},
   "outputs": [],
   "source": [
    "s_0_np = state_0[3].cpu().numpy()"
   ]
  },
  {
   "cell_type": "code",
   "execution_count": null,
   "metadata": {},
   "outputs": [],
   "source": [
    "plt.imshow(s_0_np[4:12, :], cmap='Greys')"
   ]
  },
  {
   "cell_type": "code",
   "execution_count": null,
   "metadata": {},
   "outputs": [],
   "source": [
    "doctored_s_0_np = np.copy(s_0_np)\n",
    "doctored_s_0_np[4:12,4:] = doctored_s_0_np[6,10]\n",
    "doctored_s_0_np[16:31,4:] = doctored_s_0_np[20,10]\n",
    "doctored_s_0_np[31:74,4:] = doctored_s_0_np[33,10]\n",
    "plt.imshow(doctored_s_0_np, cmap='Greys')"
   ]
  },
  {
   "cell_type": "markdown",
   "metadata": {},
   "source": [
    "## Starting to play around with color-based classifiers"
   ]
  },
  {
   "cell_type": "code",
   "execution_count": null,
   "metadata": {},
   "outputs": [],
   "source": [
    "NROWS = 1\n",
    "NCOLS = 5\n",
    "COL_WIDTH = 4\n",
    "ROW_HEIGHT = 4 \n",
    "WIDTH_SPACING = 0.5\n",
    "HEIGHT_SPACING = 0\n"
   ]
  },
  {
   "cell_type": "code",
   "execution_count": null,
   "metadata": {
    "scrolled": false
   },
   "outputs": [],
   "source": [
    "MIN_FRAME_TO_PLOT = 20\n",
    "\n",
    "torch_states = []\n",
    "np_states = []\n",
    "\n",
    "\n",
    "val_mem = ReplayMemory(args, args.evaluation_size)\n",
    "done = True\n",
    "for frame in range(40):\n",
    "    \n",
    "    if done:\n",
    "        state, done = env.reset(), False\n",
    "\n",
    "    torch_states.append(state)\n",
    "    np_state = state.cpu().numpy()\n",
    "    np_states.append(np_state)\n",
    "    \n",
    "    if frame >= MIN_FRAME_TO_PLOT:\n",
    "        plt.imshow(np_state[3], cmap='gray'); plt.show()\n",
    "        \n",
    "    next_state, _, done = env.step(np.random.randint(0, action_space))\n",
    "    val_mem.append(state, None, None, done)\n",
    "    state = next_state"
   ]
  },
  {
   "cell_type": "code",
   "execution_count": null,
   "metadata": {},
   "outputs": [],
   "source": [
    "NCOLS = 2\n",
    "NROWS = 1\n",
    "INDEX = 20\n",
    "\n",
    "state = np_states[INDEX][3]\n",
    "\n",
    "for x in np.unique(state):\n",
    "    count = np.sum(state == x)\n",
    "#     print(x, count)\n",
    "    if count > 100:\n",
    "        state_figure = plt.figure(figsize=(NCOLS * COL_WIDTH + WIDTH_SPACING, NROWS * ROW_HEIGHT + HEIGHT_SPACING))\n",
    "        plt.subplots_adjust(wspace=0.2)\n",
    "        \n",
    "        plt.suptitle(f'For x = {x:.4f}, we have {count} pixels')\n",
    "        \n",
    "        state_ax = plt.subplot(NROWS, NCOLS, 1)\n",
    "        state_ax.imshow(state, cmap='Greys')\n",
    "        \n",
    "        mask_ax = plt.subplot(NROWS, NCOLS, 2)\n",
    "        mask_ax.imshow((state == x).astype(np.uint8), cmap='Greys')\n",
    "        "
   ]
  },
  {
   "cell_type": "code",
   "execution_count": null,
   "metadata": {},
   "outputs": [],
   "source": [
    "plt.imshow(state[35:45, 5:], cmap='Greys', norm=matplotlib.colors.Normalize(0, 1))"
   ]
  },
  {
   "cell_type": "code",
   "execution_count": null,
   "metadata": {},
   "outputs": [],
   "source": [
    "np.unique(state[35:45, 5:])"
   ]
  },
  {
   "cell_type": "code",
   "execution_count": null,
   "metadata": {},
   "outputs": [],
   "source": [
    "for x in np.unique(state[35:45, 5:]):\n",
    "    count = np.sum(state[35:45, 5:] == x)\n",
    "    print(x, count)\n"
   ]
  },
  {
   "cell_type": "code",
   "execution_count": null,
   "metadata": {},
   "outputs": [],
   "source": [
    "raw_screen = np.squeeze(env.ale.getScreenGrayscale())"
   ]
  },
  {
   "cell_type": "code",
   "execution_count": null,
   "metadata": {},
   "outputs": [],
   "source": [
    "plt.imshow(raw_screen, cmap='Greys')"
   ]
  },
  {
   "cell_type": "code",
   "execution_count": null,
   "metadata": {},
   "outputs": [],
   "source": [
    "for x in np.unique(raw_screen):\n",
    "    count = np.sum(raw_screen == x)\n",
    "    print(x, count)"
   ]
  },
  {
   "cell_type": "code",
   "execution_count": null,
   "metadata": {
    "scrolled": false
   },
   "outputs": [],
   "source": [
    "for x in np.unique(raw_screen):\n",
    "    count = np.sum(raw_screen == x)\n",
    "#     print(x, count)\n",
    "    if count > 250:\n",
    "        state_figure = plt.figure(figsize=(NCOLS * COL_WIDTH + WIDTH_SPACING, NROWS * ROW_HEIGHT + HEIGHT_SPACING))\n",
    "        plt.subplots_adjust(wspace=0.2)\n",
    "        \n",
    "        plt.suptitle(f'For x = {x:.4f}, we have {count} pixels')\n",
    "        \n",
    "        state_ax = plt.subplot(NROWS, NCOLS, 1)\n",
    "        state_ax.imshow(raw_screen, cmap='Greys')\n",
    "        \n",
    "        mask_ax = plt.subplot(NROWS, NCOLS, 2)\n",
    "        mask_ax.imshow((raw_screen == x).astype(np.uint8), cmap='Greys')"
   ]
  },
  {
   "cell_type": "markdown",
   "metadata": {},
   "source": [
    "## Starting to mess around with the saved state traces"
   ]
  },
  {
   "cell_type": "code",
   "execution_count": null,
   "metadata": {},
   "outputs": [],
   "source": [
    "def load_saved_states(seed, num=0, name='baseline-rainbow', color=False):\n",
    "    state_type = color and 'color' or 'gray'\n",
    "    path_glob = os.path.join('../results', f'{name}-{seed}', 'evaluation/states', f'*{num}-{state_type}.pickle')\n",
    "    path = glob.glob(path_glob)[0]\n",
    "    \n",
    "    with open(path, 'rb') as pickle_file:\n",
    "        return pickle.load(pickle_file)\n",
    "                        "
   ]
  },
  {
   "cell_type": "code",
   "execution_count": null,
   "metadata": {},
   "outputs": [],
   "source": [
    "states_300_0_gray = load_saved_states(300)\n",
    "print(states_300_0_gray.shape)\n",
    "\n",
    "states_300_0_color = load_saved_states(300, color=True)\n",
    "states_300_0_color.shape"
   ]
  },
  {
   "cell_type": "code",
   "execution_count": null,
   "metadata": {},
   "outputs": [],
   "source": [
    "frame = states_300_0_gray[100]\n",
    "tens = torch.tensor(frame, dtype=torch.float32).unsqueeze(0).unsqueeze(0)\n",
    "small_frame = cv2.resize(frame, (84, 84), interpolation=cv2.INTER_LINEAR)\n",
    "small_tens = torch.nn.functional.interpolate(tens, size=(84, 84), mode='bilinear')\n",
    "small_tens.shape\n",
    "small_tens_np = small_tens.numpy().squeeze()"
   ]
  },
  {
   "cell_type": "code",
   "execution_count": null,
   "metadata": {},
   "outputs": [],
   "source": [
    "np.allclose(small_tens_np, small_frame.astype(np.float32))"
   ]
  },
  {
   "cell_type": "code",
   "execution_count": null,
   "metadata": {},
   "outputs": [],
   "source": [
    "np.max(np.abs(small_tens_np - small_frame.astype(np.float32)))"
   ]
  },
  {
   "cell_type": "markdown",
   "metadata": {},
   "source": [
    "## Let's print out every 50th state to get some exemplars"
   ]
  },
  {
   "cell_type": "code",
   "execution_count": null,
   "metadata": {
    "scrolled": true
   },
   "outputs": [],
   "source": [
    "for i in range(0, 2300, 50):\n",
    "    state_figure = plt.figure(figsize=(NCOLS * COL_WIDTH + WIDTH_SPACING, NROWS * ROW_HEIGHT + HEIGHT_SPACING))\n",
    "    plt.subplots_adjust(wspace=0.2)\n",
    "\n",
    "    plt.suptitle(f'Frame {i}')\n",
    "\n",
    "    gray_ax = plt.subplot(NROWS, NCOLS, 1)\n",
    "    gray_ax.imshow(states_300_0_gray[i], cmap='gray')\n",
    "\n",
    "    color_ax = plt.subplot(NROWS, NCOLS, 2)\n",
    "    color_ax.imshow(states_300_0_color[i])\n",
    "    \n",
    "    plt.show()"
   ]
  },
  {
   "cell_type": "markdown",
   "metadata": {},
   "source": [
    "## Generate color lists for each semantic type of objects"
   ]
  },
  {
   "cell_type": "code",
   "execution_count": null,
   "metadata": {},
   "outputs": [],
   "source": [
    "player_colors = (110, 116, 129, 148, )\n",
    "# masking the player won't work by color, but perhaps by color + shape around?\n",
    "floe_colors = (130, 214)\n",
    "# 153 also captures the score, so perhaps that needs to be better spatially limited\n",
    "# 148 also captures some of the player, so perhaps we need to mutually exclude with where we infer the player to be?\n",
    "# 214 captures both the bear in the black background and the white floes, so another spatial limitation?\n",
    "bad_animal_colors = (153, # birds\n",
    "                     148, # crabs\n",
    "                     111, # bear in white background\n",
    "                     193, # angry yellow things\n",
    "                     214, # bear in black background\n",
    "                    ) \n",
    "good_animal_colors = (169, # fish\n",
    "                     )\n",
    "\n",
    "# The door is harder to capture straight up by color, as it matches with a black row below the snow\n",
    "# Maybe this would be trivial in color?"
   ]
  },
  {
   "cell_type": "code",
   "execution_count": null,
   "metadata": {
    "scrolled": false
   },
   "outputs": [],
   "source": [
    "index = 1050\n",
    "\n",
    "min_count = 1\n",
    "max_count = 200\n",
    "\n",
    "frame_row_min = 8\n",
    "frame_row_max = -25\n",
    "\n",
    "frame_col_min = 8\n",
    "frame_col_max = None\n",
    "\n",
    "full_frame = states_300_0_gray[index]\n",
    "frame = full_frame[frame_row_min:frame_row_max, frame_col_min:frame_col_max]\n",
    "\n",
    "for x in np.unique(frame):\n",
    "    count = np.sum(frame == x)\n",
    "#     print(x, count)\n",
    "    if min_count < count < max_count:\n",
    "        state_figure = plt.figure(figsize=(NCOLS * COL_WIDTH + WIDTH_SPACING, NROWS * ROW_HEIGHT + HEIGHT_SPACING))\n",
    "        plt.subplots_adjust(wspace=0.2)\n",
    "        \n",
    "        plt.suptitle(f'For x = {x:.4f}, we have {count} pixels')\n",
    "        \n",
    "        state_ax = plt.subplot(NROWS, NCOLS, 1)\n",
    "        state_ax.imshow(frame, cmap='gray')\n",
    "        \n",
    "        mask_ax = plt.subplot(NROWS, NCOLS, 2)\n",
    "        mask_ax.imshow((frame == x).astype(np.uint8), cmap='gray')"
   ]
  },
  {
   "cell_type": "markdown",
   "metadata": {},
   "source": [
    "## Same thing but in color"
   ]
  },
  {
   "cell_type": "code",
   "execution_count": null,
   "metadata": {
    "scrolled": false
   },
   "outputs": [],
   "source": [
    "index = 200\n",
    "\n",
    "frame_row_min = 8\n",
    "frame_row_max = -25\n",
    "\n",
    "frame_col_min = 8\n",
    "frame_col_max = None\n",
    "\n",
    "min_count = 2000\n",
    "max_count = 200000\n",
    "\n",
    "full_frame = states_300_0_color[index]\n",
    "frame = full_frame[frame_row_min:frame_row_max, frame_col_min:frame_col_max, :]\n",
    "# frame = full_frame\n",
    "\n",
    "flattened = frame.reshape(-1, 3)\n",
    "\n",
    "for x in np.unique(flattened, axis=0):\n",
    "    count = np.sum(np.equal(flattened, x.reshape(1, 3)))\n",
    "#     print(x, count)\n",
    "    if min_count < count < max_count:\n",
    "        state_figure = plt.figure(figsize=(NCOLS * COL_WIDTH + WIDTH_SPACING, NROWS * ROW_HEIGHT + HEIGHT_SPACING))\n",
    "        plt.subplots_adjust(wspace=0.2)\n",
    "        \n",
    "        plt.suptitle(f'For x = {x}, we have {count} pixels')\n",
    "        \n",
    "        state_ax = plt.subplot(NROWS, NCOLS, 1)\n",
    "        state_ax.imshow(frame)\n",
    "        \n",
    "        mask_ax = plt.subplot(NROWS, NCOLS, 2)\n",
    "        mask_ax.imshow((np.all(np.equal(frame, x.reshape(1, 1, 3)), axis=2)).astype(np.uint8), cmap='gray')"
   ]
  },
  {
   "cell_type": "code",
   "execution_count": null,
   "metadata": {},
   "outputs": [],
   "source": [
    "frame_row_min = 8\n",
    "frame_row_max = -25\n",
    "\n",
    "frame_col_min = 8\n",
    "frame_col_max = None\n",
    "\n",
    "subframe_shape = (177, 152)\n",
    "full_frame_shape = (210, 160)\n",
    "\n",
    "player_colors = ((162, 98, 33),\n",
    "                 (162, 162, 42),\n",
    "                 (198, 108, 58),\n",
    "                 (142, 142, 142) # also captures the igloo\n",
    "                )\n",
    "\n",
    "unvisited_floe_colors = ((214, 214, 214), # unvisited_floes\n",
    "                        )\n",
    "visited_floe_colors = ((84, 138, 210), # visited floes\n",
    "                      )\n",
    "land_colors = ((192, 192, 192), # the lighter ground in earlier levels\n",
    "               (74, 74, 74), # the darker ground in later levels\n",
    "              ) \n",
    "\n",
    "land_row_min = 42\n",
    "land_row_max = 78\n",
    "land_row_range = (land_row_min, land_row_max)\n",
    "\n",
    "bad_animal_colors = ((132, 144, 252), # birds -- also captures the score!\n",
    "                     (213, 130, 74), # crabs -- no more conflict with the player\n",
    "                     (210, 210, 64), # angry yellow things\n",
    "                    ) \n",
    "\n",
    "bear_colors = ((111, 111, 111), # bear in white background\n",
    "               (214, 214, 214), # bear in black background -- same as the unvisited floes\n",
    "              )\n",
    "\n",
    "good_animal_colors = ((111, 210, 111), # fish\n",
    "                     )\n",
    "\n",
    "animal_subframe_row_min = 70\n",
    "\n",
    "animal_full_frame_row_min = 78\n",
    "animal_full_frame_row_max = 185\n",
    "animal_full_frame_row_range = (animal_full_frame_row_min, animal_full_frame_row_max)\n",
    "\n",
    "igloo_colors = ((142, 142, 142),\n",
    "                # isolating the igloo door is harder - its black and orange colors both conflict\n",
    "                )\n",
    "\n",
    "igloo_subframe_row_min = 26\n",
    "igloo_subframe_row_max = 47\n",
    "igloo_subframe_row_range = (igloo_subframe_row_min, igloo_subframe_row_max)\n",
    "\n",
    "igloo_subframe_col_min = 104\n",
    "igloo_subframe_col_max = 136\n",
    "igloo_subframe_col_range = (igloo_subframe_col_min, igloo_subframe_col_max)\n",
    "\n",
    "igloo_full_frame_row_min = 35\n",
    "igloo_full_frame_row_max = 55\n",
    "igloo_full_frame_row_range = (igloo_full_frame_row_min, igloo_full_frame_row_max)\n",
    "\n",
    "igloo_full_frame_col_min = 112\n",
    "igloo_full_frame_col_max = 144\n",
    "igloo_full_frame_col_range = (igloo_full_frame_col_min, igloo_full_frame_col_max)\n",
    "\n",
    "# The igloo's black also conflicts with a black line below the ice, so we to do the igloo we would location\n",
    "# Same with the birds, which conflict with the score\n",
    "# Player also conflict with igloo, which I guess we could also resolve with location \n",
    "\n"
   ]
  },
  {
   "cell_type": "markdown",
   "metadata": {},
   "source": [
    "## Writing a class to do this sort of filtering"
   ]
  },
  {
   "cell_type": "code",
   "execution_count": null,
   "metadata": {},
   "outputs": [],
   "source": [
    "FULL_FRAME_SHAPE = (210, 160)\n",
    "\n",
    "\n",
    "class ColorFilterMasker:\n",
    "    def __init__(self, filter_colors, row_range=(None, None), col_range=(None, None), range_whitelist=False):\n",
    "        self.filter_colors = np.stack([np.array(x).reshape(1, 1, 3) for x in filter_colors], axis=3)\n",
    "        self.row_range = row_range\n",
    "        self.col_range = col_range\n",
    "        self.range_whitelist = range_whitelist\n",
    "        \n",
    "    def __call__(self, frame):\n",
    "        \"\"\"\n",
    "        Assumes the frame is of the form [h, w, c]\n",
    "        \"\"\"\n",
    "        mask = np.any(np.all(np.equal(np.expand_dims(frame, 3), self.filter_colors), axis=2), axis=2).astype(np.uint8)\n",
    "            \n",
    "        if self.range_whitelist:\n",
    "            mask[np.r_[0:self.row_range[0], self.row_range[1]:mask.shape[0]], :] = 0\n",
    "            mask[:, np.r_[0:self.col_range[0], self.col_range[1]:mask.shape[1]]] = 0\n",
    "\n",
    "        else:\n",
    "            mask[self.row_range[0]:self.row_range[1],self.col_range[0]:self.col_range[1]] = 0\n",
    "                \n",
    "        return mask"
   ]
  },
  {
   "cell_type": "code",
   "execution_count": null,
   "metadata": {},
   "outputs": [],
   "source": [
    "player_masker = ColorFilterMasker(player_colors, igloo_full_frame_row_range, \n",
    "                                  igloo_full_frame_col_range)\n",
    "unvisited_floe_masker = ColorFilterMasker(unvisited_floe_colors, animal_full_frame_row_range, \n",
    "                                          (0, full_frame_shape[1]), range_whitelist=True)\n",
    "visited_floe_masker = ColorFilterMasker(visited_floe_colors, animal_full_frame_row_range, \n",
    "                                        (0, full_frame_shape[1]), range_whitelist=True)\n",
    "land_masker =  ColorFilterMasker(land_colors, land_row_range, \n",
    "                                 (0, full_frame_shape[1]), range_whitelist=True)\n",
    "bad_animal_masker = ColorFilterMasker(bad_animal_colors, animal_full_frame_row_range, \n",
    "                                      (0, full_frame_shape[1]), range_whitelist=True)\n",
    "good_animal_masker = ColorFilterMasker(good_animal_colors, animal_full_frame_row_range, \n",
    "                                       (0, full_frame_shape[1]), range_whitelist=True)\n",
    "bear_filter = ColorFilterMasker(bear_colors, (0, animal_full_frame_row_min), \n",
    "                                (0, full_frame_shape[1]), range_whitelist=True)\n",
    "igloo_masker = ColorFilterMasker(igloo_colors, igloo_full_frame_row_range, \n",
    "                                 igloo_full_frame_col_range, range_whitelist=True)\n"
   ]
  },
  {
   "cell_type": "markdown",
   "metadata": {},
   "source": [
    "### Printing out a frame and all of its masks"
   ]
  },
  {
   "cell_type": "code",
   "execution_count": null,
   "metadata": {
    "scrolled": true
   },
   "outputs": [],
   "source": [
    "NCOLS = 7\n",
    "\n",
    "for frame_index in range(0, 2300, 50):\n",
    "    state_figure = plt.figure(figsize=(NCOLS * COL_WIDTH + WIDTH_SPACING, NROWS * ROW_HEIGHT + HEIGHT_SPACING))\n",
    "    plt.subplots_adjust(wspace=0.2)\n",
    "    plt.suptitle(f'Frame {frame_index}')\n",
    "    \n",
    "    full_frame = states_300_0_color[frame_index]\n",
    "    # frame = full_frame[frame_row_min:frame_row_max, frame_col_min:frame_col_max, :]\n",
    "    frame = full_frame\n",
    "\n",
    "    color_ax = plt.subplot(NROWS, NCOLS, 1)\n",
    "    color_ax.imshow(frame)\n",
    "    \n",
    "    for ax_index, (masker, name) in enumerate(zip((player_masker, floe_masker, bad_animal_masker, \n",
    "                                                   good_animal_masker, bear_filter, igloo_masker),\n",
    "                                                  ('Player', 'Floes', 'Bad Animals', \n",
    "                                                   'Good Animals', 'Bears', 'Igloo'))):\n",
    "        ax = plt.subplot(NROWS, NCOLS, ax_index + 2)\n",
    "        ax.set_title(name)\n",
    "        ax.imshow(masker(frame), cmap='gray')\n",
    "    \n",
    "    plt.show()"
   ]
  },
  {
   "cell_type": "markdown",
   "metadata": {},
   "source": [
    "## Plotting a frame, and all of its masked combined"
   ]
  },
  {
   "cell_type": "code",
   "execution_count": null,
   "metadata": {
    "scrolled": false
   },
   "outputs": [],
   "source": [
    "NCOLS = 2\n",
    "\n",
    "for frame_index in range(0, 2300, 50):\n",
    "    state_figure = plt.figure(figsize=(NCOLS * COL_WIDTH + WIDTH_SPACING, NROWS * ROW_HEIGHT + HEIGHT_SPACING))\n",
    "    plt.subplots_adjust(wspace=0.2)\n",
    "    plt.suptitle(f'Frame {frame_index}')\n",
    "    \n",
    "    full_frame = states_300_0_color[frame_index]\n",
    "    # frame = full_frame[frame_row_min:frame_row_max, frame_col_min:frame_col_max, :]\n",
    "    frame = full_frame\n",
    "\n",
    "    color_ax = plt.subplot(NROWS, NCOLS, 1)\n",
    "    color_ax.imshow(frame)\n",
    "    \n",
    "    combined_mask = np.zeros_like(frame)\n",
    "    \n",
    "    for ax_index, (masker, color) in enumerate(zip((player_masker, unvisited_floe_masker, \n",
    "                                                    visited_floe_masker, land_masker, \n",
    "                                                    bad_animal_masker,good_animal_masker, \n",
    "                                                    bear_filter, igloo_masker),\n",
    "                                                   ((255, 128, 0), (224, 224, 224), \n",
    "                                                    (124, 185, 232), (103, 103, 103),\n",
    "                                                    (255, 0, 0), (102, 255, 178), \n",
    "                                                    (102, 51, 0), (0, 0, 255) ))\n",
    "                                             ):\n",
    "        mask = np.expand_dims(masker(frame), 2)\n",
    "        combined_mask += mask * np.array(color).astype(np.uint8)\n",
    "        \n",
    "    mask_ax = plt.subplot(NROWS, NCOLS, 2)\n",
    "    mask_ax.imshow(combined_mask)\n",
    "    \n",
    "    plt.show()"
   ]
  },
  {
   "cell_type": "markdown",
   "metadata": {},
   "source": [
    "\n",
    "## Now with resizing back down to (84, 84)"
   ]
  },
  {
   "cell_type": "code",
   "execution_count": null,
   "metadata": {
    "scrolled": true
   },
   "outputs": [],
   "source": [
    "NCOLS = 7\n",
    "\n",
    "def resize_func(img, size=(84, 84)):\n",
    "    return cv2.resize(img, size, interpolation=cv2.INTER_LINEAR)\n",
    "    \n",
    "\n",
    "for frame_index in range(0, 2300, 50):\n",
    "    state_figure = plt.figure(figsize=(NCOLS * COL_WIDTH + WIDTH_SPACING, NROWS * ROW_HEIGHT + HEIGHT_SPACING))\n",
    "    plt.subplots_adjust(wspace=0.2)\n",
    "    plt.suptitle(f'Frame {frame_index}')\n",
    "    \n",
    "    full_frame = states_300_0_color[frame_index]\n",
    "    # frame = full_frame[frame_row_min:frame_row_max, frame_col_min:frame_col_max, :]\n",
    "    frame = full_frame\n",
    "\n",
    "    color_ax = plt.subplot(NROWS, NCOLS, 1)\n",
    "    color_ax.imshow(resize_func(frame))\n",
    "    \n",
    "    for ax_index, (masker, name) in enumerate(zip((player_masker, floe_masker, bad_animal_masker, \n",
    "                                                   good_animal_masker, bear_filter, igloo_masker),\n",
    "                                                  ('Player', 'Floes', 'Bad Animals', \n",
    "                                                   'Good Animals', 'Bears', 'Igloo'))):\n",
    "        ax = plt.subplot(NROWS, NCOLS, ax_index + 2)\n",
    "        ax.set_title(name)\n",
    "        ax.imshow(resize_func(masker(frame).astype(np.uint8)), cmap='gray')\n",
    "    \n",
    "    plt.show()"
   ]
  },
  {
   "cell_type": "markdown",
   "metadata": {},
   "source": [
    "### Saving a gif from these"
   ]
  },
  {
   "cell_type": "code",
   "execution_count": null,
   "metadata": {},
   "outputs": [],
   "source": [
    "combined_masks = []\n",
    "\n",
    "for frame in states_300_0_color:    \n",
    "    combined_mask = np.zeros_like(frame)\n",
    "    \n",
    "    for ax_index, (masker, color) in enumerate(zip((player_masker, unvisited_floe_masker, \n",
    "                                                    visited_floe_masker, land_masker, \n",
    "                                                    bad_animal_masker,good_animal_masker, \n",
    "                                                    bear_filter, igloo_masker),\n",
    "                                                   ((255, 128, 0), (224, 224, 224), \n",
    "                                                    (124, 185, 232), (103, 103, 103),\n",
    "                                                    (255, 0, 0), (102, 255, 178), \n",
    "                                                    (102, 51, 0), (0, 0, 255) ))\n",
    "                                             ):\n",
    "        mask = np.expand_dims(masker(frame), 2)\n",
    "        combined_mask += mask * np.array(color).astype(np.uint8)\n",
    "        \n",
    "    combined_masks.append(resize_func(combined_mask))\n",
    "    \n",
    "imageio.mimwrite(f'fully-masked-updated.gif', combined_masks, fps=15)"
   ]
  },
  {
   "cell_type": "markdown",
   "metadata": {},
   "source": [
    "## Test combining with the optical flow\n",
    "\n",
    "Particularly, make sure to look at frames 135-138, to see what happens when floes change colors\n",
    "\n",
    "### Strategy:\n",
    "* For each mask and direction: \n",
    "    * Mask out the flow\n",
    "    * Use a convolution to to smoothen\n",
    "    * Remask the smoothened flow\n",
    "* Do we want to take the sign? Check with and without"
   ]
  },
  {
   "cell_type": "code",
   "execution_count": null,
   "metadata": {},
   "outputs": [],
   "source": [
    "import sys\n",
    "pyflow_folder = '/home/gd1279/projects/pyflow'\n",
    "if pyflow_folder not in sys.path: sys.path.append(pyflow_folder)\n",
    "import pyflow\n",
    "import pyoptflow"
   ]
  },
  {
   "cell_type": "code",
   "execution_count": null,
   "metadata": {},
   "outputs": [],
   "source": [
    "FARNEBACK_PARAMS = dict(\n",
    "    pyr_scale=0.5,\n",
    "    levels=3,\n",
    "    winsize=5, # 15,\n",
    "    iterations=7, # 3,\n",
    "    poly_n=3, # 5,\n",
    "    poly_sigma=0.8, # 1.2,\n",
    "    flags=0, # cv2.OPTFLOW_USE_INITIAL_FLOW\n",
    ")\n",
    "\n",
    "FARNEBACK_FLOW_TOLERANCE = 1e-5\n",
    "\n",
    "def resize_func(img, size=(84, 84)):\n",
    "    return cv2.resize(img, size, interpolation=cv2.INTER_LINEAR)\n",
    "\n",
    "def flow_farneback(x_0, x_1, **kwargs):\n",
    "    params = copy.copy(FARNEBACK_PARAMS)\n",
    "    for key in kwargs:\n",
    "        params[key] = kwargs[key]\n",
    "            \n",
    "    flow = cv2.calcOpticalFlowFarneback(x_0.astype(np.float) / 255, \n",
    "                                        x_1.astype(np.float) / 255, \n",
    "                                        None, **params)\n",
    "    return flow[:,:,0], flow[:,:,1]\n",
    "\n",
    "\n",
    "PYFLOW_PARAMS = dict(\n",
    "    alpha=0.008, # 0.012,\n",
    "    ratio=0.75,\n",
    "    minWidth=5, # 20,\n",
    "    nOuterFPIterations=7,\n",
    "    nInnerFPIterations=1,\n",
    "    nSORIterations=30,\n",
    "    colType=1,  # 0 or default:RGB, 1:GRAY (but pass gray image with shape (h,w,1))\n",
    ")\n",
    "\n",
    "PYFLOW_FLOW_TOLERANCE = 0.75\n",
    "\n",
    "def flow_pyflow(x_0, x_1, **kwargs):\n",
    "    params = copy.copy(PYFLOW_PARAMS)\n",
    "    for key in kwargs:\n",
    "        params[key] = kwargs[key]\n",
    "            \n",
    "    x_flow, y_flow, _ =  pyflow.coarse2fine_flow(np.expand_dims(x_0.astype(np.float) / 255, 2), \n",
    "                                                 np.expand_dims(x_1.astype(np.float) / 255, 2), \n",
    "                                                 **params)\n",
    "    return x_flow, y_flow\n",
    "\n",
    "\n",
    "PYOPTFLOW_PARAMS = dict(\n",
    "    alpha=0.5, # 1.0\n",
    "    Niter=100,\n",
    ")\n",
    "\n",
    "\n",
    "def flow_pyoptflow(x_0, x_1, **kwargs):\n",
    "    params = copy.copy(PYOPTFLOW_PARAMS)\n",
    "    for key in kwargs:\n",
    "        params[key] = kwargs[key]\n",
    "            \n",
    "    return pyoptflow.HornSchunck(x_0.astype(np.float) / 255, x_1.astype(np.float) / 255, **params)\n",
    "\n",
    "\n",
    "PYOPTFLOW_FLOW_TOLERANCE = 0.1\n",
    "\n",
    "\n",
    "FARNEBACK_CONFIG = (flow_farneback, 'Farneback', FARNEBACK_FLOW_TOLERANCE)\n",
    "PYFLOW_CONFIG = (flow_pyflow, 'pyflow', PYFLOW_FLOW_TOLERANCE)\n",
    "PYOPTFLOW_CONFIG = (flow_pyoptflow, 'pyoptflow', PYOPTFLOW_FLOW_TOLERANCE)\n",
    "\n",
    "\n",
    "def make_blur_func(kernel_size):\n",
    "    def blur_denoise(img, mask):\n",
    "        return np.multiply(cv2.blur(img, kernel_size), mask)\n",
    "    \n",
    "    return blur_denoise\n",
    "\n",
    "denoise = make_blur_func((13, 9))\n",
    "\n",
    "\n",
    "def flow_mask_combination(mask, flow_x, flow_y, threshold, should_threshold=True, should_sign=False, should_blur=False):\n",
    "    output_flows = []\n",
    "    for flow in (flow_x, flow_y):\n",
    "        flow = np.copy(flow)\n",
    "        \n",
    "        if should_threshold:\n",
    "            flow[np.abs(flow) < threshold] = 0\n",
    "        \n",
    "        output = flow * mask\n",
    "        \n",
    "        if should_sign:\n",
    "            output = np.sign(output)\n",
    "        \n",
    "        if should_blur:\n",
    "            output = denoise(output, mask)\n",
    "        \n",
    "            \n",
    "        output_flows.append(output)\n",
    "\n",
    "    return output_flows\n",
    "\n",
    "def plot_with_flows(frame_indices, flow_config, maskers, masker_names, add_colorbars=False, should_threshold=True, should_sign=False, should_blur=False):\n",
    "    NROWS = 1\n",
    "    NCOLS = 3 + 2 * len(maskers)\n",
    "    COL_WIDTH = 4\n",
    "    ROW_HEIGHT = 4 \n",
    "    WIDTH_SPACING = 0.5\n",
    "    HEIGHT_SPACING = 0\n",
    "    \n",
    "    flow_func, flow_name, flow_threshold = flow_config\n",
    "    \n",
    "    for frame_index in frame_indices:\n",
    "        figure = plt.figure(figsize=(NCOLS * COL_WIDTH + WIDTH_SPACING, NROWS * ROW_HEIGHT + HEIGHT_SPACING))\n",
    "        plt.subplots_adjust(wspace=0.2)\n",
    "        plt.suptitle(f'Frame {frame_index}')\n",
    "\n",
    "        full_color_frame = states_300_0_color[frame_index]\n",
    "        gray_prev_frame, gray_frame = resize_func(states_300_0_gray[frame_index - 1]), resize_func(states_300_0_gray[frame_index])\n",
    "\n",
    "        for i, img in enumerate((gray_prev_frame, gray_frame)):\n",
    "            ax = plt.subplot(NROWS, NCOLS, i + 1)\n",
    "            ax.imshow(img, cmap='gray')\n",
    "            ax.set_title(f'Frame {frame_index + i}')\n",
    "\n",
    "        # Plot subtraction between them\n",
    "        ax = plt.subplot(NROWS, NCOLS, 3)\n",
    "        ax.imshow(gray_prev_frame - gray_frame, cmap='gray')\n",
    "        ax.set_title(f'$\\\\Delta$')\n",
    "        \n",
    "        flow_x, flow_y = flow_func(gray_prev_frame, gray_frame)\n",
    "        \n",
    "        for masker_index, (masker, name) in enumerate(zip(maskers, masker_names)):\n",
    "            mask = resize_func(masker(full_color_frame).astype(np.uint8))\n",
    "            masked_flow_x, masked_flow_y = flow_mask_combination(mask, flow_x, flow_y, flow_threshold, should_threshold, should_blur, should_sign)\n",
    "            \n",
    "            normalizer = matplotlib.colors.Normalize(min(np.min(flow_x), np.min(flow_y)), \n",
    "                                                     max(np.max(flow_x), np.max(flow_y)))\n",
    "\n",
    "            x_ax = plt.subplot(NROWS, NCOLS, 4 + (masker_index * 2))\n",
    "            x_res = x_ax.imshow(masked_flow_x, cmap='gray', norm=normalizer)\n",
    "            if add_colorbars: figure.colorbar(x_res, ax=x_ax)\n",
    "            x_ax.set_title(f'{name} x-flow')\n",
    "\n",
    "            y_ax = plt.subplot(NROWS, NCOLS, 5 + (masker_index * 2))\n",
    "            y_res = y_ax.imshow(masked_flow_y, cmap='gray', norm=normalizer)\n",
    "            if add_colorbars: figure.colorbar(y_res, ax=y_ax)\n",
    "            y_ax.set_title(f'{name} y-flow')\n",
    "\n",
    "        plt.show()"
   ]
  },
  {
   "cell_type": "code",
   "execution_count": null,
   "metadata": {
    "scrolled": false
   },
   "outputs": [],
   "source": [
    "maskers = (player_masker, floe_masker, bad_animal_masker)\n",
    "masker_names = ('Player', 'Floes', 'Bad Animals')\n",
    "modified_config = (flow_farneback, 'Farneback', 5e-5)\n",
    "\n",
    "plot_with_flows(range(130, 140), modified_config, maskers, masker_names, should_sign=True) #, should_blur=True, should_sign=True) #, should_sign=True)"
   ]
  },
  {
   "cell_type": "code",
   "execution_count": null,
   "metadata": {},
   "outputs": [],
   "source": [
    "def plot_frames_step_by_step(frame_indices, flow_config, masker, masker_name, add_colorbars=False, should_threshold=True, should_sign=False, should_blur=False):\n",
    "    NROWS = 1\n",
    "    NCOLS = 5 + should_threshold + should_blur + should_sign\n",
    "    COL_WIDTH = 4\n",
    "    ROW_HEIGHT = 4 \n",
    "    WIDTH_SPACING = 0.5\n",
    "    HEIGHT_SPACING = 0\n",
    "    \n",
    "    flow_func, flow_name, flow_threshold = flow_config\n",
    "    \n",
    "    for frame_index in frame_indices:\n",
    "        full_color_frame = states_300_0_color[frame_index]\n",
    "        gray_prev_frame, gray_frame = resize_func(states_300_0_gray[frame_index - 1]), resize_func(states_300_0_gray[frame_index])\n",
    "        \n",
    "        flow_x, flow_y = flow_func(gray_prev_frame, gray_frame)\n",
    "        mask = resize_func(masker(full_color_frame).astype(np.uint8))\n",
    "        \n",
    "        for flow, direction in zip((flow_x, flow_y), ('X', 'Y')):\n",
    "            figure = plt.figure(figsize=(NCOLS * COL_WIDTH + WIDTH_SPACING, NROWS * ROW_HEIGHT + HEIGHT_SPACING))\n",
    "            plt.subplots_adjust(wspace=0.2)\n",
    "            plt.suptitle(f'Frame {frame_index} {direction}')\n",
    "\n",
    "            for i, img in enumerate((gray_prev_frame, gray_frame)):\n",
    "                ax = plt.subplot(NROWS, NCOLS, i + 1)\n",
    "                ax.imshow(img, cmap='gray')\n",
    "                ax.set_title(f'Frame {frame_index - i + }')\n",
    "\n",
    "            # Plot subtraction between them\n",
    "            delta_ax = plt.subplot(NROWS, NCOLS, 3)\n",
    "            delta_ax.imshow(gray_prev_frame - gray_frame, cmap='gray')\n",
    "            delta_ax.set_title(f'$\\\\Delta$')\n",
    "        \n",
    "            raw_flow_ax = plt.subplot(NROWS, NCOLS, 4)\n",
    "            raw_flow_ax.imshow(flow, cmap='gray')\n",
    "            raw_flow_ax.set_title('Raw flow')\n",
    "            \n",
    "            if should_threshold:\n",
    "                flow[np.abs(flow) < flow_threshold] = 0\n",
    "                thresh_flow_ax = plt.subplot(NROWS, NCOLS, 5)\n",
    "                thresh_flow_ax.imshow(flow, cmap='gray')\n",
    "                thresh_flow_ax.set_title('Thresholded flow')\n",
    "\n",
    "            output = flow * mask\n",
    "            masked_flow_ax = plt.subplot(NROWS, NCOLS, 5 + should_threshold)\n",
    "            masked_flow_ax.imshow(output, cmap='gray')\n",
    "            masked_flow_ax.set_title('Masked flow')\n",
    "\n",
    "            if should_sign:\n",
    "                output = np.sign(output)\n",
    "                signed_flow_ax = plt.subplot(NROWS, NCOLS, 6 + should_threshold)\n",
    "                signed_flow_ax.imshow(output, cmap='gray')\n",
    "                signed_flow_ax.set_title('Signed flow')\n",
    "\n",
    "            if should_blur:\n",
    "                output = denoise(output, mask)\n",
    "                blurred_flow_ax = plt.subplot(NROWS, NCOLS, 6 + should_threshold + should_sign)\n",
    "                blurred_flow_ax.imshow(output, cmap='gray')\n",
    "                blurred_flow_ax.set_title('Denoised flow')\n",
    "\n",
    "            plt.show()"
   ]
  },
  {
   "cell_type": "code",
   "execution_count": null,
   "metadata": {
    "scrolled": false
   },
   "outputs": [],
   "source": [
    "maskers = (player_masker, floe_masker, bad_animal_masker)\n",
    "masker_names = ('Player', 'Floes', 'Bad Animals')\n",
    "modified_config = (flow_farneback, 'Farneback', 5e-5)\n",
    "\n",
    "plot_frames_step_by_step(range(130, 140), modified_config, floe_masker, 'Floes', should_sign=True, should_blur=True, )"
   ]
  },
  {
   "cell_type": "code",
   "execution_count": null,
   "metadata": {},
   "outputs": [],
   "source": [
    "frame_index = 132\n",
    "gray_prev_frame, gray_frame = states_300_0_gray[frame_index - 1], states_300_0_gray[frame_index]\n",
    "plt.imshow(gray_frame - gray_prev_frame, cmap='gray')"
   ]
  },
  {
   "cell_type": "code",
   "execution_count": null,
   "metadata": {},
   "outputs": [],
   "source": []
  }
 ],
 "metadata": {
  "kernelspec": {
   "display_name": "Python 3",
   "language": "python",
   "name": "python3"
  },
  "language_info": {
   "codemirror_mode": {
    "name": "ipython",
    "version": 3
   },
   "file_extension": ".py",
   "mimetype": "text/x-python",
   "name": "python",
   "nbconvert_exporter": "python",
   "pygments_lexer": "ipython3",
   "version": "3.7.4"
  }
 },
 "nbformat": 4,
 "nbformat_minor": 2
}
