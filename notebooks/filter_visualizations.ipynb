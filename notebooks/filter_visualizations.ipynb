{
 "cells": [
  {
   "cell_type": "code",
   "execution_count": 1,
   "metadata": {},
   "outputs": [],
   "source": [
    "%load_ext autoreload\n",
    "%autoreload 2\n",
    "%matplotlib inline"
   ]
  },
  {
   "cell_type": "code",
   "execution_count": 2,
   "metadata": {},
   "outputs": [
    {
     "data": {
      "text/html": [
       "<style>.container { width:98% !important; }</style>"
      ],
      "text/plain": [
       "<IPython.core.display.HTML object>"
      ]
     },
     "metadata": {},
     "output_type": "display_data"
    }
   ],
   "source": [
    "from IPython.core.display import display, HTML\n",
    "display(HTML(\"<style>.container { width:98% !important; }</style>\"))"
   ]
  },
  {
   "cell_type": "code",
   "execution_count": 3,
   "metadata": {},
   "outputs": [
    {
     "name": "stdout",
     "output_type": "stream",
     "text": [
      "\u001b[34m\u001b[1mwandb\u001b[0m: Appending key for api.wandb.ai to your netrc file: /home/gd1279/.netrc\r\n",
      "\u001b[32mSuccessfully logged in to Weights & Biases!\u001b[0m\r\n"
     ]
    }
   ],
   "source": [
    "!wandb login 9676e3cc95066e4865586082971f2653245f09b4"
   ]
  },
  {
   "cell_type": "code",
   "execution_count": 4,
   "metadata": {},
   "outputs": [],
   "source": [
    "import sys\n",
    "sys.path.append('/home/gd1279/projects/Rainbow')"
   ]
  },
  {
   "cell_type": "code",
   "execution_count": 105,
   "metadata": {},
   "outputs": [],
   "source": [
    "import numpy as np\n",
    "import pandas as pd\n",
    "import scipy\n",
    "from scipy import stats\n",
    "from scipy.special import factorial\n",
    "\n",
    "from mpl_toolkits.mplot3d import Axes3D\n",
    "import matplotlib\n",
    "import matplotlib.pyplot as plt\n",
    "from matplotlib import patches\n",
    "from matplotlib import path as mpath\n",
    "import matplotlib.gridspec as gridspec\n",
    "\n",
    "import pickle\n",
    "import tabulate\n",
    "import wandb\n",
    "from collections import defaultdict\n",
    "import os\n",
    "import argparse\n",
    "import atari_py\n",
    "import torch\n",
    "\n",
    "from agent import Agent\n",
    "from env import make_env\n",
    "from masker import ALL_MASKERS"
   ]
  },
  {
   "cell_type": "code",
   "execution_count": 123,
   "metadata": {},
   "outputs": [],
   "source": [
    "np.set_printoptions(precision=5)"
   ]
  },
  {
   "cell_type": "code",
   "execution_count": 6,
   "metadata": {},
   "outputs": [],
   "source": [
    "api = wandb.Api()"
   ]
  },
  {
   "cell_type": "code",
   "execution_count": 7,
   "metadata": {},
   "outputs": [],
   "source": [
    "CHECKPOINT_SCRATCH_FOLDER = '/scratch/gd1279'\n",
    "\n",
    "if not os.path.exists(CHECKPOINT_SCRATCH_FOLDER):\n",
    "    os.mkdir(CHECKPOINT_SCRATCH_FOLDER)"
   ]
  },
  {
   "cell_type": "markdown",
   "metadata": {},
   "source": [
    "# Recreate the args "
   ]
  },
  {
   "cell_type": "code",
   "execution_count": 8,
   "metadata": {},
   "outputs": [
    {
     "data": {
      "text/plain": [
       "_StoreAction(option_strings=['--heap-debug-file'], dest='heap_debug_file', nargs=None, const=None, default=None, type=None, choices=None, help=None, metavar=None)"
      ]
     },
     "execution_count": 8,
     "metadata": {},
     "output_type": "execute_result"
    }
   ],
   "source": [
    "# Note that hyperparameters may originally be reported in ATARI game frames instead of agent steps\n",
    "parser = argparse.ArgumentParser(description='Rainbow')\n",
    "parser.add_argument('--id', type=str, default='default', help='Experiment ID')\n",
    "parser.add_argument('--seed', type=int, default=123, help='Random seed')\n",
    "parser.add_argument('--disable-cuda', action='store_true', help='Disable CUDA')\n",
    "parser.add_argument('--game', type=str, default='space_invaders', choices=atari_py.list_games(), help='ATARI game')\n",
    "parser.add_argument('--T-max', type=int, default=int(50e6), metavar='STEPS', help='Number of training steps (4x number of frames)')\n",
    "parser.add_argument('--max-episode-length', type=int, default=int(108e3), metavar='LENGTH', help='Max episode length in game frames (0 to disable)')\n",
    "parser.add_argument('--history-length', type=int, default=4, metavar='T', help='Number of consecutive states processed')\n",
    "parser.add_argument('--architecture', type=str, default='canonical', choices=['canonical', 'data-efficient'], metavar='ARCH', help='Network architecture')\n",
    "parser.add_argument('--hidden-size', type=int, default=512, metavar='SIZE', help='Network hidden size')\n",
    "parser.add_argument('--noisy-std', type=float, default=0.1, metavar='σ', help='Initial standard deviation of noisy linear layers')\n",
    "parser.add_argument('--atoms', type=int, default=51, metavar='C', help='Discretised size of value distribution')\n",
    "parser.add_argument('--V-min', type=float, default=-10, metavar='V', help='Minimum of value distribution support')\n",
    "parser.add_argument('--V-max', type=float, default=10, metavar='V', help='Maximum of value distribution support')\n",
    "parser.add_argument('--model', type=str, metavar='PARAMS', help='Pretrained model (state dict)')\n",
    "parser.add_argument('--memory-capacity', type=int, default=int(1e6), metavar='CAPACITY', help='Experience replay memory capacity')\n",
    "parser.add_argument('--replay-frequency', type=int, default=4, metavar='k', help='Frequency of sampling from memory')\n",
    "parser.add_argument('--priority-exponent', type=float, default=0.5, metavar='ω', help='Prioritised experience replay exponent (originally denoted α)')\n",
    "parser.add_argument('--priority-weight', type=float, default=0.4, metavar='β', help='Initial prioritised experience replay importance sampling weight')\n",
    "parser.add_argument('--multi-step', type=int, default=3, metavar='n', help='Number of steps for multi-step return')\n",
    "parser.add_argument('--discount', type=float, default=0.99, metavar='γ', help='Discount factor')\n",
    "parser.add_argument('--target-update', type=int, default=int(8e3), metavar='τ', help='Number of steps after which to update target network')\n",
    "parser.add_argument('--reward-clip', type=int, default=1, metavar='VALUE', help='Reward clipping (0 to disable)')\n",
    "parser.add_argument('--learning-rate', type=float, default=0.0000625, metavar='η', help='Learning rate')\n",
    "parser.add_argument('--adam-eps', type=float, default=1.5e-4, metavar='ε', help='Adam epsilon')\n",
    "parser.add_argument('--batch-size', type=int, default=32, metavar='SIZE', help='Batch size')\n",
    "parser.add_argument('--learn-start', type=int, default=int(20e3), metavar='STEPS', help='Number of steps before starting training')\n",
    "parser.add_argument('--evaluate', action='store_true', help='Evaluate only')\n",
    "parser.add_argument('--evaluation-interval', type=int, default=100000, metavar='STEPS', help='Number of training steps between evaluations')\n",
    "parser.add_argument('--evaluation-episodes', type=int, default=10, metavar='N', help='Number of evaluation episodes to average over')\n",
    "parser.add_argument('--evaluation-size', type=int, default=500, metavar='N', help='Number of transitions to use for validating Q')\n",
    "parser.add_argument('--render', action='store_true', help='Display screen (testing only)')\n",
    "parser.add_argument('--enable-cudnn', action='store_true', help='Enable cuDNN (faster but nondeterministic)')\n",
    "parser.add_argument('--save-evaluation-gifs', action='store_true', help='Save GIFs of evaluation episodes')\n",
    "parser.add_argument('--evaluation-gif-folder', default=None, help='Folder to save evaluation GIFs in')\n",
    "parser.add_argument('--save-evaluation-states', action='store_true', help='Save the states of evaluation episodes')\n",
    "parser.add_argument('--evaluation-state-folder', default=None, help='Folder to save evaluation state in')\n",
    "\n",
    "# Custom arguments I added\n",
    "\n",
    "SCRATCH_FOLDER = r'/misc/vlgscratch4/LakeGroup/guy/'\n",
    "\n",
    "DEFUALT_WANDB_ENTITY = 'augmented-frostbite'\n",
    "parser.add_argument('--wandb-entity', default=DEFUALT_WANDB_ENTITY)\n",
    "DEFAULT_WANDB_PROJECT = 'initial-experiments'\n",
    "parser.add_argument('--wandb-project', default=DEFAULT_WANDB_PROJECT)\n",
    "DEFAULT_WANDB_DIR = SCRATCH_FOLDER  # wandb creates its own folder inside\n",
    "parser.add_argument('--wandb-dir', default=DEFAULT_WANDB_DIR)\n",
    "parser.add_argument('--wandb-omit-watch', action='store_true')\n",
    "parser.add_argument('--wandb-resume', action='store_true')\n",
    "DEFAULT_MEMORY_SAVE_FOLDER = os.path.join(SCRATCH_FOLDER, 'rainbow_memory')\n",
    "parser.add_argument('--memory-save-folder', default=DEFAULT_MEMORY_SAVE_FOLDER)\n",
    "parser.add_argument('--memory-save-interval', type=int, default=None, help='How often to save the memory, defaults to the evaluation interval')\n",
    "parser.add_argument('--use-native-pickle-serialization', action='store_true', help='Use native pickle saving rather than torch.save()')\n",
    "\n",
    "# Arguments for the augmented representations\n",
    "parser.add_argument('--add-masks', action='store_true', help='Add masks for each semantic object types')\n",
    "parser.add_argument('--maskers', default=None, help='Select specific maskers to use')\n",
    "parser.add_argument('--use-numpy-masker', action='store_true', help='Use the previous, much slower numpy-based masker')\n",
    "parser.add_argument('--omit-pixels', action='store_true', help='Omit the raw pixels from the environment')\n",
    "\n",
    "# Arguments to give it a soft time cap that will help it not fail\n",
    "parser.add_argument('--soft-time-cap', help='Format: <DD>:HH:MM, stop after some soft cap such that the saving the memory does not fail')\n",
    "\n",
    "# Debugging-related arguments\n",
    "parser.add_argument('--debug-heap', action='store_true')\n",
    "parser.add_argument('--heap-interval', default=1e4)\n",
    "parser.add_argument('--heap-debug-file', default=None)\n"
   ]
  },
  {
   "cell_type": "markdown",
   "metadata": {},
   "source": [
    "# Load a sample run, model, try to plot filters"
   ]
  },
  {
   "cell_type": "code",
   "execution_count": 149,
   "metadata": {},
   "outputs": [],
   "source": [
    "def download_checkpoint(run, step=None):\n",
    "    files = run.files()\n",
    "    if step is None:\n",
    "        step = max([int(f.name[f.name.rfind('-') + 1:f.name.rfind('.')]) \n",
    "                    for f in files \n",
    "                    if f.name.endswith('.pth')])\n",
    "        \n",
    "    sample_name = [f.name for f in files if f.name.endswith('.pth')][0]\n",
    "    checkpoint_name = sample_name[:sample_name.rfind('-')]\n",
    "    checkpoint_file = f'{checkpoint_name}-{step}.pth'\n",
    "    run.file(checkpoint_file).download(replace=True, root=CHECKPOINT_SCRATCH_FOLDER)\n",
    "    return os.path.join(CHECKPOINT_SCRATCH_FOLDER, checkpoint_file)\n",
    "\n",
    "\n",
    "def setup_args(run):\n",
    "    args = parser.parse_args([])\n",
    "    config = run.config\n",
    "    \n",
    "    for key in config:\n",
    "        if key in args:\n",
    "            args.__setattr__(key, config[key])\n",
    "            \n",
    "    np.random.seed(args.seed)\n",
    "    torch.manual_seed(args.seed)\n",
    "\n",
    "    if torch.cuda.is_available() and not args.disable_cuda:\n",
    "        args.device = torch.device('cuda')\n",
    "        # torch.cuda.manual_seed(np.random.randint(1, 10000))\n",
    "        torch.cuda.manual_seed(args.seed)\n",
    "        torch.backends.cudnn.enabled = args.enable_cudnn\n",
    "    else:\n",
    "        args.device = torch.device('cpu')\n",
    "            \n",
    "    return args\n",
    "\n",
    "\n",
    "LOADED_MODEL_CACHE = {}\n",
    "\n",
    "\n",
    "def load_model_from_run(run, cache=LOADED_MODEL_CACHE):\n",
    "    if run not in cache:\n",
    "        checkpoint_path = download_checkpoint(run)\n",
    "        args = setup_args(run)\n",
    "        args.model = checkpoint_path\n",
    "\n",
    "        env = make_env(args)\n",
    "        dqn = Agent(args, env)\n",
    "        cache[run] = dqn, env\n",
    "        \n",
    "    return cache[run]"
   ]
  },
  {
   "cell_type": "markdown",
   "metadata": {},
   "source": [
    "# Implement some analysis functions"
   ]
  },
  {
   "cell_type": "code",
   "execution_count": 153,
   "metadata": {},
   "outputs": [],
   "source": [
    "def first_layer_filter_sums(model, absolute=True):\n",
    "    weight = model.online_net.convs[0].weight.detach()\n",
    "    if absolute:\n",
    "        weight = weight.abs()\n",
    "        \n",
    "    return weight.sum(3).sum(2).cpu().numpy()\n",
    "\n",
    "\n",
    "def first_layer_per_frame(model, absolute=True, channels_per_frame=9, ratio=True):\n",
    "    first_layer = first_layer_filter_sums(model, absolute)\n",
    "    per_frame_sums = np.array([first_layer[:, i * channels_per_frame:(i + 1) * channels_per_frame].sum() for i in range(4)])\n",
    "    if ratio:\n",
    "        return per_frame_sums / np.max(per_frame_sums)\n",
    "    \n",
    "    return per_frame_sums\n",
    "\n",
    "\n",
    "def first_layer_per_channel(model, absolute=True, channels_per_frame=9, ratio=True):\n",
    "    first_layer = first_layer_filter_sums(model, absolute)\n",
    "    per_channel_sums = [first_layer[:, list(np.arange(4) * (i + 1))].sum() for i in range(channels_per_frame)]\n",
    "    if ratio:\n",
    "        return per_channel_sums / np.max(per_channel_sums)\n",
    "    return per_channel_sums\n",
    "\n",
    "\n",
    "def find_top_correlations(model, absolute=False, top_k=5, use_all_frames=False, channels_per_frame=9):\n",
    "    first_layer = first_layer_filter_sums(model, absolute)\n",
    "    \n",
    "    if use_all_frames:\n",
    "        cols = [first_layer[:, i * channels_per_frame:(i + 1) * channels_per_frame] for i in range(4)]\n",
    "        data = np.vstack(cols)\n",
    "        \n",
    "    else:\n",
    "        data = first_layer[:, -channels_per_frame:]\n",
    "        \n",
    "    df = pd.DataFrame(data)\n",
    "    corrs = np.array(df.corr())\n",
    "    # take only elements above the diagonal, sort by absolute correlation coefficient, select top_k\n",
    "    top_corrs = sorted([(corrs[x], x) for x in zip(*np.triu_indices(corrs.shape[0], k=1))], \n",
    "                       key=lambda t: abs(t[0]), reverse=True)[:top_k]\n",
    "    return top_corrs\n",
    "\n",
    "\n",
    "def masker_def_indices_to_names(env):\n",
    "    return [[key for key in ALL_MASKERS if ALL_MASKERS[key] == masker_def][0] for masker_def in env.masker.masker_definitions]\n",
    "\n",
    "\n",
    "def prettify(correlation_results):\n",
    "    return [(np.round(t[0], 5), t[1]) for t in correlation_results]\n",
    "\n",
    "\n",
    "def compute_filter_statistics(run, channels_per_frame=9, top_k=5):\n",
    "    model, env = load_model_from_run(run)\n",
    "    \n",
    "    print(f'First layer absolute frame ratio:\\n{first_layer_per_frame(model, channels_per_frame=channels_per_frame)}')\n",
    "    print(f'First layer frame sums:\\n{first_layer_per_frame(model, absolute=False, ratio=False, channels_per_frame=channels_per_frame)}')\n",
    "    print()\n",
    "    print(f'First layer absolute channel ratios:\\n{first_layer_per_channel(model, channels_per_frame=channels_per_frame)}')\n",
    "    print(f'First layer channel sums:\\n{first_layer_per_channel(model,  absolute=False, ratio=False, channels_per_frame=channels_per_frame)}')\n",
    "    print()\n",
    "    print(f'First layer last frame top channel correlations:\\n{prettify(find_top_correlations(model, top_k=top_k, channels_per_frame=channels_per_frame))}')\n",
    "    print(f'First layer all frames top channel correlations:\\n{prettify(find_top_correlations(model, top_k=top_k, use_all_frames=True, channels_per_frame=channels_per_frame))}')\n",
    "    print(f'First layer absolute last frame top channel correlations:\\n{prettify(find_top_correlations(model, absolute=True, top_k=top_k, channels_per_frame=channels_per_frame))}')\n",
    "    print()\n",
    "    \n",
    "    \n",
    "def average_correlations_over_all_runs(runs, absolute=False, use_all_frames=False, channels_per_frame=9):\n",
    "    correlations = []\n",
    "    for run in runs:\n",
    "        model, env = load_model_from_run(run)\n",
    "        first_layer = first_layer_filter_sums(model, absolute)\n",
    "    \n",
    "        if use_all_frames:\n",
    "            cols = [first_layer[:, i * channels_per_frame:(i + 1) * channels_per_frame] for i in range(4)]\n",
    "            data = np.vstack(cols)\n",
    "\n",
    "        else:\n",
    "            data = first_layer[:, -channels_per_frame:]\n",
    "\n",
    "        df = pd.DataFrame(data)\n",
    "        correlations.append(np.array(df.corr()))\n",
    "    \n",
    "    all_corrs = np.array(correlations)\n",
    "    return np.array(correlations).mean(0), all_corrs.std(0)"
   ]
  },
  {
   "cell_type": "markdown",
   "metadata": {},
   "source": [
    "# Trying this on all runs in a project"
   ]
  },
  {
   "cell_type": "code",
   "execution_count": 146,
   "metadata": {
    "scrolled": false
   },
   "outputs": [
    {
     "name": "stdout",
     "output_type": "stream",
     "text": [
      "309\n",
      "Loading pretrained model: /scratch/gd1279/masks-and-pixels-replication-309-10000000.pth\n",
      "First layer absolute frame ratio:\n",
      "[0.66001 0.5965  0.64668 1.     ]\n",
      "First layer frame sums:\n",
      "[-223.10484 -170.89482  -68.50803  -75.56364]\n",
      "\n",
      "First layer absolute channel ratios:\n",
      "[0.92371 0.82163 0.7772  0.69871 0.91221 0.79505 0.95452 1.      0.94269]\n",
      "First layer channel sums:\n",
      "[-52.08837, -84.69349, -69.920654, -69.84119, -40.565163, -44.896927, -137.11212, -127.862816, -23.047718]\n",
      "\n",
      "First layer last frame top channel correlations:\n",
      "[(-0.47051, (3, 8)), (0.444, (5, 6)), (-0.41673, (1, 7)), (0.40942, (5, 8)), (-0.38067, (1, 5))]\n",
      "First layer all frames top channel correlations:\n",
      "[(0.60091, (5, 6)), (0.29863, (0, 7)), (-0.2672, (1, 5)), (-0.25384, (3, 8)), (-0.2538, (0, 4))]\n",
      "First layer absolute last frame top channel correlations:\n",
      "[(0.68389, (5, 6)), (0.37177, (5, 7)), (-0.35244, (0, 3)), (-0.33389, (1, 7)), (0.33071, (0, 2))]\n",
      "\n",
      "308\n",
      "Loading pretrained model: /scratch/gd1279/masks-and-pixels-replication-308-10000000.pth\n",
      "First layer absolute frame ratio:\n",
      "[0.68706 0.63661 0.65172 1.     ]\n",
      "First layer frame sums:\n",
      "[-302.43964 -252.63791  -46.72182  -93.31825]\n",
      "\n",
      "First layer absolute channel ratios:\n",
      "[0.88413 0.78744 0.72771 0.62827 0.84894 0.72543 0.9566  1.      0.876  ]\n",
      "First layer channel sums:\n",
      "[-83.46881, -114.45392, -78.85474, -69.23105, -69.72837, -52.378857, -197.54575, -166.96744, -15.8885975]\n",
      "\n",
      "First layer last frame top channel correlations:\n",
      "[(0.58071, (1, 8)), (-0.55077, (2, 7)), (-0.54737, (4, 6)), (0.53218, (2, 4)), (-0.52554, (1, 6))]\n",
      "First layer all frames top channel correlations:\n",
      "[(0.58128, (5, 6)), (-0.49343, (2, 7)), (-0.42407, (0, 3)), (-0.42194, (4, 6)), (0.40838, (1, 8))]\n",
      "First layer absolute last frame top channel correlations:\n",
      "[(-0.49396, (1, 3)), (0.47047, (2, 7)), (0.41465, (5, 6)), (-0.38182, (1, 2)), (-0.35641, (0, 2))]\n",
      "\n",
      "307\n",
      "Loading pretrained model: /scratch/gd1279/masks-and-pixels-replication-307-10000000.pth\n",
      "First layer absolute frame ratio:\n",
      "[0.67031 0.62335 0.66141 1.     ]\n",
      "First layer frame sums:\n",
      "[-271.54645 -234.47357  -40.19987  -52.33242]\n",
      "\n",
      "First layer absolute channel ratios:\n",
      "[0.88896 0.82417 0.74371 0.64489 0.85039 0.7487  0.9214  1.      0.90687]\n",
      "First layer channel sums:\n",
      "[-96.27798, -133.26868, -104.44861, -45.706696, -62.320457, -59.977516, -156.64578, -125.07979, -26.890633]\n",
      "\n",
      "First layer last frame top channel correlations:\n",
      "[(0.59668, (0, 7)), (-0.49692, (1, 6)), (0.44412, (1, 8)), (0.3879, (3, 6)), (-0.34912, (0, 3))]\n",
      "First layer all frames top channel correlations:\n",
      "[(0.59425, (5, 6)), (0.47125, (0, 7)), (0.38832, (1, 8)), (-0.36907, (0, 3)), (0.36334, (0, 6))]\n",
      "First layer absolute last frame top channel correlations:\n",
      "[(-0.55961, (2, 6)), (0.38433, (5, 6)), (0.37481, (2, 7)), (-0.34681, (3, 7)), (-0.33935, (1, 2))]\n",
      "\n",
      "306\n",
      "Loading pretrained model: /scratch/gd1279/masks-and-pixels-replication-306-10000000.pth\n",
      "First layer absolute frame ratio:\n",
      "[0.67693 0.63804 0.65888 1.     ]\n",
      "First layer frame sums:\n",
      "[-262.4438  -194.70273  -63.66076  -39.72068]\n",
      "\n",
      "First layer absolute channel ratios:\n",
      "[0.93749 0.81373 0.73585 0.69035 0.88038 0.73005 0.93987 1.      0.89799]\n",
      "First layer channel sums:\n",
      "[-78.32654, -93.2702, -70.807205, -44.916306, -31.74749, -33.728447, -168.90323, -125.32666, -5.0995097]\n",
      "\n",
      "First layer last frame top channel correlations:\n",
      "[(0.56239, (3, 5)), (-0.43962, (3, 8)), (0.40123, (4, 7)), (-0.39693, (1, 2)), (-0.39555, (1, 4))]\n",
      "First layer all frames top channel correlations:\n",
      "[(0.43913, (5, 6)), (0.38469, (0, 7)), (-0.34127, (1, 3)), (0.33882, (3, 5)), (-0.33677, (3, 8))]\n",
      "First layer absolute last frame top channel correlations:\n",
      "[(-0.66938, (1, 7)), (0.5243, (3, 5)), (0.38969, (2, 7)), (-0.36367, (5, 8)), (-0.36315, (0, 1))]\n",
      "\n",
      "304\n",
      "Loading pretrained model: /scratch/gd1279/masks-and-pixels-replication-304-10000000.pth\n",
      "First layer absolute frame ratio:\n",
      "[0.66092 0.62281 0.65621 1.     ]\n",
      "First layer frame sums:\n",
      "[-274.64954 -262.0523   -90.59787  -65.31461]\n",
      "\n",
      "First layer absolute channel ratios:\n",
      "[0.87948 0.77215 0.66253 0.64606 0.79763 0.67138 0.90848 1.      0.78044]\n",
      "First layer channel sums:\n",
      "[-94.39353, -110.49765, -89.279175, -45.02277, -79.553925, -53.418446, -188.78549, -142.4904, -37.412426]\n",
      "\n",
      "First layer last frame top channel correlations:\n",
      "[(0.55662, (4, 7)), (0.51324, (3, 5)), (-0.46584, (3, 8)), (0.45492, (5, 6)), (-0.42948, (2, 3))]\n",
      "First layer all frames top channel correlations:\n",
      "[(0.59364, (5, 6)), (0.37969, (3, 5)), (0.36724, (4, 7)), (-0.36379, (3, 8)), (-0.31673, (2, 5))]\n",
      "First layer absolute last frame top channel correlations:\n",
      "[(0.58147, (5, 6)), (0.50585, (4, 7)), (0.44374, (3, 5)), (-0.41896, (2, 6)), (-0.3752, (1, 7))]\n",
      "\n",
      "305\n",
      "Loading pretrained model: /scratch/gd1279/masks-and-pixels-replication-305-10000000.pth\n",
      "First layer absolute frame ratio:\n",
      "[0.67664 0.62337 0.66533 1.     ]\n",
      "First layer frame sums:\n",
      "[-199.75214 -171.14728  -73.80345  -86.96486]\n",
      "\n",
      "First layer absolute channel ratios:\n",
      "[0.969   0.86238 0.8257  0.7118  0.94104 0.80797 0.90432 1.      0.98075]\n",
      "First layer channel sums:\n",
      "[-72.22725, -100.18541, -82.686935, -39.87912, -72.923256, -68.5648, -106.37117, -80.04495, -25.023693]\n",
      "\n",
      "First layer last frame top channel correlations:\n",
      "[(-0.56077, (0, 4)), (-0.54196, (1, 3)), (-0.53493, (1, 6)), (-0.51542, (3, 8)), (0.47577, (1, 8))]\n",
      "First layer all frames top channel correlations:\n",
      "[(0.62402, (5, 6)), (-0.41227, (0, 4)), (-0.36101, (1, 6)), (-0.34963, (1, 3)), (-0.34388, (3, 8))]\n",
      "First layer absolute last frame top channel correlations:\n",
      "[(0.51412, (5, 6)), (0.51125, (2, 7)), (-0.36279, (1, 2)), (-0.36187, (2, 6)), (-0.33397, (3, 8))]\n",
      "\n",
      "302\n",
      "Loading pretrained model: /scratch/gd1279/masks-and-pixels-replication-302-10000000.pth\n",
      "First layer absolute frame ratio:\n",
      "[0.67235 0.61217 0.65446 1.     ]\n",
      "First layer frame sums:\n",
      "[-287.2221  -217.46194    5.69629  -29.65261]\n",
      "\n",
      "First layer absolute channel ratios:\n",
      "[0.92004 0.81897 0.7331  0.65867 0.86282 0.74983 0.93178 1.      0.88952]\n",
      "First layer channel sums:\n",
      "[-100.15861, -118.72231, -88.46077, -60.490845, -59.93204, -46.599174, -180.77005, -144.50204, -26.502626]\n",
      "\n",
      "First layer last frame top channel correlations:\n",
      "[(-0.66011, (1, 7)), (0.61341, (1, 8)), (0.60468, (0, 7)), (-0.53579, (0, 1)), (-0.42457, (7, 8))]\n",
      "First layer all frames top channel correlations:\n",
      "[(0.59251, (0, 7)), (-0.44746, (0, 3)), (0.40918, (1, 8)), (-0.38245, (1, 7)), (-0.29155, (0, 1))]\n",
      "First layer absolute last frame top channel correlations:\n",
      "[(0.54707, (2, 7)), (-0.49109, (1, 3)), (-0.44678, (0, 4)), (0.43727, (5, 6)), (-0.41509, (4, 8))]\n",
      "\n",
      "303\n",
      "Loading pretrained model: /scratch/gd1279/masks-and-pixels-replication-303-10000000.pth\n",
      "First layer absolute frame ratio:\n",
      "[0.66664 0.60074 0.65171 1.     ]\n",
      "First layer frame sums:\n",
      "[-256.77142 -181.21118  -56.99107 -127.93609]\n",
      "\n",
      "First layer absolute channel ratios:\n",
      "[1.      0.83791 0.78441 0.72127 0.95312 0.7801  0.96175 0.9998  0.9608 ]\n",
      "First layer channel sums:\n",
      "[-80.60869, -111.804756, -85.716324, -64.15441, -61.89519, -53.47921, -152.30505, -113.3371, -13.344175]\n",
      "\n",
      "First layer last frame top channel correlations:\n",
      "[(-0.5939, (2, 7)), (0.4853, (1, 8)), (0.48363, (7, 8)), (0.48316, (5, 7)), (-0.4658, (1, 6))]\n",
      "First layer all frames top channel correlations:\n",
      "[(-0.53247, (2, 7)), (-0.4168, (3, 8)), (0.35229, (0, 6)), (0.31529, (5, 7)), (-0.27987, (1, 6))]\n",
      "First layer absolute last frame top channel correlations:\n",
      "[(0.44166, (2, 7)), (-0.42062, (4, 8)), (-0.32463, (1, 3)), (0.32121, (1, 5)), (-0.31835, (0, 2))]\n",
      "\n",
      "301\n",
      "Loading pretrained model: /scratch/gd1279/masks-and-pixels-replication-301-10000000.pth\n",
      "First layer absolute frame ratio:\n",
      "[0.67454 0.6311  0.6616  1.     ]\n",
      "First layer frame sums:\n",
      "[-274.85248 -234.46068  -90.57245  -67.92412]\n",
      "\n",
      "First layer absolute channel ratios:\n",
      "[0.90203 0.78903 0.70304 0.65263 0.8541  0.71577 0.89247 1.      0.86636]\n",
      "First layer channel sums:\n",
      "[-93.544815, -119.35254, -77.25917, -59.00792, -73.80394, -49.75728, -159.80594, -133.12357, -12.558761]\n",
      "\n",
      "First layer last frame top channel correlations:\n",
      "[(-0.6062, (2, 8)), (-0.5173, (1, 5)), (0.4742, (0, 5)), (-0.4686, (0, 4)), (-0.41202, (1, 7))]\n",
      "First layer all frames top channel correlations:\n",
      "[(0.40575, (0, 5)), (0.40555, (0, 7)), (-0.39131, (2, 8)), (-0.35395, (1, 5)), (-0.35123, (0, 4))]\n",
      "First layer absolute last frame top channel correlations:\n",
      "[(0.50056, (2, 7)), (0.41088, (7, 8)), (-0.38874, (5, 8)), (-0.38234, (0, 1)), (-0.37742, (2, 5))]\n",
      "\n",
      "300\n"
     ]
    },
    {
     "name": "stdout",
     "output_type": "stream",
     "text": [
      "Loading pretrained model: /scratch/gd1279/masks-and-pixels-replication-300-10000000.pth\n",
      "First layer absolute frame ratio:\n",
      "[0.66605 0.62802 0.65344 1.     ]\n",
      "First layer frame sums:\n",
      "[-226.72372 -215.11328   -3.16011  -25.78526]\n",
      "\n",
      "First layer absolute channel ratios:\n",
      "[0.94651 0.83171 0.73962 0.64616 0.91178 0.73974 0.88995 1.      0.86777]\n",
      "First layer channel sums:\n",
      "[-96.08168, -113.672264, -93.27403, -35.74564, -65.88256, -60.56411, -161.88898, -92.420425, -35.34289]\n",
      "\n",
      "First layer last frame top channel correlations:\n",
      "[(-0.56404, (7, 8)), (-0.55483, (0, 8)), (0.49747, (1, 8)), (0.46087, (2, 6)), (-0.4546, (0, 4))]\n",
      "First layer all frames top channel correlations:\n",
      "[(0.44621, (5, 6)), (0.40388, (0, 7)), (-0.37675, (0, 4)), (-0.37474, (0, 3)), (0.37145, (1, 8))]\n",
      "First layer absolute last frame top channel correlations:\n",
      "[(0.49388, (0, 6)), (0.4026, (5, 6)), (-0.38582, (2, 8)), (-0.32098, (1, 6)), (0.31542, (3, 5))]\n",
      "\n"
     ]
    }
   ],
   "source": [
    "for rep_run in api.runs('augmented-frostbite/masks-and-pixels-replication'):\n",
    "    print(rep_run.config['seed'])\n",
    "    compute_filter_statistics(rep_run)\n",
    "    "
   ]
  },
  {
   "cell_type": "code",
   "execution_count": 147,
   "metadata": {},
   "outputs": [
    {
     "name": "stdout",
     "output_type": "stream",
     "text": [
      "['player', 'bad_animal', 'land', 'bear', 'unvisited_floe', 'visited_floe', 'good_animal', 'igloo']\n"
     ]
    }
   ],
   "source": [
    "print(masker_def_indices_to_names(env))"
   ]
  },
  {
   "cell_type": "code",
   "execution_count": 161,
   "metadata": {},
   "outputs": [
    {
     "data": {
      "text/plain": [
       "<matplotlib.colorbar.Colorbar at 0x7ff0351cfd10>"
      ]
     },
     "execution_count": 161,
     "metadata": {},
     "output_type": "execute_result"
    },
    {
     "data": {
      "image/png": "[encoded data removed]",
      "text/plain": [
       "<Figure size 1152x576 with 4 Axes>"
      ]
     },
     "metadata": {
      "needs_background": "light"
     },
     "output_type": "display_data"
    }
   ],
   "source": [
    "mean, std = average_correlations_over_all_runs(api.runs('augmented-frostbite/masks-and-pixels-replication'))\n",
    "\n",
    "plt.figure(figsize=(16, 8))\n",
    "mean_ax = plt.subplot(1, 2, 1)\n",
    "ax_im = mean_ax.imshow(mean)\n",
    "plt.colorbar(ax_im, ax=mean_ax)\n",
    "\n",
    "std_ax = plt.subplot(1, 2, 2)\n",
    "ax_im = std_ax.imshow(std)\n",
    "plt.colorbar(ax_im, ax=std_ax)"
   ]
  },
  {
   "cell_type": "code",
   "execution_count": 165,
   "metadata": {
    "scrolled": false
   },
   "outputs": [
    {
     "data": {
      "text/plain": [
       "<matplotlib.colorbar.Colorbar at 0x7ff034d65850>"
      ]
     },
     "execution_count": 165,
     "metadata": {},
     "output_type": "execute_result"
    },
    {
     "data": {
      "image/png": "[encoded data removed]",
      "text/plain": [
       "<Figure size 1080x360 with 6 Axes>"
      ]
     },
     "metadata": {
      "needs_background": "light"
     },
     "output_type": "display_data"
    }
   ],
   "source": [
    "mean, std = average_correlations_over_all_runs(api.runs('augmented-frostbite/masks-and-pixels-replication'), use_all_frames=True)\n",
    "\n",
    "plt.figure(figsize=(15, 5))\n",
    "mean_ax = plt.subplot(1, 3, 1)\n",
    "ax_im = mean_ax.imshow(mean)\n",
    "plt.colorbar(ax_im, ax=mean_ax)\n",
    "\n",
    "std_ax = plt.subplot(1, 3, 2)\n",
    "ax_im = std_ax.imshow(std)\n",
    "plt.colorbar(ax_im, ax=std_ax)\n",
    "\n",
    "np.fill_diagonal(mean, 0)\n",
    "np.fill_diagonal(std, 1)\n",
    "\n",
    "ratio_ax = plt.subplot(1, 3, 3)\n",
    "ax_im = ratio_ax.imshow(mean / std)\n",
    "plt.colorbar(ax_im, ax=ratio_ax)"
   ]
  },
  {
   "cell_type": "markdown",
   "metadata": {},
   "source": [
    "# Let's try the other set of masks and pixels"
   ]
  },
  {
   "cell_type": "code",
   "execution_count": 166,
   "metadata": {
    "scrolled": false
   },
   "outputs": [
    {
     "name": "stdout",
     "output_type": "stream",
     "text": [
      "309\n",
      "Loading pretrained model: /scratch/gd1279/masks-and-pixels-309-6500000.pth\n",
      "First layer absolute frame ratio:\n",
      "[0.64969 0.57947 0.66044 1.     ]\n",
      "First layer frame sums:\n",
      "[-135.52032 -111.99203    7.38423   19.28746]\n",
      "\n",
      "First layer absolute channel ratios:\n",
      "[1.      0.83276 0.76596 0.71108 0.93893 0.78655 0.83539 0.92407 0.90015]\n",
      "First layer channel sums:\n",
      "[-43.46799, -62.52684, -60.849014, -43.463028, -47.551163, -40.309425, -75.868805, -63.36576, -22.89624]\n",
      "\n",
      "First layer last frame top channel correlations:\n",
      "[(0.47774, (0, 2)), (-0.4751, (0, 4)), (-0.44576, (4, 8)), (0.41593, (1, 8)), (-0.40935, (3, 8))]\n",
      "First layer all frames top channel correlations:\n",
      "[(0.39729, (5, 6)), (0.31216, (0, 2)), (-0.30373, (0, 4)), (-0.30178, (2, 7)), (-0.28271, (3, 8))]\n",
      "First layer absolute last frame top channel correlations:\n",
      "[(0.56895, (5, 7)), (0.53477, (0, 2)), (-0.32111, (6, 7)), (0.30946, (1, 4)), (0.30565, (2, 7))]\n",
      "\n",
      "308\n",
      "Loading pretrained model: /scratch/gd1279/masks-and-pixels-308-9900000.pth\n",
      "First layer absolute frame ratio:\n",
      "[0.67644 0.60896 0.662   1.     ]\n",
      "First layer frame sums:\n",
      "[-224.50064 -179.04146   -7.83777   27.18924]\n",
      "\n",
      "First layer absolute channel ratios:\n",
      "[0.963   0.82446 0.80187 0.68817 0.91509 0.78497 0.936   1.      0.9719 ]\n",
      "First layer channel sums:\n",
      "[-64.80523, -95.0849, -63.09957, -47.641098, -53.428696, -52.78974, -143.2937, -90.70114, -21.925613]\n",
      "\n",
      "First layer last frame top channel correlations:\n",
      "[(-0.57662, (1, 6)), (-0.44013, (3, 8)), (0.43313, (4, 7)), (0.42433, (2, 8)), (0.42056, (1, 8))]\n",
      "First layer all frames top channel correlations:\n",
      "[(0.38648, (1, 8)), (-0.36719, (0, 3)), (0.34738, (0, 7)), (0.32476, (4, 7)), (0.32125, (5, 6))]\n",
      "First layer absolute last frame top channel correlations:\n",
      "[(0.3525, (2, 3)), (0.35131, (3, 7)), (0.31671, (2, 7)), (0.30757, (5, 6)), (0.26409, (2, 8))]\n",
      "\n",
      "307\n",
      "Loading pretrained model: /scratch/gd1279/masks-and-pixels-307-5000000.pth\n",
      "First layer absolute frame ratio:\n",
      "[0.6905  0.62082 0.67389 1.     ]\n",
      "First layer frame sums:\n",
      "[-150.54007 -103.04826   49.9614    95.39822]\n",
      "\n",
      "First layer absolute channel ratios:\n",
      "[0.91945 0.77192 0.72609 0.63874 0.88841 0.74326 0.91592 1.      0.83871]\n",
      "First layer channel sums:\n",
      "[-52.717514, -55.352547, -36.671627, -29.46002, -20.297138, -15.778347, -105.65386, -61.25753, -10.383916]\n",
      "\n",
      "First layer last frame top channel correlations:\n",
      "[(-0.71745, (1, 7)), (-0.53505, (2, 7)), (-0.52669, (0, 4)), (-0.45867, (5, 6)), (0.44928, (1, 8))]\n",
      "First layer all frames top channel correlations:\n",
      "[(-0.50652, (2, 7)), (0.38161, (1, 8)), (-0.35659, (0, 3)), (0.34648, (0, 7)), (-0.32699, (1, 7))]\n",
      "First layer absolute last frame top channel correlations:\n",
      "[(0.52697, (5, 6)), (-0.40332, (3, 7)), (0.36222, (0, 8)), (-0.35897, (1, 2)), (0.34938, (2, 7))]\n",
      "\n",
      "306\n",
      "Loading pretrained model: /scratch/gd1279/masks-and-pixels-306-5000000.pth\n",
      "First layer absolute frame ratio:\n",
      "[0.68409 0.62006 0.67217 1.     ]\n",
      "First layer frame sums:\n",
      "[-183.8457  -153.28802  -23.92914   86.07458]\n",
      "\n",
      "First layer absolute channel ratios:\n",
      "[1.      0.84674 0.76362 0.67054 0.94658 0.75517 0.95599 0.99277 0.86916]\n",
      "First layer channel sums:\n",
      "[-64.774155, -102.9025, -68.31403, -44.716312, -49.375214, -44.67617, -119.00534, -65.536194, -12.251099]\n",
      "\n",
      "First layer last frame top channel correlations:\n",
      "[(0.57633, (3, 5)), (0.57264, (0, 7)), (-0.57038, (1, 7)), (0.48356, (3, 6)), (0.45012, (5, 6))]\n",
      "First layer all frames top channel correlations:\n",
      "[(0.53178, (5, 6)), (0.46644, (0, 7)), (0.40511, (1, 8)), (-0.35094, (2, 5)), (-0.31208, (2, 3))]\n",
      "First layer absolute last frame top channel correlations:\n",
      "[(0.6401, (5, 6)), (-0.41131, (1, 7)), (0.4095, (2, 3)), (0.39189, (3, 5)), (-0.32869, (0, 1))]\n",
      "\n",
      "305\n",
      "Loading pretrained model: /scratch/gd1279/masks-and-pixels-305-5000000.pth\n",
      "First layer absolute frame ratio:\n",
      "[0.68602 0.59664 0.65986 1.     ]\n",
      "First layer frame sums:\n",
      "[-167.73055 -103.87804   33.47564   63.49371]\n",
      "\n",
      "First layer absolute channel ratios:\n",
      "[1.      0.83454 0.73882 0.69293 0.89194 0.75043 0.85797 0.93955 0.90242]\n",
      "First layer channel sums:\n",
      "[-78.865555, -86.42411, -60.43241, -48.16091, -34.868828, -37.110367, -98.02582, -59.43784, -5.966853]\n",
      "\n",
      "First layer last frame top channel correlations:\n",
      "[(0.54643, (3, 5)), (0.51783, (0, 7)), (-0.49677, (0, 1)), (-0.48057, (1, 7)), (-0.47441, (2, 7))]\n",
      "First layer all frames top channel correlations:\n",
      "[(-0.44523, (2, 7)), (0.38901, (3, 5)), (0.37137, (0, 7)), (0.36627, (1, 8)), (0.33597, (0, 6))]\n",
      "First layer absolute last frame top channel correlations:\n",
      "[(0.60714, (2, 7)), (-0.44542, (1, 2)), (-0.42172, (0, 3)), (0.38662, (5, 6)), (-0.36282, (1, 3))]\n",
      "\n",
      "304\n",
      "Loading pretrained model: /scratch/gd1279/masks-and-pixels-304-7900000.pth\n",
      "First layer absolute frame ratio:\n",
      "[0.71782 0.64042 0.679   1.     ]\n",
      "First layer frame sums:\n",
      "[-233.83714 -176.94739   -7.03131   48.04214]\n",
      "\n",
      "First layer absolute channel ratios:\n",
      "[0.91476 0.80129 0.75478 0.67376 0.89444 0.76942 0.95039 1.      0.89302]\n",
      "First layer channel sums:\n",
      "[-78.15889, -85.47684, -63.27116, -49.74943, -51.352905, -36.977757, -151.969, -92.35634, -21.54953]\n",
      "\n",
      "First layer last frame top channel correlations:\n",
      "[(-0.55332, (1, 7)), (0.54229, (0, 7)), (-0.49425, (0, 3)), (-0.48121, (2, 6)), (-0.46481, (2, 3))]\n",
      "First layer all frames top channel correlations:\n",
      "[(-0.53273, (0, 3)), (0.41498, (0, 7)), (-0.37692, (2, 6)), (0.36873, (6, 7)), (-0.33931, (0, 4))]\n",
      "First layer absolute last frame top channel correlations:\n",
      "[(0.52281, (2, 7)), (-0.42382, (3, 7)), (-0.34949, (4, 6)), (0.31508, (3, 6)), (0.30716, (2, 8))]\n",
      "\n",
      "303\n",
      "Loading pretrained model: /scratch/gd1279/masks-and-pixels-303-5000000.pth\n",
      "First layer absolute frame ratio:\n",
      "[0.69279 0.61993 0.6669  1.     ]\n",
      "First layer frame sums:\n",
      "[-167.79933 -124.41922   31.50754   49.38337]\n",
      "\n",
      "First layer absolute channel ratios:\n",
      "[1.      0.81937 0.71177 0.68342 0.91928 0.72072 0.909   0.99    0.87082]\n",
      "First layer channel sums:\n",
      "[-71.75577, -78.29065, -71.46334, -19.656263, -48.85488, -37.045757, -117.31384, -54.091576, -7.768215]\n",
      "\n",
      "First layer last frame top channel correlations:\n",
      "[(0.79757, (5, 7)), (-0.68942, (6, 8)), (-0.62148, (3, 8)), (-0.58193, (1, 6)), (-0.50791, (1, 3))]\n",
      "First layer all frames top channel correlations:\n",
      "[(-0.54069, (6, 8)), (0.5203, (5, 7)), (-0.41214, (3, 8)), (0.41012, (0, 5)), (-0.39751, (2, 4))]\n",
      "First layer absolute last frame top channel correlations:\n",
      "[(0.63754, (5, 7)), (-0.55259, (4, 8)), (-0.52705, (0, 1)), (0.49463, (2, 7)), (-0.4749, (3, 6))]\n",
      "\n",
      "301\n",
      "Loading pretrained model: /scratch/gd1279/masks-and-pixels-301-8200000.pth\n",
      "First layer absolute frame ratio:\n",
      "[0.7093  0.64    0.69061 1.     ]\n",
      "First layer frame sums:\n",
      "[-194.32834 -134.74329   42.71841   66.20329]\n",
      "\n",
      "First layer absolute channel ratios:\n",
      "[0.98964 0.82884 0.75301 0.67162 0.95611 0.75977 0.95381 1.      0.8678 ]\n",
      "First layer channel sums:\n",
      "[-65.19979, -111.05789, -99.16456, -35.280216, -61.547195, -69.73801, -148.26016, -63.77948, -55.010616]\n",
      "\n",
      "First layer last frame top channel correlations:\n",
      "[(-0.58489, (2, 7)), (-0.5224, (0, 3)), (0.49743, (0, 7)), (0.47018, (1, 8)), (-0.46767, (1, 6))]\n",
      "First layer all frames top channel correlations:\n",
      "[(-0.50744, (0, 3)), (0.48367, (0, 7)), (-0.44605, (2, 7)), (0.4372, (5, 6)), (0.41056, (2, 4))]\n",
      "First layer absolute last frame top channel correlations:\n",
      "[(0.49667, (2, 5)), (0.44757, (5, 6)), (-0.41955, (4, 6)), (-0.33422, (1, 3)), (0.3274, (2, 7))]\n",
      "\n",
      "302\n",
      "Loading pretrained model: /scratch/gd1279/masks-and-pixels-302-5000000.pth\n",
      "First layer absolute frame ratio:\n",
      "[0.72498 0.63086 0.68541 1.     ]\n",
      "First layer frame sums:\n",
      "[-88.97151 -63.69363  22.84448  74.66756]\n",
      "\n",
      "First layer absolute channel ratios:\n",
      "[0.96288 0.81556 0.80911 0.71603 0.97646 0.81229 0.85727 0.92929 1.     ]\n",
      "First layer channel sums:\n",
      "[-37.758648, -64.005104, -57.884212, -33.01158, -35.531822, -44.120605, -48.36207, 11.553355, -18.453304]\n",
      "\n",
      "First layer last frame top channel correlations:\n",
      "[(-0.73809, (7, 8)), (-0.70447, (2, 5)), (0.7008, (1, 8)), (-0.60688, (1, 7)), (0.59732, (0, 7))]\n",
      "First layer all frames top channel correlations:\n",
      "[(0.5715, (1, 8)), (-0.53095, (2, 5)), (0.41072, (0, 7)), (0.33332, (5, 8)), (-0.32066, (2, 8))]\n",
      "First layer absolute last frame top channel correlations:\n",
      "[(0.46678, (1, 8)), (0.42113, (1, 4)), (-0.39504, (1, 5)), (0.37866, (0, 4)), (0.32304, (2, 5))]\n",
      "\n",
      "300\n"
     ]
    },
    {
     "name": "stdout",
     "output_type": "stream",
     "text": [
      "Loading pretrained model: /scratch/gd1279/masks-and-pixels-300-8300000.pth\n",
      "First layer absolute frame ratio:\n",
      "[0.66797 0.61295 0.65305 1.     ]\n",
      "First layer frame sums:\n",
      "[-203.44249 -197.00604  -40.02516  -19.73112]\n",
      "\n",
      "First layer absolute channel ratios:\n",
      "[0.97992 0.85128 0.75987 0.68033 0.9363  0.75562 0.93547 1.      0.90985]\n",
      "First layer channel sums:\n",
      "[-86.51997, -99.73883, -80.32704, -31.726664, -76.203865, -50.65677, -120.77095, -80.30168, -21.551199]\n",
      "\n",
      "First layer last frame top channel correlations:\n",
      "[(-0.54933, (1, 4)), (0.53846, (1, 8)), (-0.51735, (0, 3)), (0.4294, (4, 7)), (-0.41028, (3, 7))]\n",
      "First layer all frames top channel correlations:\n",
      "[(0.39558, (1, 8)), (0.37712, (5, 6)), (-0.36486, (0, 3)), (-0.35445, (1, 4)), (0.32462, (4, 7))]\n",
      "First layer absolute last frame top channel correlations:\n",
      "[(0.60332, (5, 6)), (0.44937, (2, 7)), (-0.37376, (1, 7)), (-0.3514, (4, 6)), (0.34015, (0, 5))]\n",
      "\n"
     ]
    }
   ],
   "source": [
    "for rep_run in api.runs('augmented-frostbite/masks-and-pixels-fixed-resume'):\n",
    "    print(rep_run.config['seed'])\n",
    "    compute_filter_statistics(rep_run)\n",
    "    "
   ]
  },
  {
   "cell_type": "code",
   "execution_count": 167,
   "metadata": {},
   "outputs": [
    {
     "data": {
      "text/plain": [
       "<matplotlib.colorbar.Colorbar at 0x7ff0349fde90>"
      ]
     },
     "execution_count": 167,
     "metadata": {},
     "output_type": "execute_result"
    },
    {
     "data": {
      "image/png": "[encoded data removed]",
      "text/plain": [
       "<Figure size 1080x360 with 6 Axes>"
      ]
     },
     "metadata": {
      "needs_background": "light"
     },
     "output_type": "display_data"
    }
   ],
   "source": [
    "mean, std = average_correlations_over_all_runs(api.runs('augmented-frostbite/masks-and-pixels-fixed-resume'), use_all_frames=True)\n",
    "\n",
    "plt.figure(figsize=(15, 5))\n",
    "mean_ax = plt.subplot(1, 3, 1)\n",
    "ax_im = mean_ax.imshow(mean)\n",
    "plt.colorbar(ax_im, ax=mean_ax)\n",
    "\n",
    "std_ax = plt.subplot(1, 3, 2)\n",
    "ax_im = std_ax.imshow(std)\n",
    "plt.colorbar(ax_im, ax=std_ax)\n",
    "\n",
    "np.fill_diagonal(mean, 0)\n",
    "np.fill_diagonal(std, 1)\n",
    "\n",
    "ratio_ax = plt.subplot(1, 3, 3)\n",
    "ax_im = ratio_ax.imshow(mean / std)\n",
    "plt.colorbar(ax_im, ax=ratio_ax)"
   ]
  },
  {
   "cell_type": "markdown",
   "metadata": {},
   "source": [
    "# And for the masks only"
   ]
  },
  {
   "cell_type": "code",
   "execution_count": 168,
   "metadata": {
    "scrolled": false
   },
   "outputs": [
    {
     "name": "stdout",
     "output_type": "stream",
     "text": [
      "302\n",
      "Loading pretrained model: /scratch/gd1279/masks-only-302-10000000.pth\n",
      "First layer absolute frame ratio:\n",
      "[0.63834 0.58108 0.64602 1.     ]\n",
      "First layer frame sums:\n",
      "[-222.5641  -195.01385  -39.85182  -40.85409]\n",
      "\n",
      "First layer absolute channel ratios:\n",
      "[0.56312 0.65718 0.68847 0.64889 0.5293  0.63551 0.71948 1.     ]\n",
      "First layer channel sums:\n",
      "[-87.19482, -138.81033, -163.60811, -67.55387, -49.662132, -118.76566, -77.99961, -39.942398]\n",
      "\n",
      "First layer last frame top channel correlations:\n",
      "[(0.62417, (0, 7)), (-0.59323, (0, 5)), (-0.59082, (2, 7)), (-0.56654, (0, 2)), (-0.49811, (5, 7))]\n",
      "First layer all frames top channel correlations:\n",
      "[(-0.54007, (2, 7)), (0.41949, (0, 7)), (0.41734, (4, 5)), (-0.40992, (0, 5)), (-0.32695, (0, 2))]\n",
      "First layer absolute last frame top channel correlations:\n",
      "[(0.4173, (1, 6)), (-0.37359, (1, 2)), (-0.36682, (6, 7)), (0.36205, (0, 7)), (0.31875, (4, 6))]\n",
      "\n",
      "301\n",
      "Loading pretrained model: /scratch/gd1279/masks-only-301-10000000.pth\n",
      "First layer absolute frame ratio:\n",
      "[0.6702  0.60828 0.6527  1.     ]\n",
      "First layer frame sums:\n",
      "[-293.90808 -243.06773  -57.32491  -41.2105 ]\n",
      "\n",
      "First layer absolute channel ratios:\n",
      "[0.59643 0.68457 0.74357 0.65941 0.52604 0.6664  0.74088 1.     ]\n",
      "First layer channel sums:\n",
      "[-93.290474, -174.21544, -190.55995, -93.09158, -74.46668, -157.98834, -128.39908, -21.823223]\n",
      "\n",
      "First layer last frame top channel correlations:\n",
      "[(-0.54688, (2, 7)), (0.48586, (2, 4)), (-0.44721, (0, 6)), (-0.4469, (0, 5)), (-0.44101, (0, 2))]\n",
      "First layer all frames top channel correlations:\n",
      "[(0.48876, (4, 5)), (-0.45259, (2, 7)), (0.32545, (2, 4)), (-0.30252, (0, 2)), (0.27397, (0, 7))]\n",
      "First layer absolute last frame top channel correlations:\n",
      "[(0.48147, (4, 5)), (0.45308, (1, 6)), (-0.41361, (1, 5)), (-0.35797, (0, 1)), (0.29006, (3, 7))]\n",
      "\n",
      "305\n",
      "Loading pretrained model: /scratch/gd1279/masks-only-305-10000000.pth\n",
      "First layer absolute frame ratio:\n",
      "[0.70997 0.63866 0.67908 1.     ]\n",
      "First layer frame sums:\n",
      "[-243.82552 -192.39722  -64.00544  -37.35789]\n",
      "\n",
      "First layer absolute channel ratios:\n",
      "[0.6121  0.72196 0.77755 0.70315 0.54091 0.7083  0.778   1.     ]\n",
      "First layer channel sums:\n",
      "[-106.294464, -157.85532, -184.36578, -70.58212, -61.885612, -136.61371, -43.59481, 9.597202]\n",
      "\n",
      "First layer last frame top channel correlations:\n",
      "[(-0.47895, (0, 5)), (-0.44869, (1, 6)), (0.44729, (0, 7)), (-0.43096, (2, 7)), (0.37021, (2, 4))]\n",
      "First layer all frames top channel correlations:\n",
      "[(0.41764, (4, 5)), (-0.34256, (1, 6)), (0.33055, (2, 5)), (0.32172, (2, 4)), (-0.31284, (2, 7))]\n",
      "First layer absolute last frame top channel correlations:\n",
      "[(-0.41711, (0, 5)), (-0.38968, (0, 2)), (-0.38901, (0, 4)), (-0.32571, (0, 6)), (-0.29978, (3, 4))]\n",
      "\n",
      "308\n",
      "Loading pretrained model: /scratch/gd1279/masks-only-308-10000000.pth\n",
      "First layer absolute frame ratio:\n",
      "[0.65634 0.60942 0.65172 1.     ]\n",
      "First layer frame sums:\n",
      "[-249.86565 -197.57669   -8.64122    0.81786]\n",
      "\n",
      "First layer absolute channel ratios:\n",
      "[0.61639 0.74162 0.77235 0.69047 0.54928 0.72914 0.82988 1.     ]\n",
      "First layer channel sums:\n",
      "[-86.686615, -141.62355, -145.27962, -80.042984, -68.99958, -127.93564, -86.825066, 4.274008]\n",
      "\n",
      "First layer last frame top channel correlations:\n",
      "[(-0.51841, (0, 2)), (-0.46894, (1, 7)), (-0.43098, (2, 7)), (-0.39662, (0, 5)), (0.39188, (0, 3))]\n",
      "First layer all frames top channel correlations:\n",
      "[(-0.38072, (0, 2)), (0.34456, (4, 5)), (0.30669, (0, 3)), (-0.27221, (0, 5)), (-0.26965, (2, 7))]\n",
      "First layer absolute last frame top channel correlations:\n",
      "[(-0.35568, (0, 2)), (0.32889, (2, 6)), (0.32114, (3, 6)), (0.30083, (1, 6)), (-0.29229, (1, 4))]\n",
      "\n",
      "307\n",
      "Loading pretrained model: /scratch/gd1279/masks-only-307-10000000.pth\n",
      "First layer absolute frame ratio:\n",
      "[0.64082 0.58867 0.64593 1.     ]\n",
      "First layer frame sums:\n",
      "[-252.66765 -217.1539   -34.70184  -37.1011 ]\n",
      "\n",
      "First layer absolute channel ratios:\n",
      "[0.55079 0.66759 0.7007  0.63193 0.51746 0.64269 0.70864 1.     ]\n",
      "First layer channel sums:\n",
      "[-65.52925, -141.93445, -155.8401, -42.77175, -57.552372, -125.655815, -94.419464, -38.163757]\n",
      "\n",
      "First layer last frame top channel correlations:\n",
      "[(-0.57511, (2, 3)), (-0.55817, (1, 6)), (0.53941, (4, 6)), (-0.50454, (3, 4)), (-0.50229, (6, 7))]\n",
      "First layer all frames top channel correlations:\n",
      "[(0.42701, (4, 5)), (-0.33929, (2, 7)), (0.33688, (4, 6)), (-0.32926, (2, 3)), (-0.32845, (0, 2))]\n",
      "First layer absolute last frame top channel correlations:\n",
      "[(0.62433, (1, 3)), (0.6076, (1, 6)), (0.51352, (2, 3)), (0.50627, (1, 7)), (0.50065, (3, 7))]\n",
      "\n",
      "309\n",
      "Loading pretrained model: /scratch/gd1279/masks-only-309-10000000.pth\n",
      "First layer absolute frame ratio:\n",
      "[0.6806  0.60519 0.65371 1.     ]\n",
      "First layer frame sums:\n",
      "[-256.27948 -204.31236   11.31135   -1.68254]\n",
      "\n",
      "First layer absolute channel ratios:\n",
      "[0.58553 0.70415 0.74194 0.64462 0.51679 0.67731 0.7508  1.     ]\n",
      "First layer channel sums:\n",
      "[-87.545296, -153.7236, -172.654, -51.313305, -48.825756, -126.714516, -101.73291, -39.711437]\n",
      "\n",
      "First layer last frame top channel correlations:\n",
      "[(-0.71957, (0, 5)), (-0.37922, (1, 6)), (-0.33529, (0, 2)), (-0.32373, (2, 3)), (0.31673, (1, 7))]\n",
      "First layer all frames top channel correlations:\n",
      "[(-0.41466, (0, 5)), (0.35635, (4, 5)), (0.2527, (4, 6)), (-0.23167, (0, 2)), (-0.23035, (0, 6))]\n",
      "First layer absolute last frame top channel correlations:\n",
      "[(-0.39832, (0, 6)), (0.36318, (3, 7)), (0.31616, (0, 3)), (-0.30869, (1, 5)), (0.2969, (1, 6))]\n",
      "\n",
      "306\n",
      "Loading pretrained model: /scratch/gd1279/masks-only-306-10000000.pth\n",
      "First layer absolute frame ratio:\n",
      "[0.65768 0.60411 0.66841 1.     ]\n",
      "First layer frame sums:\n",
      "[-224.5796  -194.85959  -20.86884   20.43642]\n",
      "\n",
      "First layer absolute channel ratios:\n",
      "[0.54981 0.65933 0.67868 0.64749 0.51745 0.63956 0.7052  1.     ]\n",
      "First layer channel sums:\n",
      "[-91.294586, -123.42196, -154.01422, -57.669456, -53.3297, -122.12501, -84.16287, 27.707554]\n",
      "\n",
      "First layer last frame top channel correlations:\n",
      "[(-0.48204, (0, 2)), (0.46662, (0, 7)), (-0.46625, (3, 5)), (-0.44133, (0, 5)), (-0.33789, (2, 7))]\n",
      "First layer all frames top channel correlations:\n",
      "[(0.41541, (4, 5)), (-0.38014, (2, 7)), (0.32604, (0, 7)), (-0.30626, (0, 2)), (-0.2346, (0, 5))]\n",
      "First layer absolute last frame top channel correlations:\n",
      "[(-0.50191, (1, 7)), (-0.48575, (2, 5)), (0.45346, (0, 3)), (-0.45143, (0, 6)), (-0.44062, (3, 4))]\n",
      "\n",
      "304\n",
      "Loading pretrained model: /scratch/gd1279/masks-only-304-10000000.pth\n",
      "First layer absolute frame ratio:\n",
      "[0.6642  0.60174 0.66277 1.     ]\n",
      "First layer frame sums:\n",
      "[-225.79234 -197.01282 -105.79681  -82.9375 ]\n",
      "\n",
      "First layer absolute channel ratios:\n",
      "[0.57732 0.73096 0.75466 0.69278 0.54721 0.71005 0.78288 1.     ]\n",
      "First layer channel sums:\n",
      "[-74.88683, -133.68166, -154.5618, -45.92085, -36.686214, -118.8104, -90.03078, 9.451237]\n",
      "\n",
      "First layer last frame top channel correlations:\n",
      "[(-0.59274, (2, 7)), (0.45209, (0, 7)), (0.3959, (4, 5)), (-0.37135, (0, 2)), (-0.35146, (0, 6))]\n",
      "First layer all frames top channel correlations:\n",
      "[(-0.56111, (2, 7)), (0.54366, (4, 5)), (0.36342, (0, 7)), (0.29609, (5, 6)), (-0.2814, (1, 6))]\n",
      "First layer absolute last frame top channel correlations:\n",
      "[(0.50145, (4, 5)), (0.37161, (3, 7)), (0.3486, (0, 3)), (0.33072, (4, 6)), (-0.30636, (1, 5))]\n",
      "\n",
      "300\n",
      "Loading pretrained model: /scratch/gd1279/masks-only-300-10000000.pth\n",
      "First layer absolute frame ratio:\n",
      "[0.68645 0.61891 0.65903 1.     ]\n",
      "First layer frame sums:\n",
      "[-321.6835  -253.89662  -51.58776  -67.41286]\n",
      "\n",
      "First layer absolute channel ratios:\n",
      "[0.64137 0.83186 0.86242 0.71139 0.57963 0.8142  0.84947 1.     ]\n",
      "First layer channel sums:\n",
      "[-108.59499, -197.72237, -222.216, -92.818054, -71.300644, -189.86615, -120.7028, -23.261555]\n",
      "\n",
      "First layer last frame top channel correlations:\n",
      "[(0.58177, (4, 5)), (-0.5193, (2, 7)), (-0.48491, (0, 5)), (-0.35686, (0, 4)), (-0.27705, (1, 6))]\n",
      "First layer all frames top channel correlations:\n",
      "[(0.71839, (4, 5)), (-0.41108, (2, 7)), (-0.25024, (0, 5)), (0.19461, (5, 6)), (0.19257, (3, 5))]\n",
      "First layer absolute last frame top channel correlations:\n",
      "[(0.47398, (4, 5)), (-0.37026, (1, 5)), (-0.34347, (1, 4)), (-0.29414, (3, 4)), (0.29165, (2, 5))]\n",
      "\n",
      "303\n",
      "Loading pretrained model: /scratch/gd1279/masks-only-303-10000000.pth\n",
      "First layer absolute frame ratio:\n",
      "[0.68234 0.63597 0.65558 1.     ]\n",
      "First layer frame sums:\n",
      "[-283.6181  -240.49814  -39.22618   -4.07006]\n",
      "\n",
      "First layer absolute channel ratios:\n",
      "[0.57015 0.70748 0.72937 0.6929  0.52357 0.69335 0.74942 1.     ]\n",
      "First layer channel sums:\n",
      "[-101.14072, -175.16048, -191.01506, -70.25701, -65.76976, -163.64862, -112.18701, -3.1545658]\n",
      "\n",
      "First layer last frame top channel correlations:\n",
      "[(-0.57927, (2, 7)), (-0.42429, (5, 7)), (-0.42208, (0, 2)), (0.37654, (1, 3)), (-0.36179, (0, 6))]\n",
      "First layer all frames top channel correlations:\n",
      "[(-0.46939, (2, 7)), (0.37396, (4, 5)), (0.34454, (5, 6)), (-0.24344, (2, 3)), (-0.23994, (0, 2))]\n",
      "First layer absolute last frame top channel correlations:\n",
      "[(0.38612, (2, 4)), (-0.35961, (1, 7)), (0.32439, (6, 7)), (-0.28873, (0, 2)), (0.28535, (3, 6))]\n",
      "\n"
     ]
    }
   ],
   "source": [
    "for rep_run in api.runs('augmented-frostbite/masks-only'):\n",
    "    print(rep_run.config['seed'])\n",
    "    compute_filter_statistics(rep_run, channels_per_frame=8)\n",
    "    "
   ]
  },
  {
   "cell_type": "code",
   "execution_count": 170,
   "metadata": {},
   "outputs": [
    {
     "data": {
      "text/plain": [
       "<matplotlib.colorbar.Colorbar at 0x7ff03457f850>"
      ]
     },
     "execution_count": 170,
     "metadata": {},
     "output_type": "execute_result"
    },
    {
     "data": {
      "image/png": "[encoded data removed]",
      "text/plain": [
       "<Figure size 1080x360 with 6 Axes>"
      ]
     },
     "metadata": {
      "needs_background": "light"
     },
     "output_type": "display_data"
    }
   ],
   "source": [
    "mean, std = average_correlations_over_all_runs(api.runs('augmented-frostbite/masks-only'), use_all_frames=True, channels_per_frame=8)\n",
    "\n",
    "plt.figure(figsize=(15, 5))\n",
    "mean_ax = plt.subplot(1, 3, 1)\n",
    "ax_im = mean_ax.imshow(mean)\n",
    "plt.colorbar(ax_im, ax=mean_ax)\n",
    "\n",
    "std_ax = plt.subplot(1, 3, 2)\n",
    "ax_im = std_ax.imshow(std)\n",
    "plt.colorbar(ax_im, ax=std_ax)\n",
    "\n",
    "np.fill_diagonal(mean, 0)\n",
    "np.fill_diagonal(std, 1)\n",
    "\n",
    "ratio_ax = plt.subplot(1, 3, 3)\n",
    "ax_im = ratio_ax.imshow(mean / std)\n",
    "plt.colorbar(ax_im, ax=ratio_ax)"
   ]
  },
  {
   "cell_type": "code",
   "execution_count": null,
   "metadata": {},
   "outputs": [],
   "source": []
  },
  {
   "cell_type": "markdown",
   "metadata": {},
   "source": [
    "# Scratch work"
   ]
  },
  {
   "cell_type": "code",
   "execution_count": 10,
   "metadata": {},
   "outputs": [],
   "source": [
    "run = api.run('augmented-frostbite/masks-and-pixels-fixed-resume/runs/d75ebvh9')"
   ]
  },
  {
   "cell_type": "code",
   "execution_count": 11,
   "metadata": {},
   "outputs": [
    {
     "name": "stdout",
     "output_type": "stream",
     "text": [
      "/scratch/gd1279/masks-and-pixels-308-9900000.pth\n",
      "Loading pretrained model: /scratch/gd1279/masks-and-pixels-308-9900000.pth\n"
     ]
    }
   ],
   "source": [
    "checkpoint_path = download_checkpoint(run)\n",
    "print(checkpoint_path)\n",
    "args = setup_args(run)\n",
    "args.model = checkpoint_path\n",
    "\n",
    "env = make_env(args)\n",
    "dqn = Agent(args, env)"
   ]
  },
  {
   "cell_type": "code",
   "execution_count": 52,
   "metadata": {},
   "outputs": [],
   "source": [
    "first_layer_raw_filter_sums = dqn.online_net.convs[0].weight.detach().sum(3).sum(2).cpu().numpy()"
   ]
  },
  {
   "cell_type": "code",
   "execution_count": 14,
   "metadata": {},
   "outputs": [
    {
     "data": {
      "text/plain": [
       "(32, 36)"
      ]
     },
     "execution_count": 14,
     "metadata": {},
     "output_type": "execute_result"
    }
   ],
   "source": [
    "first_layer_filter_sums = dqn.online_net.convs[0].weight.detach().abs().sum(3).sum(2).cpu().numpy()\n",
    "first_layer_filter_sums.shape"
   ]
  },
  {
   "cell_type": "code",
   "execution_count": 15,
   "metadata": {},
   "outputs": [
    {
     "data": {
      "text/plain": [
       "<matplotlib.colorbar.Colorbar at 0x7ff0be09dcd0>"
      ]
     },
     "execution_count": 15,
     "metadata": {},
     "output_type": "execute_result"
    },
    {
     "data": {
      "image/png": "[encoded data removed]",
      "text/plain": [
       "<Figure size 576x576 with 2 Axes>"
      ]
     },
     "metadata": {
      "needs_background": "light"
     },
     "output_type": "display_data"
    }
   ],
   "source": [
    "plt.figure(figsize=(8, 8))\n",
    "plt.imshow(first_layer_filter_sums)\n",
    "plt.colorbar()"
   ]
  },
  {
   "cell_type": "code",
   "execution_count": 71,
   "metadata": {},
   "outputs": [
    {
     "data": {
      "text/plain": [
       "<matplotlib.colorbar.Colorbar at 0x7ff094f31910>"
      ]
     },
     "execution_count": 71,
     "metadata": {},
     "output_type": "execute_result"
    },
    {
     "data": {
      "image/png": "[encoded data removed]",
      "text/plain": [
       "<Figure size 576x576 with 2 Axes>"
      ]
     },
     "metadata": {
      "needs_background": "light"
     },
     "output_type": "display_data"
    }
   ],
   "source": [
    "plt.figure(figsize=(8, 8))\n",
    "plt.imshow(first_layer_raw_filter_sums)\n",
    "plt.colorbar()"
   ]
  },
  {
   "cell_type": "code",
   "execution_count": 82,
   "metadata": {},
   "outputs": [
    {
     "name": "stdout",
     "output_type": "stream",
     "text": [
      "(128, 9)\n"
     ]
    },
    {
     "data": {
      "text/plain": [
       "<matplotlib.colorbar.Colorbar at 0x7ff094a14bd0>"
      ]
     },
     "execution_count": 82,
     "metadata": {},
     "output_type": "execute_result"
    },
    {
     "data": {
      "image/png": "[encoded data removed]",
      "text/plain": [
       "<Figure size 576x576 with 2 Axes>"
      ]
     },
     "metadata": {
      "needs_background": "light"
     },
     "output_type": "display_data"
    }
   ],
   "source": [
    "cols = [first_layer_raw_filter_sums[:, i * 9:(i + 1) * 9] for i in range(4)]\n",
    "st = np.vstack(cols)\n",
    "print(st.shape)\n",
    "\n",
    "df = pd.DataFrame(st)\n",
    "col_corrs = df.corr()\n",
    "\n",
    "plt.figure(figsize=(8, 8))\n",
    "plt.imshow(col_corrs)\n",
    "plt.colorbar()"
   ]
  },
  {
   "cell_type": "code",
   "execution_count": 83,
   "metadata": {},
   "outputs": [
    {
     "data": {
      "text/html": [
       "<div>\n",
       "<style scoped>\n",
       "    .dataframe tbody tr th:only-of-type {\n",
       "        vertical-align: middle;\n",
       "    }\n",
       "\n",
       "    .dataframe tbody tr th {\n",
       "        vertical-align: top;\n",
       "    }\n",
       "\n",
       "    .dataframe thead th {\n",
       "        text-align: right;\n",
       "    }\n",
       "</style>\n",
       "<table border=\"1\" class=\"dataframe\">\n",
       "  <thead>\n",
       "    <tr style=\"text-align: right;\">\n",
       "      <th></th>\n",
       "      <th>0</th>\n",
       "      <th>1</th>\n",
       "      <th>2</th>\n",
       "      <th>3</th>\n",
       "      <th>4</th>\n",
       "      <th>5</th>\n",
       "      <th>6</th>\n",
       "      <th>7</th>\n",
       "      <th>8</th>\n",
       "    </tr>\n",
       "  </thead>\n",
       "  <tbody>\n",
       "    <tr>\n",
       "      <td>0</td>\n",
       "      <td>1.000000</td>\n",
       "      <td>-0.148964</td>\n",
       "      <td>-0.061409</td>\n",
       "      <td>-0.277001</td>\n",
       "      <td>-0.061195</td>\n",
       "      <td>0.052153</td>\n",
       "      <td>0.265897</td>\n",
       "      <td>0.392446</td>\n",
       "      <td>0.247002</td>\n",
       "    </tr>\n",
       "    <tr>\n",
       "      <td>1</td>\n",
       "      <td>-0.148964</td>\n",
       "      <td>1.000000</td>\n",
       "      <td>-0.183954</td>\n",
       "      <td>-0.254425</td>\n",
       "      <td>-0.263269</td>\n",
       "      <td>-0.268112</td>\n",
       "      <td>-0.576618</td>\n",
       "      <td>-0.368151</td>\n",
       "      <td>0.420556</td>\n",
       "    </tr>\n",
       "    <tr>\n",
       "      <td>2</td>\n",
       "      <td>-0.061409</td>\n",
       "      <td>-0.183954</td>\n",
       "      <td>1.000000</td>\n",
       "      <td>-0.318326</td>\n",
       "      <td>-0.007143</td>\n",
       "      <td>-0.017639</td>\n",
       "      <td>0.106263</td>\n",
       "      <td>-0.354844</td>\n",
       "      <td>0.424329</td>\n",
       "    </tr>\n",
       "    <tr>\n",
       "      <td>3</td>\n",
       "      <td>-0.277001</td>\n",
       "      <td>-0.254425</td>\n",
       "      <td>-0.318326</td>\n",
       "      <td>1.000000</td>\n",
       "      <td>0.137639</td>\n",
       "      <td>0.254005</td>\n",
       "      <td>-0.048909</td>\n",
       "      <td>0.118367</td>\n",
       "      <td>-0.440125</td>\n",
       "    </tr>\n",
       "    <tr>\n",
       "      <td>4</td>\n",
       "      <td>-0.061195</td>\n",
       "      <td>-0.263269</td>\n",
       "      <td>-0.007143</td>\n",
       "      <td>0.137639</td>\n",
       "      <td>1.000000</td>\n",
       "      <td>0.366262</td>\n",
       "      <td>-0.024151</td>\n",
       "      <td>0.433127</td>\n",
       "      <td>-0.263112</td>\n",
       "    </tr>\n",
       "    <tr>\n",
       "      <td>5</td>\n",
       "      <td>0.052153</td>\n",
       "      <td>-0.268112</td>\n",
       "      <td>-0.017639</td>\n",
       "      <td>0.254005</td>\n",
       "      <td>0.366262</td>\n",
       "      <td>1.000000</td>\n",
       "      <td>0.141034</td>\n",
       "      <td>0.325038</td>\n",
       "      <td>0.019157</td>\n",
       "    </tr>\n",
       "    <tr>\n",
       "      <td>6</td>\n",
       "      <td>0.265897</td>\n",
       "      <td>-0.576618</td>\n",
       "      <td>0.106263</td>\n",
       "      <td>-0.048909</td>\n",
       "      <td>-0.024151</td>\n",
       "      <td>0.141034</td>\n",
       "      <td>1.000000</td>\n",
       "      <td>0.222414</td>\n",
       "      <td>-0.100822</td>\n",
       "    </tr>\n",
       "    <tr>\n",
       "      <td>7</td>\n",
       "      <td>0.392446</td>\n",
       "      <td>-0.368151</td>\n",
       "      <td>-0.354844</td>\n",
       "      <td>0.118367</td>\n",
       "      <td>0.433127</td>\n",
       "      <td>0.325038</td>\n",
       "      <td>0.222414</td>\n",
       "      <td>1.000000</td>\n",
       "      <td>-0.333958</td>\n",
       "    </tr>\n",
       "    <tr>\n",
       "      <td>8</td>\n",
       "      <td>0.247002</td>\n",
       "      <td>0.420556</td>\n",
       "      <td>0.424329</td>\n",
       "      <td>-0.440125</td>\n",
       "      <td>-0.263112</td>\n",
       "      <td>0.019157</td>\n",
       "      <td>-0.100822</td>\n",
       "      <td>-0.333958</td>\n",
       "      <td>1.000000</td>\n",
       "    </tr>\n",
       "  </tbody>\n",
       "</table>\n",
       "</div>"
      ],
      "text/plain": [
       "          0         1         2         3         4         5         6  \\\n",
       "0  1.000000 -0.148964 -0.061409 -0.277001 -0.061195  0.052153  0.265897   \n",
       "1 -0.148964  1.000000 -0.183954 -0.254425 -0.263269 -0.268112 -0.576618   \n",
       "2 -0.061409 -0.183954  1.000000 -0.318326 -0.007143 -0.017639  0.106263   \n",
       "3 -0.277001 -0.254425 -0.318326  1.000000  0.137639  0.254005 -0.048909   \n",
       "4 -0.061195 -0.263269 -0.007143  0.137639  1.000000  0.366262 -0.024151   \n",
       "5  0.052153 -0.268112 -0.017639  0.254005  0.366262  1.000000  0.141034   \n",
       "6  0.265897 -0.576618  0.106263 -0.048909 -0.024151  0.141034  1.000000   \n",
       "7  0.392446 -0.368151 -0.354844  0.118367  0.433127  0.325038  0.222414   \n",
       "8  0.247002  0.420556  0.424329 -0.440125 -0.263112  0.019157 -0.100822   \n",
       "\n",
       "          7         8  \n",
       "0  0.392446  0.247002  \n",
       "1 -0.368151  0.420556  \n",
       "2 -0.354844  0.424329  \n",
       "3  0.118367 -0.440125  \n",
       "4  0.433127 -0.263112  \n",
       "5  0.325038  0.019157  \n",
       "6  0.222414 -0.100822  \n",
       "7  1.000000 -0.333958  \n",
       "8 -0.333958  1.000000  "
      ]
     },
     "execution_count": 83,
     "metadata": {},
     "output_type": "execute_result"
    }
   ],
   "source": [
    "corrs\n",
    "\n",
    "\n"
   ]
  },
  {
   "cell_type": "code",
   "execution_count": 68,
   "metadata": {},
   "outputs": [
    {
     "data": {
      "text/plain": [
       "[951.922, 856.9667, 931.6063, 1407.2622]"
      ]
     },
     "execution_count": 68,
     "metadata": {},
     "output_type": "execute_result"
    }
   ],
   "source": [
    "per_frame_sums = [first_layer_filter_sums[:, i * 9:(i + 1) * 9].sum() for i in range(4)]\n",
    "per_frame_sums"
   ]
  },
  {
   "cell_type": "code",
   "execution_count": 17,
   "metadata": {},
   "outputs": [
    {
     "data": {
      "text/plain": [
       "[443.6662,\n",
       " 379.83594,\n",
       " 369.42993,\n",
       " 317.04797,\n",
       " 421.5912,\n",
       " 361.6449,\n",
       " 431.22705,\n",
       " 460.71124,\n",
       " 447.76505]"
      ]
     },
     "execution_count": 17,
     "metadata": {},
     "output_type": "execute_result"
    }
   ],
   "source": [
    "per_channel_sums = [first_layer_filter_sums[:, list(np.arange(4) * (i + 1))].sum() for i in range(9)]\n",
    "per_channel_sums"
   ]
  },
  {
   "cell_type": "code",
   "execution_count": 28,
   "metadata": {},
   "outputs": [
    {
     "data": {
      "text/plain": [
       "<BarContainer object of 9 artists>"
      ]
     },
     "execution_count": 28,
     "metadata": {},
     "output_type": "execute_result"
    },
    {
     "data": {
      "image/png": "[encoded data removed]",
      "text/plain": [
       "<Figure size 432x288 with 1 Axes>"
      ]
     },
     "metadata": {
      "needs_background": "light"
     },
     "output_type": "display_data"
    }
   ],
   "source": [
    "plt.bar(np.arange(len(Out[17])), Out[17])"
   ]
  },
  {
   "cell_type": "code",
   "execution_count": 29,
   "metadata": {},
   "outputs": [
    {
     "data": {
      "text/plain": [
       "[125.27624,\n",
       " 108.34224,\n",
       " 101.75553,\n",
       " 86.10741,\n",
       " 110.91457,\n",
       " 100.024445,\n",
       " 111.215385,\n",
       " 118.41924,\n",
       " 129.34799]"
      ]
     },
     "execution_count": 29,
     "metadata": {},
     "output_type": "execute_result"
    }
   ],
   "source": [
    "last_frame_per_channel_sums = [first_layer_filter_sums[-9:, list(np.arange(4) * (i + 1))].sum() for i in range(9)]\n",
    "last_frame_per_channel_sums"
   ]
  },
  {
   "cell_type": "code",
   "execution_count": 30,
   "metadata": {},
   "outputs": [
    {
     "data": {
      "text/plain": [
       "<BarContainer object of 9 artists>"
      ]
     },
     "execution_count": 30,
     "metadata": {},
     "output_type": "execute_result"
    },
    {
     "data": {
      "image/png": "[encoded data removed]",
      "text/plain": [
       "<Figure size 432x288 with 1 Axes>"
      ]
     },
     "metadata": {
      "needs_background": "light"
     },
     "output_type": "display_data"
    }
   ],
   "source": [
    "plt.bar(np.arange(len(last_frame_per_channel_sums)), last_frame_per_channel_sums)"
   ]
  },
  {
   "cell_type": "code",
   "execution_count": 51,
   "metadata": {},
   "outputs": [
    {
     "data": {
      "text/plain": [
       "<matplotlib.colorbar.Colorbar at 0x7ff095109e10>"
      ]
     },
     "execution_count": 51,
     "metadata": {},
     "output_type": "execute_result"
    },
    {
     "data": {
      "image/png": "[encoded data removed]",
      "text/plain": [
       "<Figure size 576x576 with 2 Axes>"
      ]
     },
     "metadata": {
      "needs_background": "light"
     },
     "output_type": "display_data"
    }
   ],
   "source": [
    "df = pd.DataFrame(first_layer_filter_sums[:, -9:])\n",
    "corrs = df.corr()\n",
    "\n",
    "plt.figure(figsize=(8, 8))\n",
    "plt.imshow(corrs)\n",
    "plt.colorbar()"
   ]
  },
  {
   "cell_type": "code",
   "execution_count": 72,
   "metadata": {},
   "outputs": [
    {
     "data": {
      "text/plain": [
       "<matplotlib.colorbar.Colorbar at 0x7ff094e63e90>"
      ]
     },
     "execution_count": 72,
     "metadata": {},
     "output_type": "execute_result"
    },
    {
     "data": {
      "image/png": "[encoded data removed]",
      "text/plain": [
       "<Figure size 576x576 with 2 Axes>"
      ]
     },
     "metadata": {
      "needs_background": "light"
     },
     "output_type": "display_data"
    }
   ],
   "source": [
    "df = pd.DataFrame(first_layer_raw_filter_sums[:, -9:])\n",
    "corrs = df.corr()\n",
    "\n",
    "plt.figure(figsize=(8, 8))\n",
    "plt.imshow(corrs)\n",
    "plt.colorbar()"
   ]
  },
  {
   "cell_type": "code",
   "execution_count": 77,
   "metadata": {},
   "outputs": [
    {
     "data": {
      "text/plain": [
       "<matplotlib.colorbar.Colorbar at 0x7ff094c3dd10>"
      ]
     },
     "execution_count": 77,
     "metadata": {},
     "output_type": "execute_result"
    },
    {
     "data": {
      "image/png": "[encoded data removed]",
      "text/plain": [
       "<Figure size 576x576 with 2 Axes>"
      ]
     },
     "metadata": {
      "needs_background": "light"
     },
     "output_type": "display_data"
    }
   ],
   "source": [
    "c = np.array(corrs)\n",
    "diag = np.triu(c, k=1)\n",
    "\n",
    "plt.figure(figsize=(8, 8))\n",
    "plt.imshow(diag)\n",
    "plt.colorbar()"
   ]
  },
  {
   "cell_type": "code",
   "execution_count": 102,
   "metadata": {},
   "outputs": [
    {
     "data": {
      "text/plain": [
       "[(-0.5766175367011075, (1, 6)),\n",
       " (-0.4401252733759886, (3, 8)),\n",
       " (0.4331270255838787, (4, 7)),\n",
       " (0.42432949056608615, (2, 8)),\n",
       " (0.42055559030498363, (1, 8))]"
      ]
     },
     "execution_count": 102,
     "metadata": {},
     "output_type": "execute_result"
    }
   ],
   "source": [
    "top_k = 5\n",
    "sorted([(c[x], x) for x in zip(*np.triu_indices(c.shape[0], k=1))], key=lambda t: abs(t[0]), reverse=True)[:top_k]"
   ]
  },
  {
   "cell_type": "code",
   "execution_count": null,
   "metadata": {},
   "outputs": [],
   "source": []
  },
  {
   "cell_type": "code",
   "execution_count": null,
   "metadata": {},
   "outputs": [],
   "source": []
  },
  {
   "cell_type": "code",
   "execution_count": null,
   "metadata": {},
   "outputs": [],
   "source": []
  },
  {
   "cell_type": "code",
   "execution_count": 19,
   "metadata": {},
   "outputs": [
    {
     "name": "stdout",
     "output_type": "stream",
     "text": [
      "/scratch/gd1279/masks-and-pixels-replication-306-10000000.pth\n",
      "Loading pretrained model: /scratch/gd1279/masks-and-pixels-replication-306-10000000.pth\n"
     ]
    }
   ],
   "source": [
    "second_run = api.run('augmented-frostbite/masks-and-pixels-replication/runs/grh1bzvv')\n",
    "second_checkpoint_path = download_checkpoint(second_run)\n",
    "print(second_checkpoint_path)\n",
    "second_args = setup_args(second_run)\n",
    "second_args.model = second_checkpoint_path\n",
    "\n",
    "second_env = make_env(second_args)\n",
    "second_dqn = Agent(second_args, second_env)"
   ]
  },
  {
   "cell_type": "code",
   "execution_count": 20,
   "metadata": {},
   "outputs": [
    {
     "data": {
      "text/plain": [
       "(32, 36)"
      ]
     },
     "execution_count": 20,
     "metadata": {},
     "output_type": "execute_result"
    }
   ],
   "source": [
    "second_model_first_layer_filter_sums = dqn.online_net.convs[0].weight.detach().abs().sum(3).sum(2).cpu().numpy()\n",
    "second_model_first_layer_filter_sums.shape"
   ]
  },
  {
   "cell_type": "code",
   "execution_count": 21,
   "metadata": {},
   "outputs": [
    {
     "data": {
      "text/plain": [
       "<matplotlib.colorbar.Colorbar at 0x7ff0b894bd50>"
      ]
     },
     "execution_count": 21,
     "metadata": {},
     "output_type": "execute_result"
    },
    {
     "data": {
      "image/png": "[encoded data removed]",
      "text/plain": [
       "<Figure size 576x576 with 2 Axes>"
      ]
     },
     "metadata": {
      "needs_background": "light"
     },
     "output_type": "display_data"
    }
   ],
   "source": [
    "plt.figure(figsize=(8, 8))\n",
    "plt.imshow(second_model_first_layer_filter_sums)\n",
    "plt.colorbar()"
   ]
  },
  {
   "cell_type": "code",
   "execution_count": 24,
   "metadata": {},
   "outputs": [
    {
     "data": {
      "text/plain": [
       "[951.922, 856.9667, 931.6063, 1407.2622]"
      ]
     },
     "execution_count": 24,
     "metadata": {},
     "output_type": "execute_result"
    }
   ],
   "source": [
    "per_frame_sums = [second_model_first_layer_filter_sums[:, i * 9:(i + 1) * 9].sum() for i in range(4)]\n",
    "per_frame_sums"
   ]
  },
  {
   "cell_type": "code",
   "execution_count": 25,
   "metadata": {},
   "outputs": [
    {
     "data": {
      "text/plain": [
       "[443.6662,\n",
       " 379.83594,\n",
       " 369.42993,\n",
       " 317.04797,\n",
       " 421.5912,\n",
       " 361.6449,\n",
       " 431.22705,\n",
       " 460.71124,\n",
       " 447.76505]"
      ]
     },
     "execution_count": 25,
     "metadata": {},
     "output_type": "execute_result"
    }
   ],
   "source": [
    "per_channel_sums = [second_model_first_layer_filter_sums[:, list(np.arange(4) * (i + 1))].sum() for i in range(9)]\n",
    "per_channel_sums"
   ]
  },
  {
   "cell_type": "code",
   "execution_count": null,
   "metadata": {},
   "outputs": [],
   "source": []
  },
  {
   "cell_type": "code",
   "execution_count": 45,
   "metadata": {},
   "outputs": [
    {
     "data": {
      "text/plain": [
       "True"
      ]
     },
     "execution_count": 45,
     "metadata": {},
     "output_type": "execute_result"
    }
   ],
   "source": [
    "'history_length' in args"
   ]
  },
  {
   "cell_type": "code",
   "execution_count": 55,
   "metadata": {},
   "outputs": [],
   "source": [
    "args.__setattr__('history_length', run.config['history_length'])"
   ]
  },
  {
   "cell_type": "code",
   "execution_count": 56,
   "metadata": {},
   "outputs": [
    {
     "data": {
      "text/plain": [
       "4"
      ]
     },
     "execution_count": 56,
     "metadata": {},
     "output_type": "execute_result"
    }
   ],
   "source": [
    "args.__getattribute__('history_length')"
   ]
  },
  {
   "cell_type": "code",
   "execution_count": 104,
   "metadata": {},
   "outputs": [
    {
     "data": {
      "text/plain": [
       "[MaskerDefinition(filter_colors=((162, 98, 33), (162, 162, 42), (198, 108, 58), (142, 142, 142)), row_range=(35, 55), col_range=(112, 144), range_whitelist=False),\n",
       " MaskerDefinition(filter_colors=((132, 144, 252), (213, 130, 74), (210, 210, 64)), row_range=(78, 185), col_range=(0, 160), range_whitelist=True),\n",
       " MaskerDefinition(filter_colors=((192, 192, 192), (74, 74, 74)), row_range=(42, 78), col_range=(0, 160), range_whitelist=True),\n",
       " MaskerDefinition(filter_colors=((111, 111, 111), (214, 214, 214)), row_range=(0, 78), col_range=(0, 160), range_whitelist=True),\n",
       " MaskerDefinition(filter_colors=((214, 214, 214),), row_range=(78, 185), col_range=(0, 160), range_whitelist=True),\n",
       " MaskerDefinition(filter_colors=((84, 138, 210),), row_range=(78, 185), col_range=(0, 160), range_whitelist=True),\n",
       " MaskerDefinition(filter_colors=((111, 210, 111),), row_range=(78, 185), col_range=(0, 160), range_whitelist=True),\n",
       " MaskerDefinition(filter_colors=((142, 142, 142),), row_range=(35, 55), col_range=(112, 144), range_whitelist=True)]"
      ]
     },
     "execution_count": 104,
     "metadata": {},
     "output_type": "execute_result"
    }
   ],
   "source": [
    "env.masker.masker_definitions"
   ]
  },
  {
   "cell_type": "code",
   "execution_count": 106,
   "metadata": {},
   "outputs": [
    {
     "data": {
      "text/plain": [
       "{'player': MaskerDefinition(filter_colors=((162, 98, 33), (162, 162, 42), (198, 108, 58), (142, 142, 142)), row_range=(35, 55), col_range=(112, 144), range_whitelist=False),\n",
       " 'unvisited_floe': MaskerDefinition(filter_colors=((214, 214, 214),), row_range=(78, 185), col_range=(0, 160), range_whitelist=True),\n",
       " 'visited_floe': MaskerDefinition(filter_colors=((84, 138, 210),), row_range=(78, 185), col_range=(0, 160), range_whitelist=True),\n",
       " 'land': MaskerDefinition(filter_colors=((192, 192, 192), (74, 74, 74)), row_range=(42, 78), col_range=(0, 160), range_whitelist=True),\n",
       " 'bad_animal': MaskerDefinition(filter_colors=((132, 144, 252), (213, 130, 74), (210, 210, 64)), row_range=(78, 185), col_range=(0, 160), range_whitelist=True),\n",
       " 'good_animal': MaskerDefinition(filter_colors=((111, 210, 111),), row_range=(78, 185), col_range=(0, 160), range_whitelist=True),\n",
       " 'bear': MaskerDefinition(filter_colors=((111, 111, 111), (214, 214, 214)), row_range=(0, 78), col_range=(0, 160), range_whitelist=True),\n",
       " 'igloo': MaskerDefinition(filter_colors=((142, 142, 142),), row_range=(35, 55), col_range=(112, 144), range_whitelist=True)}"
      ]
     },
     "execution_count": 106,
     "metadata": {},
     "output_type": "execute_result"
    }
   ],
   "source": [
    "ALL_MASKERS"
   ]
  },
  {
   "cell_type": "code",
   "execution_count": 109,
   "metadata": {},
   "outputs": [
    {
     "data": {
      "text/plain": [
       "['player',\n",
       " 'bad_animal',\n",
       " 'land',\n",
       " 'bear',\n",
       " 'unvisited_floe',\n",
       " 'visited_floe',\n",
       " 'good_animal',\n",
       " 'igloo']"
      ]
     },
     "execution_count": 109,
     "metadata": {},
     "output_type": "execute_result"
    }
   ],
   "source": []
  },
  {
   "cell_type": "code",
   "execution_count": null,
   "metadata": {},
   "outputs": [],
   "source": []
  }
 ],
 "metadata": {
  "kernelspec": {
   "display_name": "Python [conda env:rainbow] *",
   "language": "python",
   "name": "conda-env-rainbow-py"
  },
  "language_info": {
   "codemirror_mode": {
    "name": "ipython",
    "version": 3
   },
   "file_extension": ".py",
   "mimetype": "text/x-python",
   "name": "python",
   "nbconvert_exporter": "python",
   "pygments_lexer": "ipython3",
   "version": "3.7.4"
  }
 },
 "nbformat": 4,
 "nbformat_minor": 2
}
