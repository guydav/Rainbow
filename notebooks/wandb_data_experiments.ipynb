{
 "cells": [
  {
   "cell_type": "code",
   "execution_count": 1,
   "metadata": {},
   "outputs": [],
   "source": [
    "%load_ext autoreload\n",
    "%autoreload 2\n",
    "%matplotlib inline"
   ]
  },
  {
   "cell_type": "code",
   "execution_count": 2,
   "metadata": {},
   "outputs": [
    {
     "data": {
      "text/html": [
       "<style>.container { width:98% !important; }</style>"
      ],
      "text/plain": [
       "<IPython.core.display.HTML object>"
      ]
     },
     "metadata": {},
     "output_type": "display_data"
    }
   ],
   "source": [
    "from IPython.core.display import display, HTML\n",
    "display(HTML(\"<style>.container { width:98% !important; }</style>\"))"
   ]
  },
  {
   "cell_type": "code",
   "execution_count": 3,
   "metadata": {},
   "outputs": [],
   "source": [
    "import sys\n",
    "sys.path.append('/home/gd1279/projects/Rainbow')"
   ]
  },
  {
   "cell_type": "code",
   "execution_count": 4,
   "metadata": {},
   "outputs": [],
   "source": [
    "from __future__ import division\n",
    "import argparse\n",
    "import os\n",
    "from datetime import datetime\n",
    "import atari_py\n",
    "import numpy as np\n",
    "import torch\n",
    "import wandb\n",
    "\n",
    "from agent import Agent\n",
    "from env import make_env\n",
    "from memory import ReplayMemory\n",
    "from masker import ALL_MASKERS\n",
    "from tqdm import tqdm, trange\n",
    "import pickle\n",
    "import bz2\n",
    "\n",
    "import matplotlib\n",
    "import matplotlib.pyplot as plt\n",
    "import cv2\n",
    "import glob\n",
    "import copy\n",
    "import imageio\n",
    "from profilehooks import profile\n",
    "from guppy import hpy\n",
    "import time\n",
    "\n",
    "def timeit(method):\n",
    "    def timed(*args, **kw):\n",
    "        start_time = time.time()\n",
    "        result = method(*args, **kw)\n",
    "        end_time = time.time()\n",
    "\n",
    "        print(f'{method.__name__} took {end_time - start_time:.2f} s')\n",
    "\n",
    "        return result\n",
    "    return timed"
   ]
  },
  {
   "cell_type": "code",
   "execution_count": 5,
   "metadata": {},
   "outputs": [
    {
     "name": "stdout",
     "output_type": "stream",
     "text": [
      "\u001b[34m\u001b[1mwandb\u001b[0m: Appending key for api.wandb.ai to your netrc file: /home/gd1279/.netrc\n",
      "\u001b[32mSuccessfully logged in to Weights & Biases!\u001b[0m\n"
     ]
    }
   ],
   "source": [
    "!wandb login 9676e3cc95066e4865586082971f2653245f09b4"
   ]
  },
  {
   "cell_type": "code",
   "execution_count": 6,
   "metadata": {},
   "outputs": [],
   "source": [
    "api = wandb.Api()"
   ]
  },
  {
   "cell_type": "code",
   "execution_count": 20,
   "metadata": {},
   "outputs": [],
   "source": [
    "run = api.run('augmented-frostbite/masks-and-pixels/runs/jszl27e5')\n",
    "hist = run.history()\n",
    "last_updates = [datetime.fromtimestamp(ts) for ts in hist.tail(10)['_timestamp']]"
   ]
  },
  {
   "cell_type": "code",
   "execution_count": 22,
   "metadata": {},
   "outputs": [
    {
     "data": {
      "text/plain": [
       "[23.1,\n",
       " 32.68333333333333,\n",
       " 23.3,\n",
       " 32.35,\n",
       " 22.766666666666666,\n",
       " 33.2,\n",
       " 23.233333333333334,\n",
       " 30.816666666666666,\n",
       " 23.1]"
      ]
     },
     "execution_count": 22,
     "metadata": {},
     "output_type": "execute_result"
    }
   ],
   "source": [
    "[(last_updates[k + 1] - last_updates[k]).seconds / 60 for k in range(len(last_updates) - 1)]"
   ]
  },
  {
   "cell_type": "code",
   "execution_count": 18,
   "metadata": {},
   "outputs": [
    {
     "data": {
      "text/plain": [
       "[datetime.datetime(2019, 11, 26, 13, 52, 42, 82798),\n",
       " datetime.datetime(2019, 11, 26, 14, 15, 48, 235623),\n",
       " datetime.datetime(2019, 11, 26, 14, 48, 29, 978845),\n",
       " datetime.datetime(2019, 11, 26, 15, 11, 48, 863929),\n",
       " datetime.datetime(2019, 11, 26, 15, 44, 10, 505346),\n",
       " datetime.datetime(2019, 11, 26, 16, 6, 57, 60492),\n",
       " datetime.datetime(2019, 11, 26, 16, 40, 9, 215315),\n",
       " datetime.datetime(2019, 11, 26, 17, 3, 23, 966742),\n",
       " datetime.datetime(2019, 11, 26, 17, 34, 13, 207468),\n",
       " datetime.datetime(2019, 11, 26, 17, 57, 20, 174044)]"
      ]
     },
     "execution_count": 18,
     "metadata": {},
     "output_type": "execute_result"
    }
   ],
   "source": []
  },
  {
   "cell_type": "code",
   "execution_count": null,
   "metadata": {},
   "outputs": [],
   "source": []
  }
 ],
 "metadata": {
  "kernelspec": {
   "display_name": "Python 3",
   "language": "python",
   "name": "python3"
  },
  "language_info": {
   "codemirror_mode": {
    "name": "ipython",
    "version": 3
   },
   "file_extension": ".py",
   "mimetype": "text/x-python",
   "name": "python",
   "nbconvert_exporter": "python",
   "pygments_lexer": "ipython3",
   "version": "3.7.4"
  }
 },
 "nbformat": 4,
 "nbformat_minor": 2
}
