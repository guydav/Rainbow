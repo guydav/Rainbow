{
 "cells": [
  {
   "cell_type": "code",
   "execution_count": 1,
   "metadata": {},
   "outputs": [],
   "source": [
    "%load_ext autoreload\n",
    "%autoreload 2\n",
    "%matplotlib inline"
   ]
  },
  {
   "cell_type": "code",
   "execution_count": 2,
   "metadata": {},
   "outputs": [
    {
     "name": "stdout",
     "output_type": "stream",
     "text": [
      "\u001b[34m\u001b[1mwandb\u001b[0m: Appending key for api.wandb.ai to your netrc file: /home/gd1279/.netrc\r\n",
      "\u001b[32mSuccessfully logged in to Weights & Biases!\u001b[0m\r\n"
     ]
    }
   ],
   "source": [
    "!wandb login 9676e3cc95066e4865586082971f2653245f09b4"
   ]
  },
  {
   "cell_type": "code",
   "execution_count": 11,
   "metadata": {},
   "outputs": [],
   "source": [
    "import numpy as np\n",
    "import pandas as pd\n",
    "import scipy\n",
    "from scipy import stats\n",
    "from scipy.special import factorial\n",
    "\n",
    "from mpl_toolkits.mplot3d import Axes3D\n",
    "import matplotlib\n",
    "import matplotlib.pyplot as plt\n",
    "from matplotlib import patches\n",
    "from matplotlib import path as mpath\n",
    "import matplotlib.gridspec as gridspec\n",
    "\n",
    "import pickle\n",
    "import tabulate\n",
    "import wandb"
   ]
  },
  {
   "cell_type": "code",
   "execution_count": 12,
   "metadata": {},
   "outputs": [],
   "source": [
    "api = wandb.Api()"
   ]
  },
  {
   "cell_type": "code",
   "execution_count": 6,
   "metadata": {},
   "outputs": [],
   "source": [
    "run_seeds = np.arange(200, 210)\n",
    "\n",
    "initial_runs = [run for run in api.runs('augmented-frostbite/initial-experiments')\n",
    "                if run.config['seed'] in run_seeds]"
   ]
  },
  {
   "cell_type": "code",
   "execution_count": null,
   "metadata": {},
   "outputs": [],
   "source": [
    "q_value_means = []\n",
    "q_value_stds = []\n",
    "\n",
    "reward_means = []\n",
    "reward_stds = []\n",
    "\n",
    "for run in initial_runs:\n",
    "    history = run.history(pandas=True)\n",
    "    print(run.name)\n",
    "    q_value_means.append(np.array(history['Q_value_mean'], dtype=np.float))\n",
    "    q_value_stds.append(np.array(history['Q_value_std'], dtype=np.float))\n",
    "    \n",
    "    reward_means.append(np.array(history['reward_mean'], dtype=np.float))\n",
    "    reward_stds.append(np.array(history['reward_std'], dtype=np.float))\n",
    "    \n",
    "for result_list in (q_value_means, q_value_stds, reward_means, reward_stds):\n",
    "    max_len = max([arr.shape[0] for arr in result_list])\n",
    "    \n",
    "    for i, arr in enumerate(result_list):\n",
    "        result_list[i] = np.pad(arr, (0, max_len - arr.shape[0]), 'constant', constant_values=np.nan)"
   ]
  },
  {
   "cell_type": "markdown",
   "metadata": {},
   "source": [
    "# Basic plots"
   ]
  },
  {
   "cell_type": "code",
   "execution_count": null,
   "metadata": {},
   "outputs": [],
   "source": [
    "NROWS = 1\n",
    "NCOLS = 2\n",
    "COL_WIDTH = 6\n",
    "ROW_HEIGHT = 5 \n",
    "WIDTH_SPACING = 2\n",
    "HEIGHT_SPACING = 0\n",
    "COLORMAP = 'cool'\n",
    "\n",
    "figure = plt.figure(figsize=(NCOLS * COL_WIDTH + WIDTH_SPACING, NROWS * ROW_HEIGHT + HEIGHT_SPACING))\n",
    "plt.subplots_adjust(hspace=0.4, wspace=0.2)\n",
    "\n",
    "x = np.arange(1, len(reward_means[0]) + 1) * 10000\n",
    "cmap = plt.get_cmap(COLORMAP)\n",
    "\n",
    "reward_ax = plt.subplot(NROWS, NCOLS, 1)\n",
    "\n",
    "for i, (r_mean, r_std) in enumerate(zip(reward_means, reward_stds)):\n",
    "    color = cmap(i / 9)\n",
    "    reward_ax.plot(x, r_mean, lw=1, color=color)\n",
    "    reward_ax.fill_between(x, r_mean - r_std, r_mean + r_std, color=color, alpha=0.10)\n",
    "    \n",
    "overall_reward_mean = np.nanmean(reward_means, axis=0)\n",
    "reward_ax.plot(x, overall_reward_mean, lw=2, color='black')\n",
    "    \n",
    "# reward_ax.set_yscale('log')\n",
    "reward_ax.set_title('Rewards')\n",
    "reward_ax.set_xlabel('Steps (1 step = 4 frames, 200k frames ~ 1 hr @ 60 fps)')\n",
    "reward_ax.set_ylabel('Reward')\n",
    "\n",
    "@matplotlib.ticker.FuncFormatter\n",
    "def million_formatter(x, pos):\n",
    "    if x == 0:\n",
    "        return 0\n",
    "    \n",
    "    return f'{x / 10 ** 6:.1f}M'\n",
    "\n",
    "reward_ax.xaxis.set_major_formatter(million_formatter)\n",
    "\n",
    "\n",
    "q_ax = plt.subplot(NROWS, NCOLS, 2)\n",
    "\n",
    "for i, (q_mean, q_std) in enumerate(zip(q_value_means, q_value_stds)):\n",
    "    color = cmap(i / 9)\n",
    "    q_ax.plot(x, q_mean, color=color, lw=1)\n",
    "    q_ax.fill_between(x, q_mean - q_std, q_mean + q_std, color=color, alpha=0.10)\n",
    "    \n",
    "overall_q_mean = np.nanmean(q_value_means, axis=0)\n",
    "q_ax.plot(x, overall_q_mean, lw=2, color='black')\n",
    "    \n",
    "# reward_ax.set_yscale('log')\n",
    "q_ax.set_title('Q-values')\n",
    "q_ax.set_xlabel('Steps (1 step = 4 frames, 200k frames ~ 1 hr @ 60 fps)')\n",
    "q_ax.set_ylabel('Average Q-value')\n",
    "\n",
    "q_ax.xaxis.set_major_formatter(million_formatter)\n",
    "\n",
    "plt.show()"
   ]
  },
  {
   "cell_type": "code",
   "execution_count": null,
   "metadata": {},
   "outputs": [],
   "source": []
  },
  {
   "cell_type": "code",
   "execution_count": null,
   "metadata": {},
   "outputs": [],
   "source": [
    "initial_runs[0].config['seed']"
   ]
  },
  {
   "cell_type": "code",
   "execution_count": 8,
   "metadata": {},
   "outputs": [
    {
     "data": {
      "text/plain": [
       "('data-efficient-5M-201', 'yslgd3ls')"
      ]
     },
     "execution_count": 8,
     "metadata": {},
     "output_type": "execute_result"
    }
   ],
   "source": [
    "initial_runs[0].name, initial_runs[0].id "
   ]
  },
  {
   "cell_type": "code",
   "execution_count": null,
   "metadata": {},
   "outputs": [],
   "source": [
    "h = initial_runs[0].history()"
   ]
  },
  {
   "cell_type": "code",
   "execution_count": null,
   "metadata": {},
   "outputs": [],
   "source": [
    "h['steps'].iat[-1]"
   ]
  },
  {
   "cell_type": "code",
   "execution_count": null,
   "metadata": {},
   "outputs": [],
   "source": [
    "for existing_run in api.runs('augmented-frostbite/initial-experiments'):\n",
    "    if existing_run.config['seed'] == 123:\n",
    "        print(existing_run.history()['steps'])"
   ]
  },
  {
   "cell_type": "code",
   "execution_count": null,
   "metadata": {},
   "outputs": [],
   "source": [
    "files = initial_runs[0].files()"
   ]
  },
  {
   "cell_type": "code",
   "execution_count": null,
   "metadata": {},
   "outputs": [],
   "source": [
    "for f in initial_runs[0].files('config2.yaml'):\n",
    "    print(f.name)"
   ]
  },
  {
   "cell_type": "code",
   "execution_count": null,
   "metadata": {},
   "outputs": [],
   "source": [
    "initial_runs[0].file('config2.yaml')"
   ]
  },
  {
   "cell_type": "code",
   "execution_count": null,
   "metadata": {},
   "outputs": [],
   "source": [
    "r = initial_runs[0]"
   ]
  },
  {
   "cell_type": "code",
   "execution_count": null,
   "metadata": {},
   "outputs": [],
   "source": [
    "for r in api.runs('augmented-frostbite/initial-experiments'):\n",
    "    print(r.name, r.storage_id)"
   ]
  },
  {
   "cell_type": "code",
   "execution_count": null,
   "metadata": {},
   "outputs": [],
   "source": [
    "dir(initial_runs[0])"
   ]
  },
  {
   "cell_type": "code",
   "execution_count": null,
   "metadata": {},
   "outputs": [],
   "source": [
    "tqdm.trange?"
   ]
  },
  {
   "cell_type": "code",
   "execution_count": null,
   "metadata": {},
   "outputs": [],
   "source": [
    "s = 'cabac'\n",
    "\n",
    "s == s[::-1]"
   ]
  },
  {
   "cell_type": "code",
   "execution_count": 13,
   "metadata": {},
   "outputs": [],
   "source": [
    "runs = api.runs('augmented-frostbite/initial-experiments', \n",
    "                {\"$and\": [{\"config.id\": \"data-efficient-resume-test\"}, {\"config.seed\": 200}]})\n",
    "r = runs[0]"
   ]
  },
  {
   "cell_type": "code",
   "execution_count": 14,
   "metadata": {},
   "outputs": [],
   "source": [
    "h = r.history(samples=1000)"
   ]
  },
  {
   "cell_type": "code",
   "execution_count": 15,
   "metadata": {},
   "outputs": [
    {
     "data": {
      "text/html": [
       "<div>\n",
       "<style scoped>\n",
       "    .dataframe tbody tr th:only-of-type {\n",
       "        vertical-align: middle;\n",
       "    }\n",
       "\n",
       "    .dataframe tbody tr th {\n",
       "        vertical-align: top;\n",
       "    }\n",
       "\n",
       "    .dataframe thead th {\n",
       "        text-align: right;\n",
       "    }\n",
       "</style>\n",
       "<table border=\"1\" class=\"dataframe\">\n",
       "  <thead>\n",
       "    <tr style=\"text-align: right;\">\n",
       "      <th></th>\n",
       "    </tr>\n",
       "  </thead>\n",
       "  <tbody>\n",
       "  </tbody>\n",
       "</table>\n",
       "</div>"
      ],
      "text/plain": [
       "Empty DataFrame\n",
       "Columns: []\n",
       "Index: []"
      ]
     },
     "execution_count": 15,
     "metadata": {},
     "output_type": "execute_result"
    }
   ],
   "source": [
    "h"
   ]
  },
  {
   "cell_type": "code",
   "execution_count": 17,
   "metadata": {},
   "outputs": [
    {
     "data": {
      "text/plain": [
       "0"
      ]
     },
     "execution_count": 17,
     "metadata": {},
     "output_type": "execute_result"
    }
   ],
   "source": [
    "len(h)"
   ]
  },
  {
   "cell_type": "code",
   "execution_count": null,
   "metadata": {},
   "outputs": [],
   "source": []
  }
 ],
 "metadata": {
  "kernelspec": {
   "display_name": "Python 3",
   "language": "python",
   "name": "python3"
  }
 },
 "nbformat": 4,
 "nbformat_minor": 2
}
