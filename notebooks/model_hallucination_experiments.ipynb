{
 "cells": [
  {
   "cell_type": "code",
   "execution_count": 1,
   "metadata": {},
   "outputs": [],
   "source": [
    "%load_ext autoreload\n",
    "%autoreload 2\n",
    "%matplotlib inline"
   ]
  },
  {
   "cell_type": "code",
   "execution_count": 2,
   "metadata": {},
   "outputs": [
    {
     "data": {
      "text/html": [
       "<style>.container { width:98% !important; }</style>"
      ],
      "text/plain": [
       "<IPython.core.display.HTML object>"
      ]
     },
     "metadata": {},
     "output_type": "display_data"
    }
   ],
   "source": [
    "from IPython.core.display import display, HTML\n",
    "display(HTML(\"<style>.container { width:98% !important; }</style>\"))"
   ]
  },
  {
   "cell_type": "code",
   "execution_count": 3,
   "metadata": {},
   "outputs": [
    {
     "name": "stdout",
     "output_type": "stream",
     "text": [
      "\u001b[34m\u001b[1mwandb\u001b[0m: Appending key for api.wandb.ai to your netrc file: /home/gd1279/.netrc\r\n",
      "\u001b[32mSuccessfully logged in to Weights & Biases!\u001b[0m\r\n"
     ]
    }
   ],
   "source": [
    "!wandb login 9676e3cc95066e4865586082971f2653245f09b4"
   ]
  },
  {
   "cell_type": "code",
   "execution_count": 4,
   "metadata": {},
   "outputs": [],
   "source": [
    "import sys\n",
    "sys.path.append('/home/gd1279/projects/Rainbow')"
   ]
  },
  {
   "cell_type": "code",
   "execution_count": 19,
   "metadata": {},
   "outputs": [],
   "source": [
    "import numpy as np\n",
    "import pandas as pd\n",
    "import scipy\n",
    "from scipy import stats, ndimage\n",
    "from scipy.special import factorial\n",
    "from sklearn.metrics import mean_squared_error\n",
    "\n",
    "from mpl_toolkits.mplot3d import Axes3D\n",
    "import matplotlib\n",
    "import matplotlib.pyplot as plt\n",
    "from matplotlib import patches\n",
    "from matplotlib import path as mpath\n",
    "import matplotlib.gridspec as gridspec\n",
    "\n",
    "import pickle\n",
    "import tabulate\n",
    "import wandb\n",
    "from collections import defaultdict, deque, namedtuple\n",
    "import os\n",
    "import argparse\n",
    "import atari_py\n",
    "import torch\n",
    "import torch.nn.functional as F\n",
    "\n",
    "from agent import Agent\n",
    "from env import make_env\n",
    "from masker import ALL_MASKERS"
   ]
  },
  {
   "cell_type": "code",
   "execution_count": 6,
   "metadata": {},
   "outputs": [],
   "source": [
    "np.set_printoptions(precision=5)"
   ]
  },
  {
   "cell_type": "code",
   "execution_count": 7,
   "metadata": {},
   "outputs": [],
   "source": [
    "api = wandb.Api()"
   ]
  },
  {
   "cell_type": "code",
   "execution_count": 8,
   "metadata": {},
   "outputs": [],
   "source": [
    "CHECKPOINT_SCRATCH_FOLDER = '/scratch/gd1279'\n",
    "\n",
    "if not os.path.exists(CHECKPOINT_SCRATCH_FOLDER):\n",
    "    os.mkdir(CHECKPOINT_SCRATCH_FOLDER)"
   ]
  },
  {
   "cell_type": "markdown",
   "metadata": {},
   "source": [
    "# Recreate the args "
   ]
  },
  {
   "cell_type": "code",
   "execution_count": 9,
   "metadata": {},
   "outputs": [
    {
     "data": {
      "text/plain": [
       "_StoreAction(option_strings=['--heap-debug-file'], dest='heap_debug_file', nargs=None, const=None, default=None, type=None, choices=None, help=None, metavar=None)"
      ]
     },
     "execution_count": 9,
     "metadata": {},
     "output_type": "execute_result"
    }
   ],
   "source": [
    "# Note that hyperparameters may originally be reported in ATARI game frames instead of agent steps\n",
    "parser = argparse.ArgumentParser(description='Rainbow')\n",
    "parser.add_argument('--id', type=str, default='default', help='Experiment ID')\n",
    "parser.add_argument('--seed', type=int, default=123, help='Random seed')\n",
    "parser.add_argument('--disable-cuda', action='store_true', help='Disable CUDA')\n",
    "parser.add_argument('--game', type=str, default='space_invaders', choices=atari_py.list_games(), help='ATARI game')\n",
    "parser.add_argument('--T-max', type=int, default=int(50e6), metavar='STEPS', help='Number of training steps (4x number of frames)')\n",
    "parser.add_argument('--max-episode-length', type=int, default=int(108e3), metavar='LENGTH', help='Max episode length in game frames (0 to disable)')\n",
    "parser.add_argument('--history-length', type=int, default=4, metavar='T', help='Number of consecutive states processed')\n",
    "parser.add_argument('--architecture', type=str, default='canonical', choices=['canonical', 'data-efficient'], metavar='ARCH', help='Network architecture')\n",
    "parser.add_argument('--hidden-size', type=int, default=512, metavar='SIZE', help='Network hidden size')\n",
    "parser.add_argument('--noisy-std', type=float, default=0.1, metavar='σ', help='Initial standard deviation of noisy linear layers')\n",
    "parser.add_argument('--atoms', type=int, default=51, metavar='C', help='Discretised size of value distribution')\n",
    "parser.add_argument('--V-min', type=float, default=-10, metavar='V', help='Minimum of value distribution support')\n",
    "parser.add_argument('--V-max', type=float, default=10, metavar='V', help='Maximum of value distribution support')\n",
    "parser.add_argument('--model', type=str, metavar='PARAMS', help='Pretrained model (state dict)')\n",
    "parser.add_argument('--memory-capacity', type=int, default=int(1e6), metavar='CAPACITY', help='Experience replay memory capacity')\n",
    "parser.add_argument('--replay-frequency', type=int, default=4, metavar='k', help='Frequency of sampling from memory')\n",
    "parser.add_argument('--priority-exponent', type=float, default=0.5, metavar='ω', help='Prioritised experience replay exponent (originally denoted α)')\n",
    "parser.add_argument('--priority-weight', type=float, default=0.4, metavar='β', help='Initial prioritised experience replay importance sampling weight')\n",
    "parser.add_argument('--multi-step', type=int, default=3, metavar='n', help='Number of steps for multi-step return')\n",
    "parser.add_argument('--discount', type=float, default=0.99, metavar='γ', help='Discount factor')\n",
    "parser.add_argument('--target-update', type=int, default=int(8e3), metavar='τ', help='Number of steps after which to update target network')\n",
    "parser.add_argument('--reward-clip', type=int, default=1, metavar='VALUE', help='Reward clipping (0 to disable)')\n",
    "parser.add_argument('--learning-rate', type=float, default=0.0000625, metavar='η', help='Learning rate')\n",
    "parser.add_argument('--adam-eps', type=float, default=1.5e-4, metavar='ε', help='Adam epsilon')\n",
    "parser.add_argument('--batch-size', type=int, default=32, metavar='SIZE', help='Batch size')\n",
    "parser.add_argument('--learn-start', type=int, default=int(20e3), metavar='STEPS', help='Number of steps before starting training')\n",
    "parser.add_argument('--evaluate', action='store_true', help='Evaluate only')\n",
    "parser.add_argument('--evaluation-interval', type=int, default=100000, metavar='STEPS', help='Number of training steps between evaluations')\n",
    "parser.add_argument('--evaluation-episodes', type=int, default=10, metavar='N', help='Number of evaluation episodes to average over')\n",
    "parser.add_argument('--evaluation-size', type=int, default=500, metavar='N', help='Number of transitions to use for validating Q')\n",
    "parser.add_argument('--render', action='store_true', help='Display screen (testing only)')\n",
    "parser.add_argument('--enable-cudnn', action='store_true', help='Enable cuDNN (faster but nondeterministic)')\n",
    "parser.add_argument('--save-evaluation-gifs', action='store_true', help='Save GIFs of evaluation episodes')\n",
    "parser.add_argument('--evaluation-gif-folder', default=None, help='Folder to save evaluation GIFs in')\n",
    "parser.add_argument('--save-evaluation-states', action='store_true', help='Save the states of evaluation episodes')\n",
    "parser.add_argument('--evaluation-state-folder', default=None, help='Folder to save evaluation state in')\n",
    "\n",
    "# Custom arguments I added\n",
    "\n",
    "SCRATCH_FOLDER = r'/misc/vlgscratch4/LakeGroup/guy/'\n",
    "\n",
    "DEFUALT_WANDB_ENTITY = 'augmented-frostbite'\n",
    "parser.add_argument('--wandb-entity', default=DEFUALT_WANDB_ENTITY)\n",
    "DEFAULT_WANDB_PROJECT = 'initial-experiments'\n",
    "parser.add_argument('--wandb-project', default=DEFAULT_WANDB_PROJECT)\n",
    "DEFAULT_WANDB_DIR = SCRATCH_FOLDER  # wandb creates its own folder inside\n",
    "parser.add_argument('--wandb-dir', default=DEFAULT_WANDB_DIR)\n",
    "parser.add_argument('--wandb-omit-watch', action='store_true')\n",
    "parser.add_argument('--wandb-resume', action='store_true')\n",
    "DEFAULT_MEMORY_SAVE_FOLDER = os.path.join(SCRATCH_FOLDER, 'rainbow_memory')\n",
    "parser.add_argument('--memory-save-folder', default=DEFAULT_MEMORY_SAVE_FOLDER)\n",
    "parser.add_argument('--memory-save-interval', type=int, default=None, help='How often to save the memory, defaults to the evaluation interval')\n",
    "parser.add_argument('--use-native-pickle-serialization', action='store_true', help='Use native pickle saving rather than torch.save()')\n",
    "\n",
    "# Arguments for the augmented representations\n",
    "parser.add_argument('--add-masks', action='store_true', help='Add masks for each semantic object types')\n",
    "parser.add_argument('--maskers', default=None, help='Select specific maskers to use')\n",
    "parser.add_argument('--use-numpy-masker', action='store_true', help='Use the previous, much slower numpy-based masker')\n",
    "parser.add_argument('--omit-pixels', action='store_true', help='Omit the raw pixels from the environment')\n",
    "\n",
    "# Arguments to give it a soft time cap that will help it not fail\n",
    "parser.add_argument('--soft-time-cap', help='Format: <DD>:HH:MM, stop after some soft cap such that the saving the memory does not fail')\n",
    "\n",
    "# Debugging-related arguments\n",
    "parser.add_argument('--debug-heap', action='store_true')\n",
    "parser.add_argument('--heap-interval', default=1e4)\n",
    "parser.add_argument('--heap-debug-file', default=None)\n"
   ]
  },
  {
   "cell_type": "markdown",
   "metadata": {},
   "source": [
    "# Load a run and its model"
   ]
  },
  {
   "cell_type": "code",
   "execution_count": 10,
   "metadata": {},
   "outputs": [],
   "source": [
    "def download_checkpoint(run, step=None):\n",
    "    files = run.files()\n",
    "    if step is None:\n",
    "        step = max([int(f.name[f.name.rfind('-') + 1:f.name.rfind('.')]) \n",
    "                    for f in files \n",
    "                    if f.name.endswith('.pth')])\n",
    "        \n",
    "    sample_name = [f.name for f in files if f.name.endswith('.pth')][0]\n",
    "    checkpoint_name = sample_name[:sample_name.rfind('-')]\n",
    "    checkpoint_file = f'{checkpoint_name}-{step}.pth'\n",
    "    run.file(checkpoint_file).download(replace=True, root=CHECKPOINT_SCRATCH_FOLDER)\n",
    "    return os.path.join(CHECKPOINT_SCRATCH_FOLDER, checkpoint_file)\n",
    "\n",
    "\n",
    "def setup_args(run):\n",
    "    args = parser.parse_args([])\n",
    "    config = run.config\n",
    "    \n",
    "    for key in config:\n",
    "        if key in args:\n",
    "            args.__setattr__(key, config[key])\n",
    "            \n",
    "    np.random.seed(args.seed)\n",
    "    torch.manual_seed(args.seed)\n",
    "\n",
    "    if torch.cuda.is_available() and not args.disable_cuda:\n",
    "        args.device = torch.device('cuda')\n",
    "        # torch.cuda.manual_seed(np.random.randint(1, 10000))\n",
    "        torch.cuda.manual_seed(args.seed)\n",
    "        torch.backends.cudnn.enabled = args.enable_cudnn\n",
    "    else:\n",
    "        args.device = torch.device('cpu')\n",
    "            \n",
    "    return args\n",
    "\n",
    "\n",
    "LOADED_MODEL_CACHE = {}\n",
    "\n",
    "\n",
    "def load_model_from_run(run, cache=LOADED_MODEL_CACHE):\n",
    "    if run not in cache:\n",
    "        checkpoint_path = download_checkpoint(run)\n",
    "        args = setup_args(run)\n",
    "        args.model = checkpoint_path\n",
    "\n",
    "        env = make_env(args)\n",
    "        dqn = Agent(args, env)\n",
    "        cache[run] = dqn, env\n",
    "        \n",
    "    return cache[run]"
   ]
  },
  {
   "cell_type": "markdown",
   "metadata": {},
   "source": [
    "## Utilities"
   ]
  },
  {
   "cell_type": "code",
   "execution_count": 11,
   "metadata": {},
   "outputs": [],
   "source": [
    "from MulticoreTSNE import MulticoreTSNE as TSNE\n",
    "\n",
    "\n",
    "ModelResults = namedtuple('ModelResults', \n",
    "                          ('hidden_states', 'q_values', 'state_values', 'actions'))\n",
    "\n",
    "KeyIndex = namedtuple('KeyIndex',\n",
    "                      ('peak_index', 'peak_value', 'start', 'end', 'count', 'indices'))\n",
    "\n",
    "\n",
    "def rgb_to_grayscale(obs):\n",
    "    # My best approximation of how the ALE does it\n",
    "    rgb = obs.astype('float32')\n",
    "    return (rgb[:,:,0] * 0.299 + rgb[:,:,1] * 0.587 + rgb[:,:,2] * 0.114).astype(np.uint8)\n",
    "\n",
    "\n",
    "def observation_to_model(env, obs):\n",
    "    return env._prepare_state(env._to_tensor(rgb_to_grayscale(obs)), env._to_tensor(obs))\n",
    "\n",
    "\n",
    "MAX_STATE_IDX = None\n",
    "SKIP = 2\n",
    "\n",
    "\n",
    "def pass_states_through_model(model, env, observations, max_state_idx=MAX_STATE_IDX, skip=SKIP):\n",
    "    state_buffer = deque([], maxlen=4)\n",
    "    hidden_states = []\n",
    "    q_values = []\n",
    "    state_values = []\n",
    "    actions = []\n",
    "\n",
    "    for frame in observations[:3]:\n",
    "        state_buffer.append(observation_to_model(env, frame))\n",
    "\n",
    "    with torch.no_grad():\n",
    "        for frame in observations[3:max_state_idx]:\n",
    "            state_buffer.append(observation_to_model(env, frame))\n",
    "            state = torch.cat(list(state_buffer), 0)\n",
    "            \n",
    "            hidden_state = model.online_net.convs(state.unsqueeze(0)).view(-1)\n",
    "            hidden_states.append(hidden_state.detach().cpu().numpy())\n",
    "            \n",
    "            q_values.append(model.expected_q_values(state))\n",
    "            state_values.append(model.evaluate_q(state))\n",
    "            actions.append(model.act(state))\n",
    "\n",
    "    hidden_state_array = np.array(hidden_states[::skip])\n",
    "    q_values_array = np.array(q_values[::skip])\n",
    "    state_value_array = np.array(state_values[::skip])\n",
    "    action_array = np.array(actions[::skip])\n",
    "    \n",
    "    return ModelResults(hidden_state_array, q_values_array, state_value_array, action_array)\n",
    "\n",
    "\n",
    "def plot_entire_state(observations, start_index, num_frames=4):\n",
    "    figure = plt.figure(figsize=(18, 4))\n",
    "    for i in range(num_frames):\n",
    "        ax = plt.subplot(1, num_frames, i + 1)\n",
    "        ax.imshow(observations[start_index + i])\n",
    "        \n",
    "    plt.show()\n",
    "    \n",
    "\n",
    "def plot_embeddings_and_state(embeddings, color_values, observations, start_index, special_indices=None, num_frames=4,\n",
    "                              low_alpha=0.1, medium_alpha=0.7, alpha_threshold=0.7):\n",
    "    fig = plt.figure(constrained_layout=True, figsize=(16, 8))\n",
    "    gs = fig.add_gridspec(2, 4)\n",
    "    \n",
    "    tsne_ax = fig.add_subplot(gs[:, :2])\n",
    "    cmap = matplotlib.cm.get_cmap('Spectral_r')\n",
    "    normalizer = matplotlib.colors.Normalize(np.min(color_values), np.max(color_values))\n",
    "\n",
    "    colors = np.array([cmap(normalizer(d)) for d in color_values])\n",
    "    colors[:,3] = np.abs(color_values) / np.max(np.abs(color_values))\n",
    "    colors[colors[:,3] > alpha_threshold, 3] = medium_alpha\n",
    "    colors[colors[:,3] < alpha_threshold, 3] = low_alpha\n",
    "\n",
    "    mask = np.zeros(Y.shape[0], dtype=bool)\n",
    "    if special_indices is not None:\n",
    "        mask[special_indices] = True\n",
    "        colors[mask, 3] = 1\n",
    "\n",
    "    tsne_ax.scatter(embeddings[~mask, 0], embeddings[~mask, 1], color=colors[~mask])\n",
    "    tsne_ax.scatter(embeddings[mask, 0], embeddings[mask, 1], color='purple', s=50, marker='x')\n",
    "    plt.colorbar(matplotlib.cm.ScalarMappable(norm=normalizer, cmap=cmap), ax=tsne_ax)\n",
    "    \n",
    "    for i in range(num_frames):\n",
    "        ax = fig.add_subplot(gs[i // 2, 2 + (i % 2)])\n",
    "        ax.imshow(observations[start_index + i])\n",
    "        \n",
    "    plt.show()\n",
    "    \n",
    "    \n",
    "ALE_ACTIONS = {\n",
    "    0: 'noop',\n",
    "    1: 'fire',\n",
    "    2: 'up',\n",
    "    3: 'right',\n",
    "    4: 'left',\n",
    "    5: 'down',\n",
    "    6: 'up + right',\n",
    "    7: 'up + left',\n",
    "    8: 'down + right',\n",
    "    9: 'down + left',\n",
    "    10: 'up + fire',\n",
    "    11: 'right + fire',\n",
    "    12: 'left + fire',\n",
    "    13: 'down + fire',\n",
    "    14: 'up + right + fire',\n",
    "    15: 'up + left + fire',\n",
    "    16: 'down + right + fire',\n",
    "    17: 'down + left + fire'\n",
    "}\n",
    "\n",
    "\n",
    "def print_model_state_description(results, name, index, top_k=3):\n",
    "    value = results.state_values[index]\n",
    "    action = results.actions[index]\n",
    "    print(f'{name} had value {value:.3f} => {ALE_ACTIONS[action]} ({action})')\n",
    "    q = results.q_values[index].cpu().numpy()\n",
    "    top_actions = np.argpartition(q, -top_k)[-top_k:]\n",
    "    top_actions = top_actions[np.argsort(q[top_actions])][::-1]\n",
    "    p = F.softmax(results.q_values[index], dim=0)\n",
    "    print(' | '.join([f'({i + 1}) {ALE_ACTIONS[a]} [{a}], Q = {q[a]:.3f}, P = {p[a]:.3f}' for i, a in enumerate(top_actions)]))\n",
    "\n",
    "    \n",
    "def describe_states_by_indices(indices, first_model_results, first_model_name, second_model_results, second_model_name, \n",
    "                               observations, embeddings, color_values, top_k=3, plot_embeddings=False):\n",
    "    for key_index in sorted(indices, key=lambda ki: ki.peak_index):\n",
    "        index = key_index.peak_index\n",
    "        print(f'At index {index}')\n",
    "        print_model_state_description(first_model_results, first_model_name, index, top_k)\n",
    "        print_model_state_description(second_model_results, second_model_name, index, top_k)\n",
    "        \n",
    "        if plot_embeddings:\n",
    "            plot_embeddings_and_state(embeddings, color_values, observations, \n",
    "                                      key_index.peak_index, \n",
    "                                      special_indices=key_index.indices)\n",
    "        else:\n",
    "            plot_entire_state(observations, index)\n",
    "    \n",
    "    \n",
    "def find_diverging_states(values, indices, min_distance=10):\n",
    "    index_values = [values[i] for i in indices]\n",
    "    output = [KeyIndex(indices[0], index_values[0], indices[0], indices[0], 1, [indices[0]])]\n",
    "    \n",
    "    for index, value in zip(indices[1:], index_values[1:]):\n",
    "        current = output[-1]\n",
    "        \n",
    "        # Sufficiently far away, append a new one\n",
    "        if index > current.end + min_distance:\n",
    "            output.append(KeyIndex(index, value, index, index, 1, [index]))\n",
    "            \n",
    "        # Value more extreme, replace peak\n",
    "        elif abs(value) > abs(current.peak_value):  \n",
    "            output[-1] = KeyIndex(index, value, current.start, index, current.count + 1, current.indices + [index])\n",
    "            \n",
    "        # Value not more extreme, extend\n",
    "        else:\n",
    "            output[-1] = KeyIndex(current.peak_index, current.peak_value, current.start, index, current.count + 1, current.indices + [index])\n",
    "            \n",
    "    return output"
   ]
  },
  {
   "cell_type": "code",
   "execution_count": 46,
   "metadata": {},
   "outputs": [],
   "source": [
    "def copy_object(state, channel_index, src_slices, dst_location):\n",
    "    dst_slices = [slice(dst_location[i], dst_location[i] + src_slices[i].stop - src_slices[i].start)\n",
    "                  for i in range(len(dst_location))] \n",
    "    \n",
    "    state[channel_index, dst_slices[0], dst_slices[1]] = state[channel_index, src_slices[0], src_slices[1]]\n",
    "\n",
    "    return state"
   ]
  },
  {
   "cell_type": "markdown",
   "metadata": {},
   "source": [
    "# Gameplan\n",
    "\n",
    "1. See that I can locate objects\n",
    "2. See that I can add additional objects\n",
    "3. See what this changes"
   ]
  },
  {
   "cell_type": "markdown",
   "metadata": {},
   "source": [
    "## 1\n",
    "\n",
    "Using model 306 from the baseline condition, one of the average models, not the 'superstar' one"
   ]
  },
  {
   "cell_type": "code",
   "execution_count": 13,
   "metadata": {},
   "outputs": [
    {
     "name": "stdout",
     "output_type": "stream",
     "text": [
      "(5671, 210, 160, 3)\n"
     ]
    }
   ],
   "source": [
    "SAMPLE_SAVED_STATES = r'/home/gd1279/scratch/rainbow-evaluation-state-traces/baseline-rainbow-305/evaluation/states/eval-baseline-rainbow-305-34350000-0-env.pickle'\n",
    "\n",
    "with open(SAMPLE_SAVED_STATES, 'rb') as state_file:\n",
    "    sample_full_color_observations = pickle.load(state_file)\n",
    "    \n",
    "    \n",
    "sample_full_color_observations = sample_full_color_observations.astype(np.uint8)\n",
    "print(sample_full_color_observations.shape)"
   ]
  },
  {
   "cell_type": "code",
   "execution_count": 14,
   "metadata": {},
   "outputs": [
    {
     "name": "stdout",
     "output_type": "stream",
     "text": [
      "Loading pretrained model: /scratch/gd1279/baseline-rainbow-306-29150000.pth\n"
     ]
    }
   ],
   "source": [
    "baseline_run = api.run('augmented-frostbite/initial-experiments/runs/fdxobftk')\n",
    "baseline_model, baseline_env = load_model_from_run(baseline_run)"
   ]
  },
  {
   "cell_type": "code",
   "execution_count": 15,
   "metadata": {},
   "outputs": [
    {
     "name": "stderr",
     "output_type": "stream",
     "text": [
      "/misc/vlgscratch4/LakeGroup/guy/anaconda3/envs/rainbow/lib/python3.7/site-packages/torch/nn/functional.py:2494: UserWarning: Default upsampling behavior when mode=bilinear is changed to align_corners=False since 0.4.0. Please specify align_corners=True if the old behavior is desired. See the documentation of nn.Upsample for details.\n",
      "  \"See the documentation of nn.Upsample for details.\".format(mode))\n"
     ]
    },
    {
     "data": {
      "text/plain": [
       "(5668, 3136)"
      ]
     },
     "execution_count": 15,
     "metadata": {},
     "output_type": "execute_result"
    }
   ],
   "source": [
    "baseline_model_results = pass_states_through_model(baseline_model, baseline_env, sample_full_color_observations, skip=1)\n",
    "\n",
    "baseline_model_results.hidden_states.shape"
   ]
  },
  {
   "cell_type": "code",
   "execution_count": 16,
   "metadata": {},
   "outputs": [
    {
     "data": {
      "text/plain": [
       "(5668, 2)"
      ]
     },
     "execution_count": 16,
     "metadata": {},
     "output_type": "execute_result"
    }
   ],
   "source": [
    "tsne = TSNE(n_jobs=4)\n",
    "Y = tsne.fit_transform(baseline_model_results.hidden_states)\n",
    "Y.shape"
   ]
  },
  {
   "cell_type": "code",
   "execution_count": 17,
   "metadata": {},
   "outputs": [
    {
     "name": "stdout",
     "output_type": "stream",
     "text": [
      "Loading pretrained model: /scratch/gd1279/masks-only-replication-306-10000000.pth\n"
     ]
    }
   ],
   "source": [
    "masks_only_run = api.run('augmented-frostbite/masks-only-replication/runs/0khc2n2c')\n",
    "masks_only_model, masks_only_env = load_model_from_run(masks_only_run)\n",
    "masks_only_model_results = pass_states_through_model(masks_only_model, masks_only_env, sample_full_color_observations, skip=1)"
   ]
  },
  {
   "cell_type": "code",
   "execution_count": 25,
   "metadata": {},
   "outputs": [
    {
     "data": {
      "image/png": "[encoded data removed]",
      "text/plain": [
       "<Figure size 1728x288 with 8 Axes>"
      ]
     },
     "metadata": {
      "needs_background": "light"
     },
     "output_type": "display_data"
    }
   ],
   "source": [
    "frame_idx = 1100\n",
    "state = observation_to_model(masks_only_env, sample_full_color_observations[frame_idx]).cpu().numpy()\n",
    "\n",
    "plt.figure(figsize=(24, 4))\n",
    "for i in range(state.shape[0]):\n",
    "    ax = plt.subplot(1, 8, i + 1)\n",
    "    ax.imshow(state[i], cmap='Greys')\n",
    "    \n",
    "plt.show()"
   ]
  },
  {
   "cell_type": "code",
   "execution_count": 103,
   "metadata": {},
   "outputs": [],
   "source": [
    "DIAGONAL_CONNECTIVITY_STRUCTURE = ndimage.generate_binary_structure(2, 2)\n",
    "\n",
    "\n",
    "def extract_object(observations, obs_index, model, env, channel_index, \n",
    "                   object_index=0, structure=DIAGONAL_CONNECTIVITY_STRUCTURE,\n",
    "                   return_tensor=True, return_location=False):\n",
    "    state = observation_to_model(env, observations[obs_index]).cpu().numpy()\n",
    "    labeled, count = ndimage.label(state[channel_index], structure)\n",
    "    locations = ndimage.find_objects(labeled, 0)\n",
    "    print(locations)\n",
    "    loc = locations[object_index]\n",
    "    if return_location:\n",
    "        return loc\n",
    "    \n",
    "    object_arr = state[channel_index, loc[0], loc[1]]\n",
    "    if return_tensor:\n",
    "        return torch.Tensor(object_arr).to(model.online_net.convs[0].weight.device)\n",
    "    \n",
    "    return object_arr\n",
    "    "
   ]
  },
  {
   "cell_type": "code",
   "execution_count": 106,
   "metadata": {},
   "outputs": [
    {
     "name": "stdout",
     "output_type": "stream",
     "text": [
      "[(slice(33, 36, None), slice(67, 72, None)), (slice(43, 47, None), slice(59, 64, None)), (slice(53, 57, None), slice(67, 72, None)), (slice(64, 67, None), slice(51, 55, None))]\n"
     ]
    },
    {
     "data": {
      "text/plain": [
       "<matplotlib.image.AxesImage at 0x7fee948c1b50>"
      ]
     },
     "execution_count": 106,
     "metadata": {},
     "output_type": "execute_result"
    },
    {
     "data": {
      "image/png": "[encoded data removed]",
      "text/plain": [
       "<Figure size 432x288 with 1 Axes>"
      ]
     },
     "metadata": {
      "needs_background": "light"
     },
     "output_type": "display_data"
    }
   ],
   "source": [
    "obj = extract_object(sample_full_color_observations, 1100, masks_only_model, masks_only_env, 1, 1, return_tensor=False)\n",
    "plt.imshow(obj, cmap='Greys')"
   ]
  },
  {
   "cell_type": "code",
   "execution_count": 47,
   "metadata": {},
   "outputs": [
    {
     "data": {
      "text/plain": [
       "<matplotlib.image.AxesImage at 0x7fee9e63c550>"
      ]
     },
     "execution_count": 47,
     "metadata": {},
     "output_type": "execute_result"
    },
    {
     "data": {
      "image/png": "[encoded data removed]",
      "text/plain": [
       "<Figure size 432x288 with 1 Axes>"
      ]
     },
     "metadata": {
      "needs_background": "light"
     },
     "output_type": "display_data"
    }
   ],
   "source": [
    "\n",
    "\n",
    "labeled, count = ndimage.label(state[0], structure)\n",
    "loc = ndimage.find_objects(labeled, 1)[0]\n",
    "plt.imshow(state[0, loc[0], loc[1]], cmap='Greys')"
   ]
  },
  {
   "cell_type": "code",
   "execution_count": 48,
   "metadata": {},
   "outputs": [
    {
     "data": {
      "image/png": "[encoded data removed]",
      "text/plain": [
       "<Figure size 1728x288 with 8 Axes>"
      ]
     },
     "metadata": {
      "needs_background": "light"
     },
     "output_type": "display_data"
    }
   ],
   "source": [
    "state_copy = np.copy(state)\n",
    "state_copy = copy_object(state_copy, 0, loc, (20, 20))\n",
    "\n",
    "plt.figure(figsize=(24, 4))\n",
    "for i in range(state_copy.shape[0]):\n",
    "    ax = plt.subplot(1, 8, i + 1)\n",
    "    ax.imshow(state_copy[i], cmap='Greys')\n",
    "    \n",
    "plt.show()"
   ]
  },
  {
   "cell_type": "code",
   "execution_count": 66,
   "metadata": {},
   "outputs": [
    {
     "name": "stderr",
     "output_type": "stream",
     "text": [
      "/misc/vlgscratch4/LakeGroup/guy/anaconda3/envs/rainbow/lib/python3.7/site-packages/ipykernel_launcher.py:2: UserWarning: Using a target size (torch.Size([])) that is different to the input size (torch.Size([18])). This will likely lead to incorrect results due to broadcasting. Please ensure they have the same size.\n",
      "  \n"
     ]
    },
    {
     "data": {
      "text/plain": [
       "(1449,\n",
       " 4.2071524,\n",
       " tensor([0.3409, 0.1713, 3.9649, 0.6107, 0.2131, 1.9395, 0.8893, 0.1201, 6.3739,\n",
       "         0.0257, 0.1518, 0.6802, 0.0329, 3.1184, 0.4893, 0.0332, 6.3191, 0.0286],\n",
       "        device='cuda:0'))"
      ]
     },
     "execution_count": 66,
     "metadata": {},
     "output_type": "execute_result"
    }
   ],
   "source": [
    "mses = np.array([F.mse_loss(masks_only_model_results.q_values[i], masks_only_model_results.q_values[i].mean()).cpu().numpy() \n",
    "        for i in range(len(masks_only_model_results.q_values))])\n",
    "\n",
    "max_idx = np.argmax(mses)\n",
    "max_idx, mses[max_idx], masks_only_model_results.q_values[max_idx]"
   ]
  },
  {
   "cell_type": "code",
   "execution_count": 67,
   "metadata": {},
   "outputs": [
    {
     "name": "stderr",
     "output_type": "stream",
     "text": [
      "/misc/vlgscratch4/LakeGroup/guy/anaconda3/envs/rainbow/lib/python3.7/site-packages/torch/nn/functional.py:2494: UserWarning: Default upsampling behavior when mode=bilinear is changed to align_corners=False since 0.4.0. Please specify align_corners=True if the old behavior is desired. See the documentation of nn.Upsample for details.\n",
      "  \"See the documentation of nn.Upsample for details.\".format(mode))\n"
     ]
    },
    {
     "data": {
      "image/png": "[encoded data removed]",
      "text/plain": [
       "<Figure size 1728x288 with 8 Axes>"
      ]
     },
     "metadata": {
      "needs_background": "light"
     },
     "output_type": "display_data"
    }
   ],
   "source": [
    "frame_idx = 1449\n",
    "state = observation_to_model(masks_only_env, sample_full_color_observations[frame_idx]).cpu().numpy()\n",
    "\n",
    "plt.figure(figsize=(24, 4))\n",
    "for i in range(state.shape[0]):\n",
    "    ax = plt.subplot(1, 8, i + 1)\n",
    "    ax.imshow(state[i], cmap='Greys')\n",
    "    \n",
    "plt.show()"
   ]
  },
  {
   "cell_type": "code",
   "execution_count": 70,
   "metadata": {},
   "outputs": [],
   "source": [
    "object_locations = []\n",
    "\n",
    "for channel_idx in range(state.shape[0]):\n",
    "    labeled, count = ndimage.label(state[channel_idx], structure)\n",
    "    object_locations.append(ndimage.find_objects(labeled))"
   ]
  },
  {
   "cell_type": "code",
   "execution_count": null,
   "metadata": {},
   "outputs": [],
   "source": [
    "def print_model_state_description(state, name, index, top_k=3):\n",
    "    value = results.state_values[index]\n",
    "    action = results.actions[index]\n",
    "    print(f'{name} had value {value:.3f} => {ALE_ACTIONS[action]} ({action})')\n",
    "    q = results.q_values[index].cpu().numpy()\n",
    "    top_actions = np.argpartition(q, -top_k)[-top_k:]\n",
    "    top_actions = top_actions[np.argsort(q[top_actions])][::-1]\n",
    "    p = F.softmax(results.q_values[index], dim=0)\n",
    "    print(' | '.join([f'({i + 1}) {ALE_ACTIONS[a]} [{a}], Q = {q[a]:.3f}, P = {p[a]:.3f}' for i, a in enumerate(top_actions)]))"
   ]
  },
  {
   "cell_type": "code",
   "execution_count": 76,
   "metadata": {},
   "outputs": [
    {
     "ename": "AttributeError",
     "evalue": "'Agent' object has no attribute 'device'",
     "output_type": "error",
     "traceback": [
      "\u001b[0;31m---------------------------------------------------------------------------\u001b[0m",
      "\u001b[0;31mAttributeError\u001b[0m                            Traceback (most recent call last)",
      "\u001b[0;32m<ipython-input-76-05c83b746e64>\u001b[0m in \u001b[0;36m<module>\u001b[0;34m\u001b[0m\n\u001b[1;32m      6\u001b[0m         \u001b[0mstate_copy\u001b[0m \u001b[0;34m=\u001b[0m \u001b[0mcopy_object\u001b[0m\u001b[0;34m(\u001b[0m\u001b[0mstate_copy\u001b[0m\u001b[0;34m,\u001b[0m \u001b[0;36m0\u001b[0m\u001b[0;34m,\u001b[0m \u001b[0mobject_locations\u001b[0m\u001b[0;34m[\u001b[0m\u001b[0;36m0\u001b[0m\u001b[0;34m]\u001b[0m\u001b[0;34m[\u001b[0m\u001b[0;36m0\u001b[0m\u001b[0;34m]\u001b[0m\u001b[0;34m,\u001b[0m \u001b[0mnew_player_locations\u001b[0m\u001b[0;34m[\u001b[0m\u001b[0mj\u001b[0m\u001b[0;34m]\u001b[0m\u001b[0;34m)\u001b[0m\u001b[0;34m\u001b[0m\u001b[0;34m\u001b[0m\u001b[0m\n\u001b[1;32m      7\u001b[0m \u001b[0;34m\u001b[0m\u001b[0m\n\u001b[0;32m----> 8\u001b[0;31m     \u001b[0mstate_tensor\u001b[0m \u001b[0;34m=\u001b[0m \u001b[0mtorch\u001b[0m\u001b[0;34m.\u001b[0m\u001b[0mTensor\u001b[0m\u001b[0;34m(\u001b[0m\u001b[0mstate_copy\u001b[0m\u001b[0;34m)\u001b[0m\u001b[0;34m.\u001b[0m\u001b[0mto\u001b[0m\u001b[0;34m(\u001b[0m\u001b[0mmasks_only_model\u001b[0m\u001b[0;34m.\u001b[0m\u001b[0mdevice\u001b[0m\u001b[0;34m)\u001b[0m\u001b[0;34m\u001b[0m\u001b[0;34m\u001b[0m\u001b[0m\n\u001b[0m",
      "\u001b[0;31mAttributeError\u001b[0m: 'Agent' object has no attribute 'device'"
     ]
    }
   ],
   "source": [
    "new_player_locations = [(20, 20), (20, 60), (60, 20), (60, 60)]\n",
    "\n",
    "for i in range(len(new_player_locations)):\n",
    "    state_copy = np.copy(state)\n",
    "    for j in range(i + 1):\n",
    "        state_copy = copy_object(state_copy, 0, object_locations[0][0], new_player_locations[j])\n",
    "        \n",
    "    state_tensor = torch.Tensor(state_copy).to(masks_only_model.online_net.convs[0].weight.device)\n",
    "    \n",
    "    "
   ]
  },
  {
   "cell_type": "code",
   "execution_count": 87,
   "metadata": {},
   "outputs": [
    {
     "data": {
      "text/plain": [
       "device(type='cuda', index=0)"
      ]
     },
     "execution_count": 87,
     "metadata": {},
     "output_type": "execute_result"
    }
   ],
   "source": []
  },
  {
   "cell_type": "markdown",
   "metadata": {},
   "source": [
    "# More organized take at this code"
   ]
  },
  {
   "cell_type": "code",
   "execution_count": 217,
   "metadata": {},
   "outputs": [
    {
     "ename": "SyntaxError",
     "evalue": "unexpected character after line continuation character (<ipython-input-217-d895782a744e>, line 69)",
     "output_type": "error",
     "traceback": [
      "\u001b[0;36m  File \u001b[0;32m\"<ipython-input-217-d895782a744e>\"\u001b[0;36m, line \u001b[0;32m69\u001b[0m\n\u001b[0;31m    before_q_values_per_model, after_q_values_per_model, before_state, after_state =\\\u001b[0m\n\u001b[0m                                                                                      ^\u001b[0m\n\u001b[0;31mSyntaxError\u001b[0m\u001b[0;31m:\u001b[0m unexpected character after line continuation character\n"
     ]
    }
   ],
   "source": [
    "ChannelAugmentation = namedtuple('ChannelAugmentation', \n",
    "                                 ('channel_index', 'added_object', 'added_location'))\n",
    "\n",
    "ModelAugmentation = namedtuple('ModelAugmentation', \n",
    "                               ('name', 'model', 'env', 'augmentations'))\n",
    "\n",
    "\n",
    "def augment_single_channel(state, channel_augmentation):\n",
    "    dst_slices = [slice(channel_augmentation.added_location[i], \n",
    "                        channel_augmentation.added_location[i] + channel_augmentation.added_object.shape[i])\n",
    "                  for i in range(len(channel_augmentation.added_location))] \n",
    "    state[channel_augmentation.channel_index, dst_slices[0], dst_slices[1]] = channel_augmentation.added_object\n",
    "    return state\n",
    "    \n",
    "\n",
    "def modify_state(state, augmentations):\n",
    "    for augmentation in augmentations:\n",
    "        state = augment_single_channel(state, augmentation)\n",
    "        \n",
    "    return state\n",
    "\n",
    "\n",
    "def augmented_state_q_values(observations, augmented_index, model_augmentations, state_length=4, return_before_and_after=False):\n",
    "    if augmented_index < state_length or augmented_index >= len(observations):\n",
    "        raise ValueError(f'Augmented index should be in [{state_length}, {len(observations)}), received {augmented_index}')\n",
    "\n",
    "    before_q_values_per_model = []\n",
    "    after_q_values_per_model = []\n",
    "    before = None, after = None\n",
    "    \n",
    "    for model_augmentation in model_augmentations:\n",
    "        # TODO: verify I don't have an off-by-one here\n",
    "        state_buffer = [observation_to_model(model_augmentation.env, obs) \n",
    "                        for obs in observations[augmented_index - state_length + 1:augmented_index + 1]]\n",
    "        \n",
    "        if return_before_and_after and before is None:\n",
    "            before = state_buffer[-1][0].cpu().numpy()\n",
    "        model_ready_state = torch.cat(list(state_buffer), 0)\n",
    "        before_q_values_per_model.append(model_augmentation.model.expected_q_values(model_ready_state))\n",
    "\n",
    "        augmented_state = modify_state(state_buffer[-1], model_augmentation.augmentations)\n",
    "        if return_before_and_after and after is None:\n",
    "            after = state_buffer[-1][0].cpu().numpy()\n",
    "            \n",
    "        # TODO: consider the case of augmenting more than one consecutive states\n",
    "        state_buffer[-1] = augmented_state\n",
    "        model_ready_state = torch.cat(list(state_buffer), 0)\n",
    "        # TODO: grab action values or state values if need be\n",
    "        after_q_values_per_model.append(model_augmentation.model.expected_q_values(model_ready_state))\n",
    "\n",
    "    if return_before_and_after:\n",
    "        return before_q_values_per_model, after_q_values_per_model, before, after\n",
    "    \n",
    "    return before_q_values_per_model, after_q_values_per_model\n",
    "\n",
    "\n",
    "def max_wrapper(tensor, axis=0):\n",
    "    val, idx = tensor.max(axis)\n",
    "    return float(val), int(idx)\n",
    "\n",
    "\n",
    "def evaluate_augmented_models(observations, augmented_index, model_augmentations, state_length=4,\n",
    "                              before_color='red', after_color='blue', bar_alpha=0.5,\n",
    "                              bar_width=0.8, fontdict=dict(fontsize=16), force_text=None, text_epsilon=0,\n",
    "                              plot_state=True):\n",
    "    if plot_state:\n",
    "        fig = plt.figure(constrained_layout=True, figsize=(8 * len(model_augmentations + 1), 6))\n",
    "        gs = fig.add_gridspec(1, 8)\n",
    "        before_q_values_per_model, after_q_values_per_model, before_state, after_state =\\ \n",
    "            augmented_state_q_values(observations, augmented_index, \n",
    "                                     model_augmentations, state_length=state_length, return_before_and_after=True)\n",
    "\n",
    "        before_ax = fig.add_subplot(gs[:, 0])\n",
    "        before_ax.imshow(before_state)\n",
    "        before_ax.set_title('Before')\n",
    "        \n",
    "        after_ax = fig.add_subplot(gs[:, 1])\n",
    "        after_ax.imshow(after_state)\n",
    "        after_ax.set_title('After')\n",
    "    \n",
    "    else:\n",
    "        plt.figure(figsize=(8 * len(model_augmentations), 6))\n",
    "        before_q_values_per_model, after_q_values_per_model = augmented_state_q_values(observations, augmented_index, \n",
    "                                                                                       model_augmentations, state_length=state_length)\n",
    "\n",
    "    \n",
    "\n",
    "    for i, (model_augmentation, before_q, after_q) in enumerate(zip(model_augmentations, before_q_values_per_model,\n",
    "                                                                          after_q_values_per_model)):\n",
    "        print(f'For model {model_augmentation.name}:')\n",
    "        baseline_mean, augmented_mean = before_q.mean().cpu().numpy(), after_q.mean().cpu().numpy()\n",
    "        print(f'Baseline mean: {baseline_mean:.3f}, Augmented mean: {augmented_mean:.3f}, Difference: {augmented_mean - baseline_mean:.3f}')\n",
    "        diff = after_q - before_q\n",
    "        max_diff, max_diff_idx = max_wrapper(diff)\n",
    "        print(f'Max Q value diff is {max_diff:.3f} for action {ALE_ACTIONS[max_diff_idx]} [{max_diff_idx}]')\n",
    "\n",
    "        if plot_state:\n",
    "            ax = fig.add_subplot(gs[:, 2 * (i + 1):2 * (i + 2)])\n",
    "        else:\n",
    "            ax = plt.subplot(1, len(model_augmentations), i + 1)\n",
    "        \n",
    "        locations = np.arange(before_q.shape[0]) * bar_width * 2.5\n",
    "        ax.bar(locations, before_q.cpu().numpy(), color=before_color, alpha=bar_alpha)\n",
    "        ax.bar(locations + bar_width, after_q.cpu().numpy(), color=after_color, alpha=bar_alpha)\n",
    "        ax.hlines([baseline_mean, augmented_mean], *ax.get_xlim(), colors=[before_color, after_color],\n",
    "                  linestyles='dashed')\n",
    "        \n",
    "        text_fd = {k:fontdict[k] for k in fontdict}\n",
    "        ax.text(locations[max_diff_idx], max(before_q[max_diff_idx], after_q[max_diff_idx]) + text_epsilon,\n",
    "                '*', fontdict=text_fd)\n",
    "        \n",
    "        before_action_q, before_action_idx = max_wrapper(before_q)\n",
    "        after_action_q, after_action_idx = max_wrapper(after_q)\n",
    "        \n",
    "        if before_action_idx != after_action_idx or (force_text is not None and force_text):\n",
    "            text_fd['color'] = before_color\n",
    "            ax.text(locations[before_action_idx] - (bar_width / 2), before_action_q + text_epsilon, 'B', fontdict=text_fd)\n",
    "\n",
    "            text_fd['color'] = after_color\n",
    "            ax.text(locations[after_action_idx] + (bar_width / 2), after_action_q + text_epsilon, 'A', fontdict=text_fd)\n",
    "        \n",
    "        ax.set_xlabel('Action Index', fontdict=fontdict)\n",
    "        ax.set_ylabel('Q Value', fontdict=fontdict)\n",
    "        ax.set_title(model_augmentation.name, fontdict=fontdict)\n",
    "\n",
    "    plt.show()\n",
    "\n",
    "\n",
    "def evaluate_augmented_models_multiple_XXX(*args):\n",
    "    # TODO: if using multiple states or models, we need to average properly over the before_q / after_q tensors\n",
    "    # That is, compute the average mean difference and the average max difference\n",
    "    # The per-action bar charts might make less sense?\n",
    "    # If we do this, we can plot a histogram of MMeanD and MMaxD and over the different random seeds (for one state)\n",
    "    # Or the different states for one (or more) random seeds\n",
    "    pass\n",
    "\n",
    "\n",
    "\n"
   ]
  },
  {
   "cell_type": "code",
   "execution_count": 200,
   "metadata": {},
   "outputs": [],
   "source": [
    "DIAGONAL_CONNECTIVITY_STRUCTURE = ndimage.generate_binary_structure(2, 2)\n",
    "\n",
    "\n",
    "def to_tensor(numpy_arr, model):\n",
    "    return torch.Tensor(numpy_arr).to(model.online_net.convs[0].weight.device)\n",
    "\n",
    "\n",
    "def extract_raw_pixels_object(observations, obs_index, model, env, loc):\n",
    "    model_ready_obs = to_tensor(observation_to_model(env, observations[obs_index]).cpu().numpy(), model)\n",
    "    return model_ready_obs.squeeze()[loc]\n",
    "\n",
    "\n",
    "def extract_object(observations, obs_index, model, env, channel_index, \n",
    "                   object_index=0, structure=DIAGONAL_CONNECTIVITY_STRUCTURE,\n",
    "                   return_tensor=True, return_location=False):\n",
    "    state = observation_to_model(env, observations[obs_index]).cpu().numpy()\n",
    "    labeled, count = ndimage.label(state[channel_index], structure)\n",
    "    locations = ndimage.find_objects(labeled, 0)\n",
    "    loc = locations[object_index]\n",
    "    \n",
    "    object_arr = state[channel_index, loc[0], loc[1]]\n",
    "    if return_tensor:\n",
    "        object_arr = to_tensor(object_arr, model)\n",
    "        \n",
    "    if not return_location:\n",
    "        return object_arr\n",
    "    \n",
    "    return object_arr, loc\n",
    "    \n",
    "\n",
    "def copy_model_augmentation(model_augmentation, channel_augmentations):\n",
    "    return ModelAugmentation(model_augmentation.name, model_augmentation.model, model_augmentation.env, channel_augmentations)\n",
    "\n",
    "\n",
    "def make_augmentations_all_models(b_aug, m_p_aug, m_o_aug, pixels_tensor, mask_tensor, mask_only_channel_index, locations):\n",
    "    baseline_augs = [ChannelAugmentation(0, pixels_tensor, loc) for loc in locations]\n",
    "    mask_only_augs = [ChannelAugmentation(mask_only_channel_index, mask_tensor, loc) for loc in locations]\n",
    "    maks_and_pixels_augs = baseline_augs[:]\n",
    "    maks_and_pixels_augs.extend([ChannelAugmentation(c_a.channel_index + 1, c_a.added_object, c_a.added_location)\n",
    "                                  for c_a in mask_only_augs])\n",
    "    \n",
    "    return copy_model_augmentation(b_aug, baseline_augs), copy_model_augmentation(m_p_aug, maks_and_pixels_augs),\\\n",
    "        copy_model_augmentation(m_o_aug, mask_only_augs)\n",
    "    \n",
    "    return b_aug, m_p_aug, m_o_aug\n",
    "    \n",
    "    "
   ]
  },
  {
   "cell_type": "markdown",
   "metadata": {},
   "source": [
    "# A.0 Setup"
   ]
  },
  {
   "cell_type": "code",
   "execution_count": 144,
   "metadata": {},
   "outputs": [],
   "source": [
    "baseline_run = api.run('augmented-frostbite/initial-experiments/runs/fdxobftk')\n",
    "baseline_model, baseline_env = load_model_from_run(baseline_run)\n",
    "# baseline_model_results = pass_states_through_model(baseline_model, baseline_env, sample_full_color_observations, skip=1)\n",
    "\n",
    "masks_and_pixels_run = api.run('augmented-frostbite/masks-and-pixels-replication/runs/grh1bzvv')\n",
    "masks_and_pixels_model, masks_and_pixels_env = load_model_from_run(masks_and_pixels_run)\n",
    "# masks_and_pixels_model_results = pass_states_through_model(masks_and_pixels_model, masks_and_pixels_env, sample_full_color_observations, skip=1)\n",
    "\n",
    "masks_only_run = api.run('augmented-frostbite/masks-only-replication/runs/0khc2n2c')\n",
    "masks_only_model, masks_only_env = load_model_from_run(masks_only_run)\n",
    "# masks_only_model_results = pass_states_through_model(masks_only_model, masks_only_env, sample_full_color_observations, skip=1)\n",
    "\n",
    "baseline_aug_template = ModelAugmentation('Baseline', baseline_model, baseline_env, list())\n",
    "masks_and_pixels_aug_template = ModelAugmentation('Masks+Pixels', masks_and_pixels_model, masks_and_pixels_env, list())\n",
    "masks_only_aug_template = ModelAugmentation('Masks-Only', masks_only_model, masks_only_env, list())"
   ]
  },
  {
   "cell_type": "markdown",
   "metadata": {},
   "source": [
    "# A.1 Additional player"
   ]
  },
  {
   "cell_type": "code",
   "execution_count": 213,
   "metadata": {},
   "outputs": [],
   "source": [
    "OBS_INDEX = 1449\n",
    "\n",
    "player_mask_tensor, player_loc = extract_object(sample_full_color_observations, OBS_INDEX, masks_only_model, masks_only_env,\n",
    "                                           channel_index=0, object_index=0, return_location=True)\n",
    "player_pixels_tensor = extract_raw_pixels_object(sample_full_color_observations, OBS_INDEX, baseline_model, baseline_env, player_loc)\n",
    "\n",
    "NEW_PLAYER_LOCATION = (30, 30)\n",
    "\n",
    "baseline_player_aug, masks_and_pixels_player_aug, masks_only_player_aug =\\\n",
    "    make_augmentations_all_models(baseline_aug_template, masks_and_pixels_aug_template, masks_only_aug_template,\n",
    "                                  player_pixels_tensor, player_mask_tensor, 0, [NEW_PLAYER_LOCATION])"
   ]
  },
  {
   "cell_type": "code",
   "execution_count": 216,
   "metadata": {},
   "outputs": [
    {
     "name": "stdout",
     "output_type": "stream",
     "text": [
      "For model Baseline:\n",
      "Baseline mean: 4.134, Augmented mean: 3.573, Difference: -0.562\n",
      "Max Q value diff is -0.184 for action left + fire [12]\n",
      "For model Masks+Pixels:\n",
      "Baseline mean: 2.892, Augmented mean: 2.380, Difference: -0.513\n",
      "Max Q value diff is -0.313 for action left [4]\n",
      "For model Masks-Only:\n",
      "Baseline mean: 4.474, Augmented mean: 2.739, Difference: -1.735\n",
      "Max Q value diff is -0.839 for action down + right [8]\n"
     ]
    },
    {
     "data": {
      "image/png": "[encoded data removed]",
      "text/plain": [
       "<Figure size 1728x432 with 3 Axes>"
      ]
     },
     "metadata": {
      "needs_background": "light"
     },
     "output_type": "display_data"
    }
   ],
   "source": [
    "evaluate_augmented_models(sample_full_color_observations, OBS_INDEX, \n",
    "                         [baseline_player_aug, masks_and_pixels_player_aug, masks_only_player_aug],\n",
    "                          force_text=True)\n",
    "    "
   ]
  },
  {
   "cell_type": "code",
   "execution_count": 153,
   "metadata": {},
   "outputs": [],
   "source": []
  },
  {
   "cell_type": "code",
   "execution_count": 181,
   "metadata": {},
   "outputs": [
    {
     "data": {
      "text/plain": [
       "1.0"
      ]
     },
     "execution_count": 181,
     "metadata": {},
     "output_type": "execute_result"
    }
   ],
   "source": [
    "float(t[0, 0])"
   ]
  },
  {
   "cell_type": "code",
   "execution_count": null,
   "metadata": {},
   "outputs": [],
   "source": []
  },
  {
   "cell_type": "code",
   "execution_count": null,
   "metadata": {},
   "outputs": [],
   "source": []
  }
 ],
 "metadata": {
  "kernelspec": {
   "display_name": "Python [conda env:rainbow] *",
   "language": "python",
   "name": "conda-env-rainbow-py"
  },
  "language_info": {
   "codemirror_mode": {
    "name": "ipython",
    "version": 3
   },
   "file_extension": ".py",
   "mimetype": "text/x-python",
   "name": "python",
   "nbconvert_exporter": "python",
   "pygments_lexer": "ipython3",
   "version": "3.7.4"
  }
 },
 "nbformat": 4,
 "nbformat_minor": 2
}
