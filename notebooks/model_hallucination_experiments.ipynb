{
 "cells": [
  {
   "cell_type": "code",
   "execution_count": 1,
   "metadata": {},
   "outputs": [],
   "source": [
    "%load_ext autoreload\n",
    "%autoreload 2\n",
    "%matplotlib inline"
   ]
  },
  {
   "cell_type": "code",
   "execution_count": 2,
   "metadata": {},
   "outputs": [
    {
     "data": {
      "text/html": [
       "<style>.container { width:98% !important; }</style>"
      ],
      "text/plain": [
       "<IPython.core.display.HTML object>"
      ]
     },
     "metadata": {},
     "output_type": "display_data"
    }
   ],
   "source": [
    "from IPython.core.display import display, HTML, Markdown, Latex\n",
    "display(HTML(\"<style>.container { width:98% !important; }</style>\"))"
   ]
  },
  {
   "cell_type": "code",
   "execution_count": 3,
   "metadata": {},
   "outputs": [
    {
     "name": "stdout",
     "output_type": "stream",
     "text": [
      "\u001b[34m\u001b[1mwandb\u001b[0m: Appending key for api.wandb.ai to your netrc file: /home/gd1279/.netrc\r\n",
      "\u001b[32mSuccessfully logged in to Weights & Biases!\u001b[0m\r\n"
     ]
    }
   ],
   "source": [
    "!wandb login 9676e3cc95066e4865586082971f2653245f09b4"
   ]
  },
  {
   "cell_type": "code",
   "execution_count": 4,
   "metadata": {},
   "outputs": [],
   "source": [
    "import sys\n",
    "sys.path.append('/home/gd1279/projects/Rainbow')"
   ]
  },
  {
   "cell_type": "code",
   "execution_count": 5,
   "metadata": {},
   "outputs": [],
   "source": [
    "import numpy as np\n",
    "import pandas as pd\n",
    "import scipy\n",
    "from scipy import stats, ndimage\n",
    "from scipy.special import factorial\n",
    "from sklearn.metrics import mean_squared_error\n",
    "\n",
    "from mpl_toolkits.mplot3d import Axes3D\n",
    "import matplotlib\n",
    "import matplotlib.pyplot as plt\n",
    "from matplotlib import patches\n",
    "from matplotlib import path as mpath\n",
    "import matplotlib.gridspec as gridspec\n",
    "\n",
    "import pickle\n",
    "import tabulate\n",
    "import wandb\n",
    "from collections import defaultdict, deque, namedtuple\n",
    "import os\n",
    "import argparse\n",
    "import atari_py\n",
    "import torch\n",
    "import torch.nn.functional as F\n",
    "import cv2\n",
    "import colorsys\n",
    "\n",
    "from agent import Agent\n",
    "from env import make_env\n",
    "from masker import ALL_MASKERS"
   ]
  },
  {
   "cell_type": "code",
   "execution_count": 6,
   "metadata": {},
   "outputs": [],
   "source": [
    "np.set_printoptions(precision=5)"
   ]
  },
  {
   "cell_type": "code",
   "execution_count": 7,
   "metadata": {},
   "outputs": [],
   "source": [
    "api = wandb.Api()"
   ]
  },
  {
   "cell_type": "code",
   "execution_count": 8,
   "metadata": {},
   "outputs": [],
   "source": [
    "CHECKPOINT_SCRATCH_FOLDER = '/scratch/gd1279'\n",
    "\n",
    "if not os.path.exists(CHECKPOINT_SCRATCH_FOLDER):\n",
    "    os.mkdir(CHECKPOINT_SCRATCH_FOLDER)"
   ]
  },
  {
   "cell_type": "markdown",
   "metadata": {},
   "source": [
    "# Recreate the args "
   ]
  },
  {
   "cell_type": "code",
   "execution_count": 9,
   "metadata": {},
   "outputs": [
    {
     "data": {
      "text/plain": [
       "_StoreAction(option_strings=['--conv3-num-filters'], dest='conv3_num_filters', nargs=None, const=None, default=64, type=None, choices=None, help='Number of filters in third convolutional layer. Default matches the cannonical Rainbow architecture.', metavar=None)"
      ]
     },
     "execution_count": 9,
     "metadata": {},
     "output_type": "execute_result"
    }
   ],
   "source": [
    "# Note that hyperparameters may originally be reported in ATARI game frames instead of agent steps\n",
    "parser = argparse.ArgumentParser(description='Rainbow')\n",
    "parser.add_argument('--id', type=str, default='default', help='Experiment ID')\n",
    "parser.add_argument('--seed', type=int, default=123, help='Random seed')\n",
    "parser.add_argument('--disable-cuda', action='store_true', help='Disable CUDA')\n",
    "parser.add_argument('--game', type=str, default='space_invaders', choices=atari_py.list_games(), help='ATARI game')\n",
    "parser.add_argument('--T-max', type=int, default=int(50e6), metavar='STEPS', help='Number of training steps (4x number of frames)')\n",
    "parser.add_argument('--max-episode-length', type=int, default=int(108e3), metavar='LENGTH', help='Max episode length in game frames (0 to disable)')\n",
    "parser.add_argument('--history-length', type=int, default=4, metavar='T', help='Number of consecutive states processed')\n",
    "parser.add_argument('--architecture', type=str, default='canonical', choices=['canonical', 'data-efficient'], metavar='ARCH', help='Network architecture')\n",
    "parser.add_argument('--hidden-size', type=int, default=512, metavar='SIZE', help='Network hidden size')\n",
    "parser.add_argument('--noisy-std', type=float, default=0.1, metavar='σ', help='Initial standard deviation of noisy linear layers')\n",
    "parser.add_argument('--atoms', type=int, default=51, metavar='C', help='Discretised size of value distribution')\n",
    "parser.add_argument('--V-min', type=float, default=-10, metavar='V', help='Minimum of value distribution support')\n",
    "parser.add_argument('--V-max', type=float, default=10, metavar='V', help='Maximum of value distribution support')\n",
    "parser.add_argument('--model', type=str, metavar='PARAMS', help='Pretrained model (state dict)')\n",
    "parser.add_argument('--memory-capacity', type=int, default=int(1e6), metavar='CAPACITY', help='Experience replay memory capacity')\n",
    "parser.add_argument('--replay-frequency', type=int, default=4, metavar='k', help='Frequency of sampling from memory')\n",
    "parser.add_argument('--priority-exponent', type=float, default=0.5, metavar='ω', help='Prioritised experience replay exponent (originally denoted α)')\n",
    "parser.add_argument('--priority-weight', type=float, default=0.4, metavar='β', help='Initial prioritised experience replay importance sampling weight')\n",
    "parser.add_argument('--multi-step', type=int, default=3, metavar='n', help='Number of steps for multi-step return')\n",
    "parser.add_argument('--discount', type=float, default=0.99, metavar='γ', help='Discount factor')\n",
    "parser.add_argument('--target-update', type=int, default=int(8e3), metavar='τ', help='Number of steps after which to update target network')\n",
    "parser.add_argument('--reward-clip', type=int, default=1, metavar='VALUE', help='Reward clipping (0 to disable)')\n",
    "parser.add_argument('--learning-rate', type=float, default=0.0000625, metavar='η', help='Learning rate')\n",
    "parser.add_argument('--adam-eps', type=float, default=1.5e-4, metavar='ε', help='Adam epsilon')\n",
    "parser.add_argument('--batch-size', type=int, default=32, metavar='SIZE', help='Batch size')\n",
    "parser.add_argument('--learn-start', type=int, default=int(20e3), metavar='STEPS', help='Number of steps before starting training')\n",
    "parser.add_argument('--evaluate', action='store_true', help='Evaluate only')\n",
    "parser.add_argument('--evaluation-interval', type=int, default=100000, metavar='STEPS', help='Number of training steps between evaluations')\n",
    "parser.add_argument('--evaluation-episodes', type=int, default=10, metavar='N', help='Number of evaluation episodes to average over')\n",
    "parser.add_argument('--evaluation-size', type=int, default=500, metavar='N', help='Number of transitions to use for validating Q')\n",
    "parser.add_argument('--render', action='store_true', help='Display screen (testing only)')\n",
    "parser.add_argument('--enable-cudnn', action='store_true', help='Enable cuDNN (faster but nondeterministic)')\n",
    "parser.add_argument('--save-evaluation-gifs', action='store_true', help='Save GIFs of evaluation episodes')\n",
    "parser.add_argument('--evaluation-gif-folder', default=None, help='Folder to save evaluation GIFs in')\n",
    "parser.add_argument('--save-evaluation-states', action='store_true', help='Save the states of evaluation episodes')\n",
    "parser.add_argument('--evaluation-state-folder', default=None, help='Folder to save evaluation state in')\n",
    "\n",
    "# Custom arguments I added\n",
    "\n",
    "SCRATCH_FOLDER = r'/misc/vlgscratch4/LakeGroup/guy/'\n",
    "\n",
    "DEFUALT_WANDB_ENTITY = 'augmented-frostbite'\n",
    "parser.add_argument('--wandb-entity', default=DEFUALT_WANDB_ENTITY)\n",
    "DEFAULT_WANDB_PROJECT = 'initial-experiments'\n",
    "parser.add_argument('--wandb-project', default=DEFAULT_WANDB_PROJECT)\n",
    "DEFAULT_WANDB_DIR = SCRATCH_FOLDER  # wandb creates its own folder inside\n",
    "parser.add_argument('--wandb-dir', default=DEFAULT_WANDB_DIR)\n",
    "parser.add_argument('--wandb-omit-watch', action='store_true')\n",
    "parser.add_argument('--wandb-resume', action='store_true')\n",
    "DEFAULT_MEMORY_SAVE_FOLDER = os.path.join(SCRATCH_FOLDER, 'rainbow_memory')\n",
    "parser.add_argument('--memory-save-folder', default=DEFAULT_MEMORY_SAVE_FOLDER)\n",
    "parser.add_argument('--memory-save-interval', type=int, default=None, help='How often to save the memory, defaults to the evaluation interval')\n",
    "parser.add_argument('--use-native-pickle-serialization', action='store_true', help='Use native pickle saving rather than torch.save()')\n",
    "\n",
    "# Arguments for the augmented representations\n",
    "parser.add_argument('--add-masks', action='store_true', help='Add masks for each semantic object types')\n",
    "parser.add_argument('--maskers', default=None, help='Select specific maskers to use')\n",
    "parser.add_argument('--use-numpy-masker', action='store_true', help='Use the previous, much slower numpy-based masker')\n",
    "parser.add_argument('--omit-pixels', action='store_true', help='Omit the raw pixels from the environment')\n",
    "parser.add_argument('--zero-out-masks-test', action='store_true', help='Test zeroing out particular indices')\n",
    "parser.add_argument('--zero-out-mask-indices', default=None, help='Which indices to zero out each time')\n",
    "parser.add_argument('--custom-mask-grouping', type=str, action='append', nargs='+',\n",
    "                    help='Create custom mask groupings. Provide the name of all masks in a particular group to each invocation of this argument.')\n",
    "\n",
    "# Arguments to give it a soft time cap that will help it not fail\n",
    "parser.add_argument('--soft-time-cap', help='Format: <DD>:HH:MM, stop after some soft cap such that the saving the memory does not fail')\n",
    "\n",
    "# Debugging-related arguments\n",
    "parser.add_argument('--debug-heap', action='store_true')\n",
    "parser.add_argument('--heap-interval', default=1e4)\n",
    "parser.add_argument('--heap-debug-file', default=None)\n",
    "\n",
    "\n",
    "# Arguments to help with matching then number of parameters between models\n",
    "parser.add_argument('--conv1-num-filters', default=32, help='Number of filters in first convolutional layer. Default matches the cannonical Rainbow architecture.')\n",
    "parser.add_argument('--conv2-num-filters', default=64, help='Number of filters in second convolutional layer. Default matches the cannonical Rainbow architecture.')\n",
    "parser.add_argument('--conv3-num-filters', default=64, help='Number of filters in third convolutional layer. Default matches the cannonical Rainbow architecture.')\n"
   ]
  },
  {
   "cell_type": "markdown",
   "metadata": {},
   "source": [
    "# Load a run and its model"
   ]
  },
  {
   "cell_type": "code",
   "execution_count": 10,
   "metadata": {},
   "outputs": [],
   "source": [
    "def download_checkpoint(run, step=None):\n",
    "    files = run.files()\n",
    "    if step is None:\n",
    "        step = max([int(f.name[f.name.rfind('-') + 1:f.name.rfind('.')]) \n",
    "                    for f in files \n",
    "                    if f.name.endswith('.pth')])\n",
    "        \n",
    "    sample_name = [f.name for f in files if f.name.endswith('.pth')][0]\n",
    "    checkpoint_name = sample_name[:sample_name.rfind('-')]\n",
    "    checkpoint_file = f'{checkpoint_name}-{step}.pth'\n",
    "    try:\n",
    "        run.file(checkpoint_file).download(replace=True, root=CHECKPOINT_SCRATCH_FOLDER)\n",
    "    except (wandb.CommError, AttributeError) as e:\n",
    "        return None\n",
    "    \n",
    "    return os.path.join(CHECKPOINT_SCRATCH_FOLDER, checkpoint_file)\n",
    "\n",
    "\n",
    "def setup_args(run):\n",
    "    args = parser.parse_args([])\n",
    "    config = run.config\n",
    "    \n",
    "    for key in config:\n",
    "        if key in args:\n",
    "            args.__setattr__(key, config[key])\n",
    "            \n",
    "    np.random.seed(args.seed)\n",
    "    torch.manual_seed(args.seed)\n",
    "\n",
    "    if torch.cuda.is_available() and not args.disable_cuda:\n",
    "        args.device = torch.device('cuda')\n",
    "        # torch.cuda.manual_seed(np.random.randint(1, 10000))\n",
    "        torch.cuda.manual_seed(args.seed)\n",
    "        torch.backends.cudnn.enabled = args.enable_cudnn\n",
    "    else:\n",
    "        args.device = torch.device('cpu')\n",
    "            \n",
    "    return args\n",
    "\n",
    "\n",
    "LOADED_MODEL_CACHE = {}\n",
    "\n",
    "\n",
    "def load_model_from_run(run, step=None, cache=LOADED_MODEL_CACHE):\n",
    "    key = (run, step)\n",
    "    if key not in cache:\n",
    "        checkpoint_path = download_checkpoint(run, step)\n",
    "        if checkpoint_path is None:\n",
    "            return\n",
    "        \n",
    "        args = setup_args(run)\n",
    "        args.model = checkpoint_path\n",
    "\n",
    "        env = make_env(args)\n",
    "        dqn = Agent(args, env)\n",
    "        cache[key] = dqn, env\n",
    "        \n",
    "    return cache[key]\n",
    "\n",
    "\n",
    "FIGURE_TEMPLATE = r'''\\begin{{figure}}[!htb]\n",
    "% \\vspace{{-0.225in}}\n",
    "\\centering\n",
    "\\includegraphics[width=\\linewidth]{{figures/{save_path}}}\n",
    "\\caption{{ {{\\bf FIGURE TITLE.}} FIGURE DESCRIPTION.}}\n",
    "\\label{{fig:{label_name}}}\n",
    "% \\vspace{{-0.2in}}\n",
    "\\end{{figure}}\n",
    "'''\n",
    "WRAPFIGURE_TEMPLATE = r'''\\begin{{wrapfigure}}{{r}}{{0.5\\linewidth}}\n",
    "\\vspace{{-.3in}}\n",
    "\\begin{{spacing}}{{1.0}}\n",
    "\\centering\n",
    "\\includegraphics[width=0.95\\linewidth]{{figures/{save_path}}}\n",
    "\\caption{{ {{\\bf FIGURE TITLE.}} FIGURE DESCRIPTION.}}\n",
    "\\label{{fig:{label_name}}}\n",
    "\\end{{spacing}}\n",
    "% \\vspace{{-.25in}}\n",
    "\\end{{wrapfigure}}'''\n",
    "\n",
    "SAVE_PATH_PREFIX = 'figures'\n",
    "\n",
    "\n",
    "def save(save_path, bbox_inches='tight'):\n",
    "    if save_path is not None:\n",
    "        save_path_no_ext = os.path.splitext(save_path)[0]\n",
    "        print('Figure:\\n')\n",
    "        print(FIGURE_TEMPLATE.format(save_path=save_path, label_name=save_path_no_ext.replace('/', '-').replace('_', '-')))\n",
    "        print('\\n Wrapfigure:\\n')\n",
    "        print(WRAPFIGURE_TEMPLATE.format(save_path=save_path, label_name=save_path_no_ext.replace('/', '-').replace('_', '-')))\n",
    "        print('')\n",
    "        \n",
    "        if not save_path.startswith(SAVE_PATH_PREFIX):\n",
    "            save_path = os.path.join(SAVE_PATH_PREFIX, save_path)\n",
    "        \n",
    "        folder, filename = os.path.split(save_path)\n",
    "        os.makedirs(folder, exist_ok=True)\n",
    "        plt.savefig(save_path, bbox_inches=bbox_inches, facecolor=plt.gcf().get_facecolor(), edgecolor='none')\n"
   ]
  },
  {
   "cell_type": "markdown",
   "metadata": {},
   "source": [
    "## Utilities"
   ]
  },
  {
   "cell_type": "code",
   "execution_count": 11,
   "metadata": {},
   "outputs": [],
   "source": [
    "from MulticoreTSNE import MulticoreTSNE as TSNE\n",
    "\n",
    "\n",
    "ModelResults = namedtuple('ModelResults', \n",
    "                          ('hidden_states', 'q_values', 'state_values', 'actions'))\n",
    "\n",
    "KeyIndex = namedtuple('KeyIndex',\n",
    "                      ('peak_index', 'peak_value', 'start', 'end', 'count', 'indices'))\n",
    "\n",
    "\n",
    "def rgb_to_grayscale(obs):\n",
    "    # My best approximation of how the ALE does it\n",
    "    is_tensor = isinstance(obs, torch.Tensor)\n",
    "    if is_tensor:\n",
    "        rgb = obs.type(torch.float32)\n",
    "    else:\n",
    "        rgb = obs.astype(np.float32)\n",
    "        \n",
    "    gray = rgb[:,:,0] * 0.299 + rgb[:,:,1] * 0.587 + rgb[:,:,2] * 0.114\n",
    "    \n",
    "    if is_tensor:\n",
    "        return gray.type(torch.uint8)\n",
    "    else:\n",
    "        return gray.astype(np.uint8)\n",
    "\n",
    "\n",
    "def observation_to_model(env, obs):\n",
    "    return env._prepare_state(env._to_tensor(rgb_to_grayscale(obs)), env._to_tensor(obs))\n",
    "\n",
    "\n",
    "MAX_STATE_IDX = None\n",
    "SKIP = 2\n",
    "\n",
    "\n",
    "def pass_states_through_model(model, env, observations, max_state_idx=MAX_STATE_IDX, skip=SKIP):\n",
    "    state_buffer = deque([], maxlen=4)\n",
    "    hidden_states = []\n",
    "    q_values = []\n",
    "    state_values = []\n",
    "    actions = []\n",
    "\n",
    "    for frame in observations[:3]:\n",
    "        state_buffer.append(observation_to_model(env, frame))\n",
    "\n",
    "    with torch.no_grad():\n",
    "        for frame in observations[3:max_state_idx]:\n",
    "            state_buffer.append(observation_to_model(env, frame))\n",
    "            state = torch.cat(list(state_buffer), 0)\n",
    "            \n",
    "            hidden_state = model.online_net.convs(state.unsqueeze(0)).view(-1)\n",
    "            hidden_states.append(hidden_state.detach().cpu().numpy())\n",
    "            \n",
    "            q_values.append(model.expected_q_values(state))\n",
    "            state_values.append(model.evaluate_q(state))\n",
    "            actions.append(model.act(state))\n",
    "\n",
    "    hidden_state_array = np.array(hidden_states[::skip])\n",
    "    q_values_array = np.array(q_values[::skip])\n",
    "    state_value_array = np.array(state_values[::skip])\n",
    "    action_array = np.array(actions[::skip])\n",
    "    \n",
    "    return ModelResults(hidden_state_array, q_values_array, state_value_array, action_array)\n",
    "\n",
    "\n",
    "def plot_entire_state(observations, start_index, num_frames=4):\n",
    "    figure = plt.figure(figsize=(18, 4))\n",
    "    for i in range(num_frames):\n",
    "        ax = plt.subplot(1, num_frames, i + 1)\n",
    "        ax.imshow(observations[start_index + i])\n",
    "        \n",
    "    plt.show()\n",
    "    \n",
    "\n",
    "def plot_embeddings_and_state(embeddings, color_values, observations, start_index, special_indices=None, num_frames=4,\n",
    "                              low_alpha=0.1, medium_alpha=0.7, alpha_threshold=0.7):\n",
    "    fig = plt.figure(constrained_layout=True, figsize=(16, 8))\n",
    "    gs = fig.add_gridspec(2, 4)\n",
    "    \n",
    "    tsne_ax = fig.add_subplot(gs[:, :2])\n",
    "    cmap = matplotlib.cm.get_cmap('Spectral_r')\n",
    "    normalizer = matplotlib.colors.Normalize(np.min(color_values), np.max(color_values))\n",
    "\n",
    "    colors = np.array([cmap(normalizer(d)) for d in color_values])\n",
    "    colors[:,3] = np.abs(color_values) / np.max(np.abs(color_values))\n",
    "    colors[colors[:,3] > alpha_threshold, 3] = medium_alpha\n",
    "    colors[colors[:,3] < alpha_threshold, 3] = low_alpha\n",
    "\n",
    "    mask = np.zeros(Y.shape[0], dtype=bool)\n",
    "    if special_indices is not None:\n",
    "        mask[special_indices] = True\n",
    "        colors[mask, 3] = 1\n",
    "\n",
    "    tsne_ax.scatter(embeddings[~mask, 0], embeddings[~mask, 1], color=colors[~mask])\n",
    "    tsne_ax.scatter(embeddings[mask, 0], embeddings[mask, 1], color='purple', s=50, marker='x')\n",
    "    plt.colorbar(matplotlib.cm.ScalarMappable(norm=normalizer, cmap=cmap), ax=tsne_ax)\n",
    "    \n",
    "    for i in range(num_frames):\n",
    "        ax = fig.add_subplot(gs[i // 2, 2 + (i % 2)])\n",
    "        ax.imshow(observations[start_index + i])\n",
    "        \n",
    "    plt.show()\n",
    "    \n",
    "    \n",
    "ALE_ACTIONS = {\n",
    "    0: 'noop',\n",
    "    1: 'fire',\n",
    "    2: 'up',\n",
    "    3: 'right',\n",
    "    4: 'left',\n",
    "    5: 'down',\n",
    "    6: 'up + right',\n",
    "    7: 'up + left',\n",
    "    8: 'down + right',\n",
    "    9: 'down + left',\n",
    "    10: 'up + fire',\n",
    "    11: 'right + fire',\n",
    "    12: 'left + fire',\n",
    "    13: 'down + fire',\n",
    "    14: 'up + right + fire',\n",
    "    15: 'up + left + fire',\n",
    "    16: 'down + right + fire',\n",
    "    17: 'down + left + fire'\n",
    "}\n",
    "\n",
    "\n",
    "def print_model_state_description(results, name, index, top_k=3):\n",
    "    value = results.state_values[index]\n",
    "    action = results.actions[index]\n",
    "    print(f'{name} had value {value:.3f} => {ALE_ACTIONS[action]} ({action})')\n",
    "    q = results.q_values[index].cpu().numpy()\n",
    "    top_actions = np.argpartition(q, -top_k)[-top_k:]\n",
    "    top_actions = top_actions[np.argsort(q[top_actions])][::-1]\n",
    "    p = F.softmax(results.q_values[index], dim=0)\n",
    "    print(' | '.join([f'({i + 1}) {ALE_ACTIONS[a]} [{a}], Q = {q[a]:.3f}, P = {p[a]:.3f}' for i, a in enumerate(top_actions)]))\n",
    "\n",
    "    \n",
    "def describe_states_by_indices(indices, first_model_results, first_model_name, second_model_results, second_model_name, \n",
    "                               observations, embeddings, color_values, top_k=3, plot_embeddings=False):\n",
    "    for key_index in sorted(indices, key=lambda ki: ki.peak_index):\n",
    "        index = key_index.peak_index\n",
    "        print(f'At index {index}')\n",
    "        print_model_state_description(first_model_results, first_model_name, index, top_k)\n",
    "        print_model_state_description(second_model_results, second_model_name, index, top_k)\n",
    "        \n",
    "        if plot_embeddings:\n",
    "            plot_embeddings_and_state(embeddings, color_values, observations, \n",
    "                                      key_index.peak_index, \n",
    "                                      special_indices=key_index.indices)\n",
    "        else:\n",
    "            plot_entire_state(observations, index)\n",
    "    \n",
    "    \n",
    "def find_diverging_states(values, indices, min_distance=10):\n",
    "    index_values = [values[i] for i in indices]\n",
    "    output = [KeyIndex(indices[0], index_values[0], indices[0], indices[0], 1, [indices[0]])]\n",
    "    \n",
    "    for index, value in zip(indices[1:], index_values[1:]):\n",
    "        current = output[-1]\n",
    "        \n",
    "        # Sufficiently far away, append a new one\n",
    "        if index > current.end + min_distance:\n",
    "            output.append(KeyIndex(index, value, index, index, 1, [index]))\n",
    "            \n",
    "        # Value more extreme, replace peak\n",
    "        elif abs(value) > abs(current.peak_value):  \n",
    "            output[-1] = KeyIndex(index, value, current.start, index, current.count + 1, current.indices + [index])\n",
    "            \n",
    "        # Value not more extreme, extend\n",
    "        else:\n",
    "            output[-1] = KeyIndex(current.peak_index, current.peak_value, current.start, index, current.count + 1, current.indices + [index])\n",
    "            \n",
    "    return output"
   ]
  },
  {
   "cell_type": "markdown",
   "metadata": {},
   "source": [
    "# Gameplan\n",
    "\n",
    "1. See that I can locate objects\n",
    "2. See that I can add additional objects\n",
    "3. See what this changes"
   ]
  },
  {
   "cell_type": "markdown",
   "metadata": {},
   "source": [
    "# Scratch\n",
    "\n",
    "Using model 306 from the baseline condition, one of the average models, not the 'superstar' one"
   ]
  },
  {
   "cell_type": "code",
   "execution_count": null,
   "metadata": {},
   "outputs": [],
   "source": [
    "SAMPLE_SAVED_STATES = r'/home/gd1279/scratch/rainbow-evaluation-state-traces/baseline-rainbow-305/evaluation/states/eval-baseline-rainbow-305-34350000-0-env.pickle'\n",
    "\n",
    "with open(SAMPLE_SAVED_STATES, 'rb') as state_file:\n",
    "    sample_full_color_observations = pickle.load(state_file)\n",
    "    \n",
    "    \n",
    "sample_full_color_observations = sample_full_color_observations.astype(np.uint8)\n",
    "print(sample_full_color_observations.shape)"
   ]
  },
  {
   "cell_type": "code",
   "execution_count": null,
   "metadata": {},
   "outputs": [],
   "source": [
    "baseline_run = api.run('augmented-frostbite/initial-experiments/runs/fdxobftk')\n",
    "baseline_model, baseline_env = load_model_from_run(baseline_run)"
   ]
  },
  {
   "cell_type": "code",
   "execution_count": null,
   "metadata": {},
   "outputs": [],
   "source": [
    "baseline_model_results = pass_states_through_model(baseline_model, baseline_env, sample_full_color_observations, skip=1)\n",
    "\n",
    "baseline_model_results.hidden_states.shape"
   ]
  },
  {
   "cell_type": "code",
   "execution_count": null,
   "metadata": {},
   "outputs": [],
   "source": [
    "tsne = TSNE(n_jobs=4)\n",
    "Y = tsne.fit_transform(baseline_model_results.hidden_states)\n",
    "Y.shape"
   ]
  },
  {
   "cell_type": "code",
   "execution_count": null,
   "metadata": {},
   "outputs": [],
   "source": [
    "masks_only_run = api.run('augmented-frostbite/masks-only-replication/runs/0khc2n2c')\n",
    "masks_only_model, masks_only_env = load_model_from_run(masks_only_run)\n",
    "masks_only_model_results = pass_states_through_model(masks_only_model, masks_only_env, sample_full_color_observations, skip=1)"
   ]
  },
  {
   "cell_type": "code",
   "execution_count": null,
   "metadata": {},
   "outputs": [],
   "source": [
    "for x in DEFAULT_MASK_NAMES[1:]:\n",
    "    print(x.replace('_', ' ').title())"
   ]
  },
  {
   "cell_type": "code",
   "execution_count": null,
   "metadata": {},
   "outputs": [],
   "source": [
    "frame_idx = 1230\n",
    "obs = sample_full_color_observations[frame_idx]\n",
    "state = observation_to_model(masks_only_env, sample_full_color_observations[frame_idx]).cpu().numpy()\n",
    "\n",
    "plt.figure(figsize=(12, 12.75))\n",
    "plt.subplots_adjust(hspace=0.075, wspace=0.075)\n",
    "\n",
    "pixels_ax = plt.subplot(3, 3, 1)\n",
    "pixels_ax.imshow(cv2.resize(obs, (160, 160), interpolation=cv2.INTER_LINEAR))\n",
    "pixels_ax.set_title('Pixels', fontsize=20)\n",
    "pixels_ax.xaxis.set_major_locator(plt.NullLocator())\n",
    "pixels_ax.yaxis.set_major_locator(plt.NullLocator())\n",
    "\n",
    "for i, name in enumerate(DEFAULT_MASK_NAMES[1:]):\n",
    "    ax = plt.subplot(3, 3, i + 2)\n",
    "    ax.imshow(state[i], cmap='Greys')\n",
    "    ax.set_title(name.replace('_', ' ').title(), fontsize=20)\n",
    "    ax.xaxis.set_major_locator(plt.NullLocator())\n",
    "    ax.yaxis.set_major_locator(plt.NullLocator())\n",
    "    \n",
    "\n",
    "save('mask_examples.pdf')\n",
    "plt.show()\n",
    "\n"
   ]
  },
  {
   "cell_type": "code",
   "execution_count": null,
   "metadata": {},
   "outputs": [],
   "source": [
    "frame_idx = 1230\n",
    "obs = sample_full_color_observations[frame_idx]\n",
    "# state = observation_to_model(masks_only_env, sample_full_color_observations[frame_idx]).cpu().numpy()\n",
    "state = masks_only_env.masker(torch.tensor(sample_full_color_observations[frame_idx]).to(masks_only_env.device)).cpu().numpy()\n",
    "\n",
    "plt.figure(figsize=(8, 11))\n",
    "plt.subplots_adjust(hspace=0.1, wspace=0.1)\n",
    "\n",
    "pixels_ax = plt.subplot(3, 3, 1)\n",
    "# pixels_ax.imshow(cv2.resize(obs, (160, 160), interpolation=cv2.INTER_LINEAR))\n",
    "pixels_ax.imshow(obs)\n",
    "pixels_ax.set_title('Pixels', fontsize=16)\n",
    "pixels_ax.xaxis.set_major_locator(plt.NullLocator())\n",
    "pixels_ax.yaxis.set_major_locator(plt.NullLocator())\n",
    "\n",
    "for i, name in enumerate(DEFAULT_MASK_NAMES[1:]):\n",
    "    ax = plt.subplot(3, 3, i + 2)\n",
    "    ax.imshow(state[i], cmap='Greys')\n",
    "    ax.set_title(name.replace('_', ' ').title(), fontsize=16)\n",
    "    ax.xaxis.set_major_locator(plt.NullLocator())\n",
    "    ax.yaxis.set_major_locator(plt.NullLocator())\n",
    "    \n",
    "\n",
    "save('mask_examples_original_res.pdf')\n",
    "plt.show()\n",
    "\n"
   ]
  },
  {
   "cell_type": "markdown",
   "metadata": {},
   "source": [
    "----------\n",
    "\n",
    "-----------\n",
    "\n",
    "# More organized take at this code"
   ]
  },
  {
   "cell_type": "code",
   "execution_count": 30,
   "metadata": {},
   "outputs": [],
   "source": [
    "ChannelAugmentation = namedtuple('ChannelAugmentation', \n",
    "                                 ('channel_index', 'added_object', 'added_location'))\n",
    "\n",
    "ModelAugmentation = namedtuple('ModelAugmentation', \n",
    "                               ('name', 'model', 'env', 'pixel_augmentations', 'mask_augmentations'))\n",
    "\n",
    "\n",
    "def augment_pixels(state, pixel_augmentation):\n",
    "    dst_slices = [slice(pixel_augmentation.added_location[i], \n",
    "                        pixel_augmentation.added_location[i] + pixel_augmentation.added_object.shape[i])\n",
    "                  for i in range(len(pixel_augmentation.added_location))] \n",
    "    \n",
    "    state[dst_slices[0], dst_slices[1], :] = pixel_augmentation.added_object\n",
    "    return state\n",
    "\n",
    "\n",
    "def augment_mask_channel(state, channel_augmentation):\n",
    "    dst_slices = [slice(channel_augmentation.added_location[i], \n",
    "                        channel_augmentation.added_location[i] + channel_augmentation.added_object.shape[i])\n",
    "                  for i in range(len(channel_augmentation.added_location))] \n",
    "    state[channel_augmentation.channel_index, dst_slices[0], dst_slices[1]] = channel_augmentation.added_object\n",
    "    return state\n",
    "    \n",
    "\n",
    "def modify_observation_to_model_state(obs, model_augmentation, return_pixels=False):\n",
    "    # pixel augmentations if any exist\n",
    "    obs_tensor = model_augmentation.env._to_tensor(obs)\n",
    "    if model_augmentation.pixel_augmentations is not None:\n",
    "        for pixel_aug in model_augmentation.pixel_augmentations:\n",
    "            obs_tensor = augment_pixels(obs_tensor, pixel_aug)\n",
    "    \n",
    "    # take this tensor and drop it to grayscale and low-res\n",
    "    gray_obs_tensor = rgb_to_grayscale(obs_tensor)\n",
    "    \n",
    "    masks = None\n",
    "    \n",
    "    # create masks for this model\n",
    "    if hasattr(model_augmentation.env, 'masker'):\n",
    "        masks = model_augmentation.env.masker(model_augmentation.env._to_tensor(obs))\n",
    "    \n",
    "        # mask augmentations if any exist\n",
    "        if model_augmentation.mask_augmentations is not None:\n",
    "            for augmentation in model_augmentation.mask_augmentations:\n",
    "                masks = augment_mask_channel(masks, augmentation)\n",
    "                \n",
    "        masks = model_augmentation.env._resize(masks.unsqueeze(0))\n",
    "        \n",
    "    # TODO: delete me\n",
    "#     if masks is not None:\n",
    "#         plt.figure(figsize=(12, 12.75))\n",
    "#         plt.subplots_adjust(hspace=0.075, wspace=0.075)\n",
    "\n",
    "#         pixels_ax = plt.subplot(3, 3, 1)\n",
    "#         pixels_ax.imshow(cv2.resize(obs_tensor.cpu().numpy().astype(np.uint8), (160, 160), interpolation=cv2.INTER_LINEAR))\n",
    "#         pixels_ax.set_title('Pixels', fontsize=16)\n",
    "#         pixels_ax.xaxis.set_major_locator(plt.NullLocator())\n",
    "#         pixels_ax.yaxis.set_major_locator(plt.NullLocator())\n",
    "\n",
    "#         for i, name in enumerate(DEFAULT_MASK_NAMES[1:]):\n",
    "#             ax = plt.subplot(3, 3, i + 2)\n",
    "#             ax.imshow(masks[0, i].cpu().numpy(), cmap='Greys')\n",
    "#             ax.set_title(name.replace('_', ' ').title(), fontsize=16)\n",
    "#             ax.xaxis.set_major_locator(plt.NullLocator())\n",
    "#             ax.yaxis.set_major_locator(plt.NullLocator())\n",
    "            \n",
    "#         plt.show()\n",
    "    \n",
    "    # combine (handles resizing of the raw observation)\n",
    "    final_state = model_augmentation.env._prepare_state(gray_obs_tensor.type(torch.float32), None, masks)\n",
    "    \n",
    "    if return_pixels is True:\n",
    "        return final_state, obs_tensor.type(torch.uint8)\n",
    "#     \n",
    "    return final_state\n",
    "\n",
    "\n",
    "def augmented_state_q_values(observations, augmented_index, model_augmentations, state_length=4, \n",
    "                             return_before_and_after=False, return_variance=False, augment_all_frames=False):\n",
    "    if augmented_index < state_length or augmented_index >= len(observations):\n",
    "        raise ValueError(f'Augmented index should be in [{state_length}, {len(observations)}), received {augmented_index}')\n",
    "\n",
    "    before_q_values_per_model = []\n",
    "    before_q_variances_per_model = []\n",
    "    after_q_values_per_model = []\n",
    "    after_q_variances_per_model = []\n",
    "    before_pixels, after_pixels = None, None\n",
    "    \n",
    "    for model_augmentation in model_augmentations:\n",
    "        # TODO: verify I don't have an off-by-one here\n",
    "        state_buffer = [observation_to_model(model_augmentation.env, obs) \n",
    "                        for obs in observations[augmented_index - state_length + 1:augmented_index + 1]]\n",
    "        \n",
    "        if return_before_and_after and before_pixels is None:\n",
    "#             before_pixels = state_buffer[-1][0].cpu().numpy()\n",
    "            before_pixels = observations[augmented_index]\n",
    "        \n",
    "        model_ready_state = torch.cat(list(state_buffer), 0)\n",
    "        if return_variance:\n",
    "            mean, variance = model_augmentation.model.q_value_mean_variance(model_ready_state)\n",
    "            before_q_values_per_model.append(mean)\n",
    "            before_q_variances_per_model.append(variance)\n",
    "        else:\n",
    "            before_q_values_per_model.append(model_augmentation.model.expected_q_values(model_ready_state))\n",
    "\n",
    "        if return_before_and_after and after_pixels is None:\n",
    "            augmented_state, after_pixels_tensor = modify_observation_to_model_state(observations[augmented_index], \n",
    "                                                                                     model_augmentation, return_pixels=True)\n",
    "            after_pixels = after_pixels_tensor.cpu().numpy()\n",
    "            \n",
    "        else:\n",
    "            augmented_state = modify_observation_to_model_state(observations[augmented_index], model_augmentation)\n",
    "#             after_pixels = state_buffer[-1][0].cpu().numpy()\n",
    "            \n",
    "        state_buffer[-1] = augmented_state\n",
    "        # TODO: consider the case of augmenting more than one consecutive states\n",
    "        if augment_all_frames:\n",
    "            for i in range(state_length - 1):\n",
    "                state_buffer[i] = modify_observation_to_model_state(observations[augmented_index - state_length + 1 + i], model_augmentation)\n",
    "\n",
    "        model_ready_state = torch.cat(list(state_buffer), 0)\n",
    "        \n",
    "        if return_variance:\n",
    "            mean, variance = model_augmentation.model.q_value_mean_variance(model_ready_state)\n",
    "            after_q_values_per_model.append(mean)\n",
    "            after_q_variances_per_model.append(variance)\n",
    "        else:\n",
    "            after_q_values_per_model.append(model_augmentation.model.expected_q_values(model_ready_state))\n",
    "\n",
    "    ret_val = [before_q_values_per_model, after_q_values_per_model]\n",
    "    \n",
    "    if return_variance:\n",
    "        ret_val.extend((before_q_variances_per_model, after_q_variances_per_model))\n",
    "        \n",
    "    if return_before_and_after:\n",
    "        ret_val.extend((before_pixels, after_pixels))\n",
    "    \n",
    "    return ret_val\n",
    "\n",
    "\n",
    "def max_wrapper(tensor, axis=0):\n",
    "    val, idx = tensor.max(axis)\n",
    "    return float(val), int(idx)\n",
    "\n",
    "\n",
    "def evaluate_augmented_models(observations, augmented_index, model_augmentations, state_length=4,\n",
    "                              before_color='red', after_color='blue', bar_alpha=0.5,\n",
    "                              bar_width=0.8, fontdict=dict(fontsize=16), force_text=None, text_epsilon=0,\n",
    "                              plot_state=True):\n",
    "    if plot_state:\n",
    "        fig = plt.figure(constrained_layout=True, figsize=(8 * len(model_augmentations) + 1, 6))\n",
    "        gs = fig.add_gridspec(2, 7)\n",
    "        before_q_values_per_model, after_q_values_per_model, before_state, after_state = augmented_state_q_values(observations, \n",
    "            augmented_index, model_augmentations, state_length=state_length, return_before_and_after=True)\n",
    "\n",
    "        before_ax = fig.add_subplot(gs[0, 0])\n",
    "        if len(before_state.shape) == 3:\n",
    "            before_ax.imshow(before_state)\n",
    "        else:\n",
    "            before_ax.imshow(before_state, cmap='gray')\n",
    "        before_ax.set_title('Before')\n",
    "        \n",
    "        after_ax = fig.add_subplot(gs[1, 0])\n",
    "        if len(after_state.shape) == 3:\n",
    "            after_ax.imshow(after_state)\n",
    "        else:\n",
    "            after_ax.imshow(after_state, cmap='gray')\n",
    "        after_ax.set_title('After')\n",
    "    \n",
    "    else:\n",
    "        plt.figure(figsize=(8 * len(model_augmentations), 6))\n",
    "        before_q_values_per_model, after_q_values_per_model = augmented_state_q_values(observations, augmented_index, \n",
    "                                                                                       model_augmentations, state_length=state_length)\n",
    "\n",
    "    \n",
    "\n",
    "    for i, (model_augmentation, before_q, after_q) in enumerate(zip(model_augmentations, \n",
    "                                                                                       before_q_values_per_model, after_q_values_per_model, \n",
    "                                                                                      )):\n",
    "        print(f'For model {model_augmentation.name}:')\n",
    "        before_mean, after_mean = before_q.mean().cpu().numpy(), after_q.mean().cpu().numpy()\n",
    "        before_v, after_v = before_q.max().cpu().numpy(), after_q.max().cpu().numpy()\n",
    "        print(f'Baseline mean: {before_mean:.3f} | Augmented mean: {after_mean:.3f} | Difference: {after_mean - before_mean:.3f}')\n",
    "        \n",
    "        diff = after_q - before_q\n",
    "        max_diff, max_diff_idx = max_wrapper(diff.abs())\n",
    "        print(f'Max Q value diff is {max_diff:.3f} for action {ALE_ACTIONS[max_diff_idx]} [{max_diff_idx}]')\n",
    "\n",
    "        if plot_state:\n",
    "            ax = fig.add_subplot(gs[:, 1 + 2 * i :1 + 2 * (i + 1)])\n",
    "        else:\n",
    "            ax = plt.subplot(1, len(model_augmentations), i + 1)\n",
    "        \n",
    "        locations = np.arange(before_q.shape[0]) * bar_width * 2.5\n",
    "        ax.bar(locations, before_q.cpu().numpy(), color=before_color, alpha=bar_alpha)\n",
    "        ax.bar(locations + bar_width, after_q.cpu().numpy(), color=after_color, alpha=bar_alpha)\n",
    "        ax.hlines([before_mean, after_mean], *ax.get_xlim(), colors=[before_color, after_color],\n",
    "                  linestyles='dashed')\n",
    "        \n",
    "        ax.hlines([before_v, after_v], *ax.get_xlim(), colors=[before_color, after_color],\n",
    "                  linestyles='dotted')\n",
    "        \n",
    "        text_fd = {k:fontdict[k] for k in fontdict}\n",
    "        ax.text(locations[max_diff_idx] + bar_width / 2, max(before_q[max_diff_idx], after_q[max_diff_idx]) + text_epsilon,\n",
    "                '*', fontdict=text_fd)\n",
    "        \n",
    "        before_action_q, before_action_idx = max_wrapper(before_q)\n",
    "        after_action_q, after_action_idx = max_wrapper(after_q)\n",
    "        \n",
    "        print(f'Before action: {ALE_ACTIONS[before_action_idx]} [{before_action_idx}] (Q = {before_action_q:.3f}) | After action: {ALE_ACTIONS[after_action_idx]} [{after_action_idx}] (Q = {after_action_q:.3f})')\n",
    "        \n",
    "        if before_action_idx != after_action_idx or (force_text is not None and force_text):\n",
    "            text_fd['color'] = before_color\n",
    "            ax.text(locations[before_action_idx] - (bar_width / 2), before_action_q + text_epsilon, 'B', fontdict=text_fd)\n",
    "\n",
    "            text_fd['color'] = after_color\n",
    "            ax.text(locations[after_action_idx] + (bar_width / 2), after_action_q + text_epsilon, 'A', fontdict=text_fd)\n",
    "        \n",
    "        ax.set_xticks(locations + (bar_width / 2))\n",
    "        ax.set_xticklabels(sorted(ALE_ACTIONS.keys()))\n",
    "        \n",
    "        ax.set_xlabel('Action Index', fontdict=fontdict)\n",
    "        ax.set_ylabel('Q Value', fontdict=fontdict)\n",
    "        ax.set_title(model_augmentation.name, fontdict=fontdict)\n",
    "        print()\n",
    "\n",
    "    plt.show()\n",
    "\n",
    "\n",
    "def evaluate_multiple_models_single_augmented_state(observations, augmented_index, model_augmentations_per_group,\n",
    "                                                    key_actions=None, key_actions_aggregator_func=lambda t: t.mean(axis=1), \n",
    "                                                    state_length=4,\n",
    "                                                    before_color='red', after_color='blue', \n",
    "                                                    bar_alpha=0.5, bar_width=0.8, \n",
    "                                                    fontdict=dict(fontsize=16), force_text=None, \n",
    "                                                    text_epsilon=0, plot_state=True, plot_variance=False,\n",
    "                                                    state_value_title='State values',\n",
    "                                                    key_action_title='Key action Q-values',\n",
    "                                                    names=None, save_name=None):\n",
    "    # TODO: if using multiple states or models, we need to average properly over the before_q / after_q tensors\n",
    "    # That is, compute the average mean difference and the average max difference\n",
    "    # The per-action bar charts might make less sense?\n",
    "    # If we do this, we can plot a histogram of MMeanD and MMaxD and over the different random seeds (for one state)\n",
    "    # Or the different states for one (or more) random seeds\n",
    "    \n",
    "    plot_key_actions = key_actions is not None\n",
    "    num_panels = 1 + int(plot_state) + int(plot_key_actions)\n",
    "    constrained_layout = plot_state\n",
    "    fig = plt.figure(constrained_layout=constrained_layout, figsize=(8 * num_panels, 6))\n",
    "    \n",
    "    if plot_state:\n",
    "        gs = fig.add_gridspec(1, num_panels * 2)\n",
    "        _, _, before_state, after_state = augmented_state_q_values(observations, \n",
    "            augmented_index, [model_augmentations_per_group[0][0]], state_length=state_length, return_before_and_after=True)\n",
    "\n",
    "        before_ax = fig.add_subplot(gs[0, 0])\n",
    "        if len(before_state.shape) == 3:\n",
    "            before_ax.imshow(before_state)\n",
    "        else:\n",
    "            before_ax.imshow(before_state, cmap='gray')\n",
    "        before_ax.xaxis.set_major_locator(plt.NullLocator())\n",
    "        before_ax.yaxis.set_major_locator(plt.NullLocator())\n",
    "        before_ax.set_title('Before', fontdict=fontdict)\n",
    "        \n",
    "        after_ax = fig.add_subplot(gs[0, 1])\n",
    "        if len(after_state.shape) == 3:\n",
    "            after_ax.imshow(after_state)\n",
    "        else:\n",
    "            after_ax.imshow(after_state, cmap='gray')\n",
    "        after_ax.xaxis.set_major_locator(plt.NullLocator())\n",
    "        after_ax.yaxis.set_major_locator(plt.NullLocator())\n",
    "        after_ax.set_title('After', fontdict=fontdict)\n",
    "    \n",
    "    if plot_state:\n",
    "        state_value_ax = fig.add_subplot(gs[0, 2:4])\n",
    "        if plot_key_actions:\n",
    "            key_actions_ax = fig.add_subplot(gs[0, 4:])\n",
    "    else:\n",
    "        state_value_ax = plt.subplot(1, num_panels, 1)\n",
    "        if plot_key_actions:\n",
    "            key_actions_ax = plt.subplot(1, 2, 2)\n",
    "    \n",
    "    all_state_values_before = []\n",
    "    all_state_values_after = []\n",
    "    \n",
    "    if plot_variance:\n",
    "        all_state_variances_before = []\n",
    "        all_state_variances_after = []\n",
    "    \n",
    "    if plot_key_actions:\n",
    "        all_key_action_values_before = []\n",
    "        all_key_action_values_after = []\n",
    "        \n",
    "        all_key_action_variances_before = []\n",
    "        all_key_action_variances_after = []\n",
    "        \n",
    "    if names is None:\n",
    "        names = [aug_group[0].name for aug_group in model_augmentations_per_group]\n",
    "    \n",
    "    for model_augmentations in model_augmentations_per_group:\n",
    "        if plot_variance:\n",
    "            q_values_before, q_values_after, q_variances_before, q_variances_after = augmented_state_q_values(observations, augmented_index, model_augmentations, \n",
    "                                                                                                              state_length=state_length, return_variance=plot_variance)\n",
    "        else:\n",
    "            q_values_before, q_values_after = augmented_state_q_values(observations, augmented_index, model_augmentations, \n",
    "                                                                                                              state_length=state_length, return_variance=plot_variance)\n",
    "        q_values_before = torch.stack(q_values_before)\n",
    "        q_values_after = torch.stack(q_values_after)\n",
    "        \n",
    "        if plot_variance:\n",
    "            q_variances_before = torch.stack(q_variances_before)\n",
    "            q_variances_after = torch.stack(q_variances_after)\n",
    "        \n",
    "        state_values_before, before_max_indices = q_values_before.max(1)\n",
    "        state_values_after, after_max_indices = q_values_after.max(1)\n",
    "        \n",
    "        all_state_values_before.append(state_values_before.cpu().numpy())\n",
    "        all_state_values_after.append(state_values_after.cpu().numpy())\n",
    "        \n",
    "        if plot_variance:\n",
    "            all_state_variances_before.append(q_variances_before.gather(1, before_max_indices.unsqueeze(1)).squeeze().cpu().numpy())\n",
    "            all_state_variances_after.append(q_variances_after.gather(1, after_max_indices.unsqueeze(1)).squeeze().cpu().numpy())\n",
    "        \n",
    "        if plot_key_actions:\n",
    "            all_key_action_values_before.append(key_actions_aggregator_func(q_values_before[:, key_actions]).cpu().numpy())\n",
    "            all_key_action_values_after.append(key_actions_aggregator_func(q_values_after[:, key_actions]).cpu().numpy())\n",
    "            \n",
    "            all_key_action_variances_before.append(key_actions_aggregator_func(q_variances_before[:, key_actions]).cpu().numpy())\n",
    "            all_key_action_variances_after.append(key_actions_aggregator_func(q_variances_after[:, key_actions]).cpu().numpy())\n",
    "            \n",
    "    for name, before, after in zip(names, all_state_values_before, all_state_values_after):\n",
    "        print(f'For model {name} | Before mean = {np.mean(before):.3f}, median = {np.median(before):.3f} | After mean = {np.mean(after):.3f}, median = {np.median(after):.3f} ')\n",
    "        \n",
    "    before_plot_values = [all_state_values_before, ] \n",
    "    after_plot_values = [all_state_values_after, ] \n",
    "    \n",
    "    if plot_variance:\n",
    "        before_plot_values.append(all_state_variances_before)\n",
    "        after_plot_values.append(all_state_variances_after)\n",
    "        \n",
    "    create_box_plot_set(state_value_ax, before_plot_values, after_plot_values, names,\n",
    "                        before_color, after_color, 'Model Type', 'V(s)', state_value_title, \n",
    "                        fontdict, (None, dict(linestyle='dashed')))\n",
    "    \n",
    "    if plot_key_actions:\n",
    "        create_box_plot_set(key_actions_ax, \n",
    "                            [all_key_action_values_before, all_key_action_variances_before], \n",
    "                            [all_key_action_values_after, all_key_action_variances_after], names,\n",
    "                            before_color, after_color, 'Model Type', 'Q(s, a)', key_action_title, \n",
    "                            fontdict, (None, dict(linestyle='dashed')))\n",
    "        \n",
    "    if save_name is not None:\n",
    "        save(save_name)\n",
    "    \n",
    "    plt.show()\n",
    "    \n",
    "\n",
    "def create_box_plot_set(ax, value_sets_before, value_sets_after, names, before_color, after_color,\n",
    "                        x_label, y_label, title, fontdict, additional_boxplot_properties=None):\n",
    "    \n",
    "    if additional_boxplot_properties is None:\n",
    "        additional_boxplot_properties = [None] * len(value_sets_before)\n",
    "    \n",
    "    before_positions = np.arange(len(names)) * 2 * len(value_sets_before)\n",
    "    after_positions = before_positions + len(value_sets_before)\n",
    "    \n",
    "    for i, (values_before, values_after, boxplot_props) in enumerate(zip(value_sets_before, \n",
    "                                                                         value_sets_after, \n",
    "                                                                         additional_boxplot_properties)):\n",
    "        if boxplot_props is None:\n",
    "            boxplot_props = {}\n",
    "    \n",
    "        ax.boxplot(np.array(values_before).T, positions=before_positions + i, \n",
    "                   boxprops=dict(color=before_color, **boxplot_props), \n",
    "                   whiskerprops=dict(color=before_color, **boxplot_props),\n",
    "                   capprops=dict(color=before_color, **boxplot_props),\n",
    "                   medianprops=boxplot_props)\n",
    "        ax.boxplot(np.array(values_after).T, positions=after_positions + i, \n",
    "                   boxprops=dict(color=after_color, **boxplot_props), \n",
    "                   whiskerprops=dict(color=after_color, **boxplot_props),\n",
    "                   capprops=dict(color=after_color, **boxplot_props), \n",
    "                   medianprops=boxplot_props)\n",
    "\n",
    "    dashed_line_positions = (before_positions - .5)[1:]\n",
    "    ax.vlines(dashed_line_positions, *ax.get_ylim(), colors='gray', linestyles='dashed')\n",
    "\n",
    "    xtick_positions = np.concatenate([before_positions, after_positions]) + 0.5 * (len(value_sets_before) - 1)\n",
    "    xtick_labels = [f'{name}\\nBefore' for name in names] + [f'{name}\\nAfter' for name in names]\n",
    "    ax.set_xticks(xtick_positions)\n",
    "    ax.set_xticklabels(xtick_labels)\n",
    "\n",
    "    ax.set_xlabel(x_label, fontdict=fontdict)\n",
    "    ax.set_ylabel(y_label, fontdict=fontdict)\n",
    "    ax.set_title(title, fontdict=fontdict)\n",
    "    \n"
   ]
  },
  {
   "cell_type": "code",
   "execution_count": 38,
   "metadata": {},
   "outputs": [],
   "source": [
    "def multiple_models_single_augmented_state_single_plot(observations, augmented_index, model_augmentations_per_group,\n",
    "                                                       colors, after_ax, values_ax, after_value_positions, median_color,\n",
    "                                                       before_ax=None, before_value_positions=None, additional_boxplot_properties=None,\n",
    "                                                       state_length=4, before_title='Before', after_title='After', names=None,\n",
    "                                                       major_fontdict=dict(fontsize=24), minor_fontdict=dict(fontsize=16),\n",
    "                                                       augment_all_frames=False):\n",
    "    \n",
    "    if before_ax is not None and before_value_positions is None:\n",
    "        raise ValueError('Must supply `before_value_positions` when supplying `before_ax`')\n",
    "    \n",
    "    _, _, before_state, after_state = augmented_state_q_values(observations, \n",
    "        augmented_index, [model_augmentations_per_group[0][0]], state_length=state_length, return_before_and_after=True)\n",
    "\n",
    "    if before_ax is not None:\n",
    "        if len(before_state.shape) == 3:\n",
    "            before_ax.imshow(before_state)\n",
    "        else:\n",
    "            before_ax.imshow(before_state, cmap='gray')\n",
    "        before_ax.xaxis.set_major_locator(plt.NullLocator())\n",
    "        before_ax.yaxis.set_major_locator(plt.NullLocator())\n",
    "        before_ax.set_title(before_title, fontdict=major_fontdict)\n",
    "        \n",
    "    if len(after_state.shape) == 3:\n",
    "        after_ax.imshow(after_state)\n",
    "    else:\n",
    "        after_ax.imshow(after_state, cmap='gray')\n",
    "    after_ax.xaxis.set_major_locator(plt.NullLocator())\n",
    "    after_ax.yaxis.set_major_locator(plt.NullLocator())\n",
    "    after_ax.set_title(after_title, fontdict=major_fontdict)\n",
    "    \n",
    "    all_state_values_before = []\n",
    "    all_state_values_after = []\n",
    "        \n",
    "    \n",
    "    for model_augmentations in model_augmentations_per_group:\n",
    "        q_values_before, q_values_after = augmented_state_q_values(observations, augmented_index, model_augmentations, \n",
    "                                                                   state_length=state_length, return_variance=False,\n",
    "                                                                   augment_all_frames=augment_all_frames)\n",
    "        q_values_before = torch.stack(q_values_before)\n",
    "        q_values_after = torch.stack(q_values_after)\n",
    "        \n",
    "        state_values_before, before_max_indices = q_values_before.max(1)\n",
    "        state_values_after, after_max_indices = q_values_after.max(1)\n",
    "        \n",
    "        all_state_values_before.append(state_values_before.cpu().numpy())\n",
    "        all_state_values_after.append(state_values_after.cpu().numpy())\n",
    "        \n",
    "    if names is None:\n",
    "        names = [aug_group[0].name for aug_group in model_augmentations_per_group]\n",
    "      \n",
    "    for name, before, after in zip(names, all_state_values_before, all_state_values_after):\n",
    "        print(f'For model {name} | Before mean = {np.mean(before):.3f}, median = {np.median(before):.3f} | After mean = {np.mean(after):.3f}, median = {np.median(after):.3f} ')\n",
    "        \n",
    "    \n",
    "    if before_value_positions is not None:\n",
    "        add_boxplots_to_ax(values_ax, all_state_values_before, before_value_positions,\n",
    "                           names, colors, minor_fontdict, median_color, additional_boxplot_properties)\n",
    "        \n",
    "    add_boxplots_to_ax(values_ax, all_state_values_after, after_value_positions,\n",
    "                       names, colors, minor_fontdict, median_color, additional_boxplot_properties)\n",
    "\n",
    "    \n",
    "\n",
    "def add_boxplots_to_ax(ax, value_sets, positions, names, colors, fontdict, median_color,\n",
    "                       additional_boxplot_properties=None):\n",
    "    \n",
    "    if additional_boxplot_properties is None:\n",
    "        additional_boxplot_properties = [dict(lw=2)] * len(positions)\n",
    "    \n",
    "    for i, (values, position, name, color, boxplot_props) in enumerate(zip(value_sets, positions, names, colors, additional_boxplot_properties)):\n",
    "\n",
    "        ax.boxplot(np.array(values).T, positions=[position], widths=0.5,\n",
    "                   boxprops=dict(color=color, **boxplot_props), \n",
    "                   whiskerprops=dict(color=color, **boxplot_props),\n",
    "                   capprops=dict(color=color, **boxplot_props),\n",
    "                   medianprops=dict(color=median_color, **boxplot_props))\n",
    "\n",
    "#     dashed_line_positions = (before_positions - .5)[1:]\n",
    "#     ax.vlines(dashed_line_positions, *ax.get_ylim(), colors='gray', linestyles='dashed')\n",
    "\n",
    "    ax.set_xticks(np.concatenate((ax.get_xticks(), positions)))\n",
    "    ax.set_xticklabels(ax.get_xticklabels() + list(names), **fontdict)\n",
    "\n",
    "#     ax.set_xlabel(x_label, fontdict=fontdict)\n",
    "#     ax.set_ylabel(y_label, fontdict=fontdict)\n",
    "#     ax.set_title(title, fontdict=fontdict)"
   ]
  },
  {
   "cell_type": "code",
   "execution_count": 39,
   "metadata": {},
   "outputs": [],
   "source": [
    "DIAGONAL_CONNECTIVITY_STRUCTURE = ndimage.generate_binary_structure(2, 2)\n",
    "\n",
    "\n",
    "def to_tensor(numpy_arr, model):\n",
    "    return torch.Tensor(numpy_arr).to(model.online_net.convs[0].weight.device)\n",
    "\n",
    "\n",
    "def extract_raw_pixels_object(observations, obs_index, model, env, loc):\n",
    "    obs = observations[obs_index]\n",
    "    return env._to_tensor(obs[loc[0], loc[1], :])\n",
    "#     model_ready_obs = to_tensor(observation_to_model(env, observations[obs_index]).cpu().numpy(), model)\n",
    "#     return model_ready_obs.squeeze()[loc]\n",
    "\n",
    "\n",
    "def extract_object(observations, obs_index, model, env, channel_index, \n",
    "                   object_index=0, structure=DIAGONAL_CONNECTIVITY_STRUCTURE,\n",
    "                   return_tensor=True, return_location=False):\n",
    "#     state = observation_to_model(env, observations[obs_index]).cpu().numpy()\n",
    "    state = env.masker(env._to_tensor(observations[obs_index])).cpu().numpy()\n",
    "    labeled, count = ndimage.label(state[channel_index], structure)\n",
    "    locations = ndimage.find_objects(labeled, 0)\n",
    "    loc = locations[object_index]\n",
    "    \n",
    "    object_arr = state[channel_index, loc[0], loc[1]]\n",
    "    if return_tensor:\n",
    "        object_arr = to_tensor(object_arr, model)\n",
    "        \n",
    "    if not return_location:\n",
    "        return object_arr\n",
    "    \n",
    "    return object_arr, loc\n",
    "    \n",
    "\n",
    "def copy_model_augmentation(model_augmentation, name=None, model=None, env=None, \n",
    "                            pixel_augmentations=None, mask_augmentations=None):\n",
    "    if name is None:\n",
    "        name = model_augmentation.name\n",
    "    \n",
    "    if model is None:\n",
    "        model = model_augmentation.model\n",
    "        \n",
    "    if env is None:\n",
    "        env = model_augmentation.env\n",
    "    \n",
    "    if pixel_augmentations is None:\n",
    "        pixel_augmentations = model_augmentation.pixel_augmentations\n",
    "        \n",
    "    if mask_augmentations is None:\n",
    "        mask_augmentations = model_augmentation.mask_augmentations\n",
    "        \n",
    "    return ModelAugmentation(name, model, env, pixel_augmentations, mask_augmentations)\n",
    "\n",
    "\n",
    "DEFAULT_GROUPED_OBJECTS_INDICES = (0, 1, 3, 4, 5, 6)\n",
    "\n",
    "\n",
    "def make_augmentations_all_models(b_aug, m_p_aug, m_o_aug, g_o_aug, pixels_tensor, mask_tensor, mask_channel_index, locations,\n",
    "                                  g_o_indices=DEFAULT_GROUPED_OBJECTS_INDICES):\n",
    "    pixel_augs = [ChannelAugmentation(0, pixels_tensor, loc) for loc in locations]\n",
    "    mask_augs = [ChannelAugmentation(mask_channel_index, mask_tensor, loc) for loc in locations]\n",
    "    grouped_mask_augs = None\n",
    "    if mask_channel_index in g_o_indices:\n",
    "        grouped_mask_augs = [ChannelAugmentation(0, mask_tensor, loc) for loc in locations]\n",
    "    \n",
    "    return copy_model_augmentation(b_aug, pixel_augmentations=pixel_augs),\\\n",
    "        copy_model_augmentation(m_p_aug, pixel_augmentations=pixel_augs, mask_augmentations=mask_augs),\\\n",
    "        copy_model_augmentation(m_o_aug, mask_augmentations=mask_augs),\\\n",
    "        copy_model_augmentation(g_o_aug, pixel_augmentations=pixel_augs, mask_augmentations=grouped_mask_augs)\n",
    "\n",
    "\n",
    "def plot_tensors(*tensors, norm=False):\n",
    "    normalizer = None\n",
    "    if norm:\n",
    "        normalizer = matplotlib.colors.Normalize(0, 1)\n",
    "    \n",
    "    n = len(tensors)\n",
    "    plt.figure(figsize=(4 * n, 4))\n",
    "    for i, tensor in enumerate(tensors):\n",
    "        ax = plt.subplot(1, n, i + 1)\n",
    "        ax.imshow(tensors[i].cpu().numpy(), cmap='gray', norm=normalizer)\n",
    "    \n",
    "    plt.show()\n",
    "\n",
    "    \n",
    "def plot_observations(observations, start, count, step):\n",
    "    plt.figure(figsize=(4 * count, 4))\n",
    "    for i, idx in enumerate(range(start, start + count * step, step)):\n",
    "        ax = plt.subplot(1, count, i + 1)\n",
    "        ax.imshow(observations[idx])\n",
    "        ax.xaxis.set_major_locator(plt.NullLocator())\n",
    "        ax.yaxis.set_major_locator(plt.NullLocator())\n",
    "        ax.set_title(idx)\n",
    "        \n",
    "    plt.show()\n",
    "    \n",
    "    \n",
    "def plot_observations_by_indices(observations, indices):\n",
    "    n = len(indices)\n",
    "    plt.figure(figsize=(4 * n, 4))\n",
    "    for i, idx in enumerate(indices):\n",
    "        ax = plt.subplot(1, n, i + 1)\n",
    "        ax.imshow(observations[idx])\n",
    "        ax.xaxis.set_major_locator(plt.NullLocator())\n",
    "        ax.yaxis.set_major_locator(plt.NullLocator())\n",
    "        ax.set_title(idx)\n",
    "        \n",
    "    plt.show()\n",
    "    \n",
    "    \n",
    "def change_intensity(tensor, additive=0, multiplicative=1, min_val=0, max_val=1):\n",
    "    return torch.clamp(tensor * multiplicative + additive, min_val, max_val)\n",
    "    \n",
    "\n",
    "DEFAULT_MASK_NAMES = (\n",
    "    'None',\n",
    "    'player',\n",
    "    'bad_animal',\n",
    "    'land',\n",
    "    'bear',\n",
    "    'unvisited_floes',\n",
    "    'visited_floes',\n",
    "    'good_animal',\n",
    "    'igloo'\n",
    ")"
   ]
  },
  {
   "cell_type": "markdown",
   "metadata": {},
   "source": [
    "# Setup"
   ]
  },
  {
   "cell_type": "code",
   "execution_count": 49,
   "metadata": {},
   "outputs": [
    {
     "name": "stdout",
     "output_type": "stream",
     "text": [
      "(5671, 210, 160, 3)\n"
     ]
    },
    {
     "name": "stderr",
     "output_type": "stream",
     "text": [
      "/misc/vlgscratch4/LakeGroup/guy/anaconda3/envs/rainbow/lib/python3.7/site-packages/torch/nn/functional.py:2494: UserWarning: Default upsampling behavior when mode=bilinear is changed to align_corners=False since 0.4.0. Please specify align_corners=True if the old behavior is desired. See the documentation of nn.Upsample for details.\n",
      "  \"See the documentation of nn.Upsample for details.\".format(mode))\n"
     ]
    }
   ],
   "source": [
    "SAMPLE_SAVED_STATES = r'/home/gd1279/scratch/rainbow-evaluation-state-traces/baseline-rainbow-305/evaluation/states/eval-baseline-rainbow-305-34350000-0-env.pickle'\n",
    "\n",
    "with open(SAMPLE_SAVED_STATES, 'rb') as state_file:\n",
    "    sample_full_color_observations = pickle.load(state_file)\n",
    "    \n",
    "    \n",
    "sample_full_color_observations = sample_full_color_observations.astype(np.uint8)\n",
    "print(sample_full_color_observations.shape)\n",
    "\n",
    "\n",
    "baseline_run = api.run('augmented-frostbite/initial-experiments/runs/fdxobftk')\n",
    "baseline_model, baseline_env = load_model_from_run(baseline_run)\n",
    "baseline_model_results = pass_states_through_model(baseline_model, baseline_env, sample_full_color_observations, skip=1)\n",
    "\n",
    "masks_and_pixels_run = api.run('augmented-frostbite/masks-and-pixels-replication/runs/grh1bzvv')\n",
    "masks_and_pixels_model, masks_and_pixels_env = load_model_from_run(masks_and_pixels_run)\n",
    "masks_and_pixels_model_results = pass_states_through_model(masks_and_pixels_model, masks_and_pixels_env, sample_full_color_observations, skip=1)\n",
    "\n",
    "masks_only_run = api.run('augmented-frostbite/masks-only-replication/runs/0khc2n2c')\n",
    "masks_only_model, masks_only_env = load_model_from_run(masks_only_run)\n",
    "masks_only_model_results = pass_states_through_model(masks_only_model, masks_only_env, sample_full_color_observations, skip=1)\n",
    "\n",
    "grouped_objects_run = api.run('augmented-frostbite/grouped-masks-moving-objects/runs/3hjg1r97')\n",
    "grouped_objects_model, grouped_objects_env = load_model_from_run(grouped_objects_run)\n",
    "\n",
    "baseline_aug_template = ModelAugmentation('Baseline', baseline_model, baseline_env, list(), list())\n",
    "masks_and_pixels_aug_template = ModelAugmentation('Masks+Pixels', masks_and_pixels_model, masks_and_pixels_env, list(), list())\n",
    "masks_only_aug_template = ModelAugmentation('Masks-Only', masks_only_model, masks_only_env, list(), list())\n",
    "grouped_objects_aug_template = ModelAugmentation('Grouped-Objects', grouped_objects_model, grouped_objects_env, list(), list())"
   ]
  },
  {
   "cell_type": "code",
   "execution_count": 16,
   "metadata": {
    "scrolled": false
   },
   "outputs": [
    {
     "name": "stdout",
     "output_type": "stream",
     "text": [
      "Loading pretrained model: /scratch/gd1279/baseline-rainbow-300-10000000.pth\n",
      "Loading pretrained model: /scratch/gd1279/baseline-rainbow-309-10000000.pth\n",
      "Loading pretrained model: /scratch/gd1279/baseline-rainbow-306-10000000.pth\n",
      "Loading pretrained model: /scratch/gd1279/baseline-rainbow-308-10000000.pth\n",
      "Loading pretrained model: /scratch/gd1279/baseline-rainbow-304-10000000.pth\n",
      "Loading pretrained model: /scratch/gd1279/baseline-rainbow-305-10000000.pth\n",
      "Loading pretrained model: /scratch/gd1279/baseline-rainbow-307-10000000.pth\n",
      "Loading pretrained model: /scratch/gd1279/baseline-rainbow-303-10000000.pth\n",
      "Loading pretrained model: /scratch/gd1279/baseline-rainbow-301-10000000.pth\n",
      "Loading pretrained model: /scratch/gd1279/baseline-rainbow-302-10000000.pth\n",
      "Loading pretrained model: /scratch/gd1279/masks-and-pixels-replication-309-10000000.pth\n",
      "Loading pretrained model: /scratch/gd1279/masks-and-pixels-replication-308-10000000.pth\n",
      "Loading pretrained model: /scratch/gd1279/masks-and-pixels-replication-307-10000000.pth\n",
      "Loading pretrained model: /scratch/gd1279/masks-and-pixels-replication-306-10000000.pth\n",
      "Loading pretrained model: /scratch/gd1279/masks-and-pixels-replication-304-10000000.pth\n",
      "Loading pretrained model: /scratch/gd1279/masks-and-pixels-replication-305-10000000.pth\n",
      "Loading pretrained model: /scratch/gd1279/masks-and-pixels-replication-302-10000000.pth\n",
      "Loading pretrained model: /scratch/gd1279/masks-and-pixels-replication-303-10000000.pth\n",
      "Loading pretrained model: /scratch/gd1279/masks-and-pixels-replication-301-10000000.pth\n",
      "Loading pretrained model: /scratch/gd1279/masks-and-pixels-replication-300-10000000.pth\n",
      "Loading pretrained model: /scratch/gd1279/masks-only-replication-302-10000000.pth\n",
      "Loading pretrained model: /scratch/gd1279/masks-only-replication-308-10000000.pth\n",
      "Loading pretrained model: /scratch/gd1279/masks-only-replication-301-10000000.pth\n",
      "Loading pretrained model: /scratch/gd1279/masks-only-replication-305-10000000.pth\n",
      "Loading pretrained model: /scratch/gd1279/masks-only-replication-304-10000000.pth\n",
      "Loading pretrained model: /scratch/gd1279/masks-only-replication-303-10000000.pth\n",
      "Loading pretrained model: /scratch/gd1279/masks-only-replication-300-10000000.pth\n",
      "Loading pretrained model: /scratch/gd1279/masks-only-replication-307-10000000.pth\n",
      "Loading pretrained model: /scratch/gd1279/masks-only-replication-309-10000000.pth\n",
      "Loading pretrained model: /scratch/gd1279/masks-only-replication-306-10000000.pth\n",
      "Loading pretrained model: /scratch/gd1279/grouped-masks-moving-objects-300-10000000.pth\n",
      "Loading pretrained model: /scratch/gd1279/grouped-masks-moving-objects-301-10000000.pth\n",
      "Loading pretrained model: /scratch/gd1279/grouped-masks-moving-objects-304-10000000.pth\n",
      "Loading pretrained model: /scratch/gd1279/grouped-masks-moving-objects-309-10000000.pth\n",
      "Loading pretrained model: /scratch/gd1279/grouped-masks-moving-objects-307-10000000.pth\n",
      "Loading pretrained model: /scratch/gd1279/grouped-masks-moving-objects-302-10000000.pth\n",
      "Loading pretrained model: /scratch/gd1279/grouped-masks-moving-objects-303-10000000.pth\n",
      "Loading pretrained model: /scratch/gd1279/grouped-masks-moving-objects-306-10000000.pth\n",
      "Loading pretrained model: /scratch/gd1279/grouped-masks-moving-objects-305-10000000.pth\n",
      "10 10 10 9\n"
     ]
    }
   ],
   "source": [
    "def load_all_models(*run_urls, run_checker=lambda t: True, step=None):\n",
    "    runs = [run for run in api.runs(run_urls[0]) if run_checker(run)]\n",
    "    for url in run_urls[1:]:\n",
    "        runs.extend([run for run in api.runs(url) if run_checker(run)])\n",
    "    \n",
    "    loaded_models_and_envs = filter(lambda x: x is not None, [load_model_from_run(run, step=step) for run in runs])\n",
    "    return zip(*loaded_models_and_envs)\n",
    "\n",
    "\n",
    "def make_augmentation_per_model(base_augmentation, models):\n",
    "    return [copy_model_augmentation(base_augmentation, model=model) for model in models]\n",
    "\n",
    "\n",
    "all_baseline_models, all_baseline_envs = load_all_models('augmented-frostbite/initial-experiments/runs', \n",
    "                                                         run_checker=lambda run: run.name.lower().startswith('baseline-rainbow-3'),\n",
    "                                                         step=10000000)\n",
    "\n",
    "all_masks_and_pixels_models, all_masks_and_pixels_envs = load_all_models(#'augmented-frostbite/masks-and-pixels-fixed-resume/runs',\n",
    "                                                                         'augmented-frostbite/masks-and-pixels-replication/runs',\n",
    "                                                                         step=10000000)\n",
    "\n",
    "all_masks_only_models, all_masks_only_envs = load_all_models(#'augmented-frostbite/masks-only/runs',\n",
    "                                                             'augmented-frostbite/masks-only-replication/runs',\n",
    "                                                             step=10000000)\n",
    "\n",
    "all_grouped_objects_models, all_grouped_objects_envs = load_all_models(#'augmented-frostbite/masks-only/runs',\n",
    "                                                             'augmented-frostbite/grouped-masks-moving-objects/runs',\n",
    "                                                             step=10000000)\n",
    "\n",
    "print(len(all_baseline_models), len(all_masks_and_pixels_models), len(all_masks_only_models), len(all_grouped_objects_models))"
   ]
  },
  {
   "cell_type": "code",
   "execution_count": 17,
   "metadata": {},
   "outputs": [
    {
     "name": "stdout",
     "output_type": "stream",
     "text": [
      "10 10 10 9\n"
     ]
    }
   ],
   "source": [
    "print(len(all_baseline_models), len(all_masks_and_pixels_models), len(all_masks_only_models), len(all_grouped_objects_models))"
   ]
  },
  {
   "cell_type": "code",
   "execution_count": 18,
   "metadata": {},
   "outputs": [
    {
     "name": "stdout",
     "output_type": "stream",
     "text": [
      "agent\n",
      "bad_animal\n",
      "land\n",
      "bear\n",
      "unvisited_floe\n",
      "visited_floe\n",
      "good_animal\n",
      "igloo\n"
     ]
    }
   ],
   "source": [
    "for md in all_masks_and_pixels_envs[0].masker.masker_definitions:\n",
    "    for key in ALL_MASKERS:\n",
    "        if ALL_MASKERS[key] == md:\n",
    "            print(key)"
   ]
  },
  {
   "cell_type": "markdown",
   "metadata": {},
   "source": [
    "# Focusing on the multiple-models ones"
   ]
  },
  {
   "cell_type": "code",
   "execution_count": 41,
   "metadata": {},
   "outputs": [],
   "source": [
    "rgb_to_hsv = np.vectorize(colorsys.rgb_to_hsv)\n",
    "hsv_to_rgb = np.vectorize(colorsys.hsv_to_rgb)\n",
    "\n",
    "\n",
    "def shift_hue(arr, hue=None, sat=None, val=None):\n",
    "    r, g, b = np.rollaxis(arr, axis=-1)\n",
    "    h, s, v = rgb_to_hsv(r, g, b)\n",
    "    if hue is not None:\n",
    "        h = hue\n",
    "    if sat is not None:\n",
    "        s = sat\n",
    "    if val is not None:\n",
    "        v = val\n",
    "    r, g, b = hsv_to_rgb(h, s, v)\n",
    "    arr = np.dstack((r, g, b))\n",
    "    return arr.astype(np.uint8)\n",
    "\n",
    "\n",
    "def shift_tensor_hue(input_tensor, hue=None, sat=None, val=None):\n",
    "    shifted_np_array = shift_hue(input_tensor.type(torch.uint8).cpu().numpy(), hue, sat, val)\n",
    "    return torch.tensor(shifted_np_array, dtype=torch.float32).to(input_tensor.device)\n",
    "\n",
    "\n",
    "def do_multiple_augmentation_comparison(src_index, dst_index, channel_index, new_locations, hsv=None, object_index=0,\n",
    "                                        object_pixels_and_mask=None,\n",
    "                                        key_actions=None, plot_variance=False, save_name=None, \n",
    "                                        src_observations=sample_full_color_observations, dst_observations=sample_full_color_observations):\n",
    "    \n",
    "    if object_pixels_and_mask is not None:\n",
    "        if new_locations is None:\n",
    "            raise ValueError('Cannot provide `object_pixels_and_mask` without providing `new_locations`')\n",
    "            \n",
    "        pixels_tensor, mask_tensor = object_pixels_and_mask\n",
    "    else:\n",
    "        mask_tensor, object_loc = extract_object(src_observations, src_index, masks_only_model, masks_only_env,\n",
    "                                          channel_index=channel_index, object_index=object_index, return_location=True)\n",
    "        pixels_tensor = extract_raw_pixels_object(src_observations, src_index, baseline_model, baseline_env, object_loc)\n",
    "    \n",
    "    if hsv is not None:\n",
    "        pixels_tensor = shift_tensor_hue(pixels_tensor, *hsv)\n",
    "    \n",
    "    if new_locations is None:\n",
    "        new_locations = [(object_loc[0].start, object_loc[1].start)]\n",
    "    \n",
    "    if callable(new_locations):\n",
    "        new_locations = new_locations(object_loc)\n",
    "    \n",
    "    baseline_aug, masks_and_pixels_aug, masks_only_aug, grouped_objects_aug =\\\n",
    "        make_augmentations_all_models(baseline_aug_template, masks_and_pixels_aug_template, masks_only_aug_template,\n",
    "                                      pixels_tensor, mask_tensor, channel_index, new_locations)\n",
    "\n",
    "    all_baseline_augs = make_augmentation_per_model(baseline_aug, all_baseline_models)\n",
    "    all_masks_and_pixels_augs = make_augmentation_per_model(masks_and_pixels_aug, all_masks_and_pixels_models)\n",
    "    all_masks_only_augs = make_augmentation_per_model(masks_only_aug, all_masks_only_models)\n",
    "    all_grouped_objects_augs = make_augmentation_per_model(grouped_objects_aug, all_grouped_objects_models)\n",
    "\n",
    "    evaluate_multiple_models_single_augmented_state(dst_observations, dst_index, \n",
    "                                                    (all_baseline_augs, all_masks_and_pixels_augs, all_masks_only_augs, all_grouped_objects_augs),\n",
    "                                                    key_actions=key_actions, plot_variance=plot_variance,\n",
    "                                                    names=('Pixels', 'Pixels+Objects', 'Objects', 'Grouped Objects'),\n",
    "                                                    save_name=save_name)\n",
    "\n",
    "    \n",
    "FINAL_NAMES = ('Pixels', 'Pixels+Objects', 'Objects', 'Grouped Objects')    \n",
    "FINAL_NAMES_FOR_TICKS = ('Pixels', 'Pixels+\\nObjects', 'Objects', 'Grouped\\nObjects')   \n",
    "\n",
    "DEFAULT_CM = plt.get_cmap('Dark2')\n",
    "DEFAULT_COLORS = [DEFAULT_CM(i) for i in range(len(FINAL_NAMES))]\n",
    "DEFAULT_MEDIAN_COLOR = DEFAULT_CM(len(FINAL_NAMES) + 1)\n",
    "    \n",
    "def do_multiple_augmentation_comparison_single_plot(src_index, dst_index, channel_index, new_locations, \n",
    "                                                    after_ax, values_ax, after_value_positions,\n",
    "                                                    before_ax=None, before_value_positions=None, additional_boxplot_properties=None,\n",
    "                                                    colors=DEFAULT_COLORS, median_color=DEFAULT_MEDIAN_COLOR, before_title='Before', after_title='After',\n",
    "                                                    major_fontdict=dict(fontsize=24),\n",
    "                                                    minor_fontdict=dict(fontsize=16),\n",
    "                                                    names=FINAL_NAMES,\n",
    "                                                    hsv=None, object_index=0, object_pixels_and_mask=None,\n",
    "                                                    src_observations=sample_full_color_observations, \n",
    "                                                    dst_observations=sample_full_color_observations,\n",
    "                                                    augment_all_frames=False,\n",
    "                                                    ):\n",
    "    \n",
    "    if object_pixels_and_mask is not None:\n",
    "        if new_locations is None:\n",
    "            raise ValueError('Cannot provide `object_pixels_and_mask` without providing `new_locations`')\n",
    "            \n",
    "        pixels_tensor, mask_tensor = object_pixels_and_mask\n",
    "    else:\n",
    "        mask_tensor, object_loc = extract_object(src_observations, src_index, masks_only_model, masks_only_env,\n",
    "                                          channel_index=channel_index, object_index=object_index, return_location=True)\n",
    "        pixels_tensor = extract_raw_pixels_object(src_observations, src_index, baseline_model, baseline_env, object_loc)\n",
    "    \n",
    "    if hsv is not None:\n",
    "        pixels_tensor = shift_tensor_hue(pixels_tensor, *hsv)\n",
    "    \n",
    "    if new_locations is None:\n",
    "        new_locations = [(object_loc[0].start, object_loc[1].start)]\n",
    "    \n",
    "    if callable(new_locations):\n",
    "        new_locations = new_locations(object_loc)\n",
    "    \n",
    "    baseline_aug, masks_and_pixels_aug, masks_only_aug, grouped_objects_aug  =\\\n",
    "    make_augmentations_all_models(baseline_aug_template, masks_and_pixels_aug_template, \n",
    "                                  masks_only_aug_template, grouped_objects_aug_template,\n",
    "                                  pixels_tensor, mask_tensor, channel_index, new_locations)\n",
    "\n",
    "    all_baseline_augs = make_augmentation_per_model(baseline_aug, all_baseline_models)\n",
    "    all_masks_and_pixels_augs = make_augmentation_per_model(masks_and_pixels_aug, all_masks_and_pixels_models)\n",
    "    all_masks_only_augs = make_augmentation_per_model(masks_only_aug, all_masks_only_models)\n",
    "    all_grouped_objects_augs = make_augmentation_per_model(grouped_objects_aug, all_grouped_objects_models)\n",
    "    \n",
    "    multiple_models_single_augmented_state_single_plot(dst_observations, dst_index, \n",
    "                                                       (all_baseline_augs, all_masks_and_pixels_augs, all_masks_only_augs, all_grouped_objects_augs),\n",
    "                                                       colors, after_ax, values_ax, after_value_positions, median_color,\n",
    "                                                       before_ax=before_ax, before_value_positions=before_value_positions, \n",
    "                                                       additional_boxplot_properties=additional_boxplot_properties,\n",
    "                                                       state_length=4, before_title=before_title, after_title=after_title, names=names,\n",
    "                                                       major_fontdict=major_fontdict,\n",
    "                                                       minor_fontdict=minor_fontdict, augment_all_frames=augment_all_frames)\n",
    "\n"
   ]
  },
  {
   "cell_type": "markdown",
   "metadata": {},
   "source": [
    "# Recreating these plots in hopefully thier final incarnation"
   ]
  },
  {
   "cell_type": "code",
   "execution_count": 20,
   "metadata": {},
   "outputs": [],
   "source": [
    "INTERESTING_DST_INDICES = (94, 1112)\n",
    "NUM_COMPARISON_MODELS = 4"
   ]
  },
  {
   "cell_type": "code",
   "execution_count": 79,
   "metadata": {
    "scrolled": false
   },
   "outputs": [
    {
     "name": "stderr",
     "output_type": "stream",
     "text": [
      "/misc/vlgscratch4/LakeGroup/guy/anaconda3/envs/rainbow/lib/python3.7/site-packages/torch/nn/functional.py:2494: UserWarning: Default upsampling behavior when mode=bilinear is changed to align_corners=False since 0.4.0. Please specify align_corners=True if the old behavior is desired. See the documentation of nn.Upsample for details.\n",
      "  \"See the documentation of nn.Upsample for details.\".format(mode))\n"
     ]
    },
    {
     "name": "stdout",
     "output_type": "stream",
     "text": [
      "For model Pixels | Before mean = 5.838, median = 6.584 | After mean = 5.996, median = 6.573 \n",
      "For model Pixels+Objects | Before mean = 6.704, median = 6.847 | After mean = 5.249, median = 4.553 \n",
      "For model Objects | Before mean = 6.426, median = 6.502 | After mean = 4.436, median = 4.086 \n",
      "For model Grouped Objects | Before mean = 6.303, median = 5.130 | After mean = 5.307, median = 4.609 \n"
     ]
    },
    {
     "name": "stderr",
     "output_type": "stream",
     "text": [
      "/misc/vlgscratch4/LakeGroup/guy/anaconda3/envs/rainbow/lib/python3.7/site-packages/torch/nn/functional.py:2494: UserWarning: Default upsampling behavior when mode=bilinear is changed to align_corners=False since 0.4.0. Please specify align_corners=True if the old behavior is desired. See the documentation of nn.Upsample for details.\n",
      "  \"See the documentation of nn.Upsample for details.\".format(mode))\n"
     ]
    },
    {
     "name": "stdout",
     "output_type": "stream",
     "text": [
      "For model Pixels | Before mean = 5.838, median = 6.584 | After mean = 5.425, median = 6.141 \n",
      "For model Pixels+Objects | Before mean = 6.704, median = 6.847 | After mean = 4.886, median = 4.609 \n",
      "For model Objects | Before mean = 6.426, median = 6.502 | After mean = 4.735, median = 4.610 \n",
      "For model Grouped Objects | Before mean = 6.303, median = 5.130 | After mean = 5.782, median = 5.516 \n"
     ]
    },
    {
     "name": "stderr",
     "output_type": "stream",
     "text": [
      "/misc/vlgscratch4/LakeGroup/guy/anaconda3/envs/rainbow/lib/python3.7/site-packages/torch/nn/functional.py:2494: UserWarning: Default upsampling behavior when mode=bilinear is changed to align_corners=False since 0.4.0. Please specify align_corners=True if the old behavior is desired. See the documentation of nn.Upsample for details.\n",
      "  \"See the documentation of nn.Upsample for details.\".format(mode))\n"
     ]
    },
    {
     "name": "stdout",
     "output_type": "stream",
     "text": [
      "For model Pixels | Before mean = 5.838, median = 6.584 | After mean = 5.297, median = 5.133 \n",
      "For model Pixels+Objects | Before mean = 6.704, median = 6.847 | After mean = 5.595, median = 5.753 \n",
      "For model Objects | Before mean = 6.426, median = 6.502 | After mean = 5.385, median = 4.806 \n",
      "For model Grouped Objects | Before mean = 6.303, median = 5.130 | After mean = 5.294, median = 5.073 \n"
     ]
    },
    {
     "data": {
      "image/png": "[encoded data removed]",
      "text/plain": [
       "<Figure size 648x432 with 5 Axes>"
      ]
     },
     "metadata": {
      "needs_background": "light"
     },
     "output_type": "display_data"
    }
   ],
   "source": [
    "SRC_OBS_INDEX = 1270\n",
    "CHANNEL_INDEX = 1\n",
    "NEW_LOCATIONS = None\n",
    "START_LOC = (107, 12)\n",
    "NUM_AFTER_STATES = 3\n",
    "\n",
    "    \n",
    "fig = plt.figure(constrained_layout=True, figsize=(9, 6))\n",
    "gs = fig.add_gridspec(2, 1 + NUM_AFTER_STATES)\n",
    "before_ax = fig.add_subplot(gs[0, 0])\n",
    "after_axes = [fig.add_subplot(gs[0, i]) for i in range(1, 1 + NUM_AFTER_STATES)]\n",
    "    \n",
    "values_ax = fig.add_subplot(gs[1, :])\n",
    "before_positions = np.arange(NUM_COMPARISON_MODELS)\n",
    "after_positions = [np.arange(NUM_COMPARISON_MODELS) + (NUM_COMPARISON_MODELS * i) for i in range(1, 1 + NUM_AFTER_STATES)]\n",
    "\n",
    "after_titles = ['First Row', 'Second Row', 'Third Row']\n",
    "\n",
    "major_fontdict = dict(fontsize=20)\n",
    "minor_fontdict = dict(fontsize=14)\n",
    "\n",
    "for DST_OBS_INDEX in (INTERESTING_DST_INDICES[0],):\n",
    "    for i, row_loc_inc in enumerate((0, 25, 55)):\n",
    "        NEW_LOCATIONS = [(START_LOC[0] + row_loc_inc, START_LOC[1] + 12 * i) for i in range(12)]\n",
    "        \n",
    "        b_ax, b_value_positions = None, None\n",
    "        if i == 0:\n",
    "            b_ax = before_ax \n",
    "            b_value_positions = before_positions\n",
    "        \n",
    "        do_multiple_augmentation_comparison_single_plot(SRC_OBS_INDEX, DST_OBS_INDEX, CHANNEL_INDEX, NEW_LOCATIONS, \n",
    "                                                    after_ax=after_axes[i], values_ax=values_ax, after_value_positions=after_positions[i],\n",
    "                                                    before_ax=b_ax, before_value_positions=b_value_positions, additional_boxplot_properties=None,\n",
    "                                                    before_title='Original State', after_title=after_titles[i],\n",
    "                                                    major_fontdict=major_fontdict,\n",
    "                                                    minor_fontdict=minor_fontdict,\n",
    "                                                    hsv=None, object_index=0, object_pixels_and_mask=None\n",
    "                                                    )\n",
    "        \n",
    "\n",
    "dashed_line_positions = np.arange(1, NUM_AFTER_STATES + 1) * NUM_COMPARISON_MODELS - 0.5\n",
    "values_ax.vlines(dashed_line_positions, *values_ax.get_ylim(), colors='gray', linestyles='dashed')\n",
    "        \n",
    "values_ax.set_xticks([])\n",
    "# values_ax.set_xticks(np.concatenate([before_positions] + after_positions))\n",
    "# values_ax.set_xticklabels(list(FINAL_NAMES_FOR_TICKS) * 4, fontsize=12, rotation=0)\n",
    "\n",
    "values_ax.tick_params(axis='both', which='major', labelsize=12)\n",
    "values_ax.set_ylabel('V(s)', **major_fontdict)\n",
    "\n",
    "values_ax.set_xlabel('Condition', **major_fontdict)\n",
    "\n",
    "legend_handles = []\n",
    "for color, name in zip(DEFAULT_COLORS, FINAL_NAMES):\n",
    "    legend_handles.append(patches.Patch(color=color, label=name))\n",
    "    \n",
    "plt.legend(handles=legend_handles, loc='best', **minor_fontdict)\n",
    "\n",
    "\n",
    "# save('crabs_panel.pdf')\n",
    "\n",
    "plt.show()"
   ]
  },
  {
   "cell_type": "code",
   "execution_count": 80,
   "metadata": {},
   "outputs": [
    {
     "name": "stderr",
     "output_type": "stream",
     "text": [
      "/misc/vlgscratch4/LakeGroup/guy/anaconda3/envs/rainbow/lib/python3.7/site-packages/torch/nn/functional.py:2494: UserWarning: Default upsampling behavior when mode=bilinear is changed to align_corners=False since 0.4.0. Please specify align_corners=True if the old behavior is desired. See the documentation of nn.Upsample for details.\n",
      "  \"See the documentation of nn.Upsample for details.\".format(mode))\n"
     ]
    },
    {
     "name": "stdout",
     "output_type": "stream",
     "text": [
      "For model Pixels | Before mean = 3.681, median = 3.915 | After mean = 3.885, median = 4.320 \n",
      "For model Pixels+Objects | Before mean = 4.193, median = 4.247 | After mean = 5.355, median = 5.060 \n",
      "For model Objects | Before mean = 4.896, median = 4.239 | After mean = 5.499, median = 5.246 \n",
      "For model Grouped Objects | Before mean = 3.870, median = 3.614 | After mean = 3.184, median = 2.865 \n"
     ]
    },
    {
     "name": "stderr",
     "output_type": "stream",
     "text": [
      "/misc/vlgscratch4/LakeGroup/guy/anaconda3/envs/rainbow/lib/python3.7/site-packages/torch/nn/functional.py:2494: UserWarning: Default upsampling behavior when mode=bilinear is changed to align_corners=False since 0.4.0. Please specify align_corners=True if the old behavior is desired. See the documentation of nn.Upsample for details.\n",
      "  \"See the documentation of nn.Upsample for details.\".format(mode))\n"
     ]
    },
    {
     "name": "stdout",
     "output_type": "stream",
     "text": [
      "For model Pixels | Before mean = 3.681, median = 3.915 | After mean = 4.017, median = 4.586 \n",
      "For model Pixels+Objects | Before mean = 4.193, median = 4.247 | After mean = 5.383, median = 5.361 \n",
      "For model Objects | Before mean = 4.896, median = 4.239 | After mean = 5.499, median = 5.246 \n",
      "For model Grouped Objects | Before mean = 3.870, median = 3.614 | After mean = 2.943, median = 2.999 \n"
     ]
    },
    {
     "name": "stderr",
     "output_type": "stream",
     "text": [
      "/misc/vlgscratch4/LakeGroup/guy/anaconda3/envs/rainbow/lib/python3.7/site-packages/torch/nn/functional.py:2494: UserWarning: Default upsampling behavior when mode=bilinear is changed to align_corners=False since 0.4.0. Please specify align_corners=True if the old behavior is desired. See the documentation of nn.Upsample for details.\n",
      "  \"See the documentation of nn.Upsample for details.\".format(mode))\n"
     ]
    },
    {
     "name": "stdout",
     "output_type": "stream",
     "text": [
      "For model Pixels | Before mean = 3.681, median = 3.915 | After mean = 3.754, median = 3.939 \n",
      "For model Pixels+Objects | Before mean = 4.193, median = 4.247 | After mean = 5.258, median = 4.893 \n",
      "For model Objects | Before mean = 4.896, median = 4.239 | After mean = 5.499, median = 5.246 \n",
      "For model Grouped Objects | Before mean = 3.870, median = 3.614 | After mean = 3.436, median = 3.524 \n"
     ]
    },
    {
     "data": {
      "image/png": "[encoded data removed]",
      "text/plain": [
       "<Figure size 648x432 with 5 Axes>"
      ]
     },
     "metadata": {
      "needs_background": "light"
     },
     "output_type": "display_data"
    }
   ],
   "source": [
    "SRC_OBS_INDEX = 310\n",
    "CHANNEL_INDEX = 6\n",
    "NUM_AFTER_STATES = 3\n",
    "START_LOC = (107, 12)\n",
    "row_loc_inc = 0\n",
    "\n",
    "colors = ('green', 'blue', 'red')\n",
    "\n",
    "    \n",
    "fig = plt.figure(constrained_layout=True, figsize=(9, 6))\n",
    "gs = fig.add_gridspec(2, 1 + NUM_AFTER_STATES)\n",
    "before_ax = fig.add_subplot(gs[0, 0])\n",
    "after_axes = [fig.add_subplot(gs[0, i]) for i in range(1, 1 + NUM_AFTER_STATES)]\n",
    "    \n",
    "values_ax = fig.add_subplot(gs[1, :])\n",
    "before_positions = np.arange(NUM_COMPARISON_MODELS)\n",
    "after_positions = [np.arange(NUM_COMPARISON_MODELS) + (NUM_COMPARISON_MODELS * i) for i in range(1, 1 + NUM_AFTER_STATES)]\n",
    "\n",
    "after_titles = ['First Row', 'Second Row', 'Third Row']\n",
    "\n",
    "major_fontdict = dict(fontsize=20)\n",
    "minor_fontdict = dict(fontsize=14)\n",
    "\n",
    "for DST_OBS_INDEX in (INTERESTING_DST_INDICES[1],):\n",
    "    for i, hue in enumerate((None, 0.5, 0.9)):\n",
    "        NEW_LOCATIONS = [(START_LOC[0] + row_loc_inc, START_LOC[1] + 12 * i) for i in range(12)]\n",
    "        \n",
    "        b_ax, b_value_positions = None, None\n",
    "        if i == 0:\n",
    "            b_ax = before_ax \n",
    "            b_value_positions = before_positions\n",
    "        \n",
    "        do_multiple_augmentation_comparison_single_plot(SRC_OBS_INDEX, DST_OBS_INDEX, CHANNEL_INDEX, NEW_LOCATIONS, \n",
    "                                                    after_ax=after_axes[i], values_ax=values_ax, after_value_positions=after_positions[i],\n",
    "                                                    before_ax=b_ax, before_value_positions=b_value_positions, additional_boxplot_properties=None,\n",
    "                                                    before_title='Original State', after_title=after_titles[i],\n",
    "                                                    major_fontdict=major_fontdict,\n",
    "                                                    minor_fontdict=minor_fontdict,\n",
    "                                                    hsv=(hue, hue, None), object_index=0, object_pixels_and_mask=None\n",
    "                                                    )\n",
    "        \n",
    "\n",
    "dashed_line_positions = np.arange(1, NUM_AFTER_STATES + 1) * NUM_COMPARISON_MODELS - 0.5\n",
    "values_ax.vlines(dashed_line_positions, *values_ax.get_ylim(), colors='gray', linestyles='dashed')\n",
    "        \n",
    "values_ax.set_xticks([])\n",
    "# values_ax.set_xticks(np.concatenate([before_positions] + after_positions))\n",
    "# values_ax.set_xticklabels(list(FINAL_NAMES_FOR_TICKS) * 4, fontsize=12, rotation=0)\n",
    "\n",
    "values_ax.tick_params(axis='both', which='major', labelsize=12)\n",
    "values_ax.set_ylabel('V(s)', **major_fontdict)\n",
    "\n",
    "values_ax.set_xlabel('Condition', **major_fontdict)\n",
    "\n",
    "legend_handles = []\n",
    "for color, name in zip(DEFAULT_COLORS, FINAL_NAMES):\n",
    "    legend_handles.append(patches.Patch(color=color, label=name))\n",
    "    \n",
    "plt.legend(handles=legend_handles, loc='best', **minor_fontdict)\n",
    "\n",
    "# TODO add legend\n",
    "\n",
    "# save('fish_panel.pdf')\n",
    "\n",
    "plt.show()"
   ]
  },
  {
   "cell_type": "code",
   "execution_count": 81,
   "metadata": {},
   "outputs": [
    {
     "name": "stderr",
     "output_type": "stream",
     "text": [
      "Clipping input data to the valid range for imshow with RGB data ([0..1] for floats or [0..255] for integers).\n"
     ]
    },
    {
     "name": "stdout",
     "output_type": "stream",
     "text": [
      "tensor(0.4654, device='cuda:0')\n",
      "tensor(0.5491, device='cuda:0')\n"
     ]
    },
    {
     "data": {
      "image/png": "[encoded data removed]",
      "text/plain": [
       "<Figure size 576x288 with 2 Axes>"
      ]
     },
     "metadata": {
      "needs_background": "light"
     },
     "output_type": "display_data"
    }
   ],
   "source": [
    "alien_pixels_tensor = torch.tensor([[  0,   0,  52, 243,  52,   0,   0],\n",
    "       [  0,   0, 243, 243, 243,   0,   0],\n",
    "       [ 52, 243, 202, 243, 202, 243,  52],\n",
    "       [243, 243, 148, 243, 148, 243, 243],\n",
    "       [ 52, 243,  93, 243,  93, 243,  52],\n",
    "       [243,   0,   0,   0,   0,   0, 243],\n",
    "       [  0, 243,   0,   0,   0, 243,   0]], dtype=torch.float32, device=baseline_env.device) / 255\n",
    "\n",
    "print(alien_pixels_tensor.mean())\n",
    "# print(bad_animal_pixels_tensor.mean(), fish_pixels_tensor.mean(), igloo_pixels_tensor.mean(), player_pixels_tensor.mean())\n",
    "\n",
    "alien_mask_tensor = change_intensity(alien_pixels_tensor, multiplicative=2)\n",
    "print(alien_mask_tensor.mean())\n",
    "# print(bad_animal_mask_tensor.mean(), fish_mask_tensor.mean(), igloo_mask_tensor.mean(), player_mask_tensor.mean())\n",
    "\n",
    "\n",
    "alien_pixels_tensor_color = alien_pixels_tensor.repeat(3, 1, 1).permute(1, 2, 0)\n",
    "\n",
    "water_color = torch.tensor([  0.,  28., 136.], device='cuda:0') / 255\n",
    "\n",
    "black_indices = torch.all(alien_pixels_tensor_color == alien_pixels_tensor_color[0, 0], axis=2)\n",
    "gray_indices = torch.all(alien_pixels_tensor_color == alien_pixels_tensor_color[0, 2], axis=2)\n",
    "\n",
    "alien_pixels_tensor_color[black_indices + gray_indices] = water_color\n",
    "\n",
    "alien_pixels_and_mask = (alien_pixels_tensor_color * 255, alien_mask_tensor)\n",
    "plot_tensors(*alien_pixels_and_mask, norm=True)\n"
   ]
  },
  {
   "cell_type": "code",
   "execution_count": 82,
   "metadata": {},
   "outputs": [
    {
     "name": "stderr",
     "output_type": "stream",
     "text": [
      "/misc/vlgscratch4/LakeGroup/guy/anaconda3/envs/rainbow/lib/python3.7/site-packages/torch/nn/functional.py:2494: UserWarning: Default upsampling behavior when mode=bilinear is changed to align_corners=False since 0.4.0. Please specify align_corners=True if the old behavior is desired. See the documentation of nn.Upsample for details.\n",
      "  \"See the documentation of nn.Upsample for details.\".format(mode))\n"
     ]
    },
    {
     "name": "stdout",
     "output_type": "stream",
     "text": [
      "For model Pixels | Before mean = 5.919, median = 6.670 | After mean = 3.435, median = 3.465 \n",
      "For model Pixels+Objects | Before mean = 6.169, median = 6.392 | After mean = 8.011, median = 8.353 \n",
      "For model Objects | Before mean = 6.175, median = 6.040 | After mean = 7.886, median = 8.167 \n",
      "For model Grouped Objects | Before mean = 6.460, median = 6.308 | After mean = 5.558, median = 5.938 \n"
     ]
    },
    {
     "name": "stderr",
     "output_type": "stream",
     "text": [
      "/misc/vlgscratch4/LakeGroup/guy/anaconda3/envs/rainbow/lib/python3.7/site-packages/torch/nn/functional.py:2494: UserWarning: Default upsampling behavior when mode=bilinear is changed to align_corners=False since 0.4.0. Please specify align_corners=True if the old behavior is desired. See the documentation of nn.Upsample for details.\n",
      "  \"See the documentation of nn.Upsample for details.\".format(mode))\n"
     ]
    },
    {
     "name": "stdout",
     "output_type": "stream",
     "text": [
      "For model Pixels | Before mean = 5.919, median = 6.670 | After mean = 3.948, median = 4.228 \n",
      "For model Pixels+Objects | Before mean = 6.169, median = 6.392 | After mean = 3.881, median = 4.279 \n",
      "For model Objects | Before mean = 6.175, median = 6.040 | After mean = 2.496, median = 2.115 \n",
      "For model Grouped Objects | Before mean = 6.460, median = 6.308 | After mean = 5.010, median = 4.646 \n"
     ]
    },
    {
     "name": "stderr",
     "output_type": "stream",
     "text": [
      "/misc/vlgscratch4/LakeGroup/guy/anaconda3/envs/rainbow/lib/python3.7/site-packages/torch/nn/functional.py:2494: UserWarning: Default upsampling behavior when mode=bilinear is changed to align_corners=False since 0.4.0. Please specify align_corners=True if the old behavior is desired. See the documentation of nn.Upsample for details.\n",
      "  \"See the documentation of nn.Upsample for details.\".format(mode))\n"
     ]
    },
    {
     "name": "stdout",
     "output_type": "stream",
     "text": [
      "For model Pixels | Before mean = 5.919, median = 6.670 | After mean = 3.256, median = 3.074 \n",
      "For model Pixels+Objects | Before mean = 6.169, median = 6.392 | After mean = 8.411, median = 8.302 \n",
      "For model Objects | Before mean = 6.175, median = 6.040 | After mean = 8.379, median = 8.639 \n",
      "For model Grouped Objects | Before mean = 6.460, median = 6.308 | After mean = 5.704, median = 5.707 \n"
     ]
    },
    {
     "name": "stderr",
     "output_type": "stream",
     "text": [
      "/misc/vlgscratch4/LakeGroup/guy/anaconda3/envs/rainbow/lib/python3.7/site-packages/torch/nn/functional.py:2494: UserWarning: Default upsampling behavior when mode=bilinear is changed to align_corners=False since 0.4.0. Please specify align_corners=True if the old behavior is desired. See the documentation of nn.Upsample for details.\n",
      "  \"See the documentation of nn.Upsample for details.\".format(mode))\n"
     ]
    },
    {
     "name": "stdout",
     "output_type": "stream",
     "text": [
      "For model Pixels | Before mean = 5.919, median = 6.670 | After mean = 3.256, median = 3.074 \n",
      "For model Pixels+Objects | Before mean = 6.169, median = 6.392 | After mean = 4.168, median = 4.866 \n",
      "For model Objects | Before mean = 6.175, median = 6.040 | After mean = 2.558, median = 2.480 \n",
      "For model Grouped Objects | Before mean = 6.460, median = 6.308 | After mean = 5.704, median = 5.707 \n"
     ]
    },
    {
     "data": {
      "image/png": "[encoded data removed]",
      "text/plain": [
       "<Figure size 720x432 with 6 Axes>"
      ]
     },
     "metadata": {
      "needs_background": "light"
     },
     "output_type": "display_data"
    }
   ],
   "source": [
    "SRC_OBS_INDEX = 310\n",
    "DST_OBS_INDEX = 875\n",
    "FISH_CHANNEL_INDEX = 6\n",
    "\n",
    "LOCATION_COLLECTIONS = (\n",
    "    [(80, 12 + 12 * i) for i in range(12)],\n",
    "    [(107, 12 + 12 * i) for i in range(6)],\n",
    "    [(107, 6 + 12 * i) for i in range(8, 12)],\n",
    "    [(135, 12 + 12 * i) for i in range(12)],\n",
    "    [(160, 12 + 12 * i) for i in range(12)],\n",
    "#     [(85, 12 + 12 * i) for i in range(12)],\n",
    ")\n",
    "\n",
    "NEW_LOCATIONS = []\n",
    "for loc in LOCATION_COLLECTIONS:\n",
    "    NEW_LOCATIONS.extend(loc)\n",
    "\n",
    "NUM_AFTER_STATES = 4\n",
    "    \n",
    "fig = plt.figure(constrained_layout=True, figsize=(10, 6))\n",
    "gs = fig.add_gridspec(2, 1 + NUM_AFTER_STATES)\n",
    "before_ax = fig.add_subplot(gs[0, 0])\n",
    "after_axes = [fig.add_subplot(gs[0, i]) for i in range(1, 1 + NUM_AFTER_STATES)]\n",
    "    \n",
    "values_ax = fig.add_subplot(gs[1, :])\n",
    "before_positions = np.arange(NUM_COMPARISON_MODELS)\n",
    "after_positions = [np.arange(NUM_COMPARISON_MODELS) + (NUM_COMPARISON_MODELS * i) for i in range(1, 1 + NUM_AFTER_STATES)]\n",
    "\n",
    "after_titles = ['Fish', 'Crabs', 'Fish Aliens', 'Crab Aliens']\n",
    "\n",
    "major_fontdict = dict(fontsize=16)\n",
    "minor_fontdict = dict(fontsize=12)\n",
    "\n",
    "# FISH\n",
    "IDX = 0\n",
    "        \n",
    "do_multiple_augmentation_comparison_single_plot(SRC_OBS_INDEX, DST_OBS_INDEX, FISH_CHANNEL_INDEX, NEW_LOCATIONS, \n",
    "                                            after_ax=after_axes[IDX], values_ax=values_ax, after_value_positions=after_positions[IDX],\n",
    "                                            before_ax=before_ax, before_value_positions=before_positions, additional_boxplot_properties=None,\n",
    "                                            before_title='Original', after_title=after_titles[IDX],\n",
    "                                            major_fontdict=major_fontdict,\n",
    "                                            minor_fontdict=minor_fontdict,\n",
    "                                            object_index=0, object_pixels_and_mask=None\n",
    "                                            )\n",
    "\n",
    "\n",
    "# CRABS\n",
    "IDX = 1\n",
    "CRABS_SRC_OBS_INDEX = 1270\n",
    "CRABS_CHANNEL_INDEX = 1\n",
    "\n",
    "do_multiple_augmentation_comparison_single_plot(CRABS_SRC_OBS_INDEX, DST_OBS_INDEX, CRABS_CHANNEL_INDEX, NEW_LOCATIONS, \n",
    "                                            after_ax=after_axes[IDX], values_ax=values_ax, after_value_positions=after_positions[IDX],\n",
    "                                            before_ax=None, before_value_positions=None, additional_boxplot_properties=None,\n",
    "                                            before_title='Original State', after_title=after_titles[IDX],\n",
    "                                            major_fontdict=major_fontdict,\n",
    "                                            minor_fontdict=minor_fontdict,\n",
    "                                            object_index=0, object_pixels_and_mask=None\n",
    "                                            )\n",
    "\n",
    "\n",
    "# Aliens as fish\n",
    "IDX = 2\n",
    "do_multiple_augmentation_comparison_single_plot(SRC_OBS_INDEX, DST_OBS_INDEX, FISH_CHANNEL_INDEX, NEW_LOCATIONS, \n",
    "                                            after_ax=after_axes[IDX], values_ax=values_ax, after_value_positions=after_positions[IDX],\n",
    "                                            before_ax=before_ax, before_value_positions=before_positions, additional_boxplot_properties=None,\n",
    "                                            before_title='Original', after_title=after_titles[IDX],\n",
    "                                            major_fontdict=major_fontdict,\n",
    "                                            minor_fontdict=minor_fontdict,\n",
    "                                            object_index=0, object_pixels_and_mask=alien_pixels_and_mask\n",
    "                                            )\n",
    "\n",
    "# Aliens as crabs\n",
    "IDX = 3\n",
    "do_multiple_augmentation_comparison_single_plot(CRABS_SRC_OBS_INDEX, DST_OBS_INDEX, CRABS_CHANNEL_INDEX, NEW_LOCATIONS, \n",
    "                                            after_ax=after_axes[IDX], values_ax=values_ax, after_value_positions=after_positions[IDX],\n",
    "                                            before_ax=before_ax, before_value_positions=before_positions, additional_boxplot_properties=None,\n",
    "                                            before_title='Original', after_title=after_titles[IDX],\n",
    "                                            major_fontdict=major_fontdict,\n",
    "                                            minor_fontdict=minor_fontdict,\n",
    "                                            object_index=0, object_pixels_and_mask=alien_pixels_and_mask\n",
    "                                            )\n",
    "\n",
    "        \n",
    "\n",
    "dashed_line_positions = np.arange(1, NUM_AFTER_STATES + 1) * NUM_COMPARISON_MODELS - 0.5\n",
    "values_ax.vlines(dashed_line_positions, *values_ax.get_ylim(), colors='gray', linestyles='dashed')\n",
    "        \n",
    "values_ax.set_xticks([])\n",
    "# values_ax.set_xticks(np.concatenate([before_positions] + after_positions))\n",
    "# values_ax.set_xticklabels(list(FINAL_NAMES_FOR_TICKS) * 4, fontsize=12, rotation=0)\n",
    "\n",
    "values_ax.tick_params(axis='both', which='major', labelsize=12)\n",
    "values_ax.set_ylabel('V(s)', **major_fontdict)\n",
    "\n",
    "values_ax.set_xlabel('Condition', **major_fontdict)\n",
    "\n",
    "legend_handles = []\n",
    "for color, name in zip(DEFAULT_COLORS, FINAL_NAMES):\n",
    "    legend_handles.append(patches.Patch(color=color, label=name))\n",
    "    \n",
    "plt.legend(handles=legend_handles, loc='lower left', **minor_fontdict)\n",
    "\n",
    "# save('alien_panel_smaller_fonts.pdf')\n",
    "\n",
    "plt.show()"
   ]
  },
  {
   "cell_type": "markdown",
   "metadata": {},
   "source": [
    "## Trying to create a new stranded agent state\n",
    "* Both with and without a full igloo?"
   ]
  },
  {
   "cell_type": "code",
   "execution_count": 83,
   "metadata": {},
   "outputs": [],
   "source": [
    "BASE_STATE_INDEX = 50\n",
    "OCEAN_ROW_RANGE = slice(77, 186)\n",
    "OCEAN_COL_RANGE = slice(7, None)\n",
    "PLAYER_AND_FLOE_ROW_RANGE = slice(129, 156)\n",
    "PLAYER_AND_FLOE_COL_RANGE = slice(54, 78)\n",
    "\n",
    "player_sprite = sample_full_color_observations[BASE_STATE_INDEX, PLAYER_AND_FLOE_ROW_RANGE, PLAYER_AND_FLOE_COL_RANGE]\n",
    "base_state = np.copy(sample_full_color_observations[BASE_STATE_INDEX])\n",
    "base_state[OCEAN_ROW_RANGE, OCEAN_COL_RANGE] = base_state[111, -1]\n",
    "base_state[PLAYER_AND_FLOE_ROW_RANGE, PLAYER_AND_FLOE_COL_RANGE] = player_sprite\n",
    "\n",
    "base_state_observations = np.tile(base_state, (10, 1, 1, 1))\n",
    "\n",
    "# plt.imshow(base_state)"
   ]
  },
  {
   "cell_type": "code",
   "execution_count": 84,
   "metadata": {},
   "outputs": [
    {
     "name": "stderr",
     "output_type": "stream",
     "text": [
      "/misc/vlgscratch4/LakeGroup/guy/anaconda3/envs/rainbow/lib/python3.7/site-packages/torch/nn/functional.py:2494: UserWarning: Default upsampling behavior when mode=bilinear is changed to align_corners=False since 0.4.0. Please specify align_corners=True if the old behavior is desired. See the documentation of nn.Upsample for details.\n",
      "  \"See the documentation of nn.Upsample for details.\".format(mode))\n"
     ]
    },
    {
     "name": "stdout",
     "output_type": "stream",
     "text": [
      "For model Pixels | Before mean = 5.706, median = 6.421 | After mean = 4.290, median = 3.159 \n",
      "For model Pixels+Objects | Before mean = 6.959, median = 6.832 | After mean = 6.521, median = 6.213 \n",
      "For model Objects | Before mean = 4.500, median = 4.390 | After mean = 5.389, median = 5.404 \n",
      "For model Grouped Objects | Before mean = 6.425, median = 6.601 | After mean = 4.453, median = 4.571 \n"
     ]
    },
    {
     "name": "stderr",
     "output_type": "stream",
     "text": [
      "/misc/vlgscratch4/LakeGroup/guy/anaconda3/envs/rainbow/lib/python3.7/site-packages/torch/nn/functional.py:2494: UserWarning: Default upsampling behavior when mode=bilinear is changed to align_corners=False since 0.4.0. Please specify align_corners=True if the old behavior is desired. See the documentation of nn.Upsample for details.\n",
      "  \"See the documentation of nn.Upsample for details.\".format(mode))\n"
     ]
    },
    {
     "name": "stdout",
     "output_type": "stream",
     "text": [
      "For model Pixels | Before mean = 5.706, median = 6.421 | After mean = 4.357, median = 4.281 \n",
      "For model Pixels+Objects | Before mean = 6.959, median = 6.832 | After mean = 6.433, median = 6.265 \n",
      "For model Objects | Before mean = 4.500, median = 4.390 | After mean = 4.463, median = 4.213 \n",
      "For model Grouped Objects | Before mean = 6.425, median = 6.601 | After mean = 5.708, median = 6.544 \n"
     ]
    },
    {
     "name": "stderr",
     "output_type": "stream",
     "text": [
      "/misc/vlgscratch4/LakeGroup/guy/anaconda3/envs/rainbow/lib/python3.7/site-packages/torch/nn/functional.py:2494: UserWarning: Default upsampling behavior when mode=bilinear is changed to align_corners=False since 0.4.0. Please specify align_corners=True if the old behavior is desired. See the documentation of nn.Upsample for details.\n",
      "  \"See the documentation of nn.Upsample for details.\".format(mode))\n"
     ]
    },
    {
     "name": "stdout",
     "output_type": "stream",
     "text": [
      "For model Pixels | Before mean = 5.706, median = 6.421 | After mean = 4.010, median = 2.873 \n",
      "For model Pixels+Objects | Before mean = 6.959, median = 6.832 | After mean = 6.760, median = 6.624 \n",
      "For model Objects | Before mean = 4.500, median = 4.390 | After mean = 5.378, median = 5.615 \n",
      "For model Grouped Objects | Before mean = 6.425, median = 6.601 | After mean = 4.794, median = 5.274 \n"
     ]
    },
    {
     "data": {
      "image/png": "[encoded data removed]",
      "text/plain": [
       "<Figure size 720x432 with 5 Axes>"
      ]
     },
     "metadata": {
      "needs_background": "light"
     },
     "output_type": "display_data"
    }
   ],
   "source": [
    "SRC_OBS_INDEX = 5\n",
    "DST_OBS_INDEX = 5\n",
    "UNVISITED_FLOE_CHANNEL_INDEX = 4\n",
    "\n",
    "LOCATIONS = (\n",
    "    (120, 63),\n",
    "    (95, 70),\n",
    ")\n",
    "\n",
    "\n",
    "NUM_AFTER_STATES = 3\n",
    "    \n",
    "fig = plt.figure(constrained_layout=True, figsize=(10, 6))\n",
    "gs = fig.add_gridspec(2, 1 + NUM_AFTER_STATES)\n",
    "before_ax = fig.add_subplot(gs[0, 0])\n",
    "after_axes = [fig.add_subplot(gs[0, i]) for i in range(1, 1 + NUM_AFTER_STATES)]\n",
    "    \n",
    "values_ax = fig.add_subplot(gs[1, :])\n",
    "before_positions = np.arange(NUM_COMPARISON_MODELS)\n",
    "after_positions = [np.arange(NUM_COMPARISON_MODELS) + (NUM_COMPARISON_MODELS * i) for i in range(1, 1 + NUM_AFTER_STATES)]\n",
    "\n",
    "after_titles = ['Near', 'Far', 'Both']\n",
    "\n",
    "major_fontdict = dict(fontsize=16)\n",
    "minor_fontdict = dict(fontsize=12)\n",
    "\n",
    "# Near only\n",
    "IDX = 0\n",
    "        \n",
    "do_multiple_augmentation_comparison_single_plot(SRC_OBS_INDEX, DST_OBS_INDEX, UNVISITED_FLOE_CHANNEL_INDEX, LOCATIONS[0:1], \n",
    "                                            after_ax=after_axes[IDX], values_ax=values_ax, after_value_positions=after_positions[IDX],\n",
    "                                            before_ax=before_ax, before_value_positions=before_positions, additional_boxplot_properties=None,\n",
    "                                            before_title='Original', after_title=after_titles[IDX],\n",
    "                                            major_fontdict=major_fontdict,\n",
    "                                            minor_fontdict=minor_fontdict,\n",
    "                                            object_index=0, object_pixels_and_mask=None,\n",
    "                                            src_observations=sample_full_color_observations, dst_observations=base_state_observations,\n",
    "                                            augment_all_frames=True)\n",
    "\n",
    "# Far only\n",
    "IDX = 1\n",
    "\n",
    "do_multiple_augmentation_comparison_single_plot(SRC_OBS_INDEX, DST_OBS_INDEX, UNVISITED_FLOE_CHANNEL_INDEX, LOCATIONS[1:2], \n",
    "                                            after_ax=after_axes[IDX], values_ax=values_ax, after_value_positions=after_positions[IDX],\n",
    "                                            before_ax=before_ax, before_value_positions=before_positions, additional_boxplot_properties=None,\n",
    "                                            before_title='Original', after_title=after_titles[IDX],\n",
    "                                            major_fontdict=major_fontdict,\n",
    "                                            minor_fontdict=minor_fontdict,\n",
    "                                            object_index=0, object_pixels_and_mask=None,\n",
    "                                            src_observations=sample_full_color_observations, dst_observations=base_state_observations,\n",
    "                                            augment_all_frames=True)\n",
    "\n",
    "\n",
    "# Both\n",
    "IDX = 2\n",
    "do_multiple_augmentation_comparison_single_plot(SRC_OBS_INDEX, DST_OBS_INDEX, UNVISITED_FLOE_CHANNEL_INDEX, LOCATIONS, \n",
    "                                            after_ax=after_axes[IDX], values_ax=values_ax, after_value_positions=after_positions[IDX],\n",
    "                                            before_ax=before_ax, before_value_positions=before_positions, additional_boxplot_properties=None,\n",
    "                                            before_title='Original', after_title=after_titles[IDX],\n",
    "                                            major_fontdict=major_fontdict,\n",
    "                                            minor_fontdict=minor_fontdict,\n",
    "                                            object_index=0, object_pixels_and_mask=None,\n",
    "                                            src_observations=sample_full_color_observations, dst_observations=base_state_observations,\n",
    "                                            augment_all_frames=True)\n",
    "        \n",
    "\n",
    "dashed_line_positions = np.arange(1, NUM_AFTER_STATES + 1) * NUM_COMPARISON_MODELS - 0.5\n",
    "values_ax.vlines(dashed_line_positions, *values_ax.get_ylim(), colors='gray', linestyles='dashed')\n",
    "        \n",
    "values_ax.set_xticks([])\n",
    "# values_ax.set_xticks(np.concatenate([before_positions] + after_positions))\n",
    "# values_ax.set_xticklabels(list(FINAL_NAMES_FOR_TICKS) * 4, fontsize=12, rotation=0)\n",
    "\n",
    "values_ax.tick_params(axis='both', which='major', labelsize=12)\n",
    "values_ax.set_ylabel('V(s)', **major_fontdict)\n",
    "\n",
    "values_ax.set_xlabel('Condition', **major_fontdict)\n",
    "\n",
    "legend_handles = []\n",
    "for color, name in zip(DEFAULT_COLORS, FINAL_NAMES):\n",
    "    legend_handles.append(patches.Patch(color=color, label=name))\n",
    "    \n",
    "plt.legend(handles=legend_handles, loc='lower left', **minor_fontdict)\n",
    "\n",
    "# save('alien_panel_smaller_fonts.pdf')\n",
    "\n",
    "plt.show()"
   ]
  },
  {
   "cell_type": "markdown",
   "metadata": {},
   "source": [
    "## Trying again with an igloo"
   ]
  },
  {
   "cell_type": "code",
   "execution_count": 85,
   "metadata": {},
   "outputs": [
    {
     "data": {
      "text/plain": [
       "<matplotlib.image.AxesImage at 0x7f35d05045d0>"
      ]
     },
     "execution_count": 85,
     "metadata": {},
     "output_type": "execute_result"
    },
    {
     "data": {
      "image/png": "[encoded data removed]",
      "text/plain": [
       "<Figure size 432x288 with 1 Axes>"
      ]
     },
     "metadata": {
      "needs_background": "light"
     },
     "output_type": "display_data"
    }
   ],
   "source": [
    "SECOND_BASE_STATE_INDEX = 872\n",
    "OCEAN_ROW_RANGE = slice(77, 186)\n",
    "OCEAN_COL_RANGE = slice(7, None)\n",
    "SECOND_PLAYER_AND_FLOE_ROW_RANGE = slice(132, 155)\n",
    "SECOND_PLAYER_AND_FLOE_COL_RANGE = slice(76, 101)\n",
    "\n",
    "second_player_sprite = sample_full_color_observations[SECOND_BASE_STATE_INDEX, \n",
    "                                               SECOND_PLAYER_AND_FLOE_ROW_RANGE, \n",
    "                                               SECOND_PLAYER_AND_FLOE_COL_RANGE]\n",
    "second_base_state = np.copy(sample_full_color_observations[SECOND_BASE_STATE_INDEX])\n",
    "second_base_state[OCEAN_ROW_RANGE, OCEAN_COL_RANGE] = second_base_state[111, -1]\n",
    "second_base_state[SECOND_PLAYER_AND_FLOE_ROW_RANGE, SECOND_PLAYER_AND_FLOE_COL_RANGE] = second_player_sprite\n",
    "\n",
    "second_base_state_observations = np.tile(second_base_state, (10, 1, 1, 1))\n",
    "\n",
    "plt.imshow(second_base_state_observations[0])"
   ]
  },
  {
   "cell_type": "code",
   "execution_count": 86,
   "metadata": {},
   "outputs": [
    {
     "name": "stderr",
     "output_type": "stream",
     "text": [
      "/misc/vlgscratch4/LakeGroup/guy/anaconda3/envs/rainbow/lib/python3.7/site-packages/torch/nn/functional.py:2494: UserWarning: Default upsampling behavior when mode=bilinear is changed to align_corners=False since 0.4.0. Please specify align_corners=True if the old behavior is desired. See the documentation of nn.Upsample for details.\n",
      "  \"See the documentation of nn.Upsample for details.\".format(mode))\n"
     ]
    },
    {
     "name": "stdout",
     "output_type": "stream",
     "text": [
      "For model Pixels | Before mean = 3.106, median = 3.830 | After mean = 2.949, median = 3.025 \n",
      "For model Pixels+Objects | Before mean = 4.652, median = 4.902 | After mean = 4.813, median = 5.263 \n",
      "For model Objects | Before mean = 3.202, median = 2.944 | After mean = 3.115, median = 3.259 \n",
      "For model Grouped Objects | Before mean = 3.352, median = 3.711 | After mean = 3.383, median = 3.309 \n"
     ]
    },
    {
     "name": "stderr",
     "output_type": "stream",
     "text": [
      "/misc/vlgscratch4/LakeGroup/guy/anaconda3/envs/rainbow/lib/python3.7/site-packages/torch/nn/functional.py:2494: UserWarning: Default upsampling behavior when mode=bilinear is changed to align_corners=False since 0.4.0. Please specify align_corners=True if the old behavior is desired. See the documentation of nn.Upsample for details.\n",
      "  \"See the documentation of nn.Upsample for details.\".format(mode))\n"
     ]
    },
    {
     "name": "stdout",
     "output_type": "stream",
     "text": [
      "For model Pixels | Before mean = 3.106, median = 3.830 | After mean = 3.538, median = 4.288 \n",
      "For model Pixels+Objects | Before mean = 4.652, median = 4.902 | After mean = 4.912, median = 5.354 \n",
      "For model Objects | Before mean = 3.202, median = 2.944 | After mean = 3.664, median = 3.096 \n",
      "For model Grouped Objects | Before mean = 3.352, median = 3.711 | After mean = 3.843, median = 3.939 \n"
     ]
    },
    {
     "name": "stderr",
     "output_type": "stream",
     "text": [
      "/misc/vlgscratch4/LakeGroup/guy/anaconda3/envs/rainbow/lib/python3.7/site-packages/torch/nn/functional.py:2494: UserWarning: Default upsampling behavior when mode=bilinear is changed to align_corners=False since 0.4.0. Please specify align_corners=True if the old behavior is desired. See the documentation of nn.Upsample for details.\n",
      "  \"See the documentation of nn.Upsample for details.\".format(mode))\n"
     ]
    },
    {
     "name": "stdout",
     "output_type": "stream",
     "text": [
      "For model Pixels | Before mean = 3.106, median = 3.830 | After mean = 3.734, median = 4.349 \n",
      "For model Pixels+Objects | Before mean = 4.652, median = 4.902 | After mean = 5.112, median = 6.146 \n",
      "For model Objects | Before mean = 3.202, median = 2.944 | After mean = 3.568, median = 3.432 \n",
      "For model Grouped Objects | Before mean = 3.352, median = 3.711 | After mean = 3.837, median = 4.543 \n"
     ]
    },
    {
     "data": {
      "image/png": "[encoded data removed]",
      "text/plain": [
       "<Figure size 720x432 with 5 Axes>"
      ]
     },
     "metadata": {
      "needs_background": "light"
     },
     "output_type": "display_data"
    }
   ],
   "source": [
    "SRC_OBS_INDEX = SECOND_BASE_STATE_INDEX\n",
    "DST_OBS_INDEX = 5\n",
    "VISITED_FLOE_CHANNEL_INDEX = 5\n",
    "\n",
    "LOCATIONS = (\n",
    "    (120, 83),\n",
    "    (95, 90),\n",
    ")\n",
    "\n",
    "\n",
    "NUM_AFTER_STATES = 3\n",
    "    \n",
    "fig = plt.figure(constrained_layout=True, figsize=(10, 6))\n",
    "gs = fig.add_gridspec(2, 1 + NUM_AFTER_STATES)\n",
    "before_ax = fig.add_subplot(gs[0, 0])\n",
    "after_axes = [fig.add_subplot(gs[0, i]) for i in range(1, 1 + NUM_AFTER_STATES)]\n",
    "    \n",
    "values_ax = fig.add_subplot(gs[1, :])\n",
    "before_positions = np.arange(NUM_COMPARISON_MODELS)\n",
    "after_positions = [np.arange(NUM_COMPARISON_MODELS) + (NUM_COMPARISON_MODELS * i) for i in range(1, 1 + NUM_AFTER_STATES)]\n",
    "\n",
    "after_titles = ['Near', 'Far', 'Both']\n",
    "\n",
    "major_fontdict = dict(fontsize=16)\n",
    "minor_fontdict = dict(fontsize=12)\n",
    "\n",
    "# Near only\n",
    "IDX = 0\n",
    "        \n",
    "do_multiple_augmentation_comparison_single_plot(SRC_OBS_INDEX, DST_OBS_INDEX, VISITED_FLOE_CHANNEL_INDEX, LOCATIONS[0:1], \n",
    "                                            after_ax=after_axes[IDX], values_ax=values_ax, after_value_positions=after_positions[IDX],\n",
    "                                            before_ax=before_ax, before_value_positions=before_positions, additional_boxplot_properties=None,\n",
    "                                            before_title='Original', after_title=after_titles[IDX],\n",
    "                                            major_fontdict=major_fontdict,\n",
    "                                            minor_fontdict=minor_fontdict,\n",
    "                                            object_index=0, object_pixels_and_mask=None,\n",
    "                                            src_observations=sample_full_color_observations, dst_observations=second_base_state_observations,\n",
    "                                            augment_all_frames=True)\n",
    "\n",
    "# Far only\n",
    "IDX = 1\n",
    "\n",
    "do_multiple_augmentation_comparison_single_plot(SRC_OBS_INDEX, DST_OBS_INDEX, VISITED_FLOE_CHANNEL_INDEX, LOCATIONS[1:2], \n",
    "                                            after_ax=after_axes[IDX], values_ax=values_ax, after_value_positions=after_positions[IDX],\n",
    "                                            before_ax=before_ax, before_value_positions=before_positions, additional_boxplot_properties=None,\n",
    "                                            before_title='Original', after_title=after_titles[IDX],\n",
    "                                            major_fontdict=major_fontdict,\n",
    "                                            minor_fontdict=minor_fontdict,\n",
    "                                            object_index=0, object_pixels_and_mask=None,\n",
    "                                            src_observations=sample_full_color_observations, dst_observations=second_base_state_observations,\n",
    "                                            augment_all_frames=True)\n",
    "\n",
    "\n",
    "# Both\n",
    "IDX = 2\n",
    "do_multiple_augmentation_comparison_single_plot(SRC_OBS_INDEX, DST_OBS_INDEX, VISITED_FLOE_CHANNEL_INDEX, LOCATIONS, \n",
    "                                            after_ax=after_axes[IDX], values_ax=values_ax, after_value_positions=after_positions[IDX],\n",
    "                                            before_ax=before_ax, before_value_positions=before_positions, additional_boxplot_properties=None,\n",
    "                                            before_title='Original', after_title=after_titles[IDX],\n",
    "                                            major_fontdict=major_fontdict,\n",
    "                                            minor_fontdict=minor_fontdict,\n",
    "                                            object_index=0, object_pixels_and_mask=None,\n",
    "                                            src_observations=sample_full_color_observations, dst_observations=second_base_state_observations,\n",
    "                                            augment_all_frames=True)\n",
    "        \n",
    "\n",
    "dashed_line_positions = np.arange(1, NUM_AFTER_STATES + 1) * NUM_COMPARISON_MODELS - 0.5\n",
    "values_ax.vlines(dashed_line_positions, *values_ax.get_ylim(), colors='gray', linestyles='dashed')\n",
    "        \n",
    "values_ax.set_xticks([])\n",
    "# values_ax.set_xticks(np.concatenate([before_positions] + after_positions))\n",
    "# values_ax.set_xticklabels(list(FINAL_NAMES_FOR_TICKS) * 4, fontsize=12, rotation=0)\n",
    "\n",
    "# print(values_ax.get_yticks())\n",
    "# ytl = values_ax.get_yticklabels()\n",
    "# print([l.get_text() for l in ytl])\n",
    "# t = values_ax.get_yticklabels()[0]\n",
    "# print([label.get_text() for label in values_ax.get_yticklabels()])\n",
    "# values_ax.set_yticklabels([label.get_text() for label in values_ax.get_yticklabels()], fontsize=12)\n",
    "values_ax.set_ylabel('V(s)', **major_fontdict)\n",
    "values_ax.tick_params(axis='both', which='major', labelsize=12)\n",
    "\n",
    "values_ax.set_xlabel('Condition', **major_fontdict)\n",
    "\n",
    "legend_handles = []\n",
    "for color, name in zip(DEFAULT_COLORS, FINAL_NAMES):\n",
    "    legend_handles.append(patches.Patch(color=color, label=name))\n",
    "    \n",
    "plt.legend(handles=legend_handles, loc='lower left', **minor_fontdict)\n",
    "\n",
    "# save('alien_panel_smaller_fonts.pdf')\n",
    "\n",
    "plt.show()"
   ]
  },
  {
   "cell_type": "markdown",
   "metadata": {},
   "source": [
    "## What if we move the igloo around, in a state where the agent is about to score?"
   ]
  },
  {
   "cell_type": "code",
   "execution_count": 87,
   "metadata": {},
   "outputs": [],
   "source": [
    "IGLOO_BASE_STATE_INDEX = 880\n",
    "IGLOO_ROW_RANGE = slice(35, 55)\n",
    "IGLOO_COL_RANGE = slice(112, 144)\n",
    "LAND_COL_RANGE = slice(7, None)\n",
    "\n",
    "igloo_sprite = sample_full_color_observations[IGLOO_BASE_STATE_INDEX, IGLOO_ROW_RANGE, IGLOO_COL_RANGE]\n",
    "igloo_base_state = np.copy(sample_full_color_observations[SECOND_BASE_STATE_INDEX])\n",
    "igloo_base_state[IGLOO_ROW_RANGE, IGLOO_COL_RANGE] = igloo_base_state[IGLOO_ROW_RANGE, 8:9, :]\n",
    "\n",
    "igloo_base_state_observations = np.tile(igloo_base_state, (10, 1, 1, 1))"
   ]
  },
  {
   "cell_type": "code",
   "execution_count": 88,
   "metadata": {},
   "outputs": [
    {
     "name": "stderr",
     "output_type": "stream",
     "text": [
      "/misc/vlgscratch4/LakeGroup/guy/anaconda3/envs/rainbow/lib/python3.7/site-packages/torch/nn/functional.py:2494: UserWarning: Default upsampling behavior when mode=bilinear is changed to align_corners=False since 0.4.0. Please specify align_corners=True if the old behavior is desired. See the documentation of nn.Upsample for details.\n",
      "  \"See the documentation of nn.Upsample for details.\".format(mode))\n"
     ]
    },
    {
     "name": "stdout",
     "output_type": "stream",
     "text": [
      "For model Pixels | Before mean = 8.977, median = 9.667 | After mean = 7.355, median = 8.148 \n",
      "For model Pixels+Objects | Before mean = 9.037, median = 9.468 | After mean = 8.124, median = 8.370 \n",
      "For model Objects | Before mean = 8.277, median = 8.300 | After mean = 7.622, median = 7.647 \n",
      "For model Grouped Objects | Before mean = 8.538, median = 8.707 | After mean = 7.880, median = 7.440 \n"
     ]
    },
    {
     "name": "stderr",
     "output_type": "stream",
     "text": [
      "/misc/vlgscratch4/LakeGroup/guy/anaconda3/envs/rainbow/lib/python3.7/site-packages/torch/nn/functional.py:2494: UserWarning: Default upsampling behavior when mode=bilinear is changed to align_corners=False since 0.4.0. Please specify align_corners=True if the old behavior is desired. See the documentation of nn.Upsample for details.\n",
      "  \"See the documentation of nn.Upsample for details.\".format(mode))\n"
     ]
    },
    {
     "name": "stdout",
     "output_type": "stream",
     "text": [
      "For model Pixels | Before mean = 8.977, median = 9.667 | After mean = 8.402, median = 8.870 \n",
      "For model Pixels+Objects | Before mean = 9.037, median = 9.468 | After mean = 8.080, median = 8.413 \n",
      "For model Objects | Before mean = 8.277, median = 8.300 | After mean = 6.946, median = 6.939 \n",
      "For model Grouped Objects | Before mean = 8.538, median = 8.707 | After mean = 8.192, median = 8.309 \n"
     ]
    },
    {
     "name": "stderr",
     "output_type": "stream",
     "text": [
      "/misc/vlgscratch4/LakeGroup/guy/anaconda3/envs/rainbow/lib/python3.7/site-packages/torch/nn/functional.py:2494: UserWarning: Default upsampling behavior when mode=bilinear is changed to align_corners=False since 0.4.0. Please specify align_corners=True if the old behavior is desired. See the documentation of nn.Upsample for details.\n",
      "  \"See the documentation of nn.Upsample for details.\".format(mode))\n"
     ]
    },
    {
     "name": "stdout",
     "output_type": "stream",
     "text": [
      "For model Pixels | Before mean = 8.977, median = 9.667 | After mean = 6.257, median = 6.785 \n",
      "For model Pixels+Objects | Before mean = 9.037, median = 9.468 | After mean = 6.258, median = 6.077 \n",
      "For model Objects | Before mean = 8.277, median = 8.300 | After mean = 6.096, median = 5.998 \n",
      "For model Grouped Objects | Before mean = 8.538, median = 8.707 | After mean = 6.237, median = 5.845 \n"
     ]
    },
    {
     "name": "stderr",
     "output_type": "stream",
     "text": [
      "/misc/vlgscratch4/LakeGroup/guy/anaconda3/envs/rainbow/lib/python3.7/site-packages/torch/nn/functional.py:2494: UserWarning: Default upsampling behavior when mode=bilinear is changed to align_corners=False since 0.4.0. Please specify align_corners=True if the old behavior is desired. See the documentation of nn.Upsample for details.\n",
      "  \"See the documentation of nn.Upsample for details.\".format(mode))\n"
     ]
    },
    {
     "name": "stdout",
     "output_type": "stream",
     "text": [
      "For model Pixels | Before mean = 8.977, median = 9.667 | After mean = 5.111, median = 5.376 \n",
      "For model Pixels+Objects | Before mean = 9.037, median = 9.468 | After mean = 6.145, median = 6.148 \n",
      "For model Objects | Before mean = 8.277, median = 8.300 | After mean = 5.228, median = 5.205 \n",
      "For model Grouped Objects | Before mean = 8.538, median = 8.707 | After mean = 5.479, median = 5.339 \n"
     ]
    },
    {
     "data": {
      "image/png": "[encoded data removed]",
      "text/plain": [
       "<Figure size 720x432 with 6 Axes>"
      ]
     },
     "metadata": {
      "needs_background": "light"
     },
     "output_type": "display_data"
    }
   ],
   "source": [
    "SRC_OBS_INDEX = IGLOO_BASE_STATE_INDEX\n",
    "DST_OBS_INDEX = 5\n",
    "IGLOO_CHANNEL_INDEX = 7\n",
    "\n",
    "LOCATIONS = (\n",
    "    (35, 22),\n",
    "    (35, 52),\n",
    "    (35, 82),\n",
    "    (35, 112),\n",
    ")\n",
    "\n",
    "\n",
    "NUM_AFTER_STATES = 4\n",
    "    \n",
    "fig = plt.figure(constrained_layout=True, figsize=(10, 6))\n",
    "gs = fig.add_gridspec(2, 1 + NUM_AFTER_STATES)\n",
    "before_ax = fig.add_subplot(gs[0, 0])\n",
    "after_axes = [fig.add_subplot(gs[0, i]) for i in range(1, 1 + NUM_AFTER_STATES)]\n",
    "    \n",
    "values_ax = fig.add_subplot(gs[1, :])\n",
    "before_positions = np.arange(NUM_COMPARISON_MODELS)\n",
    "after_positions = [np.arange(NUM_COMPARISON_MODELS) + (NUM_COMPARISON_MODELS * i) for i in range(1, 1 + NUM_AFTER_STATES)]\n",
    "\n",
    "after_titles = ['Left', 'Mid-Left', 'Mid-Right', 'Right (Original)']\n",
    "\n",
    "major_fontdict = dict(fontsize=16)\n",
    "minor_fontdict = dict(fontsize=12)\n",
    "\n",
    "# left\n",
    "IDX = 0\n",
    "        \n",
    "do_multiple_augmentation_comparison_single_plot(SRC_OBS_INDEX, DST_OBS_INDEX, IGLOO_CHANNEL_INDEX, LOCATIONS[IDX:IDX + 1], \n",
    "                                            after_ax=after_axes[IDX], values_ax=values_ax, after_value_positions=after_positions[IDX],\n",
    "                                            before_ax=before_ax, before_value_positions=before_positions, additional_boxplot_properties=None,\n",
    "                                            before_title='No Igloo', after_title=after_titles[IDX],\n",
    "                                            major_fontdict=major_fontdict,\n",
    "                                            minor_fontdict=minor_fontdict,\n",
    "                                            object_index=0, object_pixels_and_mask=None,\n",
    "                                            src_observations=sample_full_color_observations, dst_observations=igloo_base_state_observations,\n",
    "                                            augment_all_frames=True)\n",
    "\n",
    "# Mid-left\n",
    "IDX = 1\n",
    "\n",
    "do_multiple_augmentation_comparison_single_plot(SRC_OBS_INDEX, DST_OBS_INDEX, IGLOO_CHANNEL_INDEX, LOCATIONS[IDX:IDX + 1], \n",
    "                                            after_ax=after_axes[IDX], values_ax=values_ax, after_value_positions=after_positions[IDX],\n",
    "                                            before_ax=before_ax, before_value_positions=before_positions, additional_boxplot_properties=None,\n",
    "                                            before_title='No Igloo', after_title=after_titles[IDX],\n",
    "                                            major_fontdict=major_fontdict,\n",
    "                                            minor_fontdict=minor_fontdict,\n",
    "                                            object_index=0, object_pixels_and_mask=None,\n",
    "                                            src_observations=sample_full_color_observations, dst_observations=igloo_base_state_observations,\n",
    "                                            augment_all_frames=True)\n",
    "\n",
    "\n",
    "# Mid-right\n",
    "IDX = 2\n",
    "do_multiple_augmentation_comparison_single_plot(SRC_OBS_INDEX, DST_OBS_INDEX, IGLOO_CHANNEL_INDEX, LOCATIONS[IDX:IDX + 1], \n",
    "                                            after_ax=after_axes[IDX], values_ax=values_ax, after_value_positions=after_positions[IDX],\n",
    "                                            before_ax=before_ax, before_value_positions=before_positions, additional_boxplot_properties=None,\n",
    "                                            before_title='No Igloo', after_title=after_titles[IDX],\n",
    "                                            major_fontdict=major_fontdict,\n",
    "                                            minor_fontdict=minor_fontdict,\n",
    "                                            object_index=0, object_pixels_and_mask=None,\n",
    "                                            src_observations=sample_full_color_observations, dst_observations=igloo_base_state_observations,\n",
    "                                            augment_all_frames=True)\n",
    "    \n",
    "# Original\n",
    "IDX = 3\n",
    "do_multiple_augmentation_comparison_single_plot(SRC_OBS_INDEX, DST_OBS_INDEX, IGLOO_CHANNEL_INDEX, LOCATIONS[IDX:IDX + 1], \n",
    "                                            after_ax=after_axes[IDX], values_ax=values_ax, after_value_positions=after_positions[IDX],\n",
    "                                            before_ax=before_ax, before_value_positions=before_positions, additional_boxplot_properties=None,\n",
    "                                            before_title='No Igloo', after_title=after_titles[IDX],\n",
    "                                            major_fontdict=major_fontdict,\n",
    "                                            minor_fontdict=minor_fontdict,\n",
    "                                            object_index=0, object_pixels_and_mask=None,\n",
    "                                            src_observations=sample_full_color_observations, dst_observations=igloo_base_state_observations,\n",
    "                                            augment_all_frames=True)\n",
    "        \n",
    "\n",
    "dashed_line_positions = np.arange(1, NUM_AFTER_STATES + 1) * NUM_COMPARISON_MODELS - 0.5\n",
    "values_ax.vlines(dashed_line_positions, *values_ax.get_ylim(), colors='gray', linestyles='dashed')\n",
    "        \n",
    "values_ax.set_xticks([])\n",
    "# values_ax.set_xticks(np.concatenate([before_positions] + after_positions))\n",
    "# values_ax.set_xticklabels(list(FINAL_NAMES_FOR_TICKS) * 4, fontsize=12, rotation=0)\n",
    "\n",
    "values_ax.set_yticklabels(values_ax.get_yticks(), fontsize=12)\n",
    "values_ax.set_ylabel('V(s)', **major_fontdict)\n",
    "\n",
    "values_ax.set_xlabel('Condition', **major_fontdict)\n",
    "\n",
    "legend_handles = []\n",
    "for color, name in zip(DEFAULT_COLORS, FINAL_NAMES):\n",
    "    legend_handles.append(patches.Patch(color=color, label=name))\n",
    "    \n",
    "plt.legend(handles=legend_handles, loc='lower left', **minor_fontdict)\n",
    "\n",
    "# save('alien_panel_smaller_fonts.pdf')\n",
    "\n",
    "plt.show()"
   ]
  },
  {
   "cell_type": "markdown",
   "metadata": {},
   "source": [
    "# One more attempt, from a dire situation, moving the next set of floes around"
   ]
  },
  {
   "cell_type": "code",
   "execution_count": 213,
   "metadata": {},
   "outputs": [
    {
     "data": {
      "text/plain": [
       "<matplotlib.image.AxesImage at 0x7f340d2d1a10>"
      ]
     },
     "execution_count": 213,
     "metadata": {},
     "output_type": "execute_result"
    },
    {
     "data": {
      "image/png": "[encoded data removed]",
      "text/plain": [
       "<Figure size 432x288 with 1 Axes>"
      ]
     },
     "metadata": {
      "needs_background": "light"
     },
     "output_type": "display_data"
    }
   ],
   "source": [
    "MOVING_BASE_STATE_INDEX = 730\n",
    "OCEAN_ROW_RANGE = slice(77, 186)\n",
    "OCEAN_COL_RANGE = slice(7, None)\n",
    "MOVING_PLAYER_AND_FLOE_ROW_RANGE = slice(130, 155)\n",
    "MOVING_PLAYER_AND_FLOE_COL_RANGE = slice(8, 30)\n",
    "\n",
    "moving_player_sprite = sample_full_color_observations[MOVING_BASE_STATE_INDEX, \n",
    "                                                      MOVING_PLAYER_AND_FLOE_ROW_RANGE, \n",
    "                                                      MOVING_PLAYER_AND_FLOE_COL_RANGE]\n",
    "MOVING_FLOE_ROW_RANGE = slice(96, 103)\n",
    "MOVING_FLOE_COL_RANGE = slice(102, 126)\n",
    "\n",
    "top_tow_floe_sprite = sample_full_color_observations[MOVING_BASE_STATE_INDEX, MOVING_FLOE_ROW_RANGE, MOVING_FLOE_COL_RANGE]\n",
    "\n",
    "\n",
    "moving_base_state = np.copy(sample_full_color_observations[MOVING_BASE_STATE_INDEX])\n",
    "moving_base_state[OCEAN_ROW_RANGE, OCEAN_COL_RANGE] = second_base_state[111, -1]\n",
    "moving_base_state[MOVING_PLAYER_AND_FLOE_ROW_RANGE, MOVING_PLAYER_AND_FLOE_COL_RANGE] = moving_player_sprite\n",
    "\n",
    "TOP_ROW_FLOE_STARTS = range(10, 150, 30)\n",
    "for start in TOP_ROW_FLOE_STARTS:\n",
    "    dst_col_slice = slice(start, start + MOVING_FLOE_COL_RANGE.stop - MOVING_FLOE_COL_RANGE.start)\n",
    "    moving_base_state[MOVING_FLOE_ROW_RANGE, dst_col_slice] = top_tow_floe_sprite\n",
    "\n",
    "moving_base_state_observations = np.tile(moving_base_state, (10, 1, 1, 1))\n",
    "\n",
    "plt.imshow(moving_base_state_observations[0])"
   ]
  },
  {
   "cell_type": "code",
   "execution_count": null,
   "metadata": {},
   "outputs": [],
   "source": []
  },
  {
   "cell_type": "code",
   "execution_count": 227,
   "metadata": {},
   "outputs": [
    {
     "name": "stderr",
     "output_type": "stream",
     "text": [
      "/misc/vlgscratch4/LakeGroup/guy/anaconda3/envs/rainbow/lib/python3.7/site-packages/torch/nn/functional.py:2494: UserWarning: Default upsampling behavior when mode=bilinear is changed to align_corners=False since 0.4.0. Please specify align_corners=True if the old behavior is desired. See the documentation of nn.Upsample for details.\n",
      "  \"See the documentation of nn.Upsample for details.\".format(mode))\n"
     ]
    },
    {
     "name": "stdout",
     "output_type": "stream",
     "text": [
      "For model Pixels | Before mean = 3.704, median = 3.115 | After mean = 3.988, median = 3.904 \n",
      "For model Pixels+Objects | Before mean = 4.620, median = 4.290 | After mean = 4.397, median = 4.662 \n",
      "For model Objects | Before mean = 4.252, median = 3.751 | After mean = 3.575, median = 3.325 \n",
      "For model Grouped Objects | Before mean = 4.846, median = 4.575 | After mean = 3.750, median = 2.780 \n"
     ]
    },
    {
     "name": "stderr",
     "output_type": "stream",
     "text": [
      "/misc/vlgscratch4/LakeGroup/guy/anaconda3/envs/rainbow/lib/python3.7/site-packages/torch/nn/functional.py:2494: UserWarning: Default upsampling behavior when mode=bilinear is changed to align_corners=False since 0.4.0. Please specify align_corners=True if the old behavior is desired. See the documentation of nn.Upsample for details.\n",
      "  \"See the documentation of nn.Upsample for details.\".format(mode))\n"
     ]
    },
    {
     "name": "stdout",
     "output_type": "stream",
     "text": [
      "For model Pixels | Before mean = 3.704, median = 3.115 | After mean = 3.068, median = 3.010 \n",
      "For model Pixels+Objects | Before mean = 4.620, median = 4.290 | After mean = 4.757, median = 4.368 \n",
      "For model Objects | Before mean = 4.252, median = 3.751 | After mean = 4.473, median = 3.791 \n",
      "For model Grouped Objects | Before mean = 4.846, median = 4.575 | After mean = 3.071, median = 2.463 \n"
     ]
    },
    {
     "name": "stderr",
     "output_type": "stream",
     "text": [
      "/misc/vlgscratch4/LakeGroup/guy/anaconda3/envs/rainbow/lib/python3.7/site-packages/torch/nn/functional.py:2494: UserWarning: Default upsampling behavior when mode=bilinear is changed to align_corners=False since 0.4.0. Please specify align_corners=True if the old behavior is desired. See the documentation of nn.Upsample for details.\n",
      "  \"See the documentation of nn.Upsample for details.\".format(mode))\n"
     ]
    },
    {
     "name": "stdout",
     "output_type": "stream",
     "text": [
      "For model Pixels | Before mean = 3.704, median = 3.115 | After mean = 2.835, median = 2.628 \n",
      "For model Pixels+Objects | Before mean = 4.620, median = 4.290 | After mean = 3.976, median = 3.200 \n",
      "For model Objects | Before mean = 4.252, median = 3.751 | After mean = 5.210, median = 5.458 \n",
      "For model Grouped Objects | Before mean = 4.846, median = 4.575 | After mean = 3.978, median = 4.458 \n"
     ]
    },
    {
     "data": {
      "image/png": "[encoded data removed]",
      "text/plain": [
       "<Figure size 720x432 with 5 Axes>"
      ]
     },
     "metadata": {
      "needs_background": "light"
     },
     "output_type": "display_data"
    }
   ],
   "source": [
    "SRC_OBS_INDEX = MOVING_BASE_STATE_INDEX\n",
    "DST_OBS_INDEX = 5\n",
    "VISITED_FLOE_CHANNEL_INDEX = 5\n",
    "\n",
    "FLOE_ROW_LOCATION = 122\n",
    "START_COL_LOCATIONS = (10, 40, 70)\n",
    "FLOE_COL_LOCATION_INCREMENTS = (0, 30, 60)\n",
    "\n",
    "LOCATION_SETS = [[(FLOE_ROW_LOCATION, start + inc) for inc in FLOE_COL_LOCATION_INCREMENTS] \n",
    "                 for start in START_COL_LOCATIONS]\n",
    "\n",
    "NUM_AFTER_STATES = len(LOCATION_SETS)\n",
    "    \n",
    "fig = plt.figure(constrained_layout=True, figsize=(10, 6))\n",
    "gs = fig.add_gridspec(2, 1 + NUM_AFTER_STATES)\n",
    "before_ax = fig.add_subplot(gs[0, 0])\n",
    "after_axes = [fig.add_subplot(gs[0, i]) for i in range(1, 1 + NUM_AFTER_STATES)]\n",
    "    \n",
    "values_ax = fig.add_subplot(gs[1, :])\n",
    "before_positions = np.arange(NUM_COMPARISON_MODELS)\n",
    "after_positions = [np.arange(NUM_COMPARISON_MODELS) + (NUM_COMPARISON_MODELS * i) for i in range(1, 1 + NUM_AFTER_STATES)]\n",
    "\n",
    "after_titles = ['Near', 'Middle', 'Far']\n",
    "\n",
    "major_fontdict = dict(fontsize=16)\n",
    "minor_fontdict = dict(fontsize=12)\n",
    "\n",
    "# Near\n",
    "IDX = 0\n",
    "        \n",
    "do_multiple_augmentation_comparison_single_plot(SRC_OBS_INDEX, DST_OBS_INDEX, VISITED_FLOE_CHANNEL_INDEX, LOCATION_SETS[IDX], \n",
    "                                            after_ax=after_axes[IDX], values_ax=values_ax, after_value_positions=after_positions[IDX],\n",
    "                                            before_ax=before_ax, before_value_positions=before_positions, additional_boxplot_properties=None,\n",
    "                                            before_title='Original', after_title=after_titles[IDX],\n",
    "                                            major_fontdict=major_fontdict,\n",
    "                                            minor_fontdict=minor_fontdict,\n",
    "                                            object_index=0, object_pixels_and_mask=None,\n",
    "                                            src_observations=sample_full_color_observations, dst_observations=moving_base_state_observations,\n",
    "                                            augment_all_frames=True)\n",
    "\n",
    "# Far only\n",
    "IDX = 1\n",
    "\n",
    "do_multiple_augmentation_comparison_single_plot(SRC_OBS_INDEX, DST_OBS_INDEX, VISITED_FLOE_CHANNEL_INDEX, LOCATION_SETS[IDX], \n",
    "                                            after_ax=after_axes[IDX], values_ax=values_ax, after_value_positions=after_positions[IDX],\n",
    "                                            before_ax=before_ax, before_value_positions=before_positions, additional_boxplot_properties=None,\n",
    "                                            before_title='Original', after_title=after_titles[IDX],\n",
    "                                            major_fontdict=major_fontdict,\n",
    "                                            minor_fontdict=minor_fontdict,\n",
    "                                            object_index=0, object_pixels_and_mask=None,\n",
    "                                            src_observations=sample_full_color_observations, dst_observations=moving_base_state_observations,\n",
    "                                            augment_all_frames=True)\n",
    "\n",
    "\n",
    "# Both\n",
    "IDX = 2\n",
    "do_multiple_augmentation_comparison_single_plot(SRC_OBS_INDEX, DST_OBS_INDEX, VISITED_FLOE_CHANNEL_INDEX, LOCATION_SETS[IDX], \n",
    "                                            after_ax=after_axes[IDX], values_ax=values_ax, after_value_positions=after_positions[IDX],\n",
    "                                            before_ax=before_ax, before_value_positions=before_positions, additional_boxplot_properties=None,\n",
    "                                            before_title='Original', after_title=after_titles[IDX],\n",
    "                                            major_fontdict=major_fontdict,\n",
    "                                            minor_fontdict=minor_fontdict,\n",
    "                                            object_index=0, object_pixels_and_mask=None,\n",
    "                                            src_observations=sample_full_color_observations, dst_observations=moving_base_state_observations,\n",
    "                                            augment_all_frames=True)\n",
    "        \n",
    "\n",
    "dashed_line_positions = np.arange(1, NUM_AFTER_STATES + 1) * NUM_COMPARISON_MODELS - 0.5\n",
    "values_ax.vlines(dashed_line_positions, *values_ax.get_ylim(), colors='gray', linestyles='dashed')\n",
    "        \n",
    "values_ax.set_xticks([])\n",
    "# values_ax.set_xticks(np.concatenate([before_positions] + after_positions))\n",
    "# values_ax.set_xticklabels(list(FINAL_NAMES_FOR_TICKS) * 4, fontsize=12, rotation=0)\n",
    "\n",
    "# print(values_ax.get_yticks())\n",
    "# ytl = values_ax.get_yticklabels()\n",
    "# print([l.get_text() for l in ytl])\n",
    "# t = values_ax.get_yticklabels()[0]\n",
    "# print([label.get_text() for label in values_ax.get_yticklabels()])\n",
    "# values_ax.set_yticklabels([label.get_text() for label in values_ax.get_yticklabels()], fontsize=12)\n",
    "values_ax.set_ylabel('V(s)', **major_fontdict)\n",
    "values_ax.tick_params(axis='both', which='major', labelsize=12)\n",
    "\n",
    "values_ax.set_xlabel('Condition', **major_fontdict)\n",
    "\n",
    "legend_handles = []\n",
    "for color, name in zip(DEFAULT_COLORS, FINAL_NAMES):\n",
    "    legend_handles.append(patches.Patch(color=color, label=name))\n",
    "    \n",
    "plt.legend(handles=legend_handles, loc='lower left', **minor_fontdict)\n",
    "\n",
    "# save('alien_panel_smaller_fonts.pdf')\n",
    "\n",
    "plt.show()"
   ]
  },
  {
   "cell_type": "code",
   "execution_count": null,
   "metadata": {},
   "outputs": [],
   "source": []
  },
  {
   "cell_type": "code",
   "execution_count": null,
   "metadata": {},
   "outputs": [],
   "source": []
  },
  {
   "cell_type": "code",
   "execution_count": null,
   "metadata": {},
   "outputs": [],
   "source": []
  },
  {
   "cell_type": "code",
   "execution_count": null,
   "metadata": {},
   "outputs": [],
   "source": []
  },
  {
   "cell_type": "code",
   "execution_count": 214,
   "metadata": {},
   "outputs": [
    {
     "data": {
      "text/plain": [
       "<matplotlib.image.AxesImage at 0x7f35d0399290>"
      ]
     },
     "execution_count": 214,
     "metadata": {},
     "output_type": "execute_result"
    },
    {
     "data": {
      "image/png": "[encoded data removed]",
      "text/plain": [
       "<Figure size 432x288 with 1 Axes>"
      ]
     },
     "metadata": {
      "needs_background": "light"
     },
     "output_type": "display_data"
    }
   ],
   "source": [
    "plt.imshow(sample_full_color_observations[MOVING_BASE_STATE_INDEX])"
   ]
  },
  {
   "cell_type": "code",
   "execution_count": null,
   "metadata": {},
   "outputs": [],
   "source": []
  },
  {
   "cell_type": "code",
   "execution_count": null,
   "metadata": {},
   "outputs": [],
   "source": []
  },
  {
   "cell_type": "code",
   "execution_count": null,
   "metadata": {},
   "outputs": [],
   "source": []
  },
  {
   "cell_type": "code",
   "execution_count": null,
   "metadata": {},
   "outputs": [],
   "source": []
  },
  {
   "cell_type": "code",
   "execution_count": null,
   "metadata": {},
   "outputs": [],
   "source": []
  },
  {
   "cell_type": "markdown",
   "metadata": {},
   "source": [
    "-----\n",
    "\n",
    "-----\n",
    "\n",
    "# Older attempts at this"
   ]
  },
  {
   "cell_type": "code",
   "execution_count": null,
   "metadata": {},
   "outputs": [],
   "source": [
    "INTERESTING_DST_INDICES = (94, 1112)"
   ]
  },
  {
   "cell_type": "code",
   "execution_count": null,
   "metadata": {},
   "outputs": [],
   "source": [
    "SRC_OBS_INDEX = 1270\n",
    "DST_OBS_INDEX = 875\n",
    "CHANNEL_INDEX = 1\n",
    "\n",
    "LOCATION_COLLECTIONS = (\n",
    "    [(80, 12 + 12 * i) for i in range(12)],\n",
    "    [(107, 12 + 12 * i) for i in range(6)],\n",
    "    [(107, 6 + 12 * i) for i in range(8, 12)],\n",
    "    [(135, 12 + 12 * i) for i in range(12)],\n",
    "    [(160, 12 + 12 * i) for i in range(12)],\n",
    "#     [(85, 12 + 12 * i) for i in range(12)],\n",
    ")\n",
    "\n",
    "NEW_LOCATIONS = []\n",
    "for loc in LOCATION_COLLECTIONS:\n",
    "    NEW_LOCATIONS.extend(loc)\n",
    "\n",
    "do_multiple_augmentation_comparison(SRC_OBS_INDEX, DST_OBS_INDEX, CHANNEL_INDEX, NEW_LOCATIONS, plot_variance=True)"
   ]
  },
  {
   "cell_type": "code",
   "execution_count": null,
   "metadata": {},
   "outputs": [],
   "source": [
    "SRC_OBS_INDEX = 1200\n",
    "DST_OBS_INDEX = 2904\n",
    "CHANNEL_INDEX = 7\n",
    "# NEW_LOCATIONS = lambda loc: [(loc[0].start, loc[1].start + 10 * i) for i in range(12)]\n",
    "NEW_LOCATIONS = None\n",
    "\n",
    "do_multiple_augmentation_comparison(SRC_OBS_INDEX, DST_OBS_INDEX, CHANNEL_INDEX, NEW_LOCATIONS, plot_variance=True)"
   ]
  },
  {
   "cell_type": "code",
   "execution_count": null,
   "metadata": {},
   "outputs": [],
   "source": [
    "SRC_OBS_INDEX = 450\n",
    "CHANNEL_INDEX = 7\n",
    "NEW_LOCATIONS = None\n",
    "\n",
    "for DST_OBS_INDEX in INTERESTING_DST_INDICES:\n",
    "    do_multiple_augmentation_comparison(SRC_OBS_INDEX, DST_OBS_INDEX, CHANNEL_INDEX, NEW_LOCATIONS)"
   ]
  },
  {
   "cell_type": "markdown",
   "metadata": {},
   "source": [
    "# Existing good animal"
   ]
  },
  {
   "cell_type": "code",
   "execution_count": null,
   "metadata": {
    "scrolled": false
   },
   "outputs": [],
   "source": [
    "SRC_OBS_INDEX = 310\n",
    "CHANNEL_INDEX = 6\n",
    "NEW_LOCATIONS = None\n",
    "\n",
    "START_LOC = (107, 12)\n",
    "\n",
    "for DST_OBS_INDEX in (INTERESTING_DST_INDICES[0], ):\n",
    "    for row_loc_inc in (0, 25, 55):\n",
    "        NEW_LOCATIONS = [(START_LOC[0] + row_loc_inc, START_LOC[1] + 12 * i) for i in range(12)]\n",
    "        do_multiple_augmentation_comparison(SRC_OBS_INDEX, DST_OBS_INDEX, CHANNEL_INDEX, NEW_LOCATIONS)"
   ]
  },
  {
   "cell_type": "markdown",
   "metadata": {},
   "source": [
    "# Existing bad animal"
   ]
  },
  {
   "cell_type": "code",
   "execution_count": null,
   "metadata": {
    "scrolled": false
   },
   "outputs": [],
   "source": [
    "SRC_OBS_INDEX = 325\n",
    "CHANNEL_INDEX = 1\n",
    "NEW_LOCATIONS = None\n",
    "\n",
    "START_LOC = (107, 12)\n",
    "\n",
    "for DST_OBS_INDEX in (INTERESTING_DST_INDICES[0],):\n",
    "    for row_loc_inc in (0, 25, 55):\n",
    "        NEW_LOCATIONS = [(START_LOC[0] + row_loc_inc, START_LOC[1] + 12 * i) for i in range(12)]\n",
    "        do_multiple_augmentation_comparison(SRC_OBS_INDEX, DST_OBS_INDEX, CHANNEL_INDEX, NEW_LOCATIONS)"
   ]
  },
  {
   "cell_type": "code",
   "execution_count": null,
   "metadata": {
    "scrolled": false
   },
   "outputs": [],
   "source": [
    "SRC_OBS_INDEX = 1270\n",
    "CHANNEL_INDEX = 1\n",
    "NEW_LOCATIONS = None\n",
    "\n",
    "START_LOC = (107, 12)\n",
    "\n",
    "for DST_OBS_INDEX in (INTERESTING_DST_INDICES[0],):\n",
    "    for i, row_loc_inc in enumerate((0, 25, 55)):\n",
    "        NEW_LOCATIONS = [(START_LOC[0] + row_loc_inc, START_LOC[1] + 12 * i) for i in range(12)]\n",
    "        do_multiple_augmentation_comparison(SRC_OBS_INDEX, DST_OBS_INDEX, CHANNEL_INDEX, NEW_LOCATIONS,\n",
    "                                            save_name=f'invasion_of_the_crabs_{i}.pdf')"
   ]
  },
  {
   "cell_type": "markdown",
   "metadata": {},
   "source": [
    "# Modified color"
   ]
  },
  {
   "cell_type": "code",
   "execution_count": null,
   "metadata": {},
   "outputs": [],
   "source": [
    "\n",
    "SRC_OBS_INDEX = 2600\n",
    "\n",
    "CHANNEL_INDEX = 7\n",
    "NEW_LOCATIONS = None\n",
    "\n",
    "for DST_OBS_INDEX in INTERESTING_DST_INDICES:\n",
    "    do_multiple_augmentation_comparison(SRC_OBS_INDEX, DST_OBS_INDEX, CHANNEL_INDEX, NEW_LOCATIONS, hsv=(0.7, 0.8, None))"
   ]
  },
  {
   "cell_type": "code",
   "execution_count": null,
   "metadata": {
    "scrolled": false
   },
   "outputs": [],
   "source": [
    "SRC_OBS_INDEX = 310\n",
    "CHANNEL_INDEX = 6\n",
    "\n",
    "START_LOC = (107, 12)\n",
    "row_loc_inc = 0\n",
    "\n",
    "colors = ('green', 'blue', 'red')\n",
    "\n",
    "for DST_OBS_INDEX in (INTERESTING_DST_INDICES[1],):\n",
    "    for i, hue in enumerate((None, 0.5, 0.9)):\n",
    "        NEW_LOCATIONS = [(START_LOC[0] + row_loc_inc, START_LOC[1] + 12 * i) for i in range(12)]\n",
    "        do_multiple_augmentation_comparison(SRC_OBS_INDEX, DST_OBS_INDEX, CHANNEL_INDEX, NEW_LOCATIONS,\n",
    "                                            hsv=(hue, hue, None),\n",
    "                                            save_name=f'what_about_{colors[i]}_fish.pdf')"
   ]
  },
  {
   "cell_type": "markdown",
   "metadata": {},
   "source": [
    "# And with an alien"
   ]
  },
  {
   "cell_type": "code",
   "execution_count": null,
   "metadata": {},
   "outputs": [],
   "source": [
    "alien_pixels_tensor = torch.tensor([[  0,   0,  52, 243,  52,   0,   0],\n",
    "       [  0,   0, 243, 243, 243,   0,   0],\n",
    "       [ 52, 243, 202, 243, 202, 243,  52],\n",
    "       [243, 243, 148, 243, 148, 243, 243],\n",
    "       [ 52, 243,  93, 243,  93, 243,  52],\n",
    "       [243,   0,   0,   0,   0,   0, 243],\n",
    "       [  0, 243,   0,   0,   0, 243,   0]], dtype=torch.float32, device=bad_animal_pixels_tensor.device) / 255\n",
    "\n",
    "print(alien_pixels_tensor.mean())\n",
    "print(bad_animal_pixels_tensor.mean(), fish_pixels_tensor.mean(), igloo_pixels_tensor.mean(), player_pixels_tensor.mean())\n",
    "\n",
    "alien_mask_tensor = change_intensity(alien_pixels_tensor, multiplicative=2)\n",
    "print(alien_mask_tensor.mean())\n",
    "print(bad_animal_mask_tensor.mean(), fish_mask_tensor.mean(), igloo_mask_tensor.mean(), player_mask_tensor.mean())\n",
    "\n",
    "\n",
    "alien_pixels_tensor_color = alien_pixels_tensor.repeat(3, 1, 1).permute(1, 2, 0)\n",
    "\n",
    "water_color = torch.tensor([  0.,  28., 136.], device='cuda:0') / 255\n",
    "\n",
    "black_indices = torch.all(alien_pixels_tensor_color == alien_pixels_tensor_color[0, 0], axis=2)\n",
    "gray_indices = torch.all(alien_pixels_tensor_color == alien_pixels_tensor_color[0, 2], axis=2)\n",
    "\n",
    "alien_pixels_tensor_color[black_indices + gray_indices] = water_color\n",
    "\n",
    "alien_pixels_and_mask = (alien_pixels_tensor_color * 255, alien_mask_tensor)\n",
    "plot_tensors(*alien_pixels_and_mask, norm=True)\n"
   ]
  },
  {
   "cell_type": "code",
   "execution_count": null,
   "metadata": {},
   "outputs": [],
   "source": [
    "DEFAULT_MASK_NAMES"
   ]
  },
  {
   "cell_type": "code",
   "execution_count": null,
   "metadata": {
    "scrolled": false
   },
   "outputs": [],
   "source": [
    "SRC_OBS_INDEX = 325\n",
    "# CHANNEL_INDEX = 1\n",
    "NEW_LOCATIONS = None\n",
    "\n",
    "START_LOC = (107, 12)\n",
    "row_loc_inc = 0\n",
    "\n",
    "for DST_OBS_INDEX in (INTERESTING_DST_INDICES[0],):\n",
    "    for channel_index in (1, 4, 5, 6):\n",
    "#     for row_loc_inc in (0, 25, 55):\n",
    "        NEW_LOCATIONS = [(START_LOC[0] + row_loc_inc, START_LOC[1] + 12 * i) for i in range(12)]\n",
    "        do_multiple_augmentation_comparison(SRC_OBS_INDEX, DST_OBS_INDEX, channel_index, NEW_LOCATIONS,\n",
    "                                           object_pixels_and_mask=alien_pixels_and_mask)"
   ]
  },
  {
   "cell_type": "code",
   "execution_count": null,
   "metadata": {
    "scrolled": false
   },
   "outputs": [],
   "source": [
    "SRC_OBS_INDEX = 325\n",
    "# CHANNEL_INDEX = 1\n",
    "NEW_LOCATIONS = None\n",
    "\n",
    "START_LOC = (146, 12)\n",
    "row_loc_inc = 0\n",
    "\n",
    "for DST_OBS_INDEX in (755,):\n",
    "    for i, channel_index in enumerate((1, 5, 6)):\n",
    "#     for row_loc_inc in (0, 25, 55):\n",
    "        NEW_LOCATIONS = [(START_LOC[0] + row_loc_inc, START_LOC[1] + 10 * i) for i in range(8)]\n",
    "        do_multiple_augmentation_comparison(SRC_OBS_INDEX, DST_OBS_INDEX, channel_index, NEW_LOCATIONS,\n",
    "                                            object_pixels_and_mask=alien_pixels_and_mask,\n",
    "                                            save_name=f'save_me_aliens_{DEFAULT_MASK_NAMES[channel_index + 1]}.pdf')"
   ]
  },
  {
   "cell_type": "code",
   "execution_count": null,
   "metadata": {},
   "outputs": [],
   "source": []
  },
  {
   "cell_type": "code",
   "execution_count": null,
   "metadata": {},
   "outputs": [],
   "source": []
  },
  {
   "cell_type": "code",
   "execution_count": null,
   "metadata": {},
   "outputs": [],
   "source": []
  },
  {
   "cell_type": "markdown",
   "metadata": {},
   "source": [
    "# B -- Same shape, new color\n",
    "* New color in this case means new intensity since grayscale.\n",
    "* Can probaly repeat the same experiments as above but just changing the pixels"
   ]
  },
  {
   "cell_type": "markdown",
   "metadata": {},
   "source": [
    "# B.1 Another player, new color"
   ]
  },
  {
   "cell_type": "code",
   "execution_count": null,
   "metadata": {},
   "outputs": [],
   "source": [
    "OBS_INDEX = 1449\n",
    "CHANEL_INDEX = 0\n",
    "\n",
    "player_mask_tensor, player_loc = extract_object(sample_full_color_observations, OBS_INDEX, masks_only_model, masks_only_env,\n",
    "                                           channel_index=CHANEL_INDEX, object_index=0, return_location=True)\n",
    "player_pixels_tensor = extract_raw_pixels_object(sample_full_color_observations, OBS_INDEX, baseline_model, baseline_env, player_loc)\n",
    "\n",
    "lightened_player_pixels_tensor = change_intensity(player_pixels_tensor, multiplicative=3.0)\n",
    "\n",
    "# plot_tensors(player_mask_tensor, player_pixels_tensor, lightened_player_pixels_tensor, norm=True)\n",
    "\n",
    "NEW_PLAYER_LOCATION = (45, 45)\n",
    "\n",
    "baseline_player_aug, masks_and_pixels_player_aug, masks_only_player_aug =\\\n",
    "    make_augmentations_all_models(baseline_aug_template, masks_and_pixels_aug_template, masks_only_aug_template,\n",
    "                                  lightened_player_pixels_tensor, player_mask_tensor, CHANEL_INDEX, [NEW_PLAYER_LOCATION])\n",
    "\n",
    "evaluate_augmented_models(sample_full_color_observations, OBS_INDEX, \n",
    "                         [baseline_player_aug, masks_and_pixels_player_aug, masks_only_player_aug],\n",
    "                          force_text=True)\n",
    "    "
   ]
  },
  {
   "cell_type": "code",
   "execution_count": null,
   "metadata": {},
   "outputs": [],
   "source": [
    "OBS_INDEX = 1449\n",
    "CHANEL_INDEX = 0\n",
    "\n",
    "player_mask_tensor, player_loc = extract_object(sample_full_color_observations, OBS_INDEX, masks_only_model, masks_only_env,\n",
    "                                           channel_index=CHANEL_INDEX, object_index=0, return_location=True)\n",
    "player_pixels_tensor = extract_raw_pixels_object(sample_full_color_observations, OBS_INDEX, baseline_model, baseline_env, player_loc)\n",
    "\n",
    "darkened_player_pixels_tensor = change_intensity(player_pixels_tensor, multiplicative=0.5)\n",
    "\n",
    "# plot_tensors(player_mask_tensor, player_pixels_tensor, darkened_player_pixels_tensor, norm=True)\n",
    "\n",
    "NEW_PLAYER_LOCATION = (45, 45)\n",
    "\n",
    "baseline_player_aug, masks_and_pixels_player_aug, masks_only_player_aug =\\\n",
    "    make_augmentations_all_models(baseline_aug_template, masks_and_pixels_aug_template, masks_only_aug_template,\n",
    "                                  darkened_player_pixels_tensor, player_mask_tensor, CHANEL_INDEX, [NEW_PLAYER_LOCATION])\n",
    "\n",
    "evaluate_augmented_models(sample_full_color_observations, OBS_INDEX, \n",
    "                         [baseline_player_aug, masks_and_pixels_player_aug, masks_only_player_aug],\n",
    "                          force_text=True)\n",
    "    "
   ]
  },
  {
   "cell_type": "markdown",
   "metadata": {},
   "source": [
    "# B.2 Adding a completed igloo to a state without a complete igloo"
   ]
  },
  {
   "cell_type": "code",
   "execution_count": null,
   "metadata": {},
   "outputs": [],
   "source": [
    "SRC_OBS_INDEX = 2600\n",
    "DST_OBS_INEX = 2100\n",
    "CHANNEL_INDEX = 7\n",
    "\n",
    "igloo_mask_tensor, igloo_loc = extract_object(sample_full_color_observations, SRC_OBS_INDEX, masks_only_model, masks_only_env,\n",
    "                                           channel_index=CHANNEL_INDEX, object_index=0, return_location=True)\n",
    "igloo_pixels_tensor = extract_raw_pixels_object(sample_full_color_observations, SRC_OBS_INDEX, baseline_model, baseline_env, igloo_loc)\n",
    "\n",
    "lightened_igloo_pixels_tensor = change_intensity(igloo_pixels_tensor, multiplicative=1.75)\n",
    "\n",
    "\n",
    "# plot_tensors(igloo_mask_tensor, igloo_pixels_tensor)\n",
    "\n",
    "NEW_IGLOO_LOCATION = (igloo_loc[0].start, igloo_loc[1].start)\n",
    "\n",
    "baseline_igloo_aug, masks_and_pixels_igloo_aug, masks_only_igloo_aug =\\\n",
    "    make_augmentations_all_models(baseline_aug_template, masks_and_pixels_aug_template, masks_only_aug_template,\n",
    "                                  lightened_igloo_pixels_tensor, igloo_mask_tensor, CHANNEL_INDEX, [NEW_IGLOO_LOCATION])\n",
    "\n",
    "evaluate_augmented_models(sample_full_color_observations, DST_OBS_INEX, \n",
    "                         [baseline_igloo_aug, masks_and_pixels_igloo_aug, masks_only_igloo_aug],\n",
    "                          force_text=True)\n",
    "    "
   ]
  },
  {
   "cell_type": "code",
   "execution_count": null,
   "metadata": {},
   "outputs": [],
   "source": [
    "SRC_OBS_INDEX = 2600\n",
    "DST_OBS_INEX = 2100\n",
    "CHANNEL_INDEX = 7\n",
    "\n",
    "igloo_mask_tensor, igloo_loc = extract_object(sample_full_color_observations, SRC_OBS_INDEX, masks_only_model, masks_only_env,\n",
    "                                           channel_index=CHANNEL_INDEX, object_index=0, return_location=True)\n",
    "igloo_pixels_tensor = extract_raw_pixels_object(sample_full_color_observations, SRC_OBS_INDEX, baseline_model, baseline_env, igloo_loc)\n",
    "\n",
    "darkened_igloo_pixels_tensor = change_intensity(igloo_pixels_tensor, multiplicative=0.5)\n",
    "\n",
    "# plot_tensors(igloo_mask_tensor, igloo_pixels_tensor, darkened_igloo_pixels_tensor, norm=True)\n",
    "\n",
    "NEW_IGLOO_LOCATION = (igloo_loc[0].start, igloo_loc[1].start)\n",
    "\n",
    "baseline_igloo_aug, masks_and_pixels_igloo_aug, masks_only_igloo_aug =\\\n",
    "    make_augmentations_all_models(baseline_aug_template, masks_and_pixels_aug_template, masks_only_aug_template,\n",
    "                                  darkened_igloo_pixels_tensor, igloo_mask_tensor, CHANNEL_INDEX, [NEW_IGLOO_LOCATION])\n",
    "\n",
    "evaluate_augmented_models(sample_full_color_observations, DST_OBS_INEX, \n",
    "                         [baseline_igloo_aug, masks_and_pixels_igloo_aug, masks_only_igloo_aug],\n",
    "                          force_text=True)\n",
    "    "
   ]
  },
  {
   "cell_type": "code",
   "execution_count": null,
   "metadata": {},
   "outputs": [],
   "source": [
    "SRC_OBS_INDEX = 450\n",
    "DST_OBS_INEX = 94\n",
    "CHANNEL_INDEX = 7\n",
    "\n",
    "igloo_mask_tensor, igloo_loc = extract_object(sample_full_color_observations, SRC_OBS_INDEX, masks_only_model, masks_only_env,\n",
    "                                           channel_index=CHANNEL_INDEX, object_index=0, return_location=True)\n",
    "igloo_pixels_tensor = extract_raw_pixels_object(sample_full_color_observations, SRC_OBS_INDEX, baseline_model, baseline_env, igloo_loc)\n",
    "lightened_igloo_pixels_tensor = change_intensity(igloo_pixels_tensor, multiplicative=1.75)\n",
    "\n",
    "# plot_tensors(igloo_mask_tensor, igloo_pixels_tensor)\n",
    "\n",
    "NEW_IGLOO_LOCATION = (igloo_loc[0].start, igloo_loc[1].start)\n",
    "\n",
    "baseline_igloo_aug, masks_and_pixels_igloo_aug, masks_only_igloo_aug =\\\n",
    "    make_augmentations_all_models(baseline_aug_template, masks_and_pixels_aug_template, masks_only_aug_template,\n",
    "                                  lightened_igloo_pixels_tensor, igloo_mask_tensor, CHANNEL_INDEX, [NEW_IGLOO_LOCATION])\n",
    "\n",
    "evaluate_augmented_models(sample_full_color_observations, DST_OBS_INEX, \n",
    "                         [baseline_igloo_aug, masks_and_pixels_igloo_aug, masks_only_igloo_aug],\n",
    "                          force_text=True)\n",
    "    "
   ]
  },
  {
   "cell_type": "code",
   "execution_count": null,
   "metadata": {},
   "outputs": [],
   "source": [
    "SRC_OBS_INDEX = 450\n",
    "DST_OBS_INEX = 94\n",
    "CHANNEL_INDEX = 7\n",
    "\n",
    "igloo_mask_tensor, igloo_loc = extract_object(sample_full_color_observations, SRC_OBS_INDEX, masks_only_model, masks_only_env,\n",
    "                                           channel_index=CHANNEL_INDEX, object_index=0, return_location=True)\n",
    "igloo_pixels_tensor = extract_raw_pixels_object(sample_full_color_observations, SRC_OBS_INDEX, baseline_model, baseline_env, igloo_loc)\n",
    "darkened_igloo_pixels_tensor = change_intensity(igloo_pixels_tensor, multiplicative=0.5)\n",
    "\n",
    "# plot_tensors(igloo_mask_tensor, igloo_pixels_tensor)\n",
    "\n",
    "NEW_IGLOO_LOCATION = (igloo_loc[0].start, igloo_loc[1].start)\n",
    "\n",
    "baseline_igloo_aug, masks_and_pixels_igloo_aug, masks_only_igloo_aug =\\\n",
    "    make_augmentations_all_models(baseline_aug_template, masks_and_pixels_aug_template, masks_only_aug_template,\n",
    "                                  darkened_igloo_pixels_tensor, igloo_mask_tensor, CHANNEL_INDEX, [NEW_IGLOO_LOCATION])\n",
    "\n",
    "evaluate_augmented_models(sample_full_color_observations, DST_OBS_INEX, \n",
    "                         [baseline_igloo_aug, masks_and_pixels_igloo_aug, masks_only_igloo_aug],\n",
    "                          force_text=True)\n",
    "    "
   ]
  },
  {
   "cell_type": "markdown",
   "metadata": {},
   "source": [
    "# B.3 Adding many of a particular good animal"
   ]
  },
  {
   "cell_type": "code",
   "execution_count": null,
   "metadata": {},
   "outputs": [],
   "source": [
    "SRC_OBS_INDEX = 310\n",
    "DST_OBS_INEX = 94\n",
    "CHANNEL_INDEX = 6\n",
    "\n",
    "fish_mask_tensor, fish_loc = extract_object(sample_full_color_observations, SRC_OBS_INDEX, masks_only_model, masks_only_env,\n",
    "                                           channel_index=CHANNEL_INDEX, object_index=0, return_location=True)\n",
    "fish_pixels_tensor = extract_raw_pixels_object(sample_full_color_observations, SRC_OBS_INDEX, baseline_model, baseline_env, fish_loc)\n",
    "\n",
    "lightened_fish_tensor = change_intensity(fish_pixels_tensor, multiplicative=1.5)\n",
    "\n",
    "# plot_tensors(fish_mask_tensor, fish_pixels_tensor, lightened_fish_tensor, norm=True)\n",
    "# print(fish_loc)\n",
    "\n",
    "NEW_FISH_LOCATIONS = [(fish_loc[0].start - 10, fish_loc[1].start + 5 * i) for i in range(15)]\n",
    "\n",
    "baseline_fish_aug, masks_and_pixels_fish_aug, masks_only_fish_aug =\\\n",
    "    make_augmentations_all_models(baseline_aug_template, masks_and_pixels_aug_template, masks_only_aug_template,\n",
    "                                  lightened_fish_tensor, fish_mask_tensor, CHANNEL_INDEX, NEW_FISH_LOCATIONS)\n",
    "\n",
    "evaluate_augmented_models(sample_full_color_observations, DST_OBS_INEX, \n",
    "                         [baseline_fish_aug, masks_and_pixels_fish_aug, masks_only_fish_aug],\n",
    "                          force_text=True)\n",
    "    "
   ]
  },
  {
   "cell_type": "code",
   "execution_count": null,
   "metadata": {},
   "outputs": [],
   "source": [
    "SRC_OBS_INDEX = 310\n",
    "DST_OBS_INEX = 94\n",
    "CHANNEL_INDEX = 6\n",
    "\n",
    "fish_mask_tensor, fish_loc = extract_object(sample_full_color_observations, SRC_OBS_INDEX, masks_only_model, masks_only_env,\n",
    "                                           channel_index=CHANNEL_INDEX, object_index=0, return_location=True)\n",
    "fish_pixels_tensor = extract_raw_pixels_object(sample_full_color_observations, SRC_OBS_INDEX, baseline_model, baseline_env, fish_loc)\n",
    "\n",
    "darkened_fish_tensor = change_intensity(fish_pixels_tensor, multiplicative=0.5)\n",
    "\n",
    "# plot_tensors(fish_mask_tensor, fish_pixels_tensor, lightened_fish_tensor, norm=True)\n",
    "# print(fish_loc)\n",
    "\n",
    "NEW_FISH_LOCATIONS = [(fish_loc[0].start - 10, fish_loc[1].start + 5 * i) for i in range(15)]\n",
    "\n",
    "baseline_fish_aug, masks_and_pixels_fish_aug, masks_only_fish_aug =\\\n",
    "    make_augmentations_all_models(baseline_aug_template, masks_and_pixels_aug_template, masks_only_aug_template,\n",
    "                                  darkened_fish_tensor, fish_mask_tensor, CHANNEL_INDEX, NEW_FISH_LOCATIONS)\n",
    "\n",
    "evaluate_augmented_models(sample_full_color_observations, DST_OBS_INEX, \n",
    "                         [baseline_fish_aug, masks_and_pixels_fish_aug, masks_only_fish_aug],\n",
    "                          force_text=True)\n",
    "    "
   ]
  },
  {
   "cell_type": "code",
   "execution_count": null,
   "metadata": {},
   "outputs": [],
   "source": [
    "SRC_OBS_INDEX = 310\n",
    "DST_OBS_INEX = 875\n",
    "CHANNEL_INDEX = 6\n",
    "\n",
    "fish_mask_tensor, fish_loc = extract_object(sample_full_color_observations, SRC_OBS_INDEX, masks_only_model, masks_only_env,\n",
    "                                           channel_index=CHANNEL_INDEX, object_index=0, return_location=True)\n",
    "fish_pixels_tensor = extract_raw_pixels_object(sample_full_color_observations, SRC_OBS_INDEX, baseline_model, baseline_env, fish_loc)\n",
    "lightened_fish_tensor = change_intensity(fish_pixels_tensor, multiplicative=1.5)\n",
    "\n",
    "# plot_tensors(fish_mask_tensor, fish_pixels_tensor)\n",
    "# print(fish_loc)\n",
    "\n",
    "NEW_FISH_LOCATIONS = [(fish_loc[0].start, fish_loc[1].start + 5 * i) for i in range(15)]\n",
    "\n",
    "baseline_fish_aug, masks_and_pixels_fish_aug, masks_only_fish_aug =\\\n",
    "    make_augmentations_all_models(baseline_aug_template, masks_and_pixels_aug_template, masks_only_aug_template,\n",
    "                                  lightened_fish_tensor, fish_mask_tensor, CHANNEL_INDEX, NEW_FISH_LOCATIONS)\n",
    "\n",
    "evaluate_augmented_models(sample_full_color_observations, DST_OBS_INEX, \n",
    "                         [baseline_fish_aug, masks_and_pixels_fish_aug, masks_only_fish_aug],\n",
    "                          force_text=True)\n",
    "    "
   ]
  },
  {
   "cell_type": "code",
   "execution_count": null,
   "metadata": {},
   "outputs": [],
   "source": [
    "SRC_OBS_INDEX = 310\n",
    "DST_OBS_INEX = 875\n",
    "CHANNEL_INDEX = 6\n",
    "\n",
    "fish_mask_tensor, fish_loc = extract_object(sample_full_color_observations, SRC_OBS_INDEX, masks_only_model, masks_only_env,\n",
    "                                           channel_index=CHANNEL_INDEX, object_index=0, return_location=True)\n",
    "fish_pixels_tensor = extract_raw_pixels_object(sample_full_color_observations, SRC_OBS_INDEX, baseline_model, baseline_env, fish_loc)\n",
    "lightened_fish_tensor = change_intensity(fish_pixels_tensor, multiplicative=1.5)\n",
    "darkened_fish_tensor = change_intensity(fish_pixels_tensor, multiplicative=0.5)\n",
    "\n",
    "# plot_tensors(fish_mask_tensor, fish_pixels_tensor)\n",
    "# print(fish_loc)\n",
    "\n",
    "NEW_FISH_LOCATIONS = [(fish_loc[0].start, fish_loc[1].start + 5 * i) for i in range(15)]\n",
    "\n",
    "baseline_fish_aug, masks_and_pixels_fish_aug, masks_only_fish_aug =\\\n",
    "    make_augmentations_all_models(baseline_aug_template, masks_and_pixels_aug_template, masks_only_aug_template,\n",
    "                                  darkened_fish_tensor, fish_mask_tensor, CHANNEL_INDEX, NEW_FISH_LOCATIONS)\n",
    "\n",
    "evaluate_augmented_models(sample_full_color_observations, DST_OBS_INEX, \n",
    "                         [baseline_fish_aug, masks_and_pixels_fish_aug, masks_only_fish_aug],\n",
    "                          force_text=True)\n",
    "    "
   ]
  },
  {
   "cell_type": "code",
   "execution_count": null,
   "metadata": {},
   "outputs": [],
   "source": [
    "SRC_OBS_INDEX = 310\n",
    "DST_OBS_INEX = 1112\n",
    "CHANNEL_INDEX = 6\n",
    "\n",
    "fish_mask_tensor, fish_loc = extract_object(sample_full_color_observations, SRC_OBS_INDEX, masks_only_model, masks_only_env,\n",
    "                                           channel_index=CHANNEL_INDEX, object_index=0, return_location=True)\n",
    "fish_pixels_tensor = extract_raw_pixels_object(sample_full_color_observations, SRC_OBS_INDEX, baseline_model, baseline_env, fish_loc)\n",
    "lightened_fish_tensor = change_intensity(fish_pixels_tensor, multiplicative=1.5)\n",
    "darkened_fish_tensor = change_intensity(fish_pixels_tensor, multiplicative=0.5)\n",
    "# plot_tensors(fish_mask_tensor, fish_pixels_tensor)\n",
    "# print(fish_loc)\n",
    "\n",
    "NEW_FISH_LOCATIONS = [(fish_loc[0].start - 10, fish_loc[1].start + 5 * i) for i in range(15)]\n",
    "\n",
    "baseline_fish_aug, masks_and_pixels_fish_aug, masks_only_fish_aug =\\\n",
    "    make_augmentations_all_models(baseline_aug_template, masks_and_pixels_aug_template, masks_only_aug_template,\n",
    "                                  lightened_fish_tensor, fish_mask_tensor, CHANNEL_INDEX, NEW_FISH_LOCATIONS)\n",
    "\n",
    "evaluate_augmented_models(sample_full_color_observations, DST_OBS_INEX, \n",
    "                         [baseline_fish_aug, masks_and_pixels_fish_aug, masks_only_fish_aug],\n",
    "                          force_text=True)\n",
    "    "
   ]
  },
  {
   "cell_type": "code",
   "execution_count": null,
   "metadata": {},
   "outputs": [],
   "source": [
    "SRC_OBS_INDEX = 310\n",
    "DST_OBS_INEX = 1112\n",
    "CHANNEL_INDEX = 6\n",
    "\n",
    "fish_mask_tensor, fish_loc = extract_object(sample_full_color_observations, SRC_OBS_INDEX, masks_only_model, masks_only_env,\n",
    "                                           channel_index=CHANNEL_INDEX, object_index=0, return_location=True)\n",
    "fish_pixels_tensor = extract_raw_pixels_object(sample_full_color_observations, SRC_OBS_INDEX, baseline_model, baseline_env, fish_loc)\n",
    "lightened_fish_tensor = change_intensity(fish_pixels_tensor, multiplicative=1.5)\n",
    "darkened_fish_tensor = change_intensity(fish_pixels_tensor, multiplicative=0.5)\n",
    "# plot_tensors(fish_mask_tensor, fish_pixels_tensor)\n",
    "# print(fish_loc)\n",
    "\n",
    "NEW_FISH_LOCATIONS = [(fish_loc[0].start - 10, fish_loc[1].start + 5 * i) for i in range(15)]\n",
    "\n",
    "baseline_fish_aug, masks_and_pixels_fish_aug, masks_only_fish_aug =\\\n",
    "    make_augmentations_all_models(baseline_aug_template, masks_and_pixels_aug_template, masks_only_aug_template,\n",
    "                                  darkened_fish_tensor, fish_mask_tensor, CHANNEL_INDEX, NEW_FISH_LOCATIONS)\n",
    "\n",
    "evaluate_augmented_models(sample_full_color_observations, DST_OBS_INEX, \n",
    "                         [baseline_fish_aug, masks_and_pixels_fish_aug, masks_only_fish_aug],\n",
    "                          force_text=True)\n",
    "    "
   ]
  },
  {
   "cell_type": "code",
   "execution_count": null,
   "metadata": {},
   "outputs": [],
   "source": [
    "SRC_OBS_INDEX = 330\n",
    "DST_OBS_INEX = 1112\n",
    "CHANNEL_INDEX = 6\n",
    "\n",
    "fish_mask_tensor, fish_loc = extract_object(sample_full_color_observations, SRC_OBS_INDEX, masks_only_model, masks_only_env,\n",
    "                                           channel_index=CHANNEL_INDEX, object_index=0, return_location=True)\n",
    "fish_pixels_tensor = extract_raw_pixels_object(sample_full_color_observations, SRC_OBS_INDEX, baseline_model, baseline_env, fish_loc)\n",
    "lightened_fish_tensor = change_intensity(fish_pixels_tensor, multiplicative=1.5)\n",
    "darkened_fish_tensor = change_intensity(fish_pixels_tensor, multiplicative=0.5)\n",
    "# plot_tensors(fish_mask_tensor, fish_pixels_tensor)\n",
    "# print(fish_loc)\n",
    "\n",
    "NEW_FISH_LOCATIONS = [(fish_loc[0].start, 5 + 5 * i) for i in range(15)]\n",
    "\n",
    "baseline_fish_aug, masks_and_pixels_fish_aug, masks_only_fish_aug =\\\n",
    "    make_augmentations_all_models(baseline_aug_template, masks_and_pixels_aug_template, masks_only_aug_template,\n",
    "                                  lightened_fish_tensor, fish_mask_tensor, CHANNEL_INDEX, NEW_FISH_LOCATIONS)\n",
    "\n",
    "evaluate_augmented_models(sample_full_color_observations, DST_OBS_INEX, \n",
    "                         [baseline_fish_aug, masks_and_pixels_fish_aug, masks_only_fish_aug],\n",
    "                          force_text=True)\n",
    "    "
   ]
  },
  {
   "cell_type": "code",
   "execution_count": null,
   "metadata": {},
   "outputs": [],
   "source": [
    "SRC_OBS_INDEX = 330\n",
    "DST_OBS_INEX = 1112\n",
    "CHANNEL_INDEX = 6\n",
    "\n",
    "fish_mask_tensor, fish_loc = extract_object(sample_full_color_observations, SRC_OBS_INDEX, masks_only_model, masks_only_env,\n",
    "                                           channel_index=CHANNEL_INDEX, object_index=0, return_location=True)\n",
    "fish_pixels_tensor = extract_raw_pixels_object(sample_full_color_observations, SRC_OBS_INDEX, baseline_model, baseline_env, fish_loc)\n",
    "lightened_fish_tensor = change_intensity(fish_pixels_tensor, multiplicative=1.5)\n",
    "darkened_fish_tensor = change_intensity(fish_pixels_tensor, multiplicative=0.5)\n",
    "# plot_tensors(fish_mask_tensor, fish_pixels_tensor)\n",
    "# print(fish_loc)\n",
    "\n",
    "NEW_FISH_LOCATIONS = [(fish_loc[0].start, 5 + 5 * i) for i in range(15)]\n",
    "\n",
    "baseline_fish_aug, masks_and_pixels_fish_aug, masks_only_fish_aug =\\\n",
    "    make_augmentations_all_models(baseline_aug_template, masks_and_pixels_aug_template, masks_only_aug_template,\n",
    "                                  darkened_fish_tensor, fish_mask_tensor, CHANNEL_INDEX, NEW_FISH_LOCATIONS)\n",
    "\n",
    "evaluate_augmented_models(sample_full_color_observations, DST_OBS_INEX, \n",
    "                         [baseline_fish_aug, masks_and_pixels_fish_aug, masks_only_fish_aug],\n",
    "                          force_text=True)\n",
    "    "
   ]
  },
  {
   "cell_type": "markdown",
   "metadata": {},
   "source": [
    "# B.4 Same but with a bad animal"
   ]
  },
  {
   "cell_type": "code",
   "execution_count": null,
   "metadata": {
    "scrolled": false
   },
   "outputs": [],
   "source": [
    "SRC_OBS_INDEX = 325\n",
    "DST_OBS_INEX = 94\n",
    "CHANNEL_INDEX = 1\n",
    "\n",
    "bad_animal_mask_tensor, bad_animal_loc = extract_object(sample_full_color_observations, SRC_OBS_INDEX, masks_only_model, masks_only_env,\n",
    "                                           channel_index=CHANNEL_INDEX, object_index=0, return_location=True)\n",
    "bad_animal_pixels_tensor = extract_raw_pixels_object(sample_full_color_observations, SRC_OBS_INDEX, baseline_model, baseline_env, bad_animal_loc)\n",
    "lightened_bad_animal_pixels_tensor = change_intensity(bad_animal_pixels_tensor, multiplicative=1.5)\n",
    "darkened_bad_animal_tensor = change_intensity(bad_animal_pixels_tensor, multiplicative=0.5)\n",
    "\n",
    "# plot_tensors(bad_animal_mask_tensor, bad_animal_pixels_tensor, lightened_bad_animal_pixels_tensor, darkened_bad_animal_tensor, norm=True)\n",
    "# print(bad_animal_loc)\n",
    "\n",
    "NEW_BAD_ANIMAL_LOCATIONS = [(bad_animal_loc[0].start + 11, bad_animal_loc[1].start + 5 * i) for i in range(10)]\n",
    "\n",
    "baseline_bad_animal_aug, masks_and_pixels_bad_animal_aug, masks_only_bad_animal_aug =\\\n",
    "    make_augmentations_all_models(baseline_aug_template, masks_and_pixels_aug_template, masks_only_aug_template,\n",
    "                                  lightened_bad_animal_pixels_tensor, bad_animal_mask_tensor, CHANNEL_INDEX, NEW_BAD_ANIMAL_LOCATIONS)\n",
    "\n",
    "evaluate_augmented_models(sample_full_color_observations, DST_OBS_INEX, \n",
    "                         [baseline_bad_animal_aug, masks_and_pixels_bad_animal_aug, masks_only_bad_animal_aug],\n",
    "                          force_text=True)\n",
    "    "
   ]
  },
  {
   "cell_type": "code",
   "execution_count": null,
   "metadata": {},
   "outputs": [],
   "source": [
    "SRC_OBS_INDEX = 325\n",
    "DST_OBS_INEX = 94\n",
    "CHANNEL_INDEX = 1\n",
    "\n",
    "bad_animal_mask_tensor, bad_animal_loc = extract_object(sample_full_color_observations, SRC_OBS_INDEX, masks_only_model, masks_only_env,\n",
    "                                           channel_index=CHANNEL_INDEX, object_index=0, return_location=True)\n",
    "bad_animal_pixels_tensor = extract_raw_pixels_object(sample_full_color_observations, SRC_OBS_INDEX, baseline_model, baseline_env, bad_animal_loc)\n",
    "lightened_bad_animal_pixels_tensor = change_intensity(bad_animal_pixels_tensor, multiplicative=1.5)\n",
    "darkened_bad_animal_tensor = change_intensity(bad_animal_pixels_tensor, multiplicative=0.5)\n",
    "\n",
    "# plot_tensors(bad_animal_mask_tensor, bad_animal_pixels_tensor, lightened_bad_animal_pixels_tensor, darkened_bad_animal_tensor, norm=True)\n",
    "# print(bad_animal_loc)\n",
    "\n",
    "NEW_BAD_ANIMAL_LOCATIONS = [(bad_animal_loc[0].start + 11, bad_animal_loc[1].start + 5 * i) for i in range(10)]\n",
    "\n",
    "baseline_bad_animal_aug, masks_and_pixels_bad_animal_aug, masks_only_bad_animal_aug =\\\n",
    "    make_augmentations_all_models(baseline_aug_template, masks_and_pixels_aug_template, masks_only_aug_template,\n",
    "                                  darkened_bad_animal_tensor, bad_animal_mask_tensor, CHANNEL_INDEX, NEW_BAD_ANIMAL_LOCATIONS)\n",
    "\n",
    "evaluate_augmented_models(sample_full_color_observations, DST_OBS_INEX, \n",
    "                         [baseline_bad_animal_aug, masks_and_pixels_bad_animal_aug, masks_only_bad_animal_aug],\n",
    "                          force_text=True)\n",
    "    "
   ]
  },
  {
   "cell_type": "code",
   "execution_count": null,
   "metadata": {
    "scrolled": false
   },
   "outputs": [],
   "source": [
    "SRC_OBS_INDEX = 1270\n",
    "DST_OBS_INEX = 94\n",
    "CHANNEL_INDEX = 1\n",
    "OBJECT_INDEX = 1\n",
    "\n",
    "bad_animal_mask_tensor, bad_animal_loc = extract_object(sample_full_color_observations, SRC_OBS_INDEX, masks_only_model, masks_only_env,\n",
    "                                           channel_index=CHANNEL_INDEX, object_index=OBJECT_INDEX, return_location=True)\n",
    "bad_animal_pixels_tensor = extract_raw_pixels_object(sample_full_color_observations, SRC_OBS_INDEX, baseline_model, baseline_env, bad_animal_loc)\n",
    "lightened_bad_animal_pixels_tensor = change_intensity(bad_animal_pixels_tensor, multiplicative=1.5)\n",
    "darkened_bad_animal_tensor = change_intensity(bad_animal_pixels_tensor, multiplicative=0.33)\n",
    "\n",
    "# plot_tensors(bad_animal_mask_tensor, bad_animal_pixels_tensor, lightened_bad_animal_pixels_tensor, darkened_bad_animal_tensor, norm=True)\n",
    "# print(bad_animal_loc)\n",
    "\n",
    "# NEW_BAD_ANIMAL_LOCATIONS = [(bad_animal_loc[0].start + 11, 10 + 7 * i) for i in range(10)]\n",
    "\n",
    "baseline_bad_animal_aug, masks_and_pixels_bad_animal_aug, masks_only_bad_animal_aug =\\\n",
    "    make_augmentations_all_models(baseline_aug_template, masks_and_pixels_aug_template, masks_only_aug_template,\n",
    "                                  lightened_bad_animal_pixels_tensor, bad_animal_mask_tensor, CHANNEL_INDEX, NEW_BAD_ANIMAL_LOCATIONS)\n",
    "\n",
    "evaluate_augmented_models(sample_full_color_observations, DST_OBS_INEX, \n",
    "                         [baseline_bad_animal_aug, masks_and_pixels_bad_animal_aug, masks_only_bad_animal_aug],\n",
    "                          force_text=True)\n",
    "    "
   ]
  },
  {
   "cell_type": "code",
   "execution_count": null,
   "metadata": {},
   "outputs": [],
   "source": [
    "SRC_OBS_INDEX = 1270\n",
    "DST_OBS_INEX = 94\n",
    "CHANNEL_INDEX = 1\n",
    "OBJECT_INDEX = 1\n",
    "\n",
    "bad_animal_mask_tensor, bad_animal_loc = extract_object(sample_full_color_observations, SRC_OBS_INDEX, masks_only_model, masks_only_env,\n",
    "                                           channel_index=CHANNEL_INDEX, object_index=OBJECT_INDEX, return_location=True)\n",
    "bad_animal_pixels_tensor = extract_raw_pixels_object(sample_full_color_observations, SRC_OBS_INDEX, baseline_model, baseline_env, bad_animal_loc)\n",
    "lightened_bad_animal_pixels_tensor = change_intensity(bad_animal_pixels_tensor, multiplicative=1.5)\n",
    "darkened_bad_animal_tensor = change_intensity(bad_animal_pixels_tensor, multiplicative=0.33)\n",
    "\n",
    "# plot_tensors(bad_animal_mask_tensor, bad_animal_pixels_tensor, lightened_bad_animal_pixels_tensor, darkened_bad_animal_tensor, norm=True)\n",
    "# print(bad_animal_loc)\n",
    "\n",
    "# NEW_BAD_ANIMAL_LOCATIONS = [(bad_animal_loc[0].start + 11, 10 + 7 * i) for i in range(10)]\n",
    "\n",
    "baseline_bad_animal_aug, masks_and_pixels_bad_animal_aug, masks_only_bad_animal_aug =\\\n",
    "    make_augmentations_all_models(baseline_aug_template, masks_and_pixels_aug_template, masks_only_aug_template,\n",
    "                                  darkened_bad_animal_tensor, bad_animal_mask_tensor, CHANNEL_INDEX, NEW_BAD_ANIMAL_LOCATIONS)\n",
    "\n",
    "evaluate_augmented_models(sample_full_color_observations, DST_OBS_INEX, \n",
    "                         [baseline_bad_animal_aug, masks_and_pixels_bad_animal_aug, masks_only_bad_animal_aug],\n",
    "                          force_text=True)\n",
    "    "
   ]
  },
  {
   "cell_type": "code",
   "execution_count": null,
   "metadata": {
    "scrolled": true
   },
   "outputs": [],
   "source": [
    "SRC_OBS_INDEX = 1270\n",
    "DST_OBS_INEX = 94\n",
    "CHANNEL_INDEX = 1\n",
    "OBJECT_INDEX = 1\n",
    "\n",
    "bad_animal_mask_tensor, bad_animal_loc = extract_object(sample_full_color_observations, SRC_OBS_INDEX, masks_only_model, masks_only_env,\n",
    "                                           channel_index=CHANNEL_INDEX, object_index=OBJECT_INDEX, return_location=True)\n",
    "bad_animal_pixels_tensor = extract_raw_pixels_object(sample_full_color_observations, SRC_OBS_INDEX, baseline_model, baseline_env, bad_animal_loc)\n",
    "lightened_bad_animal_pixels_tensor = change_intensity(bad_animal_pixels_tensor, multiplicative=1.5)\n",
    "darkened_bad_animal_tensor = change_intensity(bad_animal_pixels_tensor, multiplicative=0.33)\n",
    "# plot_tensors(bad_animal_mask_tensor, bad_animal_pixels_tensor)\n",
    "# print(bad_animal_loc)\n",
    "\n",
    "NEW_BAD_ANIMAL_LOCATIONS = [(bad_animal_loc[0].start, 10 + 7 * i) for i in range(10)]\n",
    "\n",
    "baseline_bad_animal_aug, masks_and_pixels_bad_animal_aug, masks_only_bad_animal_aug =\\\n",
    "    make_augmentations_all_models(baseline_aug_template, masks_and_pixels_aug_template, masks_only_aug_template,\n",
    "                                  lightened_bad_animal_pixels_tensor, bad_animal_mask_tensor, CHANNEL_INDEX, NEW_BAD_ANIMAL_LOCATIONS)\n",
    "\n",
    "evaluate_augmented_models(sample_full_color_observations, DST_OBS_INEX, \n",
    "                         [baseline_bad_animal_aug, masks_and_pixels_bad_animal_aug, masks_only_bad_animal_aug],\n",
    "                          force_text=True)\n",
    "    "
   ]
  },
  {
   "cell_type": "code",
   "execution_count": null,
   "metadata": {
    "scrolled": true
   },
   "outputs": [],
   "source": [
    "SRC_OBS_INDEX = 1270\n",
    "DST_OBS_INEX = 94\n",
    "CHANNEL_INDEX = 1\n",
    "OBJECT_INDEX = 1\n",
    "\n",
    "bad_animal_mask_tensor, bad_animal_loc = extract_object(sample_full_color_observations, SRC_OBS_INDEX, masks_only_model, masks_only_env,\n",
    "                                           channel_index=CHANNEL_INDEX, object_index=OBJECT_INDEX, return_location=True)\n",
    "bad_animal_pixels_tensor = extract_raw_pixels_object(sample_full_color_observations, SRC_OBS_INDEX, baseline_model, baseline_env, bad_animal_loc)\n",
    "lightened_bad_animal_pixels_tensor = change_intensity(bad_animal_pixels_tensor, multiplicative=1.5)\n",
    "darkened_bad_animal_tensor = change_intensity(bad_animal_pixels_tensor, multiplicative=0.33)\n",
    "# plot_tensors(bad_animal_mask_tensor, bad_animal_pixels_tensor)\n",
    "# print(bad_animal_loc)\n",
    "\n",
    "NEW_BAD_ANIMAL_LOCATIONS = [(bad_animal_loc[0].start, 10 + 7 * i) for i in range(10)]\n",
    "\n",
    "baseline_bad_animal_aug, masks_and_pixels_bad_animal_aug, masks_only_bad_animal_aug =\\\n",
    "    make_augmentations_all_models(baseline_aug_template, masks_and_pixels_aug_template, masks_only_aug_template,\n",
    "                                  darkened_bad_animal_tensor, bad_animal_mask_tensor, CHANNEL_INDEX, NEW_BAD_ANIMAL_LOCATIONS)\n",
    "\n",
    "evaluate_augmented_models(sample_full_color_observations, DST_OBS_INEX, \n",
    "                         [baseline_bad_animal_aug, masks_and_pixels_bad_animal_aug, masks_only_bad_animal_aug],\n",
    "                          force_text=True)\n",
    "    "
   ]
  },
  {
   "cell_type": "code",
   "execution_count": null,
   "metadata": {
    "scrolled": true
   },
   "outputs": [],
   "source": [
    "SRC_OBS_INDEX = 1270\n",
    "DST_OBS_INEX = 1112\n",
    "CHANNEL_INDEX = 1\n",
    "OBJECT_INDEX = 1\n",
    "\n",
    "bad_animal_mask_tensor, bad_animal_loc = extract_object(sample_full_color_observations, SRC_OBS_INDEX, masks_only_model, masks_only_env,\n",
    "                                           channel_index=CHANNEL_INDEX, object_index=OBJECT_INDEX, return_location=True)\n",
    "bad_animal_pixels_tensor = extract_raw_pixels_object(sample_full_color_observations, SRC_OBS_INDEX, baseline_model, baseline_env, bad_animal_loc)\n",
    "lightened_bad_animal_pixels_tensor = change_intensity(bad_animal_pixels_tensor, multiplicative=1.5)\n",
    "darkened_bad_animal_tensor = change_intensity(bad_animal_pixels_tensor, multiplicative=0.33)\n",
    "# plot_tensors(bad_animal_mask_tensor, bad_animal_pixels_tensor)\n",
    "# print(bad_animal_loc)\n",
    "\n",
    "NEW_BAD_ANIMAL_LOCATIONS = [(bad_animal_loc[0].start, 10 + 7 * i) for i in range(10)]\n",
    "\n",
    "baseline_bad_animal_aug, masks_and_pixels_bad_animal_aug, masks_only_bad_animal_aug =\\\n",
    "    make_augmentations_all_models(baseline_aug_template, masks_and_pixels_aug_template, masks_only_aug_template,\n",
    "                                  lightened_bad_animal_pixels_tensor, bad_animal_mask_tensor, CHANNEL_INDEX, NEW_BAD_ANIMAL_LOCATIONS)\n",
    "\n",
    "evaluate_augmented_models(sample_full_color_observations, DST_OBS_INEX, \n",
    "                         [baseline_bad_animal_aug, masks_and_pixels_bad_animal_aug, masks_only_bad_animal_aug],\n",
    "                          force_text=True)\n",
    "    "
   ]
  },
  {
   "cell_type": "code",
   "execution_count": null,
   "metadata": {
    "scrolled": true
   },
   "outputs": [],
   "source": [
    "SRC_OBS_INDEX = 1270\n",
    "DST_OBS_INEX = 1112\n",
    "CHANNEL_INDEX = 1\n",
    "OBJECT_INDEX = 1\n",
    "\n",
    "bad_animal_mask_tensor, bad_animal_loc = extract_object(sample_full_color_observations, SRC_OBS_INDEX, masks_only_model, masks_only_env,\n",
    "                                           channel_index=CHANNEL_INDEX, object_index=OBJECT_INDEX, return_location=True)\n",
    "bad_animal_pixels_tensor = extract_raw_pixels_object(sample_full_color_observations, SRC_OBS_INDEX, baseline_model, baseline_env, bad_animal_loc)\n",
    "lightened_bad_animal_pixels_tensor = change_intensity(bad_animal_pixels_tensor, multiplicative=1.5)\n",
    "darkened_bad_animal_tensor = change_intensity(bad_animal_pixels_tensor, multiplicative=0.33)\n",
    "# plot_tensors(bad_animal_mask_tensor, bad_animal_pixels_tensor)\n",
    "# print(bad_animal_loc)\n",
    "\n",
    "NEW_BAD_ANIMAL_LOCATIONS = [(bad_animal_loc[0].start, 10 + 7 * i) for i in range(10)]\n",
    "\n",
    "baseline_bad_animal_aug, masks_and_pixels_bad_animal_aug, masks_only_bad_animal_aug =\\\n",
    "    make_augmentations_all_models(baseline_aug_template, masks_and_pixels_aug_template, masks_only_aug_template,\n",
    "                                  darkened_bad_animal_tensor, bad_animal_mask_tensor, CHANNEL_INDEX, NEW_BAD_ANIMAL_LOCATIONS)\n",
    "\n",
    "evaluate_augmented_models(sample_full_color_observations, DST_OBS_INEX, \n",
    "                         [baseline_bad_animal_aug, masks_and_pixels_bad_animal_aug, masks_only_bad_animal_aug],\n",
    "                          force_text=True)\n",
    "    "
   ]
  },
  {
   "cell_type": "markdown",
   "metadata": {},
   "source": [
    "# C -- New shape (and presumably, new color)\n",
    "* What happens if an alien from space invaders comes to play Frostbite?\n",
    "* The current alien is a little bit larger than some existing other objects\n",
    "* **TODO: do we use the same image as the mask and the pixels?** Let's make it a little bit later brighter, like the other images tend to be"
   ]
  },
  {
   "cell_type": "code",
   "execution_count": null,
   "metadata": {},
   "outputs": [],
   "source": [
    "alien_pixels_tensor = torch.tensor([[  0,   0,  52, 243,  52,   0,   0],\n",
    "       [  0,   0, 243, 243, 243,   0,   0],\n",
    "       [ 52, 243, 202, 243, 202, 243,  52],\n",
    "       [243, 243, 148, 243, 148, 243, 243],\n",
    "       [ 52, 243,  93, 243,  93, 243,  52],\n",
    "       [243,   0,   0,   0,   0,   0, 243],\n",
    "       [  0, 243,   0,   0,   0, 243,   0]], dtype=torch.float32, device=bad_animal_pixels_tensor.device) / 255\n",
    "\n",
    "print(alien_pixels_tensor.mean())\n",
    "print(bad_animal_pixels_tensor.mean(), fish_pixels_tensor.mean(), igloo_pixels_tensor.mean(), player_pixels_tensor.mean())\n",
    "\n",
    "alien_mask_tensor = change_intensity(alien_pixels_tensor, multiplicative=2)\n",
    "print(alien_mask_tensor.mean())\n",
    "print(bad_animal_mask_tensor.mean(), fish_mask_tensor.mean(), igloo_mask_tensor.mean(), player_mask_tensor.mean())\n",
    "\n",
    "plot_tensors(alien_pixels_tensor, alien_mask_tensor, norm=True)"
   ]
  },
  {
   "cell_type": "code",
   "execution_count": null,
   "metadata": {},
   "outputs": [],
   "source": [
    "small_alien_pixels_tensor = torch.tensor([[  0,  24, 243,  24,   0],\n",
    "       [ 24, 243, 243, 243,  24],\n",
    "       [243, 122, 243, 122, 243],\n",
    "       [ 24,   0, 243,   0,  24],\n",
    "       [ 44,   0,   0,   0,  44]], dtype=torch.float32, device=bad_animal_pixels_tensor.device) / 255\n",
    "                                         \n",
    "print(small_alien_pixels_tensor.mean())\n",
    "print(bad_animal_pixels_tensor.mean(), fish_pixels_tensor.mean(), igloo_pixels_tensor.mean(), player_pixels_tensor.mean())\n",
    "\n",
    "small_alien_mask_tensor = change_intensity(small_alien_pixels_tensor, multiplicative=2)\n",
    "print(small_alien_mask_tensor.mean())\n",
    "print(bad_animal_mask_tensor.mean(), fish_mask_tensor.mean(), igloo_mask_tensor.mean(), player_mask_tensor.mean())\n",
    "\n",
    "darker_small_alien_tensor = change_intensity(small_alien_pixels_tensor, multiplicative=0.5)\n",
    "\n",
    "plot_tensors(alien_pixels_tensor, alien_mask_tensor, small_alien_pixels_tensor, small_alien_mask_tensor, darker_small_alien_tensor, norm=True)"
   ]
  },
  {
   "cell_type": "markdown",
   "metadata": {},
   "source": [
    "# C.1 Aliens as bad animals"
   ]
  },
  {
   "cell_type": "code",
   "execution_count": null,
   "metadata": {
    "scrolled": true
   },
   "outputs": [],
   "source": [
    "SRC_OBS_INDEX = 325\n",
    "CHANNEL_INDEX = 1\n",
    "START_LOC = (44, 10)\n",
    "\n",
    "for dst_index, row_loc_incs in zip((94, 1112),\n",
    "                                   ((0, 10, 20), (0, 10, 20))):\n",
    "    for row_loc_inc in row_loc_incs:\n",
    "    \n",
    "        bad_animal_mask_tensor, bad_animal_loc = extract_object(sample_full_color_observations, SRC_OBS_INDEX, masks_only_model, masks_only_env,\n",
    "                                           channel_index=CHANNEL_INDEX, object_index=0, return_location=True)\n",
    "\n",
    "        NEW_BAD_ANIMAL_LOCATIONS = [(START_LOC[0] + row_loc_inc, START_LOC[1] + 7 * i) for i in range(10)]\n",
    "\n",
    "        baseline_alien_as_bad_animal_aug, masks_and_pixels_alien_as_bad_animal_aug, masks_only_alien_as_bad_animal_aug =\\\n",
    "            make_augmentations_all_models(baseline_aug_template, masks_and_pixels_aug_template, masks_only_aug_template,\n",
    "                                          small_alien_pixels_tensor, small_alien_mask_tensor, CHANNEL_INDEX, NEW_BAD_ANIMAL_LOCATIONS)\n",
    "\n",
    "        evaluate_augmented_models(sample_full_color_observations, dst_index, \n",
    "                                 [baseline_alien_as_bad_animal_aug, masks_and_pixels_alien_as_bad_animal_aug, masks_only_alien_as_bad_animal_aug],\n",
    "                                  force_text=True)\n",
    "        \n",
    "        display(Markdown('----'))\n",
    "    \n",
    "\n",
    "\n"
   ]
  },
  {
   "cell_type": "markdown",
   "metadata": {},
   "source": [
    "# C.2 Darker alien as bad animal"
   ]
  },
  {
   "cell_type": "code",
   "execution_count": null,
   "metadata": {
    "scrolled": true
   },
   "outputs": [],
   "source": [
    "SRC_OBS_INDEX = 325\n",
    "CHANNEL_INDEX = 1\n",
    "START_LOC = (44, 10)\n",
    "\n",
    "for dst_index, row_loc_incs in zip((94, 1112),\n",
    "                                   ((10, 20, 30), (10, 20, 30))):\n",
    "    for row_loc_inc in row_loc_incs:\n",
    "    \n",
    "        bad_animal_mask_tensor, bad_animal_loc = extract_object(sample_full_color_observations, SRC_OBS_INDEX, masks_only_model, masks_only_env,\n",
    "                                           channel_index=CHANNEL_INDEX, object_index=0, return_location=True)\n",
    "\n",
    "        NEW_BAD_ANIMAL_LOCATIONS = [(START_LOC[0] + row_loc_inc, START_LOC[1] + 7 * i) for i in range(10)]\n",
    "\n",
    "        baseline_alien_as_bad_animal_aug, masks_and_pixels_alien_as_bad_animal_aug, masks_only_alien_as_bad_animal_aug =\\\n",
    "            make_augmentations_all_models(baseline_aug_template, masks_and_pixels_aug_template, masks_only_aug_template,\n",
    "                                          darker_small_alien_tensor, small_alien_mask_tensor, CHANNEL_INDEX, NEW_BAD_ANIMAL_LOCATIONS)\n",
    "\n",
    "        evaluate_augmented_models(sample_full_color_observations, dst_index, \n",
    "                                 [baseline_alien_as_bad_animal_aug, masks_and_pixels_alien_as_bad_animal_aug, masks_only_alien_as_bad_animal_aug],\n",
    "                                  force_text=True)\n",
    "        \n",
    "        display(Markdown('----'))\n",
    "    \n",
    "\n",
    "\n"
   ]
  },
  {
   "cell_type": "markdown",
   "metadata": {},
   "source": [
    "# C.3 Aliens as good animals"
   ]
  },
  {
   "cell_type": "code",
   "execution_count": null,
   "metadata": {
    "scrolled": true
   },
   "outputs": [],
   "source": [
    "SRC_OBS_INDEX = 325\n",
    "CHANNEL_INDEX = 6\n",
    "START_LOC = (44, 10)\n",
    "\n",
    "for dst_index, row_loc_incs in zip((94, 1112),\n",
    "                                   ((0, 10, 20), (0, 10, 20))):\n",
    "    for row_loc_inc in row_loc_incs:\n",
    "    \n",
    "        bad_animal_mask_tensor, bad_animal_loc = extract_object(sample_full_color_observations, SRC_OBS_INDEX, masks_only_model, masks_only_env,\n",
    "                                           channel_index=CHANNEL_INDEX, object_index=0, return_location=True)\n",
    "\n",
    "        NEW_BAD_ANIMAL_LOCATIONS = [(START_LOC[0] + row_loc_inc, START_LOC[1] + 7 * i) for i in range(10)]\n",
    "\n",
    "        baseline_alien_as_bad_animal_aug, masks_and_pixels_alien_as_bad_animal_aug, masks_only_alien_as_bad_animal_aug =\\\n",
    "            make_augmentations_all_models(baseline_aug_template, masks_and_pixels_aug_template, masks_only_aug_template,\n",
    "                                          small_alien_pixels_tensor, small_alien_mask_tensor, CHANNEL_INDEX, NEW_BAD_ANIMAL_LOCATIONS)\n",
    "\n",
    "        evaluate_augmented_models(sample_full_color_observations, dst_index, \n",
    "                                 [baseline_alien_as_bad_animal_aug, masks_and_pixels_alien_as_bad_animal_aug, masks_only_alien_as_bad_animal_aug],\n",
    "                                  force_text=True)\n",
    "        \n",
    "        display(Markdown('----'))\n",
    "    \n",
    "\n",
    "\n"
   ]
  },
  {
   "cell_type": "markdown",
   "metadata": {},
   "source": [
    "# C.4 Darker alien as good animal"
   ]
  },
  {
   "cell_type": "code",
   "execution_count": null,
   "metadata": {
    "scrolled": true
   },
   "outputs": [],
   "source": [
    "SRC_OBS_INDEX = 325\n",
    "CHANNEL_INDEX = 6\n",
    "START_LOC = (44, 10)\n",
    "\n",
    "for dst_index, row_loc_incs in zip((94, 1112),\n",
    "                                   ((0, 10, 20), (0, 10, 20))):\n",
    "    for row_loc_inc in row_loc_incs:\n",
    "    \n",
    "        bad_animal_mask_tensor, bad_animal_loc = extract_object(sample_full_color_observations, SRC_OBS_INDEX, masks_only_model, masks_only_env,\n",
    "                                           channel_index=CHANNEL_INDEX, object_index=0, return_location=True)\n",
    "\n",
    "        NEW_BAD_ANIMAL_LOCATIONS = [(START_LOC[0] + row_loc_inc, START_LOC[1] + 7 * i) for i in range(10)]\n",
    "\n",
    "        baseline_alien_as_bad_animal_aug, masks_and_pixels_alien_as_bad_animal_aug, masks_only_alien_as_bad_animal_aug =\\\n",
    "            make_augmentations_all_models(baseline_aug_template, masks_and_pixels_aug_template, masks_only_aug_template,\n",
    "                                          darker_small_alien_tensor, small_alien_mask_tensor, CHANNEL_INDEX, NEW_BAD_ANIMAL_LOCATIONS)\n",
    "\n",
    "        evaluate_augmented_models(sample_full_color_observations, dst_index, \n",
    "                                 [baseline_alien_as_bad_animal_aug, masks_and_pixels_alien_as_bad_animal_aug, masks_only_alien_as_bad_animal_aug],\n",
    "                                  force_text=True)\n",
    "        \n",
    "        display(Markdown('----'))\n",
    "    \n",
    "\n",
    "\n"
   ]
  },
  {
   "cell_type": "markdown",
   "metadata": {},
   "source": [
    "# C.5 Aliens as visited and unvisited ice floes? "
   ]
  },
  {
   "cell_type": "code",
   "execution_count": null,
   "metadata": {
    "scrolled": true
   },
   "outputs": [],
   "source": [
    "SRC_OBS_INDEX = 325\n",
    "CHANNEL_INDEX = 6\n",
    "START_LOC = (44, 10)\n",
    "\n",
    "for name, channel_index in zip(('Unvisited Floes', 'Visited Floes'), (4, 5)):\n",
    "    display(Markdown(f'## {name}'))\n",
    "    \n",
    "    for dst_index, row_loc_incs in zip((94, 1112),\n",
    "                                       ((0, 10, 20), (0, 10, 20))):\n",
    "        for row_loc_inc in row_loc_incs:\n",
    "\n",
    "            NEW_LOCATIONS = [(START_LOC[0] + row_loc_inc, START_LOC[1] + 7 * i) for i in range(10)]\n",
    "\n",
    "            baseline_alien_as_bad_animal_aug, masks_and_pixels_alien_as_bad_animal_aug, masks_only_alien_as_bad_animal_aug =\\\n",
    "                make_augmentations_all_models(baseline_aug_template, masks_and_pixels_aug_template, masks_only_aug_template,\n",
    "                                              darker_small_alien_tensor, small_alien_mask_tensor, channel_index, NEW_LOCATIONS)\n",
    "\n",
    "            evaluate_augmented_models(sample_full_color_observations, dst_index, \n",
    "                                     [baseline_alien_as_bad_animal_aug, masks_and_pixels_alien_as_bad_animal_aug, masks_only_alien_as_bad_animal_aug],\n",
    "                                      force_text=True)\n",
    "\n",
    "            display(Markdown('----'))\n",
    "    \n",
    "\n",
    "\n"
   ]
  },
  {
   "cell_type": "markdown",
   "metadata": {},
   "source": [
    "# D Same as above but in aggregate"
   ]
  },
  {
   "cell_type": "code",
   "execution_count": null,
   "metadata": {},
   "outputs": [],
   "source": []
  },
  {
   "cell_type": "code",
   "execution_count": null,
   "metadata": {
    "scrolled": false
   },
   "outputs": [],
   "source": [
    "SRC_OBS_INDEX = 310\n",
    "DST_OBS_INDEX = 875\n",
    "CHANNEL_INDEX = 6\n",
    "\n",
    "fish_mask_tensor, fish_loc = extract_object(sample_full_color_observations, SRC_OBS_INDEX, masks_only_model, masks_only_env,\n",
    "                                           channel_index=CHANNEL_INDEX, object_index=0, return_location=True)\n",
    "fish_pixels_tensor = extract_raw_pixels_object(sample_full_color_observations, SRC_OBS_INDEX, baseline_model, baseline_env, fish_loc)\n",
    "\n",
    "# plot_tensors(fish_mask_tensor, fish_pixels_tensor)\n",
    "# print(fish_loc)\n",
    "\n",
    "NEW_FISH_LOCATIONS = [(fish_loc[0].start, fish_loc[1].start + 10 * i) for i in range(12)]\n",
    "\n",
    "baseline_fish_aug, masks_and_pixels_fish_aug, masks_only_fish_aug =\\\n",
    "    make_augmentations_all_models(baseline_aug_template, masks_and_pixels_aug_template, masks_only_aug_template,\n",
    "                                  fish_pixels_tensor, fish_mask_tensor, CHANNEL_INDEX, NEW_FISH_LOCATIONS)\n",
    "\n",
    "all_baseline_fish_augs = make_augmentation_per_model(baseline_fish_aug, all_baseline_models)\n",
    "all_masks_and_pixels_fish_augs = make_augmentation_per_model(masks_and_pixels_fish_aug, all_masks_and_pixels_models)\n",
    "all_masks_only_fish_augs = make_augmentation_per_model(masks_only_fish_aug, all_masks_only_models)\n",
    "\n",
    "\n",
    "evaluate_multiple_models_single_augmented_state(sample_full_color_observations, DST_OBS_INDEX, \n",
    "                                                (all_baseline_fish_augs, all_masks_and_pixels_fish_augs, all_masks_only_fish_augs),\n",
    "#                                                 key_actions=[5, 8, 9, 13, 16, 17],\n",
    "                                                names=('Rainbow', 'With Objects', 'Only Objects'))\n",
    "    "
   ]
  },
  {
   "cell_type": "markdown",
   "metadata": {},
   "source": [
    "# A -- Same shape, same colors"
   ]
  },
  {
   "cell_type": "markdown",
   "metadata": {},
   "source": [
    "# A.1 Additional player"
   ]
  },
  {
   "cell_type": "code",
   "execution_count": null,
   "metadata": {
    "scrolled": true
   },
   "outputs": [],
   "source": [
    "OBS_INDEX = 1449\n",
    "\n",
    "player_mask_tensor, player_loc = extract_object(sample_full_color_observations, OBS_INDEX, masks_only_model, masks_only_env,\n",
    "                                           channel_index=0, object_index=0, return_location=True)\n",
    "player_pixels_tensor = extract_raw_pixels_object(sample_full_color_observations, OBS_INDEX, baseline_model, baseline_env, player_loc)\n",
    "\n",
    "NEW_PLAYER_LOCATION = (45, 45)\n",
    "\n",
    "baseline_player_aug, masks_and_pixels_player_aug, masks_only_player_aug =\\\n",
    "    make_augmentations_all_models(baseline_aug_template, masks_and_pixels_aug_template, masks_only_aug_template,\n",
    "                                  player_pixels_tensor, player_mask_tensor, 0, [NEW_PLAYER_LOCATION])\n",
    "\n",
    "evaluate_augmented_models(sample_full_color_observations, OBS_INDEX, \n",
    "                         [baseline_player_aug, masks_and_pixels_player_aug, masks_only_player_aug],\n",
    "                          force_text=True)\n",
    "    "
   ]
  },
  {
   "cell_type": "markdown",
   "metadata": {},
   "source": [
    "# A.2 Adding a completed igloo to a state without a complete igloo"
   ]
  },
  {
   "cell_type": "code",
   "execution_count": null,
   "metadata": {},
   "outputs": [],
   "source": [
    "SRC_OBS_INDEX = 1200\n",
    "DST_OBS_INEX = 2904\n",
    "CHANNEL_INDEX = 7\n",
    "\n",
    "igloo_mask_tensor, igloo_loc = extract_object(sample_full_color_observations, SRC_OBS_INDEX, masks_only_model, masks_only_env,\n",
    "                                           channel_index=CHANNEL_INDEX, object_index=0, return_location=True)\n",
    "igloo_pixels_tensor = extract_raw_pixels_object(sample_full_color_observations, SRC_OBS_INDEX, baseline_model, baseline_env, igloo_loc)\n",
    "\n",
    "# plot_tensors(igloo_mask_tensor, igloo_pixels_tensor)\n",
    "\n",
    "NEW_IGLOO_LOCATION = (igloo_loc[0].start, igloo_loc[1].start)\n",
    "\n",
    "baseline_igloo_aug, masks_and_pixels_igloo_aug, masks_only_igloo_aug =\\\n",
    "    make_augmentations_all_models(baseline_aug_template, masks_and_pixels_aug_template, masks_only_aug_template,\n",
    "                                  igloo_pixels_tensor, igloo_mask_tensor, CHANNEL_INDEX, [NEW_IGLOO_LOCATION])\n",
    "\n",
    "evaluate_augmented_models(sample_full_color_observations, DST_OBS_INEX, \n",
    "                         [baseline_igloo_aug, masks_and_pixels_igloo_aug, masks_only_igloo_aug],\n",
    "                          force_text=True)\n",
    "    "
   ]
  },
  {
   "cell_type": "code",
   "execution_count": null,
   "metadata": {},
   "outputs": [],
   "source": [
    "SRC_OBS_INDEX = 2600\n",
    "DST_OBS_INEX = 2100\n",
    "CHANNEL_INDEX = 7\n",
    "\n",
    "igloo_mask_tensor, igloo_loc = extract_object(sample_full_color_observations, SRC_OBS_INDEX, masks_only_model, masks_only_env,\n",
    "                                           channel_index=CHANNEL_INDEX, object_index=0, return_location=True)\n",
    "igloo_pixels_tensor = extract_raw_pixels_object(sample_full_color_observations, SRC_OBS_INDEX, baseline_model, baseline_env, igloo_loc)\n",
    "\n",
    "# plot_tensors(igloo_mask_tensor, igloo_pixels_tensor)\n",
    "\n",
    "NEW_IGLOO_LOCATION = (igloo_loc[0].start, igloo_loc[1].start)\n",
    "\n",
    "baseline_igloo_aug, masks_and_pixels_igloo_aug, masks_only_igloo_aug =\\\n",
    "    make_augmentations_all_models(baseline_aug_template, masks_and_pixels_aug_template, masks_only_aug_template,\n",
    "                                  igloo_pixels_tensor, igloo_mask_tensor, CHANNEL_INDEX, [NEW_IGLOO_LOCATION])\n",
    "\n",
    "evaluate_augmented_models(sample_full_color_observations, DST_OBS_INEX, \n",
    "                         [baseline_igloo_aug, masks_and_pixels_igloo_aug, masks_only_igloo_aug],\n",
    "                          force_text=True)\n",
    "    "
   ]
  },
  {
   "cell_type": "code",
   "execution_count": null,
   "metadata": {
    "scrolled": true
   },
   "outputs": [],
   "source": [
    "SRC_OBS_INDEX = 450\n",
    "DST_OBS_INEX = 94\n",
    "CHANNEL_INDEX = 7\n",
    "\n",
    "igloo_mask_tensor, igloo_loc = extract_object(sample_full_color_observations, SRC_OBS_INDEX, masks_only_model, masks_only_env,\n",
    "                                           channel_index=CHANNEL_INDEX, object_index=0, return_location=True)\n",
    "igloo_pixels_tensor = extract_raw_pixels_object(sample_full_color_observations, SRC_OBS_INDEX, baseline_model, baseline_env, igloo_loc)\n",
    "\n",
    "# plot_tensors(igloo_mask_tensor, igloo_pixels_tensor)\n",
    "\n",
    "NEW_IGLOO_LOCATION = (igloo_loc[0].start, igloo_loc[1].start)\n",
    "\n",
    "baseline_igloo_aug, masks_and_pixels_igloo_aug, masks_only_igloo_aug =\\\n",
    "    make_augmentations_all_models(baseline_aug_template, masks_and_pixels_aug_template, masks_only_aug_template,\n",
    "                                  igloo_pixels_tensor, igloo_mask_tensor, CHANNEL_INDEX, [NEW_IGLOO_LOCATION])\n",
    "\n",
    "evaluate_augmented_models(sample_full_color_observations, DST_OBS_INEX, \n",
    "                         [baseline_igloo_aug, masks_and_pixels_igloo_aug, masks_only_igloo_aug],\n",
    "                          force_text=True)\n",
    "    "
   ]
  },
  {
   "cell_type": "markdown",
   "metadata": {},
   "source": [
    "# A.3 Adding many of a particular good animal"
   ]
  },
  {
   "cell_type": "code",
   "execution_count": null,
   "metadata": {
    "scrolled": true
   },
   "outputs": [],
   "source": [
    "SRC_OBS_INDEX = 310\n",
    "DST_OBS_INEX = 94\n",
    "CHANNEL_INDEX = 6\n",
    "\n",
    "fish_mask_tensor, fish_loc = extract_object(sample_full_color_observations, SRC_OBS_INDEX, masks_only_model, masks_only_env,\n",
    "                                           channel_index=CHANNEL_INDEX, object_index=0, return_location=True)\n",
    "fish_pixels_tensor = extract_raw_pixels_object(sample_full_color_observations, SRC_OBS_INDEX, baseline_model, baseline_env, fish_loc)\n",
    "\n",
    "# plot_tensors(fish_mask_tensor, fish_pixels_tensor)\n",
    "# print(fish_loc)\n",
    "\n",
    "NEW_FISH_LOCATIONS = [(fish_loc[0].start - 10, fish_loc[1].start + 13 * i) for i in range(10)]\n",
    "\n",
    "baseline_fish_aug, masks_and_pixels_fish_aug, masks_only_fish_aug =\\\n",
    "    make_augmentations_all_models(baseline_aug_template, masks_and_pixels_aug_template, masks_only_aug_template,\n",
    "                                  fish_pixels_tensor, fish_mask_tensor, CHANNEL_INDEX, NEW_FISH_LOCATIONS)\n",
    "\n",
    "evaluate_augmented_models(sample_full_color_observations, DST_OBS_INEX, \n",
    "                         [baseline_fish_aug, masks_and_pixels_fish_aug, masks_only_fish_aug],\n",
    "                          force_text=True)\n",
    "    "
   ]
  },
  {
   "cell_type": "code",
   "execution_count": null,
   "metadata": {},
   "outputs": [],
   "source": [
    "SRC_OBS_INDEX = 310\n",
    "DST_OBS_INEX = 875\n",
    "CHANNEL_INDEX = 6\n",
    "\n",
    "fish_mask_tensor, fish_loc = extract_object(sample_full_color_observations, SRC_OBS_INDEX, masks_only_model, masks_only_env,\n",
    "                                           channel_index=CHANNEL_INDEX, object_index=0, return_location=True)\n",
    "fish_pixels_tensor = extract_raw_pixels_object(sample_full_color_observations, SRC_OBS_INDEX, baseline_model, baseline_env, fish_loc)\n",
    "\n",
    "# plot_tensors(fish_mask_tensor, fish_pixels_tensor)\n",
    "# print(fish_loc)\n",
    "\n",
    "NEW_FISH_LOCATIONS = [(fish_loc[0].start, fish_loc[1].start + 5 * i) for i in range(15)]\n",
    "\n",
    "baseline_fish_aug, masks_and_pixels_fish_aug, masks_only_fish_aug =\\\n",
    "    make_augmentations_all_models(baseline_aug_template, masks_and_pixels_aug_template, masks_only_aug_template,\n",
    "                                  fish_pixels_tensor, fish_mask_tensor, CHANNEL_INDEX, NEW_FISH_LOCATIONS)\n",
    "\n",
    "evaluate_augmented_models(sample_full_color_observations, DST_OBS_INEX, \n",
    "                         [baseline_fish_aug, masks_and_pixels_fish_aug, masks_only_fish_aug],\n",
    "                          force_text=True)\n",
    "    "
   ]
  },
  {
   "cell_type": "code",
   "execution_count": null,
   "metadata": {},
   "outputs": [],
   "source": [
    "SRC_OBS_INDEX = 310\n",
    "DST_OBS_INEX = 1112\n",
    "CHANNEL_INDEX = 6\n",
    "\n",
    "fish_mask_tensor, fish_loc = extract_object(sample_full_color_observations, SRC_OBS_INDEX, masks_only_model, masks_only_env,\n",
    "                                           channel_index=CHANNEL_INDEX, object_index=0, return_location=True)\n",
    "fish_pixels_tensor = extract_raw_pixels_object(sample_full_color_observations, SRC_OBS_INDEX, baseline_model, baseline_env, fish_loc)\n",
    "\n",
    "# plot_tensors(fish_mask_tensor, fish_pixels_tensor)\n",
    "# print(fish_loc)\n",
    "\n",
    "NEW_FISH_LOCATIONS = [(fish_loc[0].start - 10, fish_loc[1].start + 5 * i) for i in range(15)]\n",
    "\n",
    "baseline_fish_aug, masks_and_pixels_fish_aug, masks_only_fish_aug =\\\n",
    "    make_augmentations_all_models(baseline_aug_template, masks_and_pixels_aug_template, masks_only_aug_template,\n",
    "                                  fish_pixels_tensor, fish_mask_tensor, CHANNEL_INDEX, NEW_FISH_LOCATIONS)\n",
    "\n",
    "evaluate_augmented_models(sample_full_color_observations, DST_OBS_INEX, \n",
    "                         [baseline_fish_aug, masks_and_pixels_fish_aug, masks_only_fish_aug],\n",
    "                          force_text=True)\n",
    "    "
   ]
  },
  {
   "cell_type": "code",
   "execution_count": null,
   "metadata": {},
   "outputs": [],
   "source": [
    "SRC_OBS_INDEX = 330\n",
    "DST_OBS_INEX = 1112\n",
    "CHANNEL_INDEX = 6\n",
    "\n",
    "fish_mask_tensor, fish_loc = extract_object(sample_full_color_observations, SRC_OBS_INDEX, masks_only_model, masks_only_env,\n",
    "                                           channel_index=CHANNEL_INDEX, object_index=0, return_location=True)\n",
    "fish_pixels_tensor = extract_raw_pixels_object(sample_full_color_observations, SRC_OBS_INDEX, baseline_model, baseline_env, fish_loc)\n",
    "\n",
    "# plot_tensors(fish_mask_tensor, fish_pixels_tensor)\n",
    "# print(fish_loc)\n",
    "\n",
    "NEW_FISH_LOCATIONS = [(fish_loc[0].start, 5 + 5 * i) for i in range(15)]\n",
    "\n",
    "baseline_fish_aug, masks_and_pixels_fish_aug, masks_only_fish_aug =\\\n",
    "    make_augmentations_all_models(baseline_aug_template, masks_and_pixels_aug_template, masks_only_aug_template,\n",
    "                                  fish_pixels_tensor, fish_mask_tensor, CHANNEL_INDEX, NEW_FISH_LOCATIONS)\n",
    "\n",
    "evaluate_augmented_models(sample_full_color_observations, DST_OBS_INEX, \n",
    "                         [baseline_fish_aug, masks_and_pixels_fish_aug, masks_only_fish_aug],\n",
    "                          force_text=True)\n",
    "    "
   ]
  },
  {
   "cell_type": "markdown",
   "metadata": {},
   "source": [
    "# A.4 Same but with a bad animal"
   ]
  },
  {
   "cell_type": "code",
   "execution_count": null,
   "metadata": {
    "scrolled": false
   },
   "outputs": [],
   "source": [
    "SRC_OBS_INDEX = 325\n",
    "DST_OBS_INEX = 94\n",
    "CHANNEL_INDEX = 1\n",
    "\n",
    "bad_animal_mask_tensor, bad_animal_loc = extract_object(sample_full_color_observations, SRC_OBS_INDEX, masks_only_model, masks_only_env,\n",
    "                                           channel_index=CHANNEL_INDEX, object_index=0, return_location=True)\n",
    "bad_animal_pixels_tensor = extract_raw_pixels_object(sample_full_color_observations, SRC_OBS_INDEX, baseline_model, baseline_env, bad_animal_loc)\n",
    "\n",
    "# plot_tensors(bad_animal_mask_tensor, bad_animal_pixels_tensor)\n",
    "# print(bad_animal_loc)\n",
    "\n",
    "NEW_BAD_ANIMAL_LOCATIONS = [(bad_animal_loc[0].start + 11, bad_animal_loc[1].start + 5 * i) for i in range(10)]\n",
    "\n",
    "baseline_bad_animal_aug, masks_and_pixels_bad_animal_aug, masks_only_bad_animal_aug =\\\n",
    "    make_augmentations_all_models(baseline_aug_template, masks_and_pixels_aug_template, masks_only_aug_template,\n",
    "                                  bad_animal_pixels_tensor, bad_animal_mask_tensor, CHANNEL_INDEX, NEW_BAD_ANIMAL_LOCATIONS)\n",
    "\n",
    "evaluate_augmented_models(sample_full_color_observations, DST_OBS_INEX, \n",
    "                         [baseline_bad_animal_aug, masks_and_pixels_bad_animal_aug, masks_only_bad_animal_aug],\n",
    "                          force_text=True)\n",
    "    "
   ]
  },
  {
   "cell_type": "code",
   "execution_count": null,
   "metadata": {
    "scrolled": false
   },
   "outputs": [],
   "source": [
    "SRC_OBS_INDEX = 1270\n",
    "DST_OBS_INEX = 94\n",
    "CHANNEL_INDEX = 1\n",
    "OBJECT_INDEX = 1\n",
    "\n",
    "bad_animal_mask_tensor, bad_animal_loc = extract_object(sample_full_color_observations, SRC_OBS_INDEX, masks_only_model, masks_only_env,\n",
    "                                           channel_index=CHANNEL_INDEX, object_index=OBJECT_INDEX, return_location=True)\n",
    "bad_animal_pixels_tensor = extract_raw_pixels_object(sample_full_color_observations, SRC_OBS_INDEX, baseline_model, baseline_env, bad_animal_loc)\n",
    "\n",
    "# plot_tensors(bad_animal_mask_tensor, bad_animal_pixels_tensor)\n",
    "# print(bad_animal_loc)\n",
    "\n",
    "NEW_BAD_ANIMAL_LOCATIONS = [(bad_animal_loc[0].start + 11, 10 + 7 * i) for i in range(10)]\n",
    "\n",
    "baseline_bad_animal_aug, masks_and_pixels_bad_animal_aug, masks_only_bad_animal_aug =\\\n",
    "    make_augmentations_all_models(baseline_aug_template, masks_and_pixels_aug_template, masks_only_aug_template,\n",
    "                                  bad_animal_pixels_tensor, bad_animal_mask_tensor, CHANNEL_INDEX, NEW_BAD_ANIMAL_LOCATIONS)\n",
    "\n",
    "evaluate_augmented_models(sample_full_color_observations, DST_OBS_INEX, \n",
    "                         [baseline_bad_animal_aug, masks_and_pixels_bad_animal_aug, masks_only_bad_animal_aug],\n",
    "                          force_text=True)\n",
    "    "
   ]
  },
  {
   "cell_type": "code",
   "execution_count": null,
   "metadata": {},
   "outputs": [],
   "source": [
    "SRC_OBS_INDEX = 1270\n",
    "DST_OBS_INEX = 94\n",
    "CHANNEL_INDEX = 1\n",
    "OBJECT_INDEX = 1\n",
    "\n",
    "bad_animal_mask_tensor, bad_animal_loc = extract_object(sample_full_color_observations, SRC_OBS_INDEX, masks_only_model, masks_only_env,\n",
    "                                           channel_index=CHANNEL_INDEX, object_index=OBJECT_INDEX, return_location=True)\n",
    "bad_animal_pixels_tensor = extract_raw_pixels_object(sample_full_color_observations, SRC_OBS_INDEX, baseline_model, baseline_env, bad_animal_loc)\n",
    "\n",
    "# plot_tensors(bad_animal_mask_tensor, bad_animal_pixels_tensor)\n",
    "# print(bad_animal_loc)\n",
    "\n",
    "NEW_BAD_ANIMAL_LOCATIONS = [(bad_animal_loc[0].start, 10 + 7 * i) for i in range(10)]\n",
    "\n",
    "baseline_bad_animal_aug, masks_and_pixels_bad_animal_aug, masks_only_bad_animal_aug =\\\n",
    "    make_augmentations_all_models(baseline_aug_template, masks_and_pixels_aug_template, masks_only_aug_template,\n",
    "                                  bad_animal_pixels_tensor, bad_animal_mask_tensor, CHANNEL_INDEX, NEW_BAD_ANIMAL_LOCATIONS)\n",
    "\n",
    "evaluate_augmented_models(sample_full_color_observations, DST_OBS_INEX, \n",
    "                         [baseline_bad_animal_aug, masks_and_pixels_bad_animal_aug, masks_only_bad_animal_aug],\n",
    "                          force_text=True)\n",
    "    "
   ]
  },
  {
   "cell_type": "code",
   "execution_count": null,
   "metadata": {
    "scrolled": true
   },
   "outputs": [],
   "source": [
    "SRC_OBS_INDEX = 1270\n",
    "DST_OBS_INEX = 1112\n",
    "CHANNEL_INDEX = 1\n",
    "OBJECT_INDEX = 1\n",
    "\n",
    "bad_animal_mask_tensor, bad_animal_loc = extract_object(sample_full_color_observations, SRC_OBS_INDEX, masks_only_model, masks_only_env,\n",
    "                                           channel_index=CHANNEL_INDEX, object_index=OBJECT_INDEX, return_location=True)\n",
    "bad_animal_pixels_tensor = extract_raw_pixels_object(sample_full_color_observations, SRC_OBS_INDEX, baseline_model, baseline_env, bad_animal_loc)\n",
    "\n",
    "# plot_tensors(bad_animal_mask_tensor, bad_animal_pixels_tensor)\n",
    "# print(bad_animal_loc)\n",
    "\n",
    "NEW_BAD_ANIMAL_LOCATIONS = [(bad_animal_loc[0].start, 10 + 7 * i) for i in range(10)]\n",
    "\n",
    "baseline_bad_animal_aug, masks_and_pixels_bad_animal_aug, masks_only_bad_animal_aug =\\\n",
    "    make_augmentations_all_models(baseline_aug_template, masks_and_pixels_aug_template, masks_only_aug_template,\n",
    "                                  bad_animal_pixels_tensor, bad_animal_mask_tensor, CHANNEL_INDEX, NEW_BAD_ANIMAL_LOCATIONS)\n",
    "\n",
    "evaluate_augmented_models(sample_full_color_observations, DST_OBS_INEX, \n",
    "                         [baseline_bad_animal_aug, masks_and_pixels_bad_animal_aug, masks_only_bad_animal_aug],\n",
    "                          force_text=True)\n",
    "    "
   ]
  },
  {
   "cell_type": "code",
   "execution_count": null,
   "metadata": {},
   "outputs": [],
   "source": []
  },
  {
   "cell_type": "code",
   "execution_count": null,
   "metadata": {},
   "outputs": [],
   "source": []
  },
  {
   "cell_type": "code",
   "execution_count": null,
   "metadata": {},
   "outputs": [],
   "source": []
  },
  {
   "cell_type": "code",
   "execution_count": null,
   "metadata": {},
   "outputs": [],
   "source": []
  },
  {
   "cell_type": "markdown",
   "metadata": {},
   "source": [
    "# Appendix: Plotting samples states to grab objects from"
   ]
  },
  {
   "cell_type": "code",
   "execution_count": null,
   "metadata": {},
   "outputs": [],
   "source": [
    "plot_observations(sample_full_color_observations, 1230, 5, 5)"
   ]
  },
  {
   "cell_type": "markdown",
   "metadata": {},
   "source": [
    "# Appendix: finding intriguing states to modify"
   ]
  },
  {
   "cell_type": "code",
   "execution_count": 47,
   "metadata": {
    "scrolled": false
   },
   "outputs": [
    {
     "ename": "NameError",
     "evalue": "name 'baseline_model_results' is not defined",
     "output_type": "error",
     "traceback": [
      "\u001b[0;31m---------------------------------------------------------------------------\u001b[0m",
      "\u001b[0;31mNameError\u001b[0m                                 Traceback (most recent call last)",
      "\u001b[0;32m<ipython-input-47-f0a197add35a>\u001b[0m in \u001b[0;36m<module>\u001b[0;34m\u001b[0m\n\u001b[0;32m----> 1\u001b[0;31m \u001b[0mresult_sets\u001b[0m \u001b[0;34m=\u001b[0m \u001b[0;34m(\u001b[0m\u001b[0mbaseline_model_results\u001b[0m\u001b[0;34m,\u001b[0m \u001b[0mmasks_and_pixels_model_results\u001b[0m\u001b[0;34m,\u001b[0m \u001b[0mmasks_only_model_results\u001b[0m\u001b[0;34m)\u001b[0m\u001b[0;34m\u001b[0m\u001b[0;34m\u001b[0m\u001b[0m\n\u001b[0m\u001b[1;32m      2\u001b[0m \u001b[0;34m\u001b[0m\u001b[0m\n\u001b[1;32m      3\u001b[0m q_value_arrays = [np.array([x.cpu().numpy() for x in result_set.q_values])\n\u001b[1;32m      4\u001b[0m                   for result_set in result_sets]\n\u001b[1;32m      5\u001b[0m mean_q_value_arrays = [np.tile(q_vals.mean(1), (q_vals.shape[1], 1)).T\n",
      "\u001b[0;31mNameError\u001b[0m: name 'baseline_model_results' is not defined"
     ]
    }
   ],
   "source": [
    "result_sets = (baseline_model_results, masks_and_pixels_model_results, masks_only_model_results)\n",
    "\n",
    "q_value_arrays = [np.array([x.cpu().numpy() for x in result_set.q_values])\n",
    "                  for result_set in result_sets]\n",
    "mean_q_value_arrays = [np.tile(q_vals.mean(1), (q_vals.shape[1], 1)).T\n",
    "                       for q_vals in q_value_arrays]\n",
    "msd_array = np.array([np.power(q - mean, 2).mean(1) for (q, mean)\n",
    "                      in zip(q_value_arrays, mean_q_value_arrays)])\n",
    "\n",
    "mean_q_values = np.array([q_vals.mean(1) for q_vals in q_value_arrays])\n",
    "\n",
    "indices_without_extrema_q = np.argwhere(np.all(np.logical_and(mean_q_values > 3, mean_q_values < 7), axis=0))[:,0]\n",
    "\n",
    "indices_with_all_models_msd = np.argwhere(np.all(msd_array > 1, axis=0))[:,0]\n",
    "indices_with_two_models_msd = np.argwhere(np.sum(msd_array > 1, axis=0) > 0.5)[:,0]\n",
    "\n",
    "interesting_indices = sorted(set(list(indices_without_extrema_q)).intersection(set(list(indices_with_two_models_msd))))\n",
    "print(len(indices_without_extrema_q), len(indices_with_two_models_msd), len(interesting_indices))\n",
    "print(interesting_indices)\n",
    "\n",
    "s = 5\n",
    "for i in range(len(interesting_indices) // s):\n",
    "    plot_observations_by_indices(sample_full_color_observations, interesting_indices[i * s:(i + 1) * s])"
   ]
  },
  {
   "cell_type": "code",
   "execution_count": 50,
   "metadata": {},
   "outputs": [
    {
     "data": {
      "image/png": "[encoded data removed]",
      "text/plain": [
       "<Figure size 1152x432 with 4 Axes>"
      ]
     },
     "metadata": {
      "needs_background": "light"
     },
     "output_type": "display_data"
    }
   ],
   "source": [
    "\n",
    "\n",
    "def plot_q_values(result_sets, names, **kwargs):\n",
    "    plt.figure(figsize=(16, 6))\n",
    "\n",
    "    q_value_arrays = [np.array([x.cpu().numpy() for x in result_set.q_values])\n",
    "                         for result_set in result_sets]\n",
    "    mean_q_value_arrays = [np.tile(q_vals.mean(1), (q_vals.shape[1], 1)).T\n",
    "                           for q_vals in q_value_arrays]\n",
    "    msd_arrays = [np.power(q - mean, 2).mean(1) for (q, mean)\n",
    "                  in zip(q_value_arrays, mean_q_value_arrays)]\n",
    "    \n",
    "    mean_ax = plt.subplot(2, 2, 1)\n",
    "    msd_ax = plt.subplot(2, 2, 2)\n",
    "    \n",
    "    for vals, msds, name in zip(q_value_arrays, msd_arrays, names):\n",
    "        mean_ax.plot(vals.mean(1), label=name, **kwargs)\n",
    "        msd_ax.plot(msds, label=name, **kwargs)\n",
    "        \n",
    "    mean_array = np.array([np.array([x.cpu().numpy() for x in res.q_values]).mean(1)\n",
    "                           for res in result_sets])\n",
    "    \n",
    "    min_max_mean_ax = plt.subplot(2, 2, 3)\n",
    "    min_max_mean_ax.plot(mean_array.min(0), label='Min')\n",
    "    min_max_mean_ax.plot(mean_array.max(0), label='Max')\n",
    "    \n",
    "    mean_msd_ax = plt.subplot(2, 2, 4)\n",
    "        \n",
    "    mean_ax.legend(loc='best')\n",
    "    msd_ax.legend(loc='best')\n",
    "        \n",
    "    plt.show()\n",
    "\n",
    "\n",
    "plot_q_values((baseline_model_results, masks_and_pixels_model_results, masks_only_model_results),\n",
    "              ('Baseline', 'Masks+Pixels', 'Masks-Only'), alpha=0.5)"
   ]
  },
  {
   "cell_type": "code",
   "execution_count": 165,
   "metadata": {},
   "outputs": [],
   "source": [
    "DEFAULT_CM = plt.get_cmap('Dark2')\n",
    "\n",
    "\n",
    "LEVEL_TRANSITIONS = (\n",
    "    (175, 275),\n",
    "    (450, 550),\n",
    "    (895, 990),\n",
    "    (1275, 1365),\n",
    "    (1610, 1700),\n",
    "    (1955, 2050),\n",
    "    (2245, 2330),\n",
    "    (2640, 2735),\n",
    "    (3155, 3250),\n",
    "    (3570, 3665),\n",
    "    (3965, 4055),\n",
    "    (4560, 4655),\n",
    "    (5090, 5185)\n",
    "    \n",
    ")\n",
    "\n",
    "DEATH_TRANSITIONS = (\n",
    "    (4275, 4330),\n",
    "    (4400, 4475),\n",
    "    (4785, 4845),\n",
    "    (4955, 5005),\n",
    "    (5310, 5360),\n",
    "    (5420, 5490),\n",
    "    (5555, 5605)\n",
    ") \n",
    "\n",
    "\n",
    "def plot_q_values_wide(result_sets, names, cmap=DEFAULT_CM, \n",
    "                       level_transitions=LEVEL_TRANSITIONS, death_transitions=DEATH_TRANSITIONS, \n",
    "                       level_color='blue', level_height=10.5, death_color='black', death_height=-0.5,\n",
    "                       xlim=None, transition_kwargs=dict(lw=5, alpha=0.5),\n",
    "                       **kwargs):\n",
    "    plt.figure(figsize=(24, 6))\n",
    "\n",
    "    q_value_arrays = [np.array([x.cpu().numpy() for x in result_set.q_values])\n",
    "                         for result_set in result_sets]\n",
    "    \n",
    "    \n",
    "    for i, (q_vals, name) in enumerate(zip(q_value_arrays, names)):\n",
    "        ax = plt.subplot(1, 3, i + 1)\n",
    "        ax.plot(q_vals, color=cmap(i), **kwargs)\n",
    "        ax.set_title(name)\n",
    "        \n",
    "        for level in level_transitions:\n",
    "            ax.plot(level, (level_height, level_height), color=level_color, **transition_kwargs)\n",
    "            \n",
    "        for death in death_transitions:\n",
    "            ax.plot(death, (death_height, death_height), color=death_color, **transition_kwargs)\n",
    "            \n",
    "        if xlim is not None:\n",
    "            ax.set_xlim(xlim)\n",
    "        \n",
    "    plt.show()\n",
    "\n"
   ]
  },
  {
   "cell_type": "code",
   "execution_count": 169,
   "metadata": {},
   "outputs": [
    {
     "data": {
      "image/png": "[encoded data removed]",
      "text/plain": [
       "<Figure size 1728x432 with 3 Axes>"
      ]
     },
     "metadata": {
      "needs_background": "light"
     },
     "output_type": "display_data"
    }
   ],
   "source": [
    "plot_q_values_wide((baseline_model_results, masks_and_pixels_model_results, masks_only_model_results),\n",
    "              ('Baseline', 'Masks+Pixels', 'Masks-Only'), alpha=0.5, xlim=(4800, 5100))"
   ]
  },
  {
   "cell_type": "code",
   "execution_count": 167,
   "metadata": {},
   "outputs": [
    {
     "data": {
      "image/png": "[encoded data removed]",
      "text/plain": [
       "<Figure size 1728x432 with 3 Axes>"
      ]
     },
     "metadata": {
      "needs_background": "light"
     },
     "output_type": "display_data"
    }
   ],
   "source": [
    "plot_q_values_wide((baseline_model_results, masks_and_pixels_model_results, masks_only_model_results),\n",
    "              ('Baseline', 'Masks+Pixels', 'Masks-Only'), alpha=0.5)"
   ]
  },
  {
   "cell_type": "code",
   "execution_count": 173,
   "metadata": {},
   "outputs": [
    {
     "data": {
      "text/plain": [
       "3.4999252952215305"
      ]
     },
     "execution_count": 173,
     "metadata": {},
     "output_type": "execute_result"
    }
   ],
   "source": [
    "np.sum(np.power(0.99, np.arange(100, 110)))"
   ]
  },
  {
   "cell_type": "code",
   "execution_count": 141,
   "metadata": {},
   "outputs": [
    {
     "data": {
      "image/png": "[encoded data removed]",
      "text/plain": [
       "<Figure size 3456x288 with 12 Axes>"
      ]
     },
     "metadata": {},
     "output_type": "display_data"
    }
   ],
   "source": [
    "plot_observations_by_indices(sample_full_color_observations, range(5100, 5671, 50))"
   ]
  },
  {
   "cell_type": "code",
   "execution_count": 100,
   "metadata": {},
   "outputs": [],
   "source": [
    "level_transitions = (\n",
    "    (175, 275),\n",
    "    (450, 550),\n",
    "    (895, 990),\n",
    "    (1275, 1365),\n",
    "    (1610, 1700),\n",
    "    (1955, 2050),\n",
    "    (2245, 2330),\n",
    "    (2640, 2735),\n",
    "    (3155, 3250),\n",
    "    (3570, 3665),\n",
    "    (3965, 4055),\n",
    "    (4560, 4655),\n",
    "    (5090, 5185)\n",
    "    \n",
    ")\n",
    "\n",
    "death_transitions = (\n",
    "    (4275, 4330),\n",
    "    (4400, 4475),\n",
    "    (4785, 4845),\n",
    "    (4955, 5005),\n",
    "    (5310, 5360),\n",
    "    (5420, 5490),\n",
    "    (5555, 5605)\n",
    ") "
   ]
  },
  {
   "cell_type": "code",
   "execution_count": 156,
   "metadata": {},
   "outputs": [
    {
     "data": {
      "image/png": "[encoded data removed]",
      "text/plain": [
       "<Figure size 1728x288 with 6 Axes>"
      ]
     },
     "metadata": {},
     "output_type": "display_data"
    }
   ],
   "source": [
    "plot_observations_by_indices(sample_full_color_observations, range(5665, 5671, 1))"
   ]
  },
  {
   "cell_type": "code",
   "execution_count": 177,
   "metadata": {},
   "outputs": [
    {
     "data": {
      "image/png": "[encoded data removed]",
      "text/plain": [
       "<Figure size 4320x288 with 15 Axes>"
      ]
     },
     "metadata": {},
     "output_type": "display_data"
    }
   ],
   "source": [
    "plot_observations_by_indices(sample_full_color_observations, range(700, 850, 10))"
   ]
  },
  {
   "cell_type": "code",
   "execution_count": null,
   "metadata": {},
   "outputs": [],
   "source": [
    "h = masks_only_run.history()"
   ]
  },
  {
   "cell_type": "code",
   "execution_count": null,
   "metadata": {},
   "outputs": [],
   "source": [
    "h['human_hours'][h['human_hours'].last_valid_index()]"
   ]
  },
  {
   "cell_type": "code",
   "execution_count": null,
   "metadata": {},
   "outputs": [],
   "source": [
    "def human_hours_all_models(*run_urls, run_checker=lambda t: True):\n",
    "    runs = [run for run in api.runs(run_urls[0]) if run_checker(run)]\n",
    "    for url in run_urls[1:]:\n",
    "        runs.extend([run for run in api.runs(url) if run_checker(run)])\n",
    "    \n",
    "    all_human_hours = []\n",
    "    for run in runs:\n",
    "        h = run.history()\n",
    "        human_hours = h['human_hours'][h['human_hours'].last_valid_index()]\n",
    "        all_human_hours.append(human_hours)\n",
    "    \n",
    "    all_human_hours = np.array(all_human_hours)\n",
    "    print(np.min(all_human_hours), np.mean(all_human_hours), np.max(all_human_hours))\n",
    "\n",
    "\n",
    "human_hours_all_models('augmented-frostbite/initial-experiments/runs', run_checker=lambda run: run.name.lower().startswith('baseline-rainbow-3'))\n",
    "\n",
    "human_hours_all_models('augmented-frostbite/masks-and-pixels-fixed-resume/runs',\n",
    "                       'augmented-frostbite/masks-and-pixels-replication/runs')\n",
    "\n",
    "human_hours_all_models('augmented-frostbite/masks-only/runs',\n",
    "                       'augmented-frostbite/masks-only-replication/runs')\n"
   ]
  },
  {
   "cell_type": "code",
   "execution_count": null,
   "metadata": {},
   "outputs": [],
   "source": [
    "state = [observation_to_model(baseline_env, sample_full_color_observations[i])\n",
    "         for i in range(100, 104)]\n",
    "model_state = torch.cat(state, 0)\n",
    "model_state.shape"
   ]
  },
  {
   "cell_type": "code",
   "execution_count": null,
   "metadata": {},
   "outputs": [],
   "source": [
    "with torch.no_grad():\n",
    "    probs = baseline_model.online_net(model_state.unsqueeze(0))\n",
    "    mean = (probs * baseline_model.support).sum(2)\n",
    "    var = (probs * (baseline_model.support - mean) ** 2).sum(2)\n",
    "    mean = mean.squeeze(0)\n",
    "    var = var.squeeze(0)\n",
    "    print(mean)\n",
    "    print(var)"
   ]
  },
  {
   "cell_type": "code",
   "execution_count": null,
   "metadata": {},
   "outputs": [],
   "source": [
    "x = baseline_model.support.cpu().numpy()\n",
    "for i in range(var.shape[0]):\n",
    "    p = probs.squeeze(0)[i].cpu().numpy()\n",
    "    dist = rv_discrete(values=(x, p))\n",
    "    print(np.allclose(dist.var(), var[i].cpu().numpy()))"
   ]
  },
  {
   "cell_type": "code",
   "execution_count": null,
   "metadata": {},
   "outputs": [],
   "source": [
    "!git pull"
   ]
  },
  {
   "cell_type": "code",
   "execution_count": null,
   "metadata": {},
   "outputs": [],
   "source": [
    "dist.var()"
   ]
  },
  {
   "cell_type": "code",
   "execution_count": null,
   "metadata": {},
   "outputs": [],
   "source": [
    "dist.stats??"
   ]
  },
  {
   "cell_type": "code",
   "execution_count": null,
   "metadata": {},
   "outputs": [],
   "source": [
    "dist.mean()"
   ]
  },
  {
   "cell_type": "code",
   "execution_count": null,
   "metadata": {},
   "outputs": [],
   "source": [
    "var.max(0)"
   ]
  },
  {
   "cell_type": "code",
   "execution_count": null,
   "metadata": {},
   "outputs": [],
   "source": [
    "baseline_model.q_value_mean_variance(model_state)[0] == baseline_model.expected_q_values(model_state)"
   ]
  },
  {
   "cell_type": "code",
   "execution_count": null,
   "metadata": {},
   "outputs": [],
   "source": []
  }
 ],
 "metadata": {
  "kernelspec": {
   "display_name": "Python [conda env:rainbow] *",
   "language": "python",
   "name": "conda-env-rainbow-py"
  },
  "language_info": {
   "codemirror_mode": {
    "name": "ipython",
    "version": 3
   },
   "file_extension": ".py",
   "mimetype": "text/x-python",
   "name": "python",
   "nbconvert_exporter": "python",
   "pygments_lexer": "ipython3",
   "version": "3.7.4"
  }
 },
 "nbformat": 4,
 "nbformat_minor": 2
}
